{
 "cells": [
  {
   "cell_type": "code",
   "id": "4a64ce88-4ddd-4fc5-8fb4-d184f7f1c2c5",
   "metadata": {
    "ExecuteTime": {
     "end_time": "2024-07-02T07:30:13.913439Z",
     "start_time": "2024-07-02T07:30:13.022823Z"
    }
   },
   "source": [
    "import pandas as pd"
   ],
   "outputs": [],
   "execution_count": 1
  },
  {
   "cell_type": "code",
   "id": "cadeb510-1f8b-4315-b520-3e939ea12625",
   "metadata": {
    "ExecuteTime": {
     "end_time": "2024-07-02T07:30:14.861572Z",
     "start_time": "2024-07-02T07:30:14.677689Z"
    }
   },
   "source": "fc_transaction_base = pd.read_csv(\"input_files/fc_transaction_base.csv\")",
   "outputs": [],
   "execution_count": 2
  },
  {
   "cell_type": "code",
   "id": "a8eb3475-52a9-4302-92bc-0f8b660df550",
   "metadata": {
    "ExecuteTime": {
     "end_time": "2024-07-02T07:30:15.196603Z",
     "start_time": "2024-07-02T07:30:15.134124Z"
    }
   },
   "source": [
    "fc_transaction_base.head()"
   ],
   "outputs": [
    {
     "data": {
      "text/plain": [
       "    tran_date       account_number  branch product  lcy_amount  \\\n",
       "0  09/06/2020  02XYZXYZ10017529992    15.0     SBA     14500.0   \n",
       "1  14/06/2020  02XYZXYZ10017529992    15.0     SBA     20000.0   \n",
       "2  01/06/2020  02XYZXYZ10017517823    15.0     SBA      4000.0   \n",
       "3  05/06/2020  02XYZXYZ10017517823    15.0     SBA       500.0   \n",
       "4  12/06/2020  02XYZXYZ10017517823    15.0     SBA      5000.0   \n",
       "\n",
       "  transaction_code                    description1 dc_indicator  is_salary  \n",
       "0               CI   ATM WDL /00463701/NABIL\\NABIL     withdraw        0.0  \n",
       "1               CI   ATM WDL /00463701/NABIL\\NABIL     withdraw        0.0  \n",
       "2               CI  ATM WDL /NICAV701/\\Pharping\\KT     withdraw        0.0  \n",
       "3               CI  ATM WDL /NICAV701/\\Pharping\\KT     withdraw        0.0  \n",
       "4               CI  ATM WDL /NICAV701/\\Pharping\\KT     withdraw        0.0  "
      ],
      "text/html": [
       "<div>\n",
       "<style scoped>\n",
       "    .dataframe tbody tr th:only-of-type {\n",
       "        vertical-align: middle;\n",
       "    }\n",
       "\n",
       "    .dataframe tbody tr th {\n",
       "        vertical-align: top;\n",
       "    }\n",
       "\n",
       "    .dataframe thead th {\n",
       "        text-align: right;\n",
       "    }\n",
       "</style>\n",
       "<table border=\"1\" class=\"dataframe\">\n",
       "  <thead>\n",
       "    <tr style=\"text-align: right;\">\n",
       "      <th></th>\n",
       "      <th>tran_date</th>\n",
       "      <th>account_number</th>\n",
       "      <th>branch</th>\n",
       "      <th>product</th>\n",
       "      <th>lcy_amount</th>\n",
       "      <th>transaction_code</th>\n",
       "      <th>description1</th>\n",
       "      <th>dc_indicator</th>\n",
       "      <th>is_salary</th>\n",
       "    </tr>\n",
       "  </thead>\n",
       "  <tbody>\n",
       "    <tr>\n",
       "      <th>0</th>\n",
       "      <td>09/06/2020</td>\n",
       "      <td>02XYZXYZ10017529992</td>\n",
       "      <td>15.0</td>\n",
       "      <td>SBA</td>\n",
       "      <td>14500.0</td>\n",
       "      <td>CI</td>\n",
       "      <td>ATM WDL /00463701/NABIL\\NABIL</td>\n",
       "      <td>withdraw</td>\n",
       "      <td>0.0</td>\n",
       "    </tr>\n",
       "    <tr>\n",
       "      <th>1</th>\n",
       "      <td>14/06/2020</td>\n",
       "      <td>02XYZXYZ10017529992</td>\n",
       "      <td>15.0</td>\n",
       "      <td>SBA</td>\n",
       "      <td>20000.0</td>\n",
       "      <td>CI</td>\n",
       "      <td>ATM WDL /00463701/NABIL\\NABIL</td>\n",
       "      <td>withdraw</td>\n",
       "      <td>0.0</td>\n",
       "    </tr>\n",
       "    <tr>\n",
       "      <th>2</th>\n",
       "      <td>01/06/2020</td>\n",
       "      <td>02XYZXYZ10017517823</td>\n",
       "      <td>15.0</td>\n",
       "      <td>SBA</td>\n",
       "      <td>4000.0</td>\n",
       "      <td>CI</td>\n",
       "      <td>ATM WDL /NICAV701/\\Pharping\\KT</td>\n",
       "      <td>withdraw</td>\n",
       "      <td>0.0</td>\n",
       "    </tr>\n",
       "    <tr>\n",
       "      <th>3</th>\n",
       "      <td>05/06/2020</td>\n",
       "      <td>02XYZXYZ10017517823</td>\n",
       "      <td>15.0</td>\n",
       "      <td>SBA</td>\n",
       "      <td>500.0</td>\n",
       "      <td>CI</td>\n",
       "      <td>ATM WDL /NICAV701/\\Pharping\\KT</td>\n",
       "      <td>withdraw</td>\n",
       "      <td>0.0</td>\n",
       "    </tr>\n",
       "    <tr>\n",
       "      <th>4</th>\n",
       "      <td>12/06/2020</td>\n",
       "      <td>02XYZXYZ10017517823</td>\n",
       "      <td>15.0</td>\n",
       "      <td>SBA</td>\n",
       "      <td>5000.0</td>\n",
       "      <td>CI</td>\n",
       "      <td>ATM WDL /NICAV701/\\Pharping\\KT</td>\n",
       "      <td>withdraw</td>\n",
       "      <td>0.0</td>\n",
       "    </tr>\n",
       "  </tbody>\n",
       "</table>\n",
       "</div>"
      ]
     },
     "execution_count": 3,
     "metadata": {},
     "output_type": "execute_result"
    }
   ],
   "execution_count": 3
  },
  {
   "cell_type": "code",
   "id": "81a77bc0-2739-4a0b-b78a-ce4f1acb78f3",
   "metadata": {
    "ExecuteTime": {
     "end_time": "2024-07-02T07:30:16.666642Z",
     "start_time": "2024-07-02T07:30:16.630724Z"
    }
   },
   "source": "fc_account_master = pd.read_csv(\"input_files/fc_account_master.csv\")",
   "outputs": [],
   "execution_count": 4
  },
  {
   "cell_type": "code",
   "id": "991e030c-4378-45b9-b757-5a5e914fc7d2",
   "metadata": {
    "ExecuteTime": {
     "end_time": "2024-07-02T07:30:16.870759Z",
     "start_time": "2024-07-02T07:30:16.839511Z"
    }
   },
   "source": [
    "fc_account_master.head()"
   ],
   "outputs": [
    {
     "data": {
      "text/plain": [
       "        account_number customer_code product product_category acc_open_date  \\\n",
       "0  02XYZXYZ10015592101     KL0255921     SBA            SBPPS    1999-03-10   \n",
       "1  02XYZXYZ10015593701     KL0255937     SBA            SBPPS    1999-03-10   \n",
       "2  02XYZXYZ10015593801     KL0255938     SBA            SBPPS    1999-03-10   \n",
       "3  02XYZXYZ10015594801     KL0255948     SBA            SBANU    1999-03-22   \n",
       "4  02XYZXYZ10015597601     KL0255976     SBA            SBPPS    1999-04-22   \n",
       "\n",
       "   acc_closed_date  active_flag  \n",
       "0              NaN            0  \n",
       "1              NaN            0  \n",
       "2              NaN            0  \n",
       "3              NaN            0  \n",
       "4              NaN            0  "
      ],
      "text/html": [
       "<div>\n",
       "<style scoped>\n",
       "    .dataframe tbody tr th:only-of-type {\n",
       "        vertical-align: middle;\n",
       "    }\n",
       "\n",
       "    .dataframe tbody tr th {\n",
       "        vertical-align: top;\n",
       "    }\n",
       "\n",
       "    .dataframe thead th {\n",
       "        text-align: right;\n",
       "    }\n",
       "</style>\n",
       "<table border=\"1\" class=\"dataframe\">\n",
       "  <thead>\n",
       "    <tr style=\"text-align: right;\">\n",
       "      <th></th>\n",
       "      <th>account_number</th>\n",
       "      <th>customer_code</th>\n",
       "      <th>product</th>\n",
       "      <th>product_category</th>\n",
       "      <th>acc_open_date</th>\n",
       "      <th>acc_closed_date</th>\n",
       "      <th>active_flag</th>\n",
       "    </tr>\n",
       "  </thead>\n",
       "  <tbody>\n",
       "    <tr>\n",
       "      <th>0</th>\n",
       "      <td>02XYZXYZ10015592101</td>\n",
       "      <td>KL0255921</td>\n",
       "      <td>SBA</td>\n",
       "      <td>SBPPS</td>\n",
       "      <td>1999-03-10</td>\n",
       "      <td>NaN</td>\n",
       "      <td>0</td>\n",
       "    </tr>\n",
       "    <tr>\n",
       "      <th>1</th>\n",
       "      <td>02XYZXYZ10015593701</td>\n",
       "      <td>KL0255937</td>\n",
       "      <td>SBA</td>\n",
       "      <td>SBPPS</td>\n",
       "      <td>1999-03-10</td>\n",
       "      <td>NaN</td>\n",
       "      <td>0</td>\n",
       "    </tr>\n",
       "    <tr>\n",
       "      <th>2</th>\n",
       "      <td>02XYZXYZ10015593801</td>\n",
       "      <td>KL0255938</td>\n",
       "      <td>SBA</td>\n",
       "      <td>SBPPS</td>\n",
       "      <td>1999-03-10</td>\n",
       "      <td>NaN</td>\n",
       "      <td>0</td>\n",
       "    </tr>\n",
       "    <tr>\n",
       "      <th>3</th>\n",
       "      <td>02XYZXYZ10015594801</td>\n",
       "      <td>KL0255948</td>\n",
       "      <td>SBA</td>\n",
       "      <td>SBANU</td>\n",
       "      <td>1999-03-22</td>\n",
       "      <td>NaN</td>\n",
       "      <td>0</td>\n",
       "    </tr>\n",
       "    <tr>\n",
       "      <th>4</th>\n",
       "      <td>02XYZXYZ10015597601</td>\n",
       "      <td>KL0255976</td>\n",
       "      <td>SBA</td>\n",
       "      <td>SBPPS</td>\n",
       "      <td>1999-04-22</td>\n",
       "      <td>NaN</td>\n",
       "      <td>0</td>\n",
       "    </tr>\n",
       "  </tbody>\n",
       "</table>\n",
       "</div>"
      ]
     },
     "execution_count": 5,
     "metadata": {},
     "output_type": "execute_result"
    }
   ],
   "execution_count": 5
  },
  {
   "cell_type": "code",
   "id": "36498cb7-02e8-4d8d-b18b-d82f72441a09",
   "metadata": {
    "ExecuteTime": {
     "end_time": "2024-07-02T07:30:17.089508Z",
     "start_time": "2024-07-02T07:30:17.042632Z"
    }
   },
   "source": [
    "fc_transaction_base.info()"
   ],
   "outputs": [
    {
     "name": "stdout",
     "output_type": "stream",
     "text": [
      "<class 'pandas.core.frame.DataFrame'>\n",
      "RangeIndex: 45032 entries, 0 to 45031\n",
      "Data columns (total 9 columns):\n",
      " #   Column            Non-Null Count  Dtype  \n",
      "---  ------            --------------  -----  \n",
      " 0   tran_date         45032 non-null  object \n",
      " 1   account_number    45031 non-null  object \n",
      " 2   branch            45031 non-null  float64\n",
      " 3   product           45031 non-null  object \n",
      " 4   lcy_amount        45031 non-null  float64\n",
      " 5   transaction_code  45031 non-null  object \n",
      " 6   description1      44959 non-null  object \n",
      " 7   dc_indicator      45030 non-null  object \n",
      " 8   is_salary         45030 non-null  float64\n",
      "dtypes: float64(3), object(6)\n",
      "memory usage: 3.1+ MB\n"
     ]
    }
   ],
   "execution_count": 6
  },
  {
   "cell_type": "code",
   "id": "33040176-e312-4e48-9471-f7574923ae72",
   "metadata": {
    "ExecuteTime": {
     "end_time": "2024-07-02T07:30:17.472767Z",
     "start_time": "2024-07-02T07:30:17.441489Z"
    }
   },
   "source": [
    "fc_transaction_base[\"tran_date\"][70:74]"
   ],
   "outputs": [
    {
     "data": {
      "text/plain": [
       "70    04/06/2020\n",
       "71    04/06/2020\n",
       "72    12/06/2020\n",
       "73    08/06/2020\n",
       "Name: tran_date, dtype: object"
      ]
     },
     "execution_count": 7,
     "metadata": {},
     "output_type": "execute_result"
    }
   ],
   "execution_count": 7
  },
  {
   "cell_type": "code",
   "id": "68768623-b8a5-41c8-8cf7-1488259b151b",
   "metadata": {
    "ExecuteTime": {
     "end_time": "2024-07-02T07:30:17.579160Z",
     "start_time": "2024-07-02T07:30:17.472767Z"
    }
   },
   "source": [
    "fc_transaction_base = fc_transaction_base[fc_transaction_base['tran_date'].str.match(r'\\d{2}/\\d{2}/\\d{4}')]\n",
    "fc_transaction_base[\"tran_date\"] =pd.to_datetime(fc_transaction_base[\"tran_date\"],format = '%d/%m/%Y')"
   ],
   "outputs": [],
   "execution_count": 8
  },
  {
   "cell_type": "code",
   "id": "e3ea3c9b-a52e-48b0-b27f-226233d2088e",
   "metadata": {
    "ExecuteTime": {
     "end_time": "2024-07-02T07:30:17.704141Z",
     "start_time": "2024-07-02T07:30:17.657254Z"
    }
   },
   "source": [
    "fc_transaction_base.info()"
   ],
   "outputs": [
    {
     "name": "stdout",
     "output_type": "stream",
     "text": [
      "<class 'pandas.core.frame.DataFrame'>\n",
      "Index: 45031 entries, 0 to 45031\n",
      "Data columns (total 9 columns):\n",
      " #   Column            Non-Null Count  Dtype         \n",
      "---  ------            --------------  -----         \n",
      " 0   tran_date         45031 non-null  datetime64[ns]\n",
      " 1   account_number    45031 non-null  object        \n",
      " 2   branch            45031 non-null  float64       \n",
      " 3   product           45031 non-null  object        \n",
      " 4   lcy_amount        45031 non-null  float64       \n",
      " 5   transaction_code  45031 non-null  object        \n",
      " 6   description1      44959 non-null  object        \n",
      " 7   dc_indicator      45030 non-null  object        \n",
      " 8   is_salary         45030 non-null  float64       \n",
      "dtypes: datetime64[ns](1), float64(3), object(5)\n",
      "memory usage: 3.4+ MB\n"
     ]
    }
   ],
   "execution_count": 9
  },
  {
   "cell_type": "code",
   "id": "75b54d27-817e-48aa-a525-27cdd3470e3f",
   "metadata": {
    "ExecuteTime": {
     "end_time": "2024-07-02T07:30:17.942477Z",
     "start_time": "2024-07-02T07:30:17.836123Z"
    }
   },
   "source": [
    "fc_transaction_base['month'] = pd.to_datetime(fc_transaction_base['tran_date']).dt.month"
   ],
   "outputs": [],
   "execution_count": 10
  },
  {
   "cell_type": "code",
   "id": "a9fe0fa0-d1eb-4c58-bc30-4e00a2df33ef",
   "metadata": {
    "ExecuteTime": {
     "end_time": "2024-07-02T07:30:18.020603Z",
     "start_time": "2024-07-02T07:30:17.973728Z"
    }
   },
   "source": [
    "grouped_df = fc_transaction_base.groupby(['month', 'dc_indicator'])['lcy_amount'] .agg(['mean', 'std', 'var']) .reset_index()"
   ],
   "outputs": [],
   "execution_count": 11
  },
  {
   "cell_type": "code",
   "id": "1426f2eb-bd81-4dad-8bdd-3a82786fca05",
   "metadata": {
    "ExecuteTime": {
     "end_time": "2024-07-02T07:30:18.254976Z",
     "start_time": "2024-07-02T07:30:18.223727Z"
    }
   },
   "source": [
    "grouped_df"
   ],
   "outputs": [
    {
     "data": {
      "text/plain": [
       "   month dc_indicator          mean            std           var\n",
       "0      6      deposit  99075.475634  319613.387306  1.021527e+11\n",
       "1      6     withdraw  23076.009774  141984.582935  2.015962e+10\n",
       "2      7      deposit  72276.673438  334540.145977  1.119171e+11\n",
       "3      7     withdraw  29542.774371  206448.557923  4.262101e+10\n",
       "4      8      deposit  56295.855224  273560.866915  7.483555e+10\n",
       "5      8     withdraw  25084.110745  171971.277190  2.957412e+10"
      ],
      "text/html": [
       "<div>\n",
       "<style scoped>\n",
       "    .dataframe tbody tr th:only-of-type {\n",
       "        vertical-align: middle;\n",
       "    }\n",
       "\n",
       "    .dataframe tbody tr th {\n",
       "        vertical-align: top;\n",
       "    }\n",
       "\n",
       "    .dataframe thead th {\n",
       "        text-align: right;\n",
       "    }\n",
       "</style>\n",
       "<table border=\"1\" class=\"dataframe\">\n",
       "  <thead>\n",
       "    <tr style=\"text-align: right;\">\n",
       "      <th></th>\n",
       "      <th>month</th>\n",
       "      <th>dc_indicator</th>\n",
       "      <th>mean</th>\n",
       "      <th>std</th>\n",
       "      <th>var</th>\n",
       "    </tr>\n",
       "  </thead>\n",
       "  <tbody>\n",
       "    <tr>\n",
       "      <th>0</th>\n",
       "      <td>6</td>\n",
       "      <td>deposit</td>\n",
       "      <td>99075.475634</td>\n",
       "      <td>319613.387306</td>\n",
       "      <td>1.021527e+11</td>\n",
       "    </tr>\n",
       "    <tr>\n",
       "      <th>1</th>\n",
       "      <td>6</td>\n",
       "      <td>withdraw</td>\n",
       "      <td>23076.009774</td>\n",
       "      <td>141984.582935</td>\n",
       "      <td>2.015962e+10</td>\n",
       "    </tr>\n",
       "    <tr>\n",
       "      <th>2</th>\n",
       "      <td>7</td>\n",
       "      <td>deposit</td>\n",
       "      <td>72276.673438</td>\n",
       "      <td>334540.145977</td>\n",
       "      <td>1.119171e+11</td>\n",
       "    </tr>\n",
       "    <tr>\n",
       "      <th>3</th>\n",
       "      <td>7</td>\n",
       "      <td>withdraw</td>\n",
       "      <td>29542.774371</td>\n",
       "      <td>206448.557923</td>\n",
       "      <td>4.262101e+10</td>\n",
       "    </tr>\n",
       "    <tr>\n",
       "      <th>4</th>\n",
       "      <td>8</td>\n",
       "      <td>deposit</td>\n",
       "      <td>56295.855224</td>\n",
       "      <td>273560.866915</td>\n",
       "      <td>7.483555e+10</td>\n",
       "    </tr>\n",
       "    <tr>\n",
       "      <th>5</th>\n",
       "      <td>8</td>\n",
       "      <td>withdraw</td>\n",
       "      <td>25084.110745</td>\n",
       "      <td>171971.277190</td>\n",
       "      <td>2.957412e+10</td>\n",
       "    </tr>\n",
       "  </tbody>\n",
       "</table>\n",
       "</div>"
      ]
     },
     "execution_count": 12,
     "metadata": {},
     "output_type": "execute_result"
    }
   ],
   "execution_count": 12
  },
  {
   "cell_type": "code",
   "id": "0bf81376-0dd2-4435-99b5-ec695fa8b675",
   "metadata": {
    "ExecuteTime": {
     "end_time": "2024-07-02T07:30:19.830676Z",
     "start_time": "2024-07-02T07:30:19.799409Z"
    }
   },
   "source": [
    "pivoted_df = grouped_df.pivot_table(index='month', columns='dc_indicator', values=['mean', 'std', 'var'])"
   ],
   "outputs": [],
   "execution_count": 13
  },
  {
   "cell_type": "code",
   "id": "e55915ee-d052-4bb8-beb5-504ce4866a74",
   "metadata": {
    "ExecuteTime": {
     "end_time": "2024-07-02T07:30:20.047496Z",
     "start_time": "2024-07-02T07:30:20.016254Z"
    }
   },
   "source": [
    "pivoted_df"
   ],
   "outputs": [
    {
     "data": {
      "text/plain": [
       "                      mean                          std                 \\\n",
       "dc_indicator       deposit      withdraw        deposit       withdraw   \n",
       "month                                                                    \n",
       "6             99075.475634  23076.009774  319613.387306  141984.582935   \n",
       "7             72276.673438  29542.774371  334540.145977  206448.557923   \n",
       "8             56295.855224  25084.110745  273560.866915  171971.277190   \n",
       "\n",
       "                       var                \n",
       "dc_indicator       deposit      withdraw  \n",
       "month                                     \n",
       "6             1.021527e+11  2.015962e+10  \n",
       "7             1.119171e+11  4.262101e+10  \n",
       "8             7.483555e+10  2.957412e+10  "
      ],
      "text/html": [
       "<div>\n",
       "<style scoped>\n",
       "    .dataframe tbody tr th:only-of-type {\n",
       "        vertical-align: middle;\n",
       "    }\n",
       "\n",
       "    .dataframe tbody tr th {\n",
       "        vertical-align: top;\n",
       "    }\n",
       "\n",
       "    .dataframe thead tr th {\n",
       "        text-align: left;\n",
       "    }\n",
       "\n",
       "    .dataframe thead tr:last-of-type th {\n",
       "        text-align: right;\n",
       "    }\n",
       "</style>\n",
       "<table border=\"1\" class=\"dataframe\">\n",
       "  <thead>\n",
       "    <tr>\n",
       "      <th></th>\n",
       "      <th colspan=\"2\" halign=\"left\">mean</th>\n",
       "      <th colspan=\"2\" halign=\"left\">std</th>\n",
       "      <th colspan=\"2\" halign=\"left\">var</th>\n",
       "    </tr>\n",
       "    <tr>\n",
       "      <th>dc_indicator</th>\n",
       "      <th>deposit</th>\n",
       "      <th>withdraw</th>\n",
       "      <th>deposit</th>\n",
       "      <th>withdraw</th>\n",
       "      <th>deposit</th>\n",
       "      <th>withdraw</th>\n",
       "    </tr>\n",
       "    <tr>\n",
       "      <th>month</th>\n",
       "      <th></th>\n",
       "      <th></th>\n",
       "      <th></th>\n",
       "      <th></th>\n",
       "      <th></th>\n",
       "      <th></th>\n",
       "    </tr>\n",
       "  </thead>\n",
       "  <tbody>\n",
       "    <tr>\n",
       "      <th>6</th>\n",
       "      <td>99075.475634</td>\n",
       "      <td>23076.009774</td>\n",
       "      <td>319613.387306</td>\n",
       "      <td>141984.582935</td>\n",
       "      <td>1.021527e+11</td>\n",
       "      <td>2.015962e+10</td>\n",
       "    </tr>\n",
       "    <tr>\n",
       "      <th>7</th>\n",
       "      <td>72276.673438</td>\n",
       "      <td>29542.774371</td>\n",
       "      <td>334540.145977</td>\n",
       "      <td>206448.557923</td>\n",
       "      <td>1.119171e+11</td>\n",
       "      <td>4.262101e+10</td>\n",
       "    </tr>\n",
       "    <tr>\n",
       "      <th>8</th>\n",
       "      <td>56295.855224</td>\n",
       "      <td>25084.110745</td>\n",
       "      <td>273560.866915</td>\n",
       "      <td>171971.277190</td>\n",
       "      <td>7.483555e+10</td>\n",
       "      <td>2.957412e+10</td>\n",
       "    </tr>\n",
       "  </tbody>\n",
       "</table>\n",
       "</div>"
      ]
     },
     "execution_count": 14,
     "metadata": {},
     "output_type": "execute_result"
    }
   ],
   "execution_count": 14
  },
  {
   "cell_type": "code",
   "id": "35287dc6-44e1-4cbe-b42e-dfebbb4a5dc3",
   "metadata": {
    "ExecuteTime": {
     "end_time": "2024-07-02T07:30:20.683780Z",
     "start_time": "2024-07-02T07:30:20.652525Z"
    }
   },
   "source": [
    "fc_account_master.info()"
   ],
   "outputs": [
    {
     "name": "stdout",
     "output_type": "stream",
     "text": [
      "<class 'pandas.core.frame.DataFrame'>\n",
      "RangeIndex: 1839 entries, 0 to 1838\n",
      "Data columns (total 7 columns):\n",
      " #   Column            Non-Null Count  Dtype  \n",
      "---  ------            --------------  -----  \n",
      " 0   account_number    1839 non-null   object \n",
      " 1   customer_code     1839 non-null   object \n",
      " 2   product           1839 non-null   object \n",
      " 3   product_category  1839 non-null   object \n",
      " 4   acc_open_date     1839 non-null   object \n",
      " 5   acc_closed_date   0 non-null      float64\n",
      " 6   active_flag       1839 non-null   int64  \n",
      "dtypes: float64(1), int64(1), object(5)\n",
      "memory usage: 100.7+ KB\n"
     ]
    }
   ],
   "execution_count": 15
  },
  {
   "cell_type": "code",
   "id": "c0325aa9-1149-465d-9ac6-6ce87d9c3a9d",
   "metadata": {
    "ExecuteTime": {
     "end_time": "2024-07-02T07:30:20.918156Z",
     "start_time": "2024-07-02T07:30:20.855723Z"
    }
   },
   "source": [
    "joined = pd.merge(fc_account_master, fc_transaction_base, on='account_number', how='inner')"
   ],
   "outputs": [],
   "execution_count": 16
  },
  {
   "cell_type": "code",
   "id": "5449cc95-a5c9-44bb-8c56-9ee7ecf24831",
   "metadata": {
    "ExecuteTime": {
     "end_time": "2024-07-02T07:30:32.767312Z",
     "start_time": "2024-07-02T07:30:32.720038Z"
    }
   },
   "source": [
    "joined.info()"
   ],
   "outputs": [
    {
     "name": "stdout",
     "output_type": "stream",
     "text": [
      "<class 'pandas.core.frame.DataFrame'>\n",
      "RangeIndex: 45031 entries, 0 to 45030\n",
      "Data columns (total 16 columns):\n",
      " #   Column            Non-Null Count  Dtype         \n",
      "---  ------            --------------  -----         \n",
      " 0   account_number    45031 non-null  object        \n",
      " 1   customer_code     45031 non-null  object        \n",
      " 2   product_x         45031 non-null  object        \n",
      " 3   product_category  45031 non-null  object        \n",
      " 4   acc_open_date     45031 non-null  object        \n",
      " 5   acc_closed_date   0 non-null      float64       \n",
      " 6   active_flag       45031 non-null  int64         \n",
      " 7   tran_date         45031 non-null  datetime64[ns]\n",
      " 8   branch            45031 non-null  float64       \n",
      " 9   product_y         45031 non-null  object        \n",
      " 10  lcy_amount        45031 non-null  float64       \n",
      " 11  transaction_code  45031 non-null  object        \n",
      " 12  description1      44959 non-null  object        \n",
      " 13  dc_indicator      45030 non-null  object        \n",
      " 14  is_salary         45030 non-null  float64       \n",
      " 15  month             45031 non-null  int32         \n",
      "dtypes: datetime64[ns](1), float64(4), int32(1), int64(1), object(9)\n",
      "memory usage: 5.3+ MB\n"
     ]
    }
   ],
   "execution_count": 17
  },
  {
   "cell_type": "code",
   "id": "475fb6c4-ce09-4d2a-993f-f1f3f6131410",
   "metadata": {
    "ExecuteTime": {
     "end_time": "2024-07-02T07:30:33.245275Z",
     "start_time": "2024-07-02T07:30:33.199629Z"
    }
   },
   "source": [
    "joined.head()"
   ],
   "outputs": [
    {
     "data": {
      "text/plain": [
       "        account_number customer_code product_x product_category acc_open_date  \\\n",
       "0  02XYZXYZ10015592101     KL0255921       SBA            SBPPS    1999-03-10   \n",
       "1  02XYZXYZ10015592101     KL0255921       SBA            SBPPS    1999-03-10   \n",
       "2  02XYZXYZ10015592101     KL0255921       SBA            SBPPS    1999-03-10   \n",
       "3  02XYZXYZ10015592101     KL0255921       SBA            SBPPS    1999-03-10   \n",
       "4  02XYZXYZ10015592101     KL0255921       SBA            SBPPS    1999-03-10   \n",
       "\n",
       "   acc_closed_date  active_flag  tran_date  branch product_y  lcy_amount  \\\n",
       "0              NaN            0 2020-06-01    17.0       SBA    10000.00   \n",
       "1              NaN            0 2020-06-06    17.0       SBA     5000.00   \n",
       "2              NaN            0 2020-06-10    17.0       SBA   170000.00   \n",
       "3              NaN            0 2020-06-01    17.0       SBA      876.15   \n",
       "4              NaN            0 2020-06-01    17.0       SBA     2174.00   \n",
       "\n",
       "  transaction_code                   description1 dc_indicator  is_salary  \\\n",
       "0               CI  ATM WDL /00483901/NABIL\\NABIL     withdraw        0.0   \n",
       "1               CI      MPAY Trf to 1210017508555     withdraw        0.0   \n",
       "2               NR                    MERRYNA RAI      deposit        0.0   \n",
       "3               CI    POS PUR/50001130/SALEWAYS C     withdraw        0.0   \n",
       "4               CI    POS PUR/73197330/BBSM SATDO     withdraw        0.0   \n",
       "\n",
       "   month  \n",
       "0      6  \n",
       "1      6  \n",
       "2      6  \n",
       "3      6  \n",
       "4      6  "
      ],
      "text/html": [
       "<div>\n",
       "<style scoped>\n",
       "    .dataframe tbody tr th:only-of-type {\n",
       "        vertical-align: middle;\n",
       "    }\n",
       "\n",
       "    .dataframe tbody tr th {\n",
       "        vertical-align: top;\n",
       "    }\n",
       "\n",
       "    .dataframe thead th {\n",
       "        text-align: right;\n",
       "    }\n",
       "</style>\n",
       "<table border=\"1\" class=\"dataframe\">\n",
       "  <thead>\n",
       "    <tr style=\"text-align: right;\">\n",
       "      <th></th>\n",
       "      <th>account_number</th>\n",
       "      <th>customer_code</th>\n",
       "      <th>product_x</th>\n",
       "      <th>product_category</th>\n",
       "      <th>acc_open_date</th>\n",
       "      <th>acc_closed_date</th>\n",
       "      <th>active_flag</th>\n",
       "      <th>tran_date</th>\n",
       "      <th>branch</th>\n",
       "      <th>product_y</th>\n",
       "      <th>lcy_amount</th>\n",
       "      <th>transaction_code</th>\n",
       "      <th>description1</th>\n",
       "      <th>dc_indicator</th>\n",
       "      <th>is_salary</th>\n",
       "      <th>month</th>\n",
       "    </tr>\n",
       "  </thead>\n",
       "  <tbody>\n",
       "    <tr>\n",
       "      <th>0</th>\n",
       "      <td>02XYZXYZ10015592101</td>\n",
       "      <td>KL0255921</td>\n",
       "      <td>SBA</td>\n",
       "      <td>SBPPS</td>\n",
       "      <td>1999-03-10</td>\n",
       "      <td>NaN</td>\n",
       "      <td>0</td>\n",
       "      <td>2020-06-01</td>\n",
       "      <td>17.0</td>\n",
       "      <td>SBA</td>\n",
       "      <td>10000.00</td>\n",
       "      <td>CI</td>\n",
       "      <td>ATM WDL /00483901/NABIL\\NABIL</td>\n",
       "      <td>withdraw</td>\n",
       "      <td>0.0</td>\n",
       "      <td>6</td>\n",
       "    </tr>\n",
       "    <tr>\n",
       "      <th>1</th>\n",
       "      <td>02XYZXYZ10015592101</td>\n",
       "      <td>KL0255921</td>\n",
       "      <td>SBA</td>\n",
       "      <td>SBPPS</td>\n",
       "      <td>1999-03-10</td>\n",
       "      <td>NaN</td>\n",
       "      <td>0</td>\n",
       "      <td>2020-06-06</td>\n",
       "      <td>17.0</td>\n",
       "      <td>SBA</td>\n",
       "      <td>5000.00</td>\n",
       "      <td>CI</td>\n",
       "      <td>MPAY Trf to 1210017508555</td>\n",
       "      <td>withdraw</td>\n",
       "      <td>0.0</td>\n",
       "      <td>6</td>\n",
       "    </tr>\n",
       "    <tr>\n",
       "      <th>2</th>\n",
       "      <td>02XYZXYZ10015592101</td>\n",
       "      <td>KL0255921</td>\n",
       "      <td>SBA</td>\n",
       "      <td>SBPPS</td>\n",
       "      <td>1999-03-10</td>\n",
       "      <td>NaN</td>\n",
       "      <td>0</td>\n",
       "      <td>2020-06-10</td>\n",
       "      <td>17.0</td>\n",
       "      <td>SBA</td>\n",
       "      <td>170000.00</td>\n",
       "      <td>NR</td>\n",
       "      <td>MERRYNA RAI</td>\n",
       "      <td>deposit</td>\n",
       "      <td>0.0</td>\n",
       "      <td>6</td>\n",
       "    </tr>\n",
       "    <tr>\n",
       "      <th>3</th>\n",
       "      <td>02XYZXYZ10015592101</td>\n",
       "      <td>KL0255921</td>\n",
       "      <td>SBA</td>\n",
       "      <td>SBPPS</td>\n",
       "      <td>1999-03-10</td>\n",
       "      <td>NaN</td>\n",
       "      <td>0</td>\n",
       "      <td>2020-06-01</td>\n",
       "      <td>17.0</td>\n",
       "      <td>SBA</td>\n",
       "      <td>876.15</td>\n",
       "      <td>CI</td>\n",
       "      <td>POS PUR/50001130/SALEWAYS C</td>\n",
       "      <td>withdraw</td>\n",
       "      <td>0.0</td>\n",
       "      <td>6</td>\n",
       "    </tr>\n",
       "    <tr>\n",
       "      <th>4</th>\n",
       "      <td>02XYZXYZ10015592101</td>\n",
       "      <td>KL0255921</td>\n",
       "      <td>SBA</td>\n",
       "      <td>SBPPS</td>\n",
       "      <td>1999-03-10</td>\n",
       "      <td>NaN</td>\n",
       "      <td>0</td>\n",
       "      <td>2020-06-01</td>\n",
       "      <td>17.0</td>\n",
       "      <td>SBA</td>\n",
       "      <td>2174.00</td>\n",
       "      <td>CI</td>\n",
       "      <td>POS PUR/73197330/BBSM SATDO</td>\n",
       "      <td>withdraw</td>\n",
       "      <td>0.0</td>\n",
       "      <td>6</td>\n",
       "    </tr>\n",
       "  </tbody>\n",
       "</table>\n",
       "</div>"
      ]
     },
     "execution_count": 18,
     "metadata": {},
     "output_type": "execute_result"
    }
   ],
   "execution_count": 18
  },
  {
   "cell_type": "code",
   "id": "0714a96f-5214-4c5e-8350-556a070d4e32",
   "metadata": {
    "ExecuteTime": {
     "end_time": "2024-07-02T07:30:33.755318Z",
     "start_time": "2024-07-02T07:30:33.708431Z"
    }
   },
   "source": [
    "grouped_df = joined.groupby(['account_number','month', 'dc_indicator'])['lcy_amount'] .agg(['mean', 'std', 'var']) .reset_index()"
   ],
   "outputs": [],
   "execution_count": 19
  },
  {
   "cell_type": "code",
   "id": "4ac3c080-591a-4fe5-a138-a7d6c92a49b1",
   "metadata": {
    "ExecuteTime": {
     "end_time": "2024-07-02T07:30:34.171490Z",
     "start_time": "2024-07-02T07:30:34.155864Z"
    }
   },
   "source": [
    "grouped_df.head()"
   ],
   "outputs": [
    {
     "data": {
      "text/plain": [
       "        account_number  month dc_indicator           mean            std  \\\n",
       "0  02XYZXYZ10015339701      6      deposit  950000.000000  294957.624075   \n",
       "1  02XYZXYZ10015339701      6     withdraw   45648.000000   59090.604329   \n",
       "2  02XYZXYZ10015339701      7      deposit  436065.845000  336204.707648   \n",
       "3  02XYZXYZ10015339701      7     withdraw   40169.091429   49802.888915   \n",
       "4  02XYZXYZ10015339701      8      deposit   25856.000000            NaN   \n",
       "\n",
       "            var  \n",
       "0  8.700000e+10  \n",
       "1  3.491700e+09  \n",
       "2  1.130336e+11  \n",
       "3  2.480328e+09  \n",
       "4           NaN  "
      ],
      "text/html": [
       "<div>\n",
       "<style scoped>\n",
       "    .dataframe tbody tr th:only-of-type {\n",
       "        vertical-align: middle;\n",
       "    }\n",
       "\n",
       "    .dataframe tbody tr th {\n",
       "        vertical-align: top;\n",
       "    }\n",
       "\n",
       "    .dataframe thead th {\n",
       "        text-align: right;\n",
       "    }\n",
       "</style>\n",
       "<table border=\"1\" class=\"dataframe\">\n",
       "  <thead>\n",
       "    <tr style=\"text-align: right;\">\n",
       "      <th></th>\n",
       "      <th>account_number</th>\n",
       "      <th>month</th>\n",
       "      <th>dc_indicator</th>\n",
       "      <th>mean</th>\n",
       "      <th>std</th>\n",
       "      <th>var</th>\n",
       "    </tr>\n",
       "  </thead>\n",
       "  <tbody>\n",
       "    <tr>\n",
       "      <th>0</th>\n",
       "      <td>02XYZXYZ10015339701</td>\n",
       "      <td>6</td>\n",
       "      <td>deposit</td>\n",
       "      <td>950000.000000</td>\n",
       "      <td>294957.624075</td>\n",
       "      <td>8.700000e+10</td>\n",
       "    </tr>\n",
       "    <tr>\n",
       "      <th>1</th>\n",
       "      <td>02XYZXYZ10015339701</td>\n",
       "      <td>6</td>\n",
       "      <td>withdraw</td>\n",
       "      <td>45648.000000</td>\n",
       "      <td>59090.604329</td>\n",
       "      <td>3.491700e+09</td>\n",
       "    </tr>\n",
       "    <tr>\n",
       "      <th>2</th>\n",
       "      <td>02XYZXYZ10015339701</td>\n",
       "      <td>7</td>\n",
       "      <td>deposit</td>\n",
       "      <td>436065.845000</td>\n",
       "      <td>336204.707648</td>\n",
       "      <td>1.130336e+11</td>\n",
       "    </tr>\n",
       "    <tr>\n",
       "      <th>3</th>\n",
       "      <td>02XYZXYZ10015339701</td>\n",
       "      <td>7</td>\n",
       "      <td>withdraw</td>\n",
       "      <td>40169.091429</td>\n",
       "      <td>49802.888915</td>\n",
       "      <td>2.480328e+09</td>\n",
       "    </tr>\n",
       "    <tr>\n",
       "      <th>4</th>\n",
       "      <td>02XYZXYZ10015339701</td>\n",
       "      <td>8</td>\n",
       "      <td>deposit</td>\n",
       "      <td>25856.000000</td>\n",
       "      <td>NaN</td>\n",
       "      <td>NaN</td>\n",
       "    </tr>\n",
       "  </tbody>\n",
       "</table>\n",
       "</div>"
      ]
     },
     "execution_count": 20,
     "metadata": {},
     "output_type": "execute_result"
    }
   ],
   "execution_count": 20
  },
  {
   "cell_type": "code",
   "id": "746bc701-2f46-43d5-a2ff-83c4428a32b3",
   "metadata": {
    "ExecuteTime": {
     "end_time": "2024-07-02T07:30:34.621123Z",
     "start_time": "2024-07-02T07:30:34.596049Z"
    }
   },
   "source": [
    "pivoted_df = grouped_df.pivot_table(index=['account_number', 'month'], columns='dc_indicator', values=['mean', 'std', 'var'])\n"
   ],
   "outputs": [],
   "execution_count": 21
  },
  {
   "cell_type": "code",
   "id": "9906b264-e6c5-48e0-9e76-6ce3c90bc000",
   "metadata": {
    "ExecuteTime": {
     "end_time": "2024-07-02T07:30:34.976074Z",
     "start_time": "2024-07-02T07:30:34.944679Z"
    }
   },
   "source": [
    "pivoted_df"
   ],
   "outputs": [
    {
     "data": {
      "text/plain": [
       "                                     mean                           std  \\\n",
       "dc_indicator                      deposit       withdraw        deposit   \n",
       "account_number       month                                                \n",
       "02XYZXYZ10015339701  6      950000.000000   45648.000000  294957.624075   \n",
       "                     7      436065.845000   40169.091429  336204.707648   \n",
       "                     8       25856.000000  123633.333333            NaN   \n",
       "02XYZXYZ10015571501  6      900000.000000    3265.285714            NaN   \n",
       "                     7      307317.236000  202542.882500  405770.888317   \n",
       "...                                   ...            ...            ...   \n",
       "02XYZXYZ110017507524 7        8196.193333     570.515000    8621.115890   \n",
       "                     8                NaN    6341.800000            NaN   \n",
       "02XYZXYZ110017507568 6        2623.500000   24000.000000            NaN   \n",
       "                     7        2134.925000       8.070000    2791.056531   \n",
       "                     8       30526.650000   35000.000000            NaN   \n",
       "\n",
       "                                                    var                \n",
       "dc_indicator                     withdraw       deposit      withdraw  \n",
       "account_number       month                                             \n",
       "02XYZXYZ10015339701  6       59090.604329  8.700000e+10  3.491700e+09  \n",
       "                     7       49802.888915  1.130336e+11  2.480328e+09  \n",
       "                     8      116364.098129           NaN  1.354060e+10  \n",
       "02XYZXYZ10015571501  6        2144.792664           NaN  4.600136e+06  \n",
       "                     7      362798.668627  1.646500e+11  1.316229e+11  \n",
       "...                                   ...           ...           ...  \n",
       "02XYZXYZ110017507524 7         785.574421  7.432364e+07  6.171272e+05  \n",
       "                     8        9356.342031           NaN  8.754114e+07  \n",
       "02XYZXYZ110017507568 6       22627.416998           NaN  5.120000e+08  \n",
       "                     7                NaN  7.789997e+06           NaN  \n",
       "                     8                NaN           NaN           NaN  \n",
       "\n",
       "[4982 rows x 6 columns]"
      ],
      "text/html": [
       "<div>\n",
       "<style scoped>\n",
       "    .dataframe tbody tr th:only-of-type {\n",
       "        vertical-align: middle;\n",
       "    }\n",
       "\n",
       "    .dataframe tbody tr th {\n",
       "        vertical-align: top;\n",
       "    }\n",
       "\n",
       "    .dataframe thead tr th {\n",
       "        text-align: left;\n",
       "    }\n",
       "\n",
       "    .dataframe thead tr:last-of-type th {\n",
       "        text-align: right;\n",
       "    }\n",
       "</style>\n",
       "<table border=\"1\" class=\"dataframe\">\n",
       "  <thead>\n",
       "    <tr>\n",
       "      <th></th>\n",
       "      <th></th>\n",
       "      <th colspan=\"2\" halign=\"left\">mean</th>\n",
       "      <th colspan=\"2\" halign=\"left\">std</th>\n",
       "      <th colspan=\"2\" halign=\"left\">var</th>\n",
       "    </tr>\n",
       "    <tr>\n",
       "      <th></th>\n",
       "      <th>dc_indicator</th>\n",
       "      <th>deposit</th>\n",
       "      <th>withdraw</th>\n",
       "      <th>deposit</th>\n",
       "      <th>withdraw</th>\n",
       "      <th>deposit</th>\n",
       "      <th>withdraw</th>\n",
       "    </tr>\n",
       "    <tr>\n",
       "      <th>account_number</th>\n",
       "      <th>month</th>\n",
       "      <th></th>\n",
       "      <th></th>\n",
       "      <th></th>\n",
       "      <th></th>\n",
       "      <th></th>\n",
       "      <th></th>\n",
       "    </tr>\n",
       "  </thead>\n",
       "  <tbody>\n",
       "    <tr>\n",
       "      <th rowspan=\"3\" valign=\"top\">02XYZXYZ10015339701</th>\n",
       "      <th>6</th>\n",
       "      <td>950000.000000</td>\n",
       "      <td>45648.000000</td>\n",
       "      <td>294957.624075</td>\n",
       "      <td>59090.604329</td>\n",
       "      <td>8.700000e+10</td>\n",
       "      <td>3.491700e+09</td>\n",
       "    </tr>\n",
       "    <tr>\n",
       "      <th>7</th>\n",
       "      <td>436065.845000</td>\n",
       "      <td>40169.091429</td>\n",
       "      <td>336204.707648</td>\n",
       "      <td>49802.888915</td>\n",
       "      <td>1.130336e+11</td>\n",
       "      <td>2.480328e+09</td>\n",
       "    </tr>\n",
       "    <tr>\n",
       "      <th>8</th>\n",
       "      <td>25856.000000</td>\n",
       "      <td>123633.333333</td>\n",
       "      <td>NaN</td>\n",
       "      <td>116364.098129</td>\n",
       "      <td>NaN</td>\n",
       "      <td>1.354060e+10</td>\n",
       "    </tr>\n",
       "    <tr>\n",
       "      <th rowspan=\"2\" valign=\"top\">02XYZXYZ10015571501</th>\n",
       "      <th>6</th>\n",
       "      <td>900000.000000</td>\n",
       "      <td>3265.285714</td>\n",
       "      <td>NaN</td>\n",
       "      <td>2144.792664</td>\n",
       "      <td>NaN</td>\n",
       "      <td>4.600136e+06</td>\n",
       "    </tr>\n",
       "    <tr>\n",
       "      <th>7</th>\n",
       "      <td>307317.236000</td>\n",
       "      <td>202542.882500</td>\n",
       "      <td>405770.888317</td>\n",
       "      <td>362798.668627</td>\n",
       "      <td>1.646500e+11</td>\n",
       "      <td>1.316229e+11</td>\n",
       "    </tr>\n",
       "    <tr>\n",
       "      <th>...</th>\n",
       "      <th>...</th>\n",
       "      <td>...</td>\n",
       "      <td>...</td>\n",
       "      <td>...</td>\n",
       "      <td>...</td>\n",
       "      <td>...</td>\n",
       "      <td>...</td>\n",
       "    </tr>\n",
       "    <tr>\n",
       "      <th rowspan=\"2\" valign=\"top\">02XYZXYZ110017507524</th>\n",
       "      <th>7</th>\n",
       "      <td>8196.193333</td>\n",
       "      <td>570.515000</td>\n",
       "      <td>8621.115890</td>\n",
       "      <td>785.574421</td>\n",
       "      <td>7.432364e+07</td>\n",
       "      <td>6.171272e+05</td>\n",
       "    </tr>\n",
       "    <tr>\n",
       "      <th>8</th>\n",
       "      <td>NaN</td>\n",
       "      <td>6341.800000</td>\n",
       "      <td>NaN</td>\n",
       "      <td>9356.342031</td>\n",
       "      <td>NaN</td>\n",
       "      <td>8.754114e+07</td>\n",
       "    </tr>\n",
       "    <tr>\n",
       "      <th rowspan=\"3\" valign=\"top\">02XYZXYZ110017507568</th>\n",
       "      <th>6</th>\n",
       "      <td>2623.500000</td>\n",
       "      <td>24000.000000</td>\n",
       "      <td>NaN</td>\n",
       "      <td>22627.416998</td>\n",
       "      <td>NaN</td>\n",
       "      <td>5.120000e+08</td>\n",
       "    </tr>\n",
       "    <tr>\n",
       "      <th>7</th>\n",
       "      <td>2134.925000</td>\n",
       "      <td>8.070000</td>\n",
       "      <td>2791.056531</td>\n",
       "      <td>NaN</td>\n",
       "      <td>7.789997e+06</td>\n",
       "      <td>NaN</td>\n",
       "    </tr>\n",
       "    <tr>\n",
       "      <th>8</th>\n",
       "      <td>30526.650000</td>\n",
       "      <td>35000.000000</td>\n",
       "      <td>NaN</td>\n",
       "      <td>NaN</td>\n",
       "      <td>NaN</td>\n",
       "      <td>NaN</td>\n",
       "    </tr>\n",
       "  </tbody>\n",
       "</table>\n",
       "<p>4982 rows × 6 columns</p>\n",
       "</div>"
      ]
     },
     "execution_count": 22,
     "metadata": {},
     "output_type": "execute_result"
    }
   ],
   "execution_count": 22
  },
  {
   "cell_type": "code",
   "execution_count": null,
   "id": "270575ef-457a-4df9-853f-69f2873f414c",
   "metadata": {},
   "outputs": [],
   "source": []
  }
 ],
 "metadata": {
  "kernelspec": {
   "display_name": "Python 3 (ipykernel)",
   "language": "python",
   "name": "python3"
  },
  "language_info": {
   "codemirror_mode": {
    "name": "ipython",
    "version": 3
   },
   "file_extension": ".py",
   "mimetype": "text/x-python",
   "name": "python",
   "nbconvert_exporter": "python",
   "pygments_lexer": "ipython3",
   "version": "3.10.7"
  }
 },
 "nbformat": 4,
 "nbformat_minor": 5
}
