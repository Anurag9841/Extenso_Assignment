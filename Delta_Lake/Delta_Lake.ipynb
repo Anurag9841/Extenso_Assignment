{
 "cells": [
  {
   "cell_type": "code",
   "id": "01653c6b-b2b7-4baa-9c40-be2aef945592",
   "metadata": {
    "ExecuteTime": {
     "end_time": "2024-05-29T12:14:49.935474Z",
     "start_time": "2024-05-29T12:14:49.896375Z"
    }
   },
   "source": [
    "from delta import *\n",
    "from pyspark.sql.types import *\n",
    "from delta.tables import *\n",
    "from pyspark.sql.functions import *\n",
    "from pyspark.sql import SparkSession\n",
    "import os"
   ],
   "outputs": [],
   "execution_count": 11
  },
  {
   "cell_type": "code",
   "id": "0b9cbe86-4274-4cb6-9481-499a1d2390ef",
   "metadata": {
    "ExecuteTime": {
     "end_time": "2024-05-29T12:14:50.592409Z",
     "start_time": "2024-05-29T12:14:50.585444Z"
    }
   },
   "source": [
    "import sys\n",
    "\n",
    "os.environ['PYSPARK_PYTHON'] = sys.executable\n",
    "os.environ['PYSPARK_DRIVER_PYTHON'] = sys.executable"
   ],
   "outputs": [],
   "execution_count": 12
  },
  {
   "cell_type": "code",
   "id": "768d5074-1c84-4fd8-8891-024842f16e7c",
   "metadata": {
    "ExecuteTime": {
     "end_time": "2024-05-29T12:14:51.237809Z",
     "start_time": "2024-05-29T12:14:51.227696Z"
    }
   },
   "source": [
    "builder = SparkSession.builder.appName(\"DeltaTutorial\")\\\n",
    "    .config(\"spark.sql.extensions\", \"io.delta.sql.DeltaSparkSessionExtension\") \\\n",
    "    .config(\"spark.sql.catalog.spark_catalog\", \"org.apache.spark.sql.delta.catalog.DeltaCatalog\")"
   ],
   "outputs": [],
   "execution_count": 13
  },
  {
   "cell_type": "code",
   "id": "8bc9458d-af5e-4ad1-af3d-76b394ab10b7",
   "metadata": {
    "ExecuteTime": {
     "end_time": "2024-05-29T12:14:52.115359Z",
     "start_time": "2024-05-29T12:14:52.073843Z"
    }
   },
   "source": [
    "#Resilent Distributed Dataset(RDD)\n",
    "spark = configure_spark_with_delta_pip(builder).getOrCreate()\n",
    "spark.sparkContext.setLogLevel(\"ERROR\")"
   ],
   "outputs": [
    {
     "ename": "NameError",
     "evalue": "name 'configure_spark_with_delta_pip' is not defined",
     "output_type": "error",
     "traceback": [
      "\u001B[1;31m---------------------------------------------------------------------------\u001B[0m",
      "\u001B[1;31mNameError\u001B[0m                                 Traceback (most recent call last)",
      "Cell \u001B[1;32mIn[14], line 2\u001B[0m\n\u001B[0;32m      1\u001B[0m \u001B[38;5;66;03m#Resilent Distributed Dataset(RDD)\u001B[39;00m\n\u001B[1;32m----> 2\u001B[0m spark \u001B[38;5;241m=\u001B[39m \u001B[43mconfigure_spark_with_delta_pip\u001B[49m(builder)\u001B[38;5;241m.\u001B[39mgetOrCreate()\n\u001B[0;32m      3\u001B[0m spark\u001B[38;5;241m.\u001B[39msparkContext\u001B[38;5;241m.\u001B[39msetLogLevel(\u001B[38;5;124m\"\u001B[39m\u001B[38;5;124mERROR\u001B[39m\u001B[38;5;124m\"\u001B[39m)\n",
      "\u001B[1;31mNameError\u001B[0m: name 'configure_spark_with_delta_pip' is not defined"
     ]
    }
   ],
   "execution_count": 14
  },
  {
   "cell_type": "code",
   "execution_count": 5,
   "id": "81806813-8a08-48fb-9fb7-860f514de85d",
   "metadata": {},
   "outputs": [],
   "source": [
    "data = [(\"Anurag\",\"Karki\",23),(\"Anuska\",\"Karki\",18),(\"Sujan\",\"Karki\",48)]\n",
    "schema = StructType([\n",
    "    StructField(\"firstname\",StringType(),True),\n",
    "    StructField(\"lastname\",StringType(),True),\n",
    "    StructField(\"age\",IntegerType(),True)\n",
    "])"
   ]
  },
  {
   "cell_type": "code",
   "execution_count": 6,
   "id": "ec5b3111-da50-45a7-8805-970a49f4cab8",
   "metadata": {},
   "outputs": [],
   "source": [
    "sample_dataframe = spark.createDataFrame(data=data, schema=schema)"
   ]
  },
  {
   "cell_type": "code",
   "execution_count": 7,
   "id": "2b8bf91d-40ee-4ace-aac5-5957cdb3e433",
   "metadata": {},
   "outputs": [],
   "source": [
    "sample_dataframe.write.mode(saveMode=\"overwrite\").format(\"delta\").save(\"../Delta_Data/delta_table\")"
   ]
  },
  {
   "cell_type": "code",
   "execution_count": 8,
   "id": "0dc01cc1-0f1b-4069-8209-bff978c89b08",
   "metadata": {},
   "outputs": [],
   "source": [
    "#Reading Data\n",
    "getting_df = spark.read.format(\"delta\").load(\"../Delta_Data/delta_table\")"
   ]
  },
  {
   "cell_type": "code",
   "execution_count": 9,
   "id": "1ca5767d-d037-4b86-b504-76ad9cbedfc5",
   "metadata": {},
   "outputs": [
    {
     "name": "stdout",
     "output_type": "stream",
     "text": [
      "+---------+--------+---+\n",
      "|firstname|lastname|age|\n",
      "+---------+--------+---+\n",
      "|   Anuska|   Karki| 18|\n",
      "|   Anurag|   Karki| 23|\n",
      "|    Sujan|   Karki| 48|\n",
      "+---------+--------+---+\n",
      "\n"
     ]
    }
   ],
   "source": [
    "getting_df.show()"
   ]
  },
  {
   "cell_type": "code",
   "execution_count": 26,
   "id": "373127b0-6cc6-48f5-b469-f40c4e125b76",
   "metadata": {},
   "outputs": [],
   "source": [
    "#Updating Data\n",
    "data = [(\"Robert\", \"Baratheon\", 49),\n",
    "        (\"Eddard\", \"Stark\", 47),\n",
    "        (\"Jamie\", \"Lannister\", 30)\n",
    "        ]\n",
    "schema = StructType([\n",
    "    StructField(\"firstname\", StringType(), True),\n",
    "    StructField(\"lastname\", StringType(), True),\n",
    "    StructField(\"age\", IntegerType(), True)\n",
    "])\n",
    "sample_dataframe = spark.createDataFrame(data=data, schema=schema)\n",
    "sample_dataframe.write.mode(saveMode=\"overwrite\").format(\"delta\").save(\"../Delta_Data/delta_table\")"
   ]
  },
  {
   "cell_type": "code",
   "execution_count": 27,
   "id": "b47b171c-f412-43f7-83b4-eb3ba15205cc",
   "metadata": {},
   "outputs": [],
   "source": [
    "getting_df = spark.read.format(\"delta\").load(\"../Delta_Data/delta_table\")"
   ]
  },
  {
   "cell_type": "code",
   "execution_count": 28,
   "id": "8c021b1d-0c50-4adc-94cb-fa8e5dd02082",
   "metadata": {},
   "outputs": [
    {
     "name": "stdout",
     "output_type": "stream",
     "text": [
      "+---------+---------+---+\n",
      "|firstname| lastname|age|\n",
      "+---------+---------+---+\n",
      "|   Robert|Baratheon| 49|\n",
      "|    Jamie|Lannister| 30|\n",
      "|   Eddard|    Stark| 47|\n",
      "+---------+---------+---+\n",
      "\n"
     ]
    }
   ],
   "source": [
    "getting_df.show()"
   ]
  },
  {
   "cell_type": "code",
   "execution_count": 31,
   "id": "0bcc4e75-93a7-4ad7-a29a-9debb2b63a11",
   "metadata": {},
   "outputs": [
    {
     "name": "stdout",
     "output_type": "stream",
     "text": [
      "+---------+--------+---+\n",
      "|firstname|lastname|age|\n",
      "+---------+--------+---+\n",
      "|   Anuska|   Karki| 18|\n",
      "|   Anurag|   Karki| 23|\n",
      "|    Sujan|   Karki| 48|\n",
      "+---------+--------+---+\n",
      "\n"
     ]
    }
   ],
   "source": [
    "#Retriving Old Versions\n",
    "df_ver0 = spark.read.format(\"delta\").option(\"versionAsOf\", 0).load(\"../Delta_Data/delta_table\")\n",
    "df_ver0.show()"
   ]
  },
  {
   "cell_type": "code",
   "execution_count": 32,
   "id": "546f5824-4a3c-499c-b22d-4ed712c5b8af",
   "metadata": {},
   "outputs": [
    {
     "name": "stdout",
     "output_type": "stream",
     "text": [
      "+---------+---------+---+\n",
      "|firstname| lastname|age|\n",
      "+---------+---------+---+\n",
      "|   Robert|Baratheon| 49|\n",
      "|    Jamie|Lannister| 30|\n",
      "|   Eddard|    Stark| 47|\n",
      "+---------+---------+---+\n",
      "\n"
     ]
    }
   ],
   "source": [
    "df_ver1 = spark.read.format(\"delta\").option(\"versionAsOf\", 1).load(\"../Delta_Data/delta_table\")\n",
    "df_ver1.show()"
   ]
  },
  {
   "cell_type": "code",
   "execution_count": null,
   "id": "45e05a35-987e-4cd0-a666-4ac66a326793",
   "metadata": {},
   "outputs": [],
   "source": []
  }
 ],
 "metadata": {
  "kernelspec": {
   "display_name": "Python 3 (ipykernel)",
   "language": "python",
   "name": "python3"
  },
  "language_info": {
   "codemirror_mode": {
    "name": "ipython",
    "version": 3
   },
   "file_extension": ".py",
   "mimetype": "text/x-python",
   "name": "python",
   "nbconvert_exporter": "python",
   "pygments_lexer": "ipython3",
   "version": "3.10.7"
  }
 },
 "nbformat": 4,
 "nbformat_minor": 5
}
