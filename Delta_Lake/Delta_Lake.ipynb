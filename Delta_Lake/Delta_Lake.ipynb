{
 "cells": [
  {
   "cell_type": "code",
   "execution_count": 1,
   "id": "01653c6b-b2b7-4baa-9c40-be2aef945592",
   "metadata": {},
   "outputs": [],
   "source": [
    "from delta import *\n",
    "from pyspark.sql.types import *\n",
    "from delta.tables import *\n",
    "from pyspark.sql.functions import *\n",
    "from pyspark.sql import SparkSession\n",
    "import os"
   ]
  },
  {
   "cell_type": "code",
   "execution_count": 2,
   "id": "0b9cbe86-4274-4cb6-9481-499a1d2390ef",
   "metadata": {},
   "outputs": [],
   "source": [
    "os.environ['PYSPARK_PYTHON'] = sys.executable\n",
    "os.environ['PYSPARK_DRIVER_PYTHON'] = sys.executable"
   ]
  },
  {
   "cell_type": "code",
   "execution_count": 3,
   "id": "768d5074-1c84-4fd8-8891-024842f16e7c",
   "metadata": {},
   "outputs": [],
   "source": [
    "builder = SparkSession.builder.appName(\"DeltaTutorial\")\\\n",
    "    .config(\"spark.sql.extensions\", \"io.delta.sql.DeltaSparkSessionExtension\") \\\n",
    "    .config(\"spark.sql.catalog.spark_catalog\", \"org.apache.spark.sql.delta.catalog.DeltaCatalog\")"
   ]
  },
  {
   "cell_type": "code",
   "execution_count": 4,
   "id": "8bc9458d-af5e-4ad1-af3d-76b394ab10b7",
   "metadata": {},
   "outputs": [],
   "source": [
    "#Resilent Distributed Dataset(RDD)\n",
    "spark = configure_spark_with_delta_pip(builder).getOrCreate()\n",
    "spark.sparkContext.setLogLevel(\"ERROR\")"
   ]
  },
  {
   "cell_type": "code",
   "execution_count": 5,
   "id": "81806813-8a08-48fb-9fb7-860f514de85d",
   "metadata": {},
   "outputs": [],
   "source": [
    "data = [(\"Anurag\",\"Karki\",23),(\"Anuska\",\"Karki\",18),(\"Sujan\",\"Karki\",48)]\n",
    "schema = StructType([\n",
    "    StructField(\"firstname\",StringType(),True),\n",
    "    StructField(\"lastname\",StringType(),True),\n",
    "    StructField(\"age\",IntegerType(),True)\n",
    "])"
   ]
  },
  {
   "cell_type": "code",
   "execution_count": 6,
   "id": "ec5b3111-da50-45a7-8805-970a49f4cab8",
   "metadata": {},
   "outputs": [],
   "source": [
    "sample_dataframe = spark.createDataFrame(data=data, schema=schema)"
   ]
  },
  {
   "cell_type": "code",
   "execution_count": 7,
   "id": "2b8bf91d-40ee-4ace-aac5-5957cdb3e433",
   "metadata": {},
   "outputs": [],
   "source": [
    "sample_dataframe.write.mode(saveMode=\"overwrite\").format(\"delta\").save(\"../Delta_Data/delta_table\")"
   ]
  },
  {
   "cell_type": "code",
   "execution_count": 8,
   "id": "0dc01cc1-0f1b-4069-8209-bff978c89b08",
   "metadata": {},
   "outputs": [],
   "source": [
    "#Reading Data\n",
    "getting_df = spark.read.format(\"delta\").load(\"../Delta_Data/delta_table\")"
   ]
  },
  {
   "cell_type": "code",
   "execution_count": 9,
   "id": "1ca5767d-d037-4b86-b504-76ad9cbedfc5",
   "metadata": {},
   "outputs": [
    {
     "name": "stdout",
     "output_type": "stream",
     "text": [
      "+---------+--------+---+\n",
      "|firstname|lastname|age|\n",
      "+---------+--------+---+\n",
      "|   Anuska|   Karki| 18|\n",
      "|   Anurag|   Karki| 23|\n",
      "|    Sujan|   Karki| 48|\n",
      "+---------+--------+---+\n",
      "\n"
     ]
    }
   ],
   "source": [
    "getting_df.show()"
   ]
  },
  {
   "cell_type": "code",
   "execution_count": 26,
   "id": "373127b0-6cc6-48f5-b469-f40c4e125b76",
   "metadata": {},
   "outputs": [],
   "source": [
    "#Updating Data\n",
    "data = [(\"Robert\", \"Baratheon\", 49),\n",
    "        (\"Eddard\", \"Stark\", 47),\n",
    "        (\"Jamie\", \"Lannister\", 30)\n",
    "        ]\n",
    "schema = StructType([\n",
    "    StructField(\"firstname\", StringType(), True),\n",
    "    StructField(\"lastname\", StringType(), True),\n",
    "    StructField(\"age\", IntegerType(), True)\n",
    "])\n",
    "sample_dataframe = spark.createDataFrame(data=data, schema=schema)\n",
    "sample_dataframe.write.mode(saveMode=\"overwrite\").format(\"delta\").save(\"../Delta_Data/delta_table\")"
   ]
  },
  {
   "cell_type": "code",
   "execution_count": 27,
   "id": "b47b171c-f412-43f7-83b4-eb3ba15205cc",
   "metadata": {},
   "outputs": [],
   "source": [
    "getting_df = spark.read.format(\"delta\").load(\"../Delta_Data/delta_table\")"
   ]
  },
  {
   "cell_type": "code",
   "execution_count": 28,
   "id": "8c021b1d-0c50-4adc-94cb-fa8e5dd02082",
   "metadata": {},
   "outputs": [
    {
     "name": "stdout",
     "output_type": "stream",
     "text": [
      "+---------+---------+---+\n",
      "|firstname| lastname|age|\n",
      "+---------+---------+---+\n",
      "|   Robert|Baratheon| 49|\n",
      "|    Jamie|Lannister| 30|\n",
      "|   Eddard|    Stark| 47|\n",
      "+---------+---------+---+\n",
      "\n"
     ]
    }
   ],
   "source": [
    "getting_df.show()"
   ]
  },
  {
   "cell_type": "code",
   "execution_count": 31,
   "id": "0bcc4e75-93a7-4ad7-a29a-9debb2b63a11",
   "metadata": {},
   "outputs": [
    {
     "name": "stdout",
     "output_type": "stream",
     "text": [
      "+---------+--------+---+\n",
      "|firstname|lastname|age|\n",
      "+---------+--------+---+\n",
      "|   Anuska|   Karki| 18|\n",
      "|   Anurag|   Karki| 23|\n",
      "|    Sujan|   Karki| 48|\n",
      "+---------+--------+---+\n",
      "\n"
     ]
    }
   ],
   "source": [
    "#Retriving Old Versions\n",
    "df_ver0 = spark.read.format(\"delta\").option(\"versionAsOf\", 0).load(\"../Delta_Data/delta_table\")\n",
    "df_ver0.show()"
   ]
  },
  {
   "cell_type": "code",
   "execution_count": 32,
   "id": "546f5824-4a3c-499c-b22d-4ed712c5b8af",
   "metadata": {},
   "outputs": [
    {
     "name": "stdout",
     "output_type": "stream",
     "text": [
      "+---------+---------+---+\n",
      "|firstname| lastname|age|\n",
      "+---------+---------+---+\n",
      "|   Robert|Baratheon| 49|\n",
      "|    Jamie|Lannister| 30|\n",
      "|   Eddard|    Stark| 47|\n",
      "+---------+---------+---+\n",
      "\n"
     ]
    }
   ],
   "source": [
    "df_ver1 = spark.read.format(\"delta\").option(\"versionAsOf\", 1).load(\"../Delta_Data/delta_table\")\n",
    "df_ver1.show()"
   ]
  },
  {
   "cell_type": "code",
   "execution_count": null,
   "id": "45e05a35-987e-4cd0-a666-4ac66a326793",
   "metadata": {},
   "outputs": [],
   "source": []
  }
 ],
 "metadata": {
  "kernelspec": {
   "display_name": "Python 3 (ipykernel)",
   "language": "python",
   "name": "python3"
  },
  "language_info": {
   "codemirror_mode": {
    "name": "ipython",
    "version": 3
   },
   "file_extension": ".py",
   "mimetype": "text/x-python",
   "name": "python",
   "nbconvert_exporter": "python",
   "pygments_lexer": "ipython3",
   "version": "3.10.7"
  }
 },
 "nbformat": 4,
 "nbformat_minor": 5
}
