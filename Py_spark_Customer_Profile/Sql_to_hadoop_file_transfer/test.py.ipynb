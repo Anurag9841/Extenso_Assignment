{
 "cells": [
  {
   "metadata": {
    "ExecuteTime": {
     "end_time": "2024-06-11T09:01:54.275388Z",
     "start_time": "2024-06-11T09:01:53.472356Z"
    }
   },
   "cell_type": "code",
   "source": [
    "from pyspark.sql import SparkSession\n",
    "from pyspark.sql.functions import *\n",
    "from pyspark.sql.types import *\n",
    "from pyspark.sql.window import *"
   ],
   "id": "c3552d5dd70184a4",
   "outputs": [],
   "execution_count": 1
  },
  {
   "cell_type": "code",
   "id": "initial_id",
   "metadata": {
    "collapsed": true,
    "ExecuteTime": {
     "end_time": "2024-06-11T09:02:16.162384Z",
     "start_time": "2024-06-11T09:02:01.235196Z"
    }
   },
   "source": [
    "spark = SparkSession.builder.appName(\"spark_dataframe_py\").getOrCreate()\n",
    "url = \"jdbc:mysql://localhost:3306/extenso_config\"\n",
    "properties = {\n",
    "        \"user\": \"root\",\n",
    "        \"password\": \"root\",\n",
    "        \"driver\": \"com.mysql.cj.jdbc.Driver\"\n",
    "    }"
   ],
   "outputs": [],
   "execution_count": 2
  },
  {
   "metadata": {
    "ExecuteTime": {
     "end_time": "2024-06-11T09:02:33.386221Z",
     "start_time": "2024-06-11T09:02:30.030060Z"
    }
   },
   "cell_type": "code",
   "source": "df = spark.read.jdbc(url=url, table='rw_transaction_data', properties=properties)",
   "id": "5472ffe4669eeef1",
   "outputs": [],
   "execution_count": 3
  }
 ],
 "metadata": {
  "kernelspec": {
   "display_name": "Python 3",
   "language": "python",
   "name": "python3"
  },
  "language_info": {
   "codemirror_mode": {
    "name": "ipython",
    "version": 2
   },
   "file_extension": ".py",
   "mimetype": "text/x-python",
   "name": "python",
   "nbconvert_exporter": "python",
   "pygments_lexer": "ipython2",
   "version": "2.7.6"
  }
 },
 "nbformat": 4,
 "nbformat_minor": 5
}
