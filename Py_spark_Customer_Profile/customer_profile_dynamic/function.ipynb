{
 "cells": [
  {
   "cell_type": "code",
   "id": "initial_id",
   "metadata": {
    "collapsed": true,
    "ExecuteTime": {
     "end_time": "2024-06-10T06:23:05.365869Z",
     "start_time": "2024-06-10T06:23:05.155740Z"
    }
   },
   "source": [
    "from pyspark.sql import SparkSession\n",
    "from pyspark.sql.functions import *\n",
    "from pyspark.sql.types import *\n",
    "from pyspark.sql.window import *           "
   ],
   "outputs": [],
   "execution_count": 1
  },
  {
   "metadata": {
    "ExecuteTime": {
     "end_time": "2024-06-10T06:23:05.381817Z",
     "start_time": "2024-06-10T06:23:05.367876Z"
    }
   },
   "cell_type": "code",
   "source": "import json",
   "id": "9fc9d16c338b36e3",
   "outputs": [],
   "execution_count": 2
  },
  {
   "metadata": {
    "ExecuteTime": {
     "end_time": "2024-06-10T06:23:11.749024Z",
     "start_time": "2024-06-10T06:23:06.141756Z"
    }
   },
   "cell_type": "code",
   "source": "spark = SparkSession.builder.appName(\"spark_dataframe_py\").config(\"spark.jars\", \"C:\\spark-3.5.1-bin-hadoop3\\jars\\mysql-connector-j-8.4.0.jar\").getOrCreate()",
   "id": "db952c375a8d27e6",
   "outputs": [],
   "execution_count": 3
  },
  {
   "metadata": {
    "ExecuteTime": {
     "end_time": "2024-06-10T06:23:13.765056Z",
     "start_time": "2024-06-10T06:23:13.758472Z"
    }
   },
   "cell_type": "code",
   "source": [
    "url = \"jdbc:mysql://localhost:3306/extenso_config\"\n",
    "properties = {\n",
    "    \"user\": \"root\",\n",
    "    \"password\": \"root\",\n",
    "    \"driver\": \"com.mysql.jdbc.Driver\"\n",
    "}"
   ],
   "id": "b37d609d9bf19a43",
   "outputs": [],
   "execution_count": 4
  },
  {
   "metadata": {
    "ExecuteTime": {
     "end_time": "2024-06-10T06:23:17.729723Z",
     "start_time": "2024-06-10T06:23:14.574052Z"
    }
   },
   "cell_type": "code",
   "source": [
    "emptyRDD = spark.sparkContext.emptyRDD()\n",
    "schema = StructType([\n",
    "  StructField('payer_account_id', IntegerType(), True),\n",
    "  StructField('first_day_of_month', DateType(), True),\n",
    "  StructField('txn_flow', StringType(), True),\n",
    "  StructField('sum(amount)', DoubleType(), True),\n",
    "  StructField('count(amount)', LongType(), True),\n",
    "  StructField('last_modified_date', DateType(), True),\n",
    "  StructField('min(last_modified_date)', DateType(), True),\n",
    "  ])\n",
    "Schema = spark.createDataFrame(emptyRDD,schema)"
   ],
   "id": "ecfe92d6a52b8426",
   "outputs": [],
   "execution_count": 5
  },
  {
   "metadata": {
    "ExecuteTime": {
     "end_time": "2024-06-10T06:23:59.501171Z",
     "start_time": "2024-06-10T06:23:59.455888Z"
    }
   },
   "cell_type": "code",
   "source": "Schema.printSchema()",
   "id": "ce1d357fb6bb6d07",
   "outputs": [
    {
     "name": "stdout",
     "output_type": "stream",
     "text": [
      "root\n",
      " |-- payer_account_id: integer (nullable = true)\n",
      " |-- first_day_of_month: date (nullable = true)\n",
      " |-- txn_flow: string (nullable = true)\n",
      " |-- sum(amount): double (nullable = true)\n",
      " |-- count(amount): long (nullable = true)\n",
      " |-- last_modified_date: date (nullable = true)\n",
      " |-- min(last_modified_date): date (nullable = true)\n",
      "\n"
     ]
    }
   ],
   "execution_count": 6
  },
  {
   "metadata": {
    "ExecuteTime": {
     "end_time": "2024-06-10T06:18:29.109012Z",
     "start_time": "2024-06-10T06:18:29.094941Z"
    }
   },
   "cell_type": "code",
   "source": [
    "def config(table,last_date):\n",
    "    last_transaction_date = table.select(max(\"last_modified_date\")).collect()[0][0]\n",
    "    config_data = {\n",
    "      \"last_transaction_date\" : last_date,\n",
    "      \"start_transaction_date\" : last_transaction_date.strftime('%Y-%m-%d')\n",
    "    }\n",
    "    with open(\"config.json\", \"w\") as json_file:\n",
    "        json.dump(config_data, json_file)"
   ],
   "id": "67845945288ff1dd",
   "outputs": [],
   "execution_count": 7
  },
  {
   "metadata": {
    "ExecuteTime": {
     "end_time": "2024-06-10T06:18:29.124450Z",
     "start_time": "2024-06-10T06:18:29.110019Z"
    }
   },
   "cell_type": "code",
   "source": [
    "def get_start_last_transaction_date(config_path = \"../config.json\"):\n",
    "    with open(config_path, 'r') as file:\n",
    "        config_data = json.load(file)\n",
    "        last_transaction_date = config_data.get('last_transaction_date')\n",
    "        start_transaction_date = config_data.get('start_transaction_date')\n",
    "        return start_transaction_date,last_transaction_date"
   ],
   "id": "9b873d11f0be2210",
   "outputs": [],
   "execution_count": 8
  },
  {
   "metadata": {
    "ExecuteTime": {
     "end_time": "2024-06-10T06:19:13.333736Z",
     "start_time": "2024-06-10T06:19:13.329725Z"
    }
   },
   "cell_type": "code",
   "source": "start_date,last_date = get_start_last_transaction_date()",
   "id": "d7b34151ae13bef2",
   "outputs": [],
   "execution_count": 9
  },
  {
   "metadata": {
    "ExecuteTime": {
     "end_time": "2024-06-10T06:19:31.232855Z",
     "start_time": "2024-06-10T06:19:31.221219Z"
    }
   },
   "cell_type": "code",
   "source": [
    "def table(table_name, start_date, end_date):\n",
    "  df = spark.read.jdbc(url=url, table=table_name, properties=properties)\n",
    "  if table_name == \"rw_transaction_data\":\n",
    "    df = df.filter((df.last_modified_date <= to_date(lit(end_date))) & (df.last_modified_date >= to_date(lit(start_date))))\n",
    "    # df = df.filter((df.last_modified_date >= to_date(lit(start_date))))\n",
    "  return df"
   ],
   "id": "d54071e71a2b1eaf",
   "outputs": [],
   "execution_count": 11
  },
  {
   "metadata": {
    "ExecuteTime": {
     "end_time": "2024-06-10T06:19:33.840696Z",
     "start_time": "2024-06-10T06:19:32.184135Z"
    }
   },
   "cell_type": "code",
   "source": [
    "product_category_map = table(\"product_category_map\",start_date,last_date)\n",
    "rw_transaction_data = table(\"rw_transaction_data\",start_date,last_date)"
   ],
   "id": "bbc7e87ccd293a49",
   "outputs": [],
   "execution_count": 12
  },
  {
   "metadata": {
    "ExecuteTime": {
     "end_time": "2024-06-10T06:19:36.420509Z",
     "start_time": "2024-06-10T06:19:33.843868Z"
    }
   },
   "cell_type": "code",
   "source": "rw_transaction_data.count()",
   "id": "cb19c141b4d9e1b7",
   "outputs": [
    {
     "data": {
      "text/plain": [
       "4691"
      ]
     },
     "execution_count": 13,
     "metadata": {},
     "output_type": "execute_result"
    }
   ],
   "execution_count": 13
  },
  {
   "metadata": {
    "ExecuteTime": {
     "end_time": "2024-06-10T06:20:01.882389Z",
     "start_time": "2024-06-10T06:20:01.870287Z"
    }
   },
   "cell_type": "code",
   "source": [
    "def new_data(final_table , rw_transaction_data , product_category_map = product_category_map):\n",
    "    rw_transaction_data = rw_transaction_data.withColumn(\"first_day_of_month\", trunc(col(\"last_modified_date\"), \"month\"))\n",
    "    joined = rw_transaction_data.join(product_category_map, ['product_id', 'product_type_id', 'module_id'])\n",
    "    table_to_join = joined.groupBy([\"payer_account_id\",\"first_day_of_month\",\"txn_flow\"]).agg(sum(\"amount\"),count(\"amount\"),max(\"last_modified_date\").alias(\"last_modified_date\"),min(\"last_modified_date\"))\n",
    "    def merge_table(row):\n",
    "        existing_row = table_to_join.filter((table_to_join.payer_account_id == row.payer_account_id) & (table_to_join.first_day_of_month == row.first_day_of_month) & (table_to_join.txn_flow == row.txn_flow)).collect()\n",
    "        if existing_row:\n",
    "            return existing_row[0]\n",
    "        else:\n",
    "            return row\n",
    "    final_table = final_table.unionAll(table_to_join)\n",
    "    if final_table.count() == 0:\n",
    "        merged_rows = table_to_join.collect()\n",
    "    else:\n",
    "        merged_rows = final_table.collect()\n",
    "    merged_rows = [merge_table(row) for row in merged_rows]\n",
    "    merged_table = spark.createDataFrame(merged_rows, final_table.schema)\n",
    "    merged_table = merged_table.distinct()\n",
    "    return merged_table"
   ],
   "id": "504ea0f81710b713",
   "outputs": [],
   "execution_count": 14
  },
  {
   "metadata": {
    "ExecuteTime": {
     "end_time": "2024-06-10T07:53:02.914949Z",
     "start_time": "2024-06-10T07:53:02.617876Z"
    }
   },
   "cell_type": "code",
   "source": "Schema.write.csv('C:/Users/acer/PycharmProjects/Extenso_Assignment/Py_spark_Customer_Profile/airflow_dynamic/input_file/final_table', header=True,mode='overwrite')",
   "id": "d2f878db539356e1",
   "outputs": [],
   "execution_count": 31
  },
  {
   "metadata": {
    "ExecuteTime": {
     "end_time": "2024-06-10T06:20:14.489165Z",
     "start_time": "2024-06-10T06:20:03.447446Z"
    }
   },
   "cell_type": "code",
   "source": "final_table = new_data(Schema,rw_transaction_data)",
   "id": "1b0a66cfe1c93ebc",
   "outputs": [],
   "execution_count": 15
  },
  {
   "metadata": {
    "ExecuteTime": {
     "end_time": "2024-06-10T06:20:22.385598Z",
     "start_time": "2024-06-10T06:20:16.227882Z"
    }
   },
   "cell_type": "code",
   "source": "final_table.count()",
   "id": "88e179e0843f66b2",
   "outputs": [
    {
     "data": {
      "text/plain": [
       "23"
      ]
     },
     "execution_count": 16,
     "metadata": {},
     "output_type": "execute_result"
    }
   ],
   "execution_count": 16
  },
  {
   "metadata": {
    "ExecuteTime": {
     "end_time": "2024-06-10T06:20:35.105476Z",
     "start_time": "2024-06-10T06:20:27.934131Z"
    }
   },
   "cell_type": "code",
   "source": "final_table.show(n=23)",
   "id": "aaa32ac4300b8aa2",
   "outputs": [
    {
     "name": "stdout",
     "output_type": "stream",
     "text": [
      "+----------------+------------------+-----------+-----------+-------------+------------------+-----------------------+\n",
      "|payer_account_id|first_day_of_month|   txn_flow|sum(amount)|count(amount)|last_modified_date|min(last_modified_date)|\n",
      "+----------------+------------------+-----------+-----------+-------------+------------------+-----------------------+\n",
      "|              34|        2022-12-01|Value Chain|     4351.0|            6|        2022-12-01|             2022-12-01|\n",
      "|              56|        2022-12-01|    OutFlow|    12125.0|            4|        2022-12-01|             2022-12-01|\n",
      "|             531|        2022-12-01|Value Chain|   600054.0|         3836|        2022-12-01|             2022-12-01|\n",
      "|             471|        2022-12-01|Value Chain|     3048.0|           20|        2022-12-01|             2022-12-01|\n",
      "|              26|        2023-01-01|     InFlow|    11240.0|            3|        2023-01-01|             2023-01-01|\n",
      "|              26|        2022-12-01|Value Chain|      460.0|           11|        2022-12-01|             2022-12-01|\n",
      "|            1056|        2022-12-01|Value Chain|      400.0|            2|        2022-12-01|             2022-12-01|\n",
      "|              56|        2022-12-01|Value Chain|    18301.0|           40|        2022-12-01|             2022-12-01|\n",
      "|             471|        2023-01-01|Value Chain|     1470.0|           11|        2023-01-01|             2023-01-01|\n",
      "|             222|        2022-12-01|Value Chain|      270.0|            2|        2022-12-01|             2022-12-01|\n",
      "|              34|        2022-12-01|     InFlow|    83200.0|            5|        2022-12-01|             2022-12-01|\n",
      "|              34|        2023-01-01|Value Chain|    22413.0|           20|        2023-01-01|             2023-01-01|\n",
      "|              34|        2022-12-01|    OutFlow|    88200.0|            6|        2022-12-01|             2022-12-01|\n",
      "|             531|        2023-01-01|Value Chain|   274420.0|         1457|        2023-01-01|             2023-01-01|\n",
      "|              34|        2023-01-01|     InFlow|   546710.0|           33|        2023-01-01|             2023-01-01|\n",
      "|              26|        2023-01-01|    OutFlow|    11240.0|            3|        2023-01-01|             2023-01-01|\n",
      "|             222|        2023-01-01|Value Chain|      240.0|            2|        2023-01-01|             2023-01-01|\n",
      "|              56|        2023-01-01|Value Chain|    14039.0|           32|        2023-01-01|             2023-01-01|\n",
      "|              26|        2023-01-01|Value Chain|     3500.0|            9|        2023-01-01|             2023-01-01|\n",
      "|              56|        2023-01-01|    OutFlow|    40000.0|            4|        2023-01-01|             2023-01-01|\n",
      "|              56|        2022-12-01|     InFlow|     9725.0|            3|        2022-12-01|             2022-12-01|\n",
      "|              56|        2023-01-01|     InFlow|     3000.0|            2|        2023-01-01|             2023-01-01|\n",
      "|              34|        2023-01-01|    OutFlow|   608710.0|           36|        2023-01-01|             2023-01-01|\n",
      "+----------------+------------------+-----------+-----------+-------------+------------------+-----------------------+\n",
      "\n"
     ]
    }
   ],
   "execution_count": 17
  },
  {
   "metadata": {
    "ExecuteTime": {
     "end_time": "2024-06-10T06:20:40.904647Z",
     "start_time": "2024-06-10T06:20:40.898142Z"
    }
   },
   "cell_type": "code",
   "source": [
    "def agg_table(final_table):\n",
    "    total_amount = final_table.groupby('payer_account_id').pivot(\"txn_flow\").agg(sum(\"sum(amount)\").alias(\"Total_sum\"),avg(\"sum(amount)\").alias(\"Avg_sum\"))\n",
    "    total_count = final_table.groupby('payer_account_id').pivot(\"txn_flow\").agg(sum(\"count(amount)\").alias(\"Total_count\"),avg(\"count(amount)\").alias(\"Avg_count\"))\n",
    "    final_table = total_amount.join(total_count,['payer_account_id'])\n",
    "    return final_table"
   ],
   "id": "59ce40e33d380664",
   "outputs": [],
   "execution_count": 18
  },
  {
   "metadata": {
    "ExecuteTime": {
     "end_time": "2024-06-10T06:20:53.634729Z",
     "start_time": "2024-06-10T06:20:41.422384Z"
    }
   },
   "cell_type": "code",
   "source": "agg_tables = agg_table(final_table)",
   "id": "7adc0c09616ca8a3",
   "outputs": [],
   "execution_count": 19
  },
  {
   "metadata": {
    "ExecuteTime": {
     "end_time": "2024-06-10T06:20:59.801723Z",
     "start_time": "2024-06-10T06:20:53.635729Z"
    }
   },
   "cell_type": "code",
   "source": "agg_tables.show()",
   "id": "75dd891a46e9aa54",
   "outputs": [
    {
     "name": "stdout",
     "output_type": "stream",
     "text": [
      "+----------------+----------------+--------------+-----------------+---------------+---------------------+-------------------+------------------+----------------+-------------------+-----------------+-----------------------+---------------------+\n",
      "|payer_account_id|InFlow_Total_sum|InFlow_Avg_sum|OutFlow_Total_sum|OutFlow_Avg_sum|Value Chain_Total_sum|Value Chain_Avg_sum|InFlow_Total_count|InFlow_Avg_count|OutFlow_Total_count|OutFlow_Avg_count|Value Chain_Total_count|Value Chain_Avg_count|\n",
      "+----------------+----------------+--------------+-----------------+---------------+---------------------+-------------------+------------------+----------------+-------------------+-----------------+-----------------------+---------------------+\n",
      "|             471|            NULL|          NULL|             NULL|           NULL|               4518.0|             2259.0|              NULL|            NULL|               NULL|             NULL|                     31|                 15.5|\n",
      "|              34|        629910.0|      314955.0|         696910.0|       348455.0|              26764.0|            13382.0|                38|            19.0|                 42|             21.0|                     26|                 13.0|\n",
      "|              26|         11240.0|       11240.0|          11240.0|        11240.0|               3960.0|             1980.0|                 3|             3.0|                  3|              3.0|                     20|                 10.0|\n",
      "|            1056|            NULL|          NULL|             NULL|           NULL|                400.0|              400.0|              NULL|            NULL|               NULL|             NULL|                      2|                  2.0|\n",
      "|             222|            NULL|          NULL|             NULL|           NULL|                510.0|              255.0|              NULL|            NULL|               NULL|             NULL|                      4|                  2.0|\n",
      "|             531|            NULL|          NULL|             NULL|           NULL|             874474.0|           437237.0|              NULL|            NULL|               NULL|             NULL|                   5293|               2646.5|\n",
      "|              56|         12725.0|        6362.5|          52125.0|        26062.5|              32340.0|            16170.0|                 5|             2.5|                  8|              4.0|                     72|                 36.0|\n",
      "+----------------+----------------+--------------+-----------------+---------------+---------------------+-------------------+------------------+----------------+-------------------+-----------------+-----------------------+---------------------+\n",
      "\n"
     ]
    }
   ],
   "execution_count": 20
  },
  {
   "metadata": {
    "ExecuteTime": {
     "end_time": "2024-06-10T06:21:30.386013Z",
     "start_time": "2024-06-10T06:21:23.902628Z"
    }
   },
   "cell_type": "code",
   "source": "config(final_table,\"2024-01-01\")",
   "id": "6166b64bbda176b1",
   "outputs": [],
   "execution_count": 21
  },
  {
   "metadata": {
    "ExecuteTime": {
     "end_time": "2024-06-10T06:21:30.401933Z",
     "start_time": "2024-06-10T06:21:30.390897Z"
    }
   },
   "cell_type": "code",
   "source": "start_date,last_date = get_start_last_transaction_date()",
   "id": "d02feb2605063750",
   "outputs": [],
   "execution_count": 22
  },
  {
   "metadata": {
    "ExecuteTime": {
     "end_time": "2024-06-10T06:21:30.467448Z",
     "start_time": "2024-06-10T06:21:30.402846Z"
    }
   },
   "cell_type": "code",
   "source": "rw_transaction_data = table(\"rw_transaction_data\",start_date,last_date)",
   "id": "a44205b42ac95c28",
   "outputs": [],
   "execution_count": 23
  },
  {
   "metadata": {
    "ExecuteTime": {
     "end_time": "2024-06-10T06:21:30.609051Z",
     "start_time": "2024-06-10T06:21:30.468464Z"
    }
   },
   "cell_type": "code",
   "source": "rw_transaction_data.count()",
   "id": "7f2cebf96ead2f76",
   "outputs": [
    {
     "data": {
      "text/plain": [
       "4691"
      ]
     },
     "execution_count": 24,
     "metadata": {},
     "output_type": "execute_result"
    }
   ],
   "execution_count": 24
  },
  {
   "metadata": {
    "ExecuteTime": {
     "end_time": "2024-06-10T06:22:03.680330Z",
     "start_time": "2024-06-10T06:21:38.643079Z"
    }
   },
   "cell_type": "code",
   "source": "final_tables = new_data(final_table,rw_transaction_data)",
   "id": "b82b876f86119d96",
   "outputs": [],
   "execution_count": 25
  },
  {
   "metadata": {
    "ExecuteTime": {
     "end_time": "2024-06-10T06:22:09.032200Z",
     "start_time": "2024-06-10T06:22:03.681839Z"
    }
   },
   "cell_type": "code",
   "source": "final_tables.count()",
   "id": "89ae7327b5eb9c09",
   "outputs": [
    {
     "data": {
      "text/plain": [
       "23"
      ]
     },
     "execution_count": 26,
     "metadata": {},
     "output_type": "execute_result"
    }
   ],
   "execution_count": 26
  },
  {
   "metadata": {
    "ExecuteTime": {
     "end_time": "2024-06-04T12:14:32.087418Z",
     "start_time": "2024-06-04T12:14:22.549951Z"
    }
   },
   "cell_type": "code",
   "source": [
    "# 2023-01-02 -> 2024-01-01\n",
    "final_tables.show(n=26)"
   ],
   "id": "8c52951ca7dc66b8",
   "execution_count": 22,
   "outputs": []
  },
  {
   "metadata": {
    "ExecuteTime": {
     "end_time": "2024-06-10T08:02:26.712357Z",
     "start_time": "2024-06-10T08:02:26.649605Z"
    }
   },
   "cell_type": "code",
   "source": "df = spark.read.csv('C:/Users/acer/PycharmProjects/Extenso_Assignment/Py_spark_Customer_Profile/airflow_dynamic/input_file/final_table', header=True, schema=schema)",
   "id": "a20fb2d5ca6422b1",
   "outputs": [],
   "execution_count": 37
  },
  {
   "metadata": {
    "ExecuteTime": {
     "end_time": "2024-06-10T08:02:27.614557Z",
     "start_time": "2024-06-10T08:02:27.598926Z"
    }
   },
   "cell_type": "code",
   "source": "df.printSchema()",
   "id": "196bf192154a2d19",
   "outputs": [
    {
     "name": "stdout",
     "output_type": "stream",
     "text": [
      "root\n",
      " |-- payer_account_id: integer (nullable = true)\n",
      " |-- first_day_of_month: date (nullable = true)\n",
      " |-- txn_flow: string (nullable = true)\n",
      " |-- sum(amount): double (nullable = true)\n",
      " |-- count(amount): long (nullable = true)\n",
      " |-- last_modified_date: date (nullable = true)\n",
      " |-- min(last_modified_date): date (nullable = true)\n",
      "\n"
     ]
    }
   ],
   "execution_count": 38
  },
  {
   "metadata": {
    "ExecuteTime": {
     "end_time": "2024-06-10T08:02:28.673145Z",
     "start_time": "2024-06-10T08:02:28.394474Z"
    }
   },
   "cell_type": "code",
   "source": "df.show()",
   "id": "25a1b02aad20b9bc",
   "outputs": [
    {
     "name": "stdout",
     "output_type": "stream",
     "text": [
      "+----------------+------------------+-----------+-----------+-------------+------------------+-----------------------+\n",
      "|payer_account_id|first_day_of_month|   txn_flow|sum(amount)|count(amount)|last_modified_date|min(last_modified_date)|\n",
      "+----------------+------------------+-----------+-----------+-------------+------------------+-----------------------+\n",
      "|              26|        2023-02-01|     InFlow|   261970.0|          101|        2023-02-28|             2023-02-01|\n",
      "|              34|        2022-12-01|Value Chain|     4351.0|            6|        2022-12-01|             2022-12-01|\n",
      "|              34|        2023-02-01|    OutFlow|1.2463831E7|          717|        2023-02-28|             2023-02-01|\n",
      "|             471|        2023-05-01|Value Chain|    68456.0|          446|        2023-05-24|             2023-05-01|\n",
      "|             471|        2023-03-01|     InFlow|    15920.0|           17|        2023-03-29|             2023-03-02|\n",
      "|              26|        2023-04-01|Value Chain|   245031.0|          341|        2023-04-30|             2023-04-01|\n",
      "|             222|        2023-04-01|    OutFlow|     2000.0|            1|        2023-04-16|             2023-04-16|\n",
      "|            1056|        2023-02-01|     InFlow|     5500.0|            1|        2023-02-21|             2023-02-21|\n",
      "|              34|        2023-04-01|Value Chain|   700924.0|          434|        2023-04-30|             2023-04-01|\n",
      "|             222|        2023-03-01|Value Chain|      700.0|            6|        2023-03-17|             2023-03-02|\n",
      "|            1056|        2023-01-01|     InFlow|      755.0|            1|        2023-01-08|             2023-01-08|\n",
      "|             222|        2023-02-01|     InFlow|      250.0|            1|        2023-02-19|             2023-02-19|\n",
      "|              56|        2023-03-01|Value Chain|   379408.0|          965|        2023-03-31|             2023-03-01|\n",
      "|              34|        2023-05-01|     InFlow| 1.075651E7|          595|        2023-05-24|             2023-05-01|\n",
      "|              56|        2022-12-01|    OutFlow|    12125.0|            4|        2022-12-01|             2022-12-01|\n",
      "|             471|        2023-03-01|Value Chain|   102175.0|          420|        2023-03-31|             2023-03-01|\n",
      "|              34|        2023-03-01|    OutFlow|1.4212535E7|          805|        2023-03-31|             2023-03-01|\n",
      "|              56|        2023-02-01|Value Chain|   321817.0|          868|        2023-02-28|             2023-02-01|\n",
      "|            1056|        2023-01-01|Value Chain|      650.0|            8|        2023-01-23|             2023-01-14|\n",
      "|             471|        2023-05-01|    OutFlow|     5400.0|            7|        2023-05-24|             2023-05-07|\n",
      "+----------------+------------------+-----------+-----------+-------------+------------------+-----------------------+\n",
      "only showing top 20 rows\n",
      "\n"
     ]
    }
   ],
   "execution_count": 39
  },
  {
   "metadata": {},
   "cell_type": "code",
   "outputs": [],
   "execution_count": null,
   "source": "",
   "id": "f96be68355e22ac4"
  }
 ],
 "metadata": {
  "kernelspec": {
   "display_name": "Python 3",
   "language": "python",
   "name": "python3"
  },
  "language_info": {
   "codemirror_mode": {
    "name": "ipython",
    "version": 2
   },
   "file_extension": ".py",
   "mimetype": "text/x-python",
   "name": "python",
   "nbconvert_exporter": "python",
   "pygments_lexer": "ipython2",
   "version": "2.7.6"
  }
 },
 "nbformat": 4,
 "nbformat_minor": 5
}
