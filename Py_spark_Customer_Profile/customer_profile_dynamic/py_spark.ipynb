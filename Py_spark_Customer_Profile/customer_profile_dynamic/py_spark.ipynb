{
 "cells": [
  {
   "cell_type": "code",
   "id": "initial_id",
   "metadata": {
    "collapsed": true,
    "ExecuteTime": {
     "end_time": "2024-06-03T10:29:48.258589Z",
     "start_time": "2024-06-03T10:29:47.861610Z"
    }
   },
   "source": [
    "from pyspark.sql import SparkSession\n",
    "from pyspark.sql.functions import *\n",
    "from pyspark.sql.types import *\n",
    "from pyspark.sql.window import *"
   ],
   "execution_count": 1,
   "outputs": []
  },
  {
   "metadata": {
    "ExecuteTime": {
     "end_time": "2024-06-03T10:29:55.129694Z",
     "start_time": "2024-06-03T10:29:48.258589Z"
    }
   },
   "cell_type": "code",
   "source": "spark = SparkSession.builder.appName(\"spark_session\").config(\"spark.jars\", \"C:\\spark-3.5.1-bin-hadoop3\\jars\\mysql-connector-j-8.4.0.jar\").getOrCreate()",
   "id": "54474cb7f4ee9ee0",
   "execution_count": 2,
   "outputs": []
  },
  {
   "metadata": {
    "ExecuteTime": {
     "end_time": "2024-06-03T10:29:55.145317Z",
     "start_time": "2024-06-03T10:29:55.129694Z"
    }
   },
   "cell_type": "code",
   "source": [
    "url = \"jdbc:mysql://localhost:3306/extenso_assignment\"\n",
    "properties = {\n",
    "    \"user\": \"root\",\n",
    "    \"password\": \"root\",\n",
    "    \"driver\": \"com.mysql.jdbc.Driver\"\n",
    "}"
   ],
   "id": "a2569bffb0a750ed",
   "execution_count": 3,
   "outputs": []
  },
  {
   "metadata": {
    "ExecuteTime": {
     "end_time": "2024-06-03T10:29:55.160976Z",
     "start_time": "2024-06-03T10:29:55.145317Z"
    }
   },
   "cell_type": "code",
   "source": [
    "def table(table_name):\n",
    "    df = spark.read.jdbc(url=url, table=table_name, properties=properties)\n",
    "    return df"
   ],
   "id": "3799e95fc45e4820",
   "execution_count": 4,
   "outputs": []
  },
  {
   "metadata": {
    "ExecuteTime": {
     "end_time": "2024-06-03T10:29:58.542831Z",
     "start_time": "2024-06-03T10:29:55.160976Z"
    }
   },
   "cell_type": "code",
   "source": [
    "customer_profile = table('customer_profile')\n",
    "product_category = table(\"product_category\")\n",
    "product_category_map = table(\"product_category_map\")\n",
    "products = table(\"products\")\n",
    "rw_transaction_data = table(\"rw_transaction_data\")"
   ],
   "id": "9c2f9ef784fdc27a",
   "execution_count": 5,
   "outputs": []
  },
  {
   "metadata": {
    "ExecuteTime": {
     "end_time": "2024-06-03T10:30:01.876841Z",
     "start_time": "2024-06-03T10:29:58.542831Z"
    }
   },
   "cell_type": "code",
   "source": "customer_profile.show()",
   "id": "a406d291bc73cc7f",
   "execution_count": 6,
   "outputs": []
  },
  {
   "metadata": {
    "ExecuteTime": {
     "end_time": "2024-06-03T10:30:01.892465Z",
     "start_time": "2024-06-03T10:30:01.876841Z"
    }
   },
   "cell_type": "code",
   "source": "rw_transaction_data.printSchema()",
   "id": "471d6dc2eb03c7ff",
   "execution_count": 7,
   "outputs": []
  },
  {
   "metadata": {
    "ExecuteTime": {
     "end_time": "2024-06-03T10:30:02.033115Z",
     "start_time": "2024-06-03T10:30:01.892465Z"
    }
   },
   "cell_type": "code",
   "source": [
    "rw_transaction_data = rw_transaction_data.withColumn(\"months\",month(col(\"last_modified_date\")))\n",
    "rw_transaction_data = rw_transaction_data.withColumn(\"last_modified_date\", col(\"last_modified_date\").cast(\"string\"))"
   ],
   "id": "93a5a3cfd4a91273",
   "execution_count": 8,
   "outputs": []
  },
  {
   "metadata": {
    "ExecuteTime": {
     "end_time": "2024-06-03T10:30:02.048716Z",
     "start_time": "2024-06-03T10:30:02.033115Z"
    }
   },
   "cell_type": "code",
   "source": "rw_transaction_data.printSchema()",
   "id": "60b888ca67864d8c",
   "execution_count": 9,
   "outputs": []
  },
  {
   "metadata": {
    "ExecuteTime": {
     "end_time": "2024-06-03T10:30:03.289202Z",
     "start_time": "2024-06-03T10:30:02.048716Z"
    }
   },
   "cell_type": "code",
   "source": "rw_transaction_data.show()",
   "id": "31fce7b8ade9ea9a",
   "execution_count": 10,
   "outputs": []
  },
  {
   "metadata": {
    "ExecuteTime": {
     "end_time": "2024-06-03T10:30:04.850435Z",
     "start_time": "2024-06-03T10:30:03.289202Z"
    }
   },
   "cell_type": "code",
   "source": "rw_transaction_data.select(\"payer_account_id\").distinct().show()",
   "id": "7b3c1b88a6a5e7df",
   "execution_count": 11,
   "outputs": []
  },
  {
   "metadata": {
    "ExecuteTime": {
     "end_time": "2024-06-03T10:30:04.944186Z",
     "start_time": "2024-06-03T10:30:04.850435Z"
    }
   },
   "cell_type": "code",
   "source": "joined = rw_transaction_data.join(product_category_map,['product_id', 'product_type_id','module_id'])",
   "id": "5517200465a08e7f",
   "execution_count": 12,
   "outputs": []
  },
  {
   "metadata": {
    "ExecuteTime": {
     "end_time": "2024-06-03T10:30:07.120921Z",
     "start_time": "2024-06-03T10:30:04.944186Z"
    }
   },
   "cell_type": "code",
   "source": "joined.show()",
   "id": "6612d82348dfd0a9",
   "execution_count": 13,
   "outputs": []
  },
  {
   "metadata": {
    "ExecuteTime": {
     "end_time": "2024-06-03T10:30:09.426831Z",
     "start_time": "2024-06-03T10:30:07.120921Z"
    }
   },
   "cell_type": "code",
   "source": "joined_total = joined.groupBy([\"payer_account_id\",\"months\"]).pivot(\"txn_flow\").sum(\"amount\").fillna(0)",
   "id": "d513a1a86456e40",
   "execution_count": 14,
   "outputs": []
  },
  {
   "metadata": {
    "ExecuteTime": {
     "end_time": "2024-06-03T10:30:12.433566Z",
     "start_time": "2024-06-03T10:30:09.426831Z"
    }
   },
   "cell_type": "code",
   "source": "joined_total.show()",
   "id": "c1a88973bc81e75f",
   "execution_count": 15,
   "outputs": []
  },
  {
   "metadata": {
    "ExecuteTime": {
     "end_time": "2024-06-03T10:30:13.286134Z",
     "start_time": "2024-06-03T10:30:12.433566Z"
    }
   },
   "cell_type": "code",
   "source": "joined_count = joined.groupBy([\"payer_account_id\",\"months\"]).pivot(\"txn_flow\").count().fillna(0)",
   "id": "c283f904b8f0031b",
   "execution_count": 16,
   "outputs": []
  },
  {
   "metadata": {
    "ExecuteTime": {
     "end_time": "2024-06-03T10:30:14.077297Z",
     "start_time": "2024-06-03T10:30:13.286134Z"
    }
   },
   "cell_type": "code",
   "source": "joined_count.show()",
   "id": "b2a58d6654e99e16",
   "execution_count": 17,
   "outputs": []
  },
  {
   "metadata": {
    "ExecuteTime": {
     "end_time": "2024-06-03T10:30:14.124170Z",
     "start_time": "2024-06-03T10:30:14.077297Z"
    }
   },
   "cell_type": "code",
   "source": "total_count = joined_count.groupBy(\"payer_account_id\").agg(sum(\"InFlow\").alias(\"TotalCountInflow\"),sum(\"Outflow\").alias(\"TotalCountOutflow\"),sum(\"Value Chain\").alias(\"TotalCountValueChain\"))",
   "id": "8ab9202fd0f27834",
   "execution_count": 18,
   "outputs": []
  },
  {
   "metadata": {
    "ExecuteTime": {
     "end_time": "2024-06-03T10:30:14.171655Z",
     "start_time": "2024-06-03T10:30:14.124731Z"
    }
   },
   "cell_type": "code",
   "source": "total_amount = joined_total.groupBy(\"payer_account_id\").agg(sum(\"InFlow\").alias(\"TotalAmtInflow\"),sum(\"Outflow\").alias(\"TotalAmtOutflow\"),sum(\"Value Chain\").alias(\"TotalAmtValueChain\"))",
   "id": "d4eea0823d4d8b00",
   "execution_count": 19,
   "outputs": []
  },
  {
   "metadata": {
    "ExecuteTime": {
     "end_time": "2024-06-03T10:30:15.375285Z",
     "start_time": "2024-06-03T10:30:14.171655Z"
    }
   },
   "cell_type": "code",
   "source": "total_amount.show()",
   "id": "7236db71ed15ca12",
   "execution_count": 20,
   "outputs": []
  },
  {
   "metadata": {
    "ExecuteTime": {
     "end_time": "2024-06-03T10:30:15.454103Z",
     "start_time": "2024-06-03T10:30:15.375285Z"
    }
   },
   "cell_type": "code",
   "source": "avg_count = joined_count.groupBy(\"payer_account_id\").agg(avg(\"InFlow\").alias(\"AvgCountInflow\"),avg(\"Outflow\").alias(\"AvgCountOutflow\"),avg(\"Value Chain\").alias(\"AvgCountValueChain\"))",
   "id": "1ff8027092d6124c",
   "execution_count": 21,
   "outputs": []
  },
  {
   "metadata": {
    "ExecuteTime": {
     "end_time": "2024-06-03T10:30:16.773433Z",
     "start_time": "2024-06-03T10:30:15.454103Z"
    }
   },
   "cell_type": "code",
   "source": "avg_count.show()",
   "id": "34923ab72975a042",
   "execution_count": 22,
   "outputs": []
  },
  {
   "metadata": {
    "ExecuteTime": {
     "end_time": "2024-06-03T10:30:16.867172Z",
     "start_time": "2024-06-03T10:30:16.773433Z"
    }
   },
   "cell_type": "code",
   "source": "avg_total = joined_total.groupBy(\"payer_account_id\").agg(avg(\"InFlow\").alias(\"AvgAmtInflow\"),avg(\"Outflow\").alias(\"AvgAmtOutflow\"),avg(\"Value Chain\").alias(\"AvgAmtValueChain\"))",
   "id": "dfb653925a7aa8f7",
   "execution_count": 23,
   "outputs": []
  },
  {
   "metadata": {
    "ExecuteTime": {
     "end_time": "2024-06-03T10:30:18.154605Z",
     "start_time": "2024-06-03T10:30:16.867172Z"
    }
   },
   "cell_type": "code",
   "source": "avg_total.show()",
   "id": "4370a0c1aaf6a852",
   "execution_count": 24,
   "outputs": []
  },
  {
   "metadata": {
    "ExecuteTime": {
     "end_time": "2024-06-03T10:30:18.192991Z",
     "start_time": "2024-06-03T10:30:18.154605Z"
    }
   },
   "cell_type": "code",
   "source": "reward_point = joined.groupBy(\"payer_account_id\").agg(sum(\"reward_point\").alias(\"TotalRewardPoint\"))",
   "id": "4b3d822b0a4d4615",
   "execution_count": 25,
   "outputs": []
  },
  {
   "metadata": {
    "ExecuteTime": {
     "end_time": "2024-06-03T10:30:18.886631Z",
     "start_time": "2024-06-03T10:30:18.194991Z"
    }
   },
   "cell_type": "code",
   "source": "reward_point.show()",
   "id": "98defde2d73951f",
   "execution_count": 26,
   "outputs": []
  },
  {
   "metadata": {
    "ExecuteTime": {
     "end_time": "2024-06-03T10:30:18.995920Z",
     "start_time": "2024-06-03T10:30:18.917833Z"
    }
   },
   "cell_type": "code",
   "source": "joined = joined.withColumn(\"Date\", concat_ws(\" \", col(\"last_modified_date\"), col(\"time\")))",
   "id": "61f965e00ada354a",
   "execution_count": 27,
   "outputs": []
  },
  {
   "metadata": {
    "ExecuteTime": {
     "end_time": "2024-06-03T10:30:19.931160Z",
     "start_time": "2024-06-03T10:30:18.995920Z"
    }
   },
   "cell_type": "code",
   "source": "joined.show()",
   "id": "b9d8920b7b66acc3",
   "execution_count": 28,
   "outputs": []
  },
  {
   "metadata": {
    "ExecuteTime": {
     "end_time": "2024-06-03T10:30:19.965598Z",
     "start_time": "2024-06-03T10:30:19.934338Z"
    }
   },
   "cell_type": "code",
   "source": "joined = joined.withColumn(\"Date\", to_timestamp(col(\"Date\"), \"yyyy-MM-dd HH:mm:ss\"))",
   "id": "c9259788cb42596d",
   "execution_count": 29,
   "outputs": []
  },
  {
   "metadata": {
    "ExecuteTime": {
     "end_time": "2024-06-03T10:30:19.981223Z",
     "start_time": "2024-06-03T10:30:19.965598Z"
    }
   },
   "cell_type": "code",
   "source": "",
   "id": "8f0d1d27a78748fd",
   "execution_count": 29,
   "outputs": []
  },
  {
   "metadata": {
    "ExecuteTime": {
     "end_time": "2024-06-03T10:30:19.996845Z",
     "start_time": "2024-06-03T10:30:19.981223Z"
    }
   },
   "cell_type": "code",
   "source": "# joined.show()",
   "id": "1d15df8d99a1b9d6",
   "execution_count": 30,
   "outputs": []
  },
  {
   "metadata": {
    "ExecuteTime": {
     "end_time": "2024-06-03T10:30:20.043728Z",
     "start_time": "2024-06-03T10:30:19.996845Z"
    }
   },
   "cell_type": "code",
   "source": "last_transaction = joined.groupBy(\"payer_account_id\").agg(max(\"Date\").alias(\"Latest_Transaction_Date\"))",
   "id": "c1ec83132cd46ce4",
   "execution_count": 31,
   "outputs": []
  },
  {
   "metadata": {
    "ExecuteTime": {
     "end_time": "2024-06-03T10:30:20.074971Z",
     "start_time": "2024-06-03T10:30:20.043728Z"
    }
   },
   "cell_type": "code",
   "source": "joined_alias = joined.alias(\"joined\")",
   "id": "f3f7649055909067",
   "execution_count": 32,
   "outputs": []
  },
  {
   "metadata": {
    "ExecuteTime": {
     "end_time": "2024-06-03T10:30:20.157284Z",
     "start_time": "2024-06-03T10:30:20.074971Z"
    }
   },
   "cell_type": "code",
   "source": [
    "joined_and_last = joined_alias.join(\n",
    "    last_transaction,\n",
    "    last_transaction[\"Latest_Transaction_Date\"] == joined_alias[\"Date\"],how=\"semi\"\n",
    ").select(joined_alias[\"payer_account_id\"],joined_alias[\"Date\"].alias(\"Latest_Transaction_Date\"),joined_alias[\"product_name\"].alias(\"latest_Product\"))\n",
    "joined_and_last = joined_and_last.dropDuplicates(['payer_account_id'])"
   ],
   "id": "8e74a4f1f2f374f0",
   "execution_count": 33,
   "outputs": []
  },
  {
   "metadata": {
    "ExecuteTime": {
     "end_time": "2024-06-03T10:30:22.441199Z",
     "start_time": "2024-06-03T10:30:20.157284Z"
    }
   },
   "cell_type": "code",
   "source": "joined_and_last.show()",
   "id": "b52cf39e4c5e2834",
   "execution_count": 34,
   "outputs": []
  },
  {
   "metadata": {
    "ExecuteTime": {
     "end_time": "2024-06-03T10:30:22.492574Z",
     "start_time": "2024-06-03T10:30:22.443199Z"
    }
   },
   "cell_type": "code",
   "source": "rev_amt = joined.groupBy(\"payer_account_id\",\"months\").agg(sum(\"revenue_amount\").alias(\"rev_amt\"))                                                         ",
   "id": "59b307684431d582",
   "execution_count": 35,
   "outputs": []
  },
  {
   "metadata": {
    "ExecuteTime": {
     "end_time": "2024-06-03T10:30:23.788636Z",
     "start_time": "2024-06-03T10:30:22.492574Z"
    }
   },
   "cell_type": "code",
   "source": "rev_amt.show()",
   "id": "f6b4ac114c0f0706",
   "execution_count": 36,
   "outputs": []
  },
  {
   "metadata": {
    "ExecuteTime": {
     "end_time": "2024-06-03T10:30:23.851139Z",
     "start_time": "2024-06-03T10:30:23.788636Z"
    }
   },
   "cell_type": "code",
   "source": "rev_amt_tot_mean = rev_amt.groupBy(\"payer_account_id\").agg(sum(\"rev_amt\").alias(\"Total_Revenue_Amount\"),mean(\"rev_amt\").alias(\"Monthly_Revenue_Amount\"))",
   "id": "95f2c1cc42128468",
   "execution_count": 37,
   "outputs": []
  },
  {
   "metadata": {
    "ExecuteTime": {
     "end_time": "2024-06-03T10:30:24.940181Z",
     "start_time": "2024-06-03T10:30:23.866762Z"
    }
   },
   "cell_type": "code",
   "source": "rev_amt_tot_mean.show()",
   "id": "177acc5f9183317e",
   "execution_count": 38,
   "outputs": []
  },
  {
   "metadata": {
    "ExecuteTime": {
     "end_time": "2024-06-03T10:33:20.483532Z",
     "start_time": "2024-06-03T10:33:20.434689Z"
    }
   },
   "cell_type": "code",
   "source": "product_used_count = joined.groupBy(\"payer_account_id\",\"product_name\").count()",
   "id": "d31aafbe7f5a1e8f",
   "execution_count": 40,
   "outputs": []
  },
  {
   "metadata": {
    "ExecuteTime": {
     "end_time": "2024-06-03T10:33:21.932782Z",
     "start_time": "2024-06-03T10:33:20.608534Z"
    }
   },
   "cell_type": "code",
   "source": "product_used_count.show()",
   "id": "76daa165af8a63f2",
   "execution_count": 41,
   "outputs": []
  },
  {
   "metadata": {
    "ExecuteTime": {
     "end_time": "2024-06-03T10:33:21.995079Z",
     "start_time": "2024-06-03T10:33:21.932782Z"
    }
   },
   "cell_type": "code",
   "source": "window_spec = Window.partitionBy(\"payer_account_id\").orderBy(col(\"count\").desc())",
   "id": "d87cf41b1e70dbb5",
   "execution_count": 42,
   "outputs": []
  },
  {
   "metadata": {
    "ExecuteTime": {
     "end_time": "2024-06-03T10:33:22.035970Z",
     "start_time": "2024-06-03T10:33:21.997080Z"
    }
   },
   "cell_type": "code",
   "source": "data = product_used_count.orderBy(\"payer_account_id\",\"count\",ascending=[0, 0])",
   "id": "4dbe567eddea818e",
   "execution_count": 43,
   "outputs": []
  },
  {
   "metadata": {
    "ExecuteTime": {
     "end_time": "2024-06-03T10:33:22.875113Z",
     "start_time": "2024-06-03T10:33:22.035970Z"
    }
   },
   "cell_type": "code",
   "source": "data.show()",
   "id": "b18a88e11f4b4b37",
   "execution_count": 44,
   "outputs": []
  },
  {
   "metadata": {
    "ExecuteTime": {
     "end_time": "2024-06-03T10:33:22.890741Z",
     "start_time": "2024-06-03T10:33:22.875113Z"
    }
   },
   "cell_type": "code",
   "source": [
    "from pyspark.sql import SparkSession\n",
    "from pyspark.sql.window import Window\n",
    "from pyspark.sql.functions import row_number"
   ],
   "id": "1289ab732c7b7233",
   "execution_count": 45,
   "outputs": []
  },
  {
   "metadata": {
    "ExecuteTime": {
     "end_time": "2024-06-03T10:33:22.943020Z",
     "start_time": "2024-06-03T10:33:22.890741Z"
    }
   },
   "cell_type": "code",
   "source": "datas_count_sorted_with_row_num = data.withColumn(\"row_num\", row_number().over(window_spec))\n",
   "id": "5d81829201e62b64",
   "execution_count": 46,
   "outputs": []
  },
  {
   "metadata": {
    "ExecuteTime": {
     "end_time": "2024-06-03T10:33:24.592852Z",
     "start_time": "2024-06-03T10:33:22.943020Z"
    }
   },
   "cell_type": "code",
   "source": "datas_count_sorted_with_row_num.show()",
   "id": "ccbb5a35ecdff514",
   "execution_count": 47,
   "outputs": []
  },
  {
   "metadata": {
    "ExecuteTime": {
     "end_time": "2024-06-03T10:33:24.686599Z",
     "start_time": "2024-06-03T10:33:24.592852Z"
    }
   },
   "cell_type": "code",
   "source": [
    "most_used_product = datas_count_sorted_with_row_num.filter(col(\"row_num\") == 1).select(\"payer_account_id\", col(\"product_name\").alias(\"most_used_product\"))\n",
    "second_used_product = datas_count_sorted_with_row_num.filter(col(\"row_num\") == 2).select(\"payer_account_id\", col(\"product_name\").alias(\"Second_most_used_product\"))\n",
    "third_used_product = datas_count_sorted_with_row_num.filter(col(\"row_num\") == 3).select(\"payer_account_id\", col(\"product_name\").alias(\"Third_most_used_product\"))\n",
    "product_usage = joined.groupBy(\"payer_account_id\").count()"
   ],
   "id": "206c17ccabcfbfdc",
   "execution_count": 48,
   "outputs": []
  },
  {
   "metadata": {
    "ExecuteTime": {
     "end_time": "2024-06-03T10:33:25.200166Z",
     "start_time": "2024-06-03T10:33:24.686599Z"
    }
   },
   "cell_type": "code",
   "source": "final_table = total_amount.join(avg_total,['payer_account_id'],how=\"left\").join(total_count,['payer_account_id'],how=\"left\").join(avg_count,['payer_account_id'],how=\"left\").join(joined_and_last,['payer_account_id'],how=\"left\").join(rev_amt_tot_mean,['payer_account_id'],how=\"left\").join(product_usage,['payer_account_id'],how=\"left\").join(most_used_product,['payer_account_id'],how=\"left\").join(second_used_product,['payer_account_id'],how=\"left\").join(third_used_product,['payer_account_id'],how=\"left\")",
   "id": "89e6ff0524ccb760",
   "execution_count": 49,
   "outputs": []
  },
  {
   "metadata": {
    "ExecuteTime": {
     "end_time": "2024-06-03T10:33:30.900373Z",
     "start_time": "2024-06-03T10:33:25.200166Z"
    }
   },
   "cell_type": "code",
   "source": "final_table.show()",
   "id": "48c255df9eb397f3",
   "execution_count": 50,
   "outputs": []
  },
  {
   "metadata": {
    "ExecuteTime": {
     "end_time": "2024-06-03T10:33:30.915999Z",
     "start_time": "2024-06-03T10:33:30.900373Z"
    }
   },
   "cell_type": "code",
   "source": "",
   "id": "a79e1454e01e4ada",
   "execution_count": 50,
   "outputs": []
  },
  {
   "metadata": {},
   "cell_type": "code",
   "execution_count": null,
   "source": "",
   "id": "2448803787e7533d",
   "outputs": []
  }
 ],
 "metadata": {
  "kernelspec": {
   "display_name": "Python 3",
   "language": "python",
   "name": "python3"
  },
  "language_info": {
   "codemirror_mode": {
    "name": "ipython",
    "version": 2
   },
   "file_extension": ".py",
   "mimetype": "text/x-python",
   "name": "python",
   "nbconvert_exporter": "python",
   "pygments_lexer": "ipython2",
   "version": "2.7.6"
  }
 },
 "nbformat": 4,
 "nbformat_minor": 5
}
