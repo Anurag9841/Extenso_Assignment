{
 "cells": [
  {
   "metadata": {},
   "cell_type": "markdown",
   "source": "### **Adding necessary library**",
   "id": "8e1aab3e2cf58d5d"
  },
  {
   "cell_type": "code",
   "id": "initial_id",
   "metadata": {
    "collapsed": true,
    "ExecuteTime": {
     "end_time": "2024-06-13T06:29:23.106455Z",
     "start_time": "2024-06-13T06:29:20.491833Z"
    }
   },
   "source": [
    "from pyspark.sql import SparkSession\n",
    "from pyspark.sql.functions import *\n",
    "from pyspark.sql.types import *\n",
    "from pyspark.sql.window import *  \n",
    "import json\n",
    "from datetime import date,datetime,timedelta\n",
    "import pandas as pd"
   ],
   "outputs": [],
   "execution_count": 1
  },
  {
   "metadata": {},
   "cell_type": "markdown",
   "source": "### **Creating SparkSession**",
   "id": "c3b8d72b48953c9c"
  },
  {
   "metadata": {
    "ExecuteTime": {
     "end_time": "2024-06-13T06:29:35.768514Z",
     "start_time": "2024-06-13T06:29:23.106455Z"
    }
   },
   "cell_type": "code",
   "source": "spark = SparkSession.builder.appName(\"spark_dataframe_py\").config(\"spark.jars\", \"C:\\spark-3.5.1-bin-hadoop3\\jars\\mysql-connector-j-8.4.0.jar\").getOrCreate()",
   "id": "95d70831466bc882",
   "outputs": [],
   "execution_count": 2
  },
  {
   "metadata": {},
   "cell_type": "markdown",
   "source": "### **Adding Necessary configs for connection**",
   "id": "2f3e3addd1a7b02b"
  },
  {
   "metadata": {
    "ExecuteTime": {
     "end_time": "2024-06-13T06:29:35.784092Z",
     "start_time": "2024-06-13T06:29:35.768514Z"
    }
   },
   "cell_type": "code",
   "source": [
    "url = \"jdbc:mysql://localhost:3306/extenso_config\"\n",
    "properties = {\n",
    "    \"user\": \"root\",\n",
    "    \"password\": \"root\",\n",
    "    \"driver\": \"com.mysql.jdbc.Driver\"\n",
    "}"
   ],
   "id": "ae04824055e17f62",
   "outputs": [],
   "execution_count": 3
  },
  {
   "metadata": {},
   "cell_type": "markdown",
   "source": "### **Function to create dataframe from each sql table**",
   "id": "96bf1e57210900b3"
  },
  {
   "metadata": {
    "ExecuteTime": {
     "end_time": "2024-06-13T06:29:35.799718Z",
     "start_time": "2024-06-13T06:29:35.784092Z"
    }
   },
   "cell_type": "code",
   "source": [
    "def config(table):\n",
    "    last_transaction_date = table.select(max(\"last_modified_date\")).collect()[0][0]\n",
    "    config_data = {\n",
    "    # \"last_transaction_date\" : last_date,\n",
    "    \"start_transaction_date\" : last_transaction_date.strftime('%Y-%m-%d')\n",
    "    }\n",
    "    with open(\"config.json\", \"w\") as json_file:\n",
    "        json.dump(config_data, json_file)"
   ],
   "id": "b9eee7c557a66782",
   "outputs": [],
   "execution_count": 4
  },
  {
   "metadata": {
    "ExecuteTime": {
     "end_time": "2024-06-13T06:29:35.815300Z",
     "start_time": "2024-06-13T06:29:35.799718Z"
    }
   },
   "cell_type": "code",
   "source": [
    "def get_start_last_transaction_date(config_path = \"./config.json\"):\n",
    "    with open(config_path, 'r') as file:\n",
    "        config_data = json.load(file)\n",
    "        last_transaction_date = config_data.get('last_transaction_date')\n",
    "        start_transaction_date = config_data.get('start_transaction_date')\n",
    "        return start_transaction_date,last_transaction_date"
   ],
   "id": "2544f17a918ba0bf",
   "outputs": [],
   "execution_count": 5
  },
  {
   "metadata": {
    "ExecuteTime": {
     "end_time": "2024-06-13T06:29:35.830931Z",
     "start_time": "2024-06-13T06:29:35.815300Z"
    }
   },
   "cell_type": "code",
   "source": [
    "def table(table_name, start_date, end_date):\n",
    "  df = spark.read.jdbc(url=url, table=table_name, properties=properties)\n",
    "  if table_name == \"rw_transaction_data\":\n",
    "    df = df.filter((df.last_modified_date >= to_date(lit(start_date))))\n",
    "  return df"
   ],
   "id": "83f86dfb40422227",
   "outputs": [],
   "execution_count": 6
  },
  {
   "metadata": {},
   "cell_type": "markdown",
   "source": "### Final_result",
   "id": "e858b773124fd166"
  },
  {
   "metadata": {
    "ExecuteTime": {
     "end_time": "2024-06-13T06:29:35.846557Z",
     "start_time": "2024-06-13T06:29:35.830931Z"
    }
   },
   "cell_type": "code",
   "source": [
    "def most_used_product(joined):\n",
    "    most_used_product = joined.groupBy(\"product_name\").count().fillna(0)\n",
    "    most_used_product = most_used_product.orderBy(\"count\",ascending=[0])\n",
    "    top_10 =most_used_product.select(\"product_name\").take(10)\n",
    "    top_product = [row['product_name'] for row in top_10]\n",
    "    return top_product"
   ],
   "id": "a72cbc96613ea99e",
   "outputs": [],
   "execution_count": 7
  },
  {
   "metadata": {
    "ExecuteTime": {
     "end_time": "2024-06-13T07:20:44.842806Z",
     "start_time": "2024-06-13T07:20:44.811556Z"
    }
   },
   "cell_type": "code",
   "source": [
    "def mapping(product_category_map, rw_transaction_data):\n",
    "    joined = rw_transaction_data.join(product_category_map, ['product_id', 'product_type_id', 'module_id'])\n",
    "    joined = joined.withColumn(\"first_day_of_month\", trunc(col(\"last_modified_date\"), \"month\"))\n",
    "    top_product = most_used_product(joined)\n",
    "    filtered_df = joined.filter(col(\"product_name\").isin(top_product))\n",
    "    product_used_count = filtered_df.groupBy(\"payer_account_id\", \"product_name\").pivot(\"first_day_of_month\").count().fillna(0)\n",
    "    columns = product_used_count.columns\n",
    "    start_date = datetime.strptime(columns[2], '%Y-%m-%d').date()\n",
    "    end_date = datetime.strptime(columns[-1], '%Y-%m-%d').date()\n",
    "    current_date = start_date\n",
    "    date_list_comp = []\n",
    "    while current_date <= end_date:\n",
    "        date_list_comp.append(current_date.strftime('%Y-%m-%d'))\n",
    "        current_date = current_date + timedelta(days=32 - current_date.day)\n",
    "    modified_dates = [date_str[:8] + '01' for date_str in date_list_comp]\n",
    "    additional_Date = []\n",
    "    for date in modified_dates:\n",
    "        if date not in columns:\n",
    "            additional_Date.append(date)\n",
    "    if len(additional_Date)!=0: \n",
    "        data = {cols: [0] * product_used_count.count() for cols in additional_Date}\n",
    "        df = pd.DataFrame(data)\n",
    "        additional_df = spark.createDataFrame(df)\n",
    "        window = Window.orderBy(monotonically_increasing_id())\n",
    "        additional_df = additional_df.withColumn(\"id\", row_number().over(window) - 1)\n",
    "        product_used_count = product_used_count.withColumn(\"id\", row_number().over(window) - 1)\n",
    "        combined_df = product_used_count.join(additional_df, on=\"id\", how=\"inner\").drop(\"id\")\n",
    "        excluded_columns = ['payer_account_id', 'product_name']\n",
    "        coln_combined = excluded_columns + modified_dates + [str(end_date)]\n",
    "        combined_df = combined_df.select(coln_combined)\n",
    "    else:\n",
    "        combined_df = product_used_count\n",
    "    columns = combined_df.columns\n",
    "    monthly_columns = columns[2:]\n",
    "    for column in monthly_columns:\n",
    "        combined_df= combined_df.withColumn(column, when(col(column) > 0, 1).otherwise(col(column)))\n",
    "    concat_expr = col(monthly_columns[0])\n",
    "    for col_name in monthly_columns[1:]:\n",
    "        concat_expr = concat(concat_expr, col(col_name))\n",
    "    combined_df = combined_df.withColumn(\"used_map\",concat_expr)\n",
    "    return combined_df"
   ],
   "id": "50dc924da5e59962",
   "outputs": [],
   "execution_count": 70
  },
  {
   "metadata": {
    "ExecuteTime": {
     "end_time": "2024-06-13T07:20:55.212680Z",
     "start_time": "2024-06-13T07:20:45.434857Z"
    }
   },
   "cell_type": "code",
   "source": [
    "start_date,last_date = get_start_last_transaction_date()\n",
    "product_category_map = table(\"product_category_map\",start_date,last_date)\n",
    "rw_transaction_data = table(\"rw_transaction_data\",start_date,last_date)\n",
    "mapping_for_1_to_3 = mapping(product_category_map,rw_transaction_data)"
   ],
   "id": "a16e47579394e1db",
   "outputs": [],
   "execution_count": 71
  },
  {
   "metadata": {
    "ExecuteTime": {
     "end_time": "2024-06-13T07:21:02.356470Z",
     "start_time": "2024-06-13T07:20:55.212680Z"
    }
   },
   "cell_type": "code",
   "source": "mapping_for_1_to_3.show(39)",
   "id": "63d973873250326",
   "outputs": [
    {
     "name": "stdout",
     "output_type": "stream",
     "text": [
      "+----------------+--------------------+----------+----------+----------+----------+----------+----------+----------+----------+----------+----------+----------+----------+----------+-------------+\n",
      "|payer_account_id|        product_name|2022-12-01|2023-01-01|2023-02-01|2023-03-01|2023-04-01|2023-05-01|2023-06-01|2023-07-01|2023-08-01|2023-09-01|2023-10-01|2023-11-01|2023-12-01|     used_map|\n",
      "+----------------+--------------------+----------+----------+----------+----------+----------+----------+----------+----------+----------+----------+----------+----------+----------+-------------+\n",
      "|              34|          Send Money|         1|         1|         1|         1|         1|         1|         0|         0|         0|         0|         0|         0|         0|1111110000000|\n",
      "|              26|         Electricity|         0|         1|         1|         1|         1|         1|         0|         0|         0|         0|         0|         0|         0|0111110000000|\n",
      "|             471|          Send Money|         0|         1|         1|         1|         1|         1|         0|         0|         0|         0|         0|         0|         0|0111110000000|\n",
      "|              56|         Electricity|         1|         1|         1|         1|         1|         1|         0|         0|         0|         0|         0|         0|         0|1111110000000|\n",
      "|             531| Ncell Data Via Bank|         1|         1|         1|         1|         1|         1|         0|         0|         0|         0|         0|         0|         0|1111110000000|\n",
      "|              34|    NT Prepaid Topup|         1|         1|         1|         1|         1|         1|         0|         0|         0|         0|         0|         0|         0|1111110000000|\n",
      "|            1002|         Ncell Topup|         0|         0|         0|         0|         0|         0|         0|         0|         0|         0|         0|         0|         1|0000000000001|\n",
      "|             531|   NT Topup via Bank|         1|         1|         1|         1|         1|         1|         0|         0|         0|         0|         0|         0|         0|1111110000000|\n",
      "|             222|       Prepaid Topup|         0|         1|         1|         1|         1|         1|         0|         0|         0|         0|         0|         0|         0|0111110000000|\n",
      "|             471|       Prepaid Topup|         1|         1|         1|         1|         1|         1|         0|         0|         0|         0|         0|         0|         0|1111110000000|\n",
      "|             531|TOPUP VIA BANK DI...|         1|         0|         0|         1|         1|         1|         0|         0|         0|         0|         0|         0|         0|1001110000000|\n",
      "|              34|         Ncell Topup|         0|         1|         1|         1|         1|         1|         0|         0|         0|         0|         0|         0|         0|0111110000000|\n",
      "|              34|         Electricity|         1|         1|         1|         1|         1|         1|         0|         0|         0|         0|         0|         0|         0|1111110000000|\n",
      "|             471|    NT Prepaid Topup|         1|         1|         1|         1|         1|         1|         0|         0|         0|         0|         0|         0|         0|1111110000000|\n",
      "|             222|          Send Money|         0|         1|         1|         0|         0|         0|         0|         0|         0|         0|         0|         0|         0|0110000000000|\n",
      "|             471|         Electricity|         0|         1|         1|         1|         1|         1|         0|         0|         0|         0|         0|         0|         0|0111110000000|\n",
      "|              56|          Send Money|         1|         1|         1|         1|         1|         1|         0|         0|         0|         0|         0|         0|         0|1111110000000|\n",
      "|              56|       Prepaid Topup|         1|         1|         1|         1|         1|         1|         0|         0|         0|         0|         0|         0|         0|1111110000000|\n",
      "|             538|       Prepaid Topup|         0|         0|         0|         0|         0|         1|         0|         0|         0|         0|         0|         0|         0|0000010000000|\n",
      "|             222|    NT Prepaid Topup|         0|         1|         1|         1|         1|         1|         0|         0|         0|         0|         0|         0|         0|0111110000000|\n",
      "|              26|          Send Money|         0|         1|         1|         1|         1|         1|         0|         0|         0|         0|         0|         0|         0|0111110000000|\n",
      "|             531|Ncell Topup via Bank|         1|         0|         0|         1|         1|         1|         0|         0|         0|         0|         0|         0|         0|1001110000000|\n",
      "|            1056|         Ncell Topup|         0|         0|         0|         1|         0|         1|         0|         0|         0|         0|         0|         0|         0|0001010000000|\n",
      "|              26|    NT Prepaid Topup|         1|         1|         1|         1|         1|         1|         0|         0|         0|         0|         0|         0|         0|1111110000000|\n",
      "|              34|       Prepaid Topup|         1|         1|         1|         1|         1|         1|         0|         0|         0|         0|         0|         0|         0|1111110000000|\n",
      "|              56|         Ncell Topup|         1|         1|         1|         1|         1|         1|         0|         0|         0|         0|         0|         0|         0|1111110000000|\n",
      "|            1056|         Electricity|         0|         0|         1|         1|         0|         1|         0|         0|         0|         0|         0|         0|         0|0011010000000|\n",
      "|            1001|         Ncell Topup|         0|         0|         0|         0|         0|         0|         1|         0|         0|         0|         0|         0|         0|0000001000000|\n",
      "|             531|Wordlink Topup vi...|         1|         1|         1|         1|         1|         1|         0|         0|         0|         0|         0|         0|         0|1111110000000|\n",
      "|             538|    NT Prepaid Topup|         0|         0|         0|         0|         0|         1|         0|         0|         0|         0|         0|         0|         0|0000010000000|\n",
      "|            1176|         Ncell Topup|         0|         0|         0|         1|         0|         0|         0|         0|         0|         0|         0|         0|         0|0001000000000|\n",
      "|             471|         Ncell Topup|         1|         1|         1|         1|         1|         1|         0|         0|         0|         0|         0|         0|         0|1111110000000|\n",
      "|            1056|       Prepaid Topup|         1|         1|         1|         1|         1|         1|         0|         0|         0|         0|         0|         0|         0|1111110000000|\n",
      "|              56|    NT Prepaid Topup|         1|         1|         1|         1|         1|         1|         0|         0|         0|         0|         0|         0|         0|1111110000000|\n",
      "|             222|         Ncell Topup|         1|         1|         1|         0|         1|         1|         0|         0|         0|         0|         0|         0|         0|1110110000000|\n",
      "|            1056|          Send Money|         0|         1|         1|         0|         0|         0|         0|         0|         0|         0|         0|         0|         0|0110000000000|\n",
      "|              26|       Prepaid Topup|         1|         1|         1|         1|         1|         1|         0|         0|         0|         0|         0|         0|         0|1111110000000|\n",
      "|            1056|    NT Prepaid Topup|         1|         1|         1|         1|         1|         1|         0|         0|         0|         0|         0|         0|         0|1111110000000|\n",
      "|              26|         Ncell Topup|         1|         1|         1|         1|         1|         1|         0|         0|         0|         0|         0|         0|         0|1111110000000|\n",
      "+----------------+--------------------+----------+----------+----------+----------+----------+----------+----------+----------+----------+----------+----------+----------+----------+-------------+\n",
      "\n"
     ]
    }
   ],
   "execution_count": 72
  },
  {
   "metadata": {
    "ExecuteTime": {
     "end_time": "2024-06-13T05:09:24.251336Z",
     "start_time": "2024-06-13T05:09:24.251336Z"
    }
   },
   "cell_type": "code",
   "source": "# mapping_for_1_to_3",
   "id": "2be6d7e8f28f59aa",
   "outputs": [],
   "execution_count": null
  },
  {
   "metadata": {
    "ExecuteTime": {
     "end_time": "2024-06-13T05:29:26.625978Z",
     "start_time": "2024-06-13T05:29:26.388177Z"
    }
   },
   "cell_type": "code",
   "source": [
    "start_date_str = '2022-12-01'\n",
    "end_date_str = '2023-06-01'\n",
    "start_date = datetime.strptime(start_date_str, '%Y-%m-%d').date()\n",
    "end_date = datetime.strptime(end_date_str, '%Y-%m-%d').date()\n",
    "current_date = start_date\n",
    "date_list_comp = []\n",
    "while current_date <= end_date:\n",
    "    date_list_comp.append(current_date.strftime('%Y-%m-%d'))\n",
    "    current_date = current_date + timedelta(days=32 - current_date.day)\n",
    "\n"
   ],
   "id": "a8511dac4ee5a55d",
   "outputs": [],
   "execution_count": 3
  },
  {
   "metadata": {
    "ExecuteTime": {
     "end_time": "2024-06-13T05:29:27.983968Z",
     "start_time": "2024-06-13T05:29:27.968378Z"
    }
   },
   "cell_type": "code",
   "source": "date_list_comp",
   "id": "d9270afaf78b7a53",
   "outputs": [
    {
     "data": {
      "text/plain": [
       "['2022-12-01',\n",
       " '2023-01-01',\n",
       " '2023-02-01',\n",
       " '2023-03-04',\n",
       " '2023-04-01',\n",
       " '2023-05-02',\n",
       " '2023-06-01']"
      ]
     },
     "execution_count": 4,
     "metadata": {},
     "output_type": "execute_result"
    }
   ],
   "execution_count": 4
  },
  {
   "metadata": {
    "ExecuteTime": {
     "end_time": "2024-06-13T05:29:39.278442Z",
     "start_time": "2024-06-13T05:29:39.262807Z"
    }
   },
   "cell_type": "code",
   "source": [
    "modified_dates = [date_str[:8] + '01' for date_str in date_list_comp]\n",
    "modified_dates"
   ],
   "id": "ec07090d0084cc0",
   "outputs": [
    {
     "data": {
      "text/plain": [
       "['2022-12-01',\n",
       " '2023-01-01',\n",
       " '2023-02-01',\n",
       " '2023-03-01',\n",
       " '2023-04-01',\n",
       " '2023-05-01',\n",
       " '2023-06-01']"
      ]
     },
     "execution_count": 6,
     "metadata": {},
     "output_type": "execute_result"
    }
   ],
   "execution_count": 6
  },
  {
   "metadata": {
    "ExecuteTime": {
     "end_time": "2024-06-13T04:52:36.631450Z",
     "start_time": "2024-06-13T04:52:34.604873Z"
    }
   },
   "cell_type": "code",
   "source": [
    "import pandas as pd\n",
    "num_rows = 10\n",
    "columns = ['2022-12-01', '2023-01-01', '2023-02-01', '2023-03-04', '2023-04-01', '2023-05-02', '2023-06-01']\n",
    "data = {col: [0] * num_rows for col in columns}\n",
    "df = pd.DataFrame(data)"
   ],
   "id": "80ec654e4b2849c2",
   "outputs": [],
   "execution_count": 57
  },
  {
   "metadata": {
    "ExecuteTime": {
     "end_time": "2024-06-13T05:16:20.011206Z",
     "start_time": "2024-06-13T05:16:13.573664Z"
    }
   },
   "cell_type": "code",
   "source": [
    "additional_df = spark.createDataFrame(df)\n",
    "additional_df.show()"
   ],
   "id": "7b8f8568b1f49e83",
   "outputs": [
    {
     "name": "stdout",
     "output_type": "stream",
     "text": [
      "+----------+----------+----------+----------+----------+----------+----------+\n",
      "|2022-12-01|2023-01-01|2023-02-01|2023-03-04|2023-04-01|2023-05-02|2023-06-01|\n",
      "+----------+----------+----------+----------+----------+----------+----------+\n",
      "|         0|         0|         0|         0|         0|         0|         0|\n",
      "|         0|         0|         0|         0|         0|         0|         0|\n",
      "|         0|         0|         0|         0|         0|         0|         0|\n",
      "|         0|         0|         0|         0|         0|         0|         0|\n",
      "|         0|         0|         0|         0|         0|         0|         0|\n",
      "|         0|         0|         0|         0|         0|         0|         0|\n",
      "|         0|         0|         0|         0|         0|         0|         0|\n",
      "|         0|         0|         0|         0|         0|         0|         0|\n",
      "|         0|         0|         0|         0|         0|         0|         0|\n",
      "|         0|         0|         0|         0|         0|         0|         0|\n",
      "+----------+----------+----------+----------+----------+----------+----------+\n",
      "\n"
     ]
    }
   ],
   "execution_count": 78
  },
  {
   "metadata": {
    "ExecuteTime": {
     "end_time": "2024-06-13T05:10:28.581613Z",
     "start_time": "2024-06-13T05:10:28.550319Z"
    }
   },
   "cell_type": "code",
   "source": "len(columns)",
   "id": "c78180c3b28d685",
   "outputs": [
    {
     "data": {
      "text/plain": [
       "7"
      ]
     },
     "execution_count": 72,
     "metadata": {},
     "output_type": "execute_result"
    }
   ],
   "execution_count": 72
  },
  {
   "metadata": {},
   "cell_type": "code",
   "outputs": [],
   "execution_count": null,
   "source": "",
   "id": "2b2bcfcf6110f742"
  }
 ],
 "metadata": {
  "kernelspec": {
   "display_name": "Python 3",
   "language": "python",
   "name": "python3"
  },
  "language_info": {
   "codemirror_mode": {
    "name": "ipython",
    "version": 2
   },
   "file_extension": ".py",
   "mimetype": "text/x-python",
   "name": "python",
   "nbconvert_exporter": "python",
   "pygments_lexer": "ipython2",
   "version": "2.7.6"
  }
 },
 "nbformat": 4,
 "nbformat_minor": 5
}
