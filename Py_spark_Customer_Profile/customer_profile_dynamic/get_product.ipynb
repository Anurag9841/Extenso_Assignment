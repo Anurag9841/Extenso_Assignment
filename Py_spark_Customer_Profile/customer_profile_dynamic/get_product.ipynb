{
 "cells": [
  {
   "metadata": {},
   "cell_type": "markdown",
   "source": "### **Adding necessary library**",
   "id": "8e1aab3e2cf58d5d"
  },
  {
   "cell_type": "code",
   "id": "initial_id",
   "metadata": {
    "collapsed": true,
    "ExecuteTime": {
     "end_time": "2024-06-05T11:54:27.232389Z",
     "start_time": "2024-06-05T11:54:26.912498Z"
    }
   },
   "source": [
    "from pyspark.sql import SparkSession\n",
    "from pyspark.sql.functions import *\n",
    "from pyspark.sql.types import *\n",
    "from pyspark.sql.window import *  \n",
    "import json"
   ],
   "outputs": [],
   "execution_count": 1
  },
  {
   "metadata": {},
   "cell_type": "markdown",
   "source": "### **Creating SparkSession**",
   "id": "c3b8d72b48953c9c"
  },
  {
   "metadata": {
    "ExecuteTime": {
     "end_time": "2024-06-05T11:54:33.604137Z",
     "start_time": "2024-06-05T11:54:27.533434Z"
    }
   },
   "cell_type": "code",
   "source": "spark = SparkSession.builder.appName(\"spark_dataframe_py\").config(\"spark.jars\", \"C:\\spark-3.5.1-bin-hadoop3\\jars\\mysql-connector-j-8.4.0.jar\").getOrCreate()",
   "id": "95d70831466bc882",
   "outputs": [],
   "execution_count": 2
  },
  {
   "metadata": {},
   "cell_type": "markdown",
   "source": "### **Adding Necessary configs for connection**",
   "id": "2f3e3addd1a7b02b"
  },
  {
   "metadata": {
    "ExecuteTime": {
     "end_time": "2024-06-05T11:54:33.619764Z",
     "start_time": "2024-06-05T11:54:33.604137Z"
    }
   },
   "cell_type": "code",
   "source": [
    "url = \"jdbc:mysql://localhost:3306/extenso_config\"\n",
    "properties = {\n",
    "    \"user\": \"root\",\n",
    "    \"password\": \"root\",\n",
    "    \"driver\": \"com.mysql.jdbc.Driver\"\n",
    "}"
   ],
   "id": "ae04824055e17f62",
   "outputs": [],
   "execution_count": 3
  },
  {
   "metadata": {},
   "cell_type": "markdown",
   "source": "### **Function to create dataframe from each sql table**",
   "id": "96bf1e57210900b3"
  },
  {
   "metadata": {
    "ExecuteTime": {
     "end_time": "2024-06-05T11:54:37.177454Z",
     "start_time": "2024-06-05T11:54:33.619764Z"
    }
   },
   "cell_type": "code",
   "source": [
    "def table(table_name, start_date, end_date):\n",
    "  df = spark.read.jdbc(url=url, table=table_name, properties=properties)\n",
    "  if table_name == \"rw_transaction_data\":\n",
    "    df = df.filter((df.last_modified_date <= to_date(lit(end_date))) & (df.last_modified_date >= to_date(lit(start_date))))\n",
    "  return df\n",
    "product_category_map = table(\"product_category_map\",'2023-01-01','2024-01-01')\n",
    "rw_transaction_data = table(\"rw_transaction_data\",'2023-01-01','2024-01-01')"
   ],
   "id": "83f86dfb40422227",
   "outputs": [],
   "execution_count": 4
  },
  {
   "metadata": {},
   "cell_type": "markdown",
   "source": "### Final_result",
   "id": "e858b773124fd166"
  },
  {
   "metadata": {
    "ExecuteTime": {
     "end_time": "2024-06-05T11:54:37.193078Z",
     "start_time": "2024-06-05T11:54:37.177454Z"
    }
   },
   "cell_type": "code",
   "source": [
    "def most_used_product(joined):\n",
    "    most_used_product = joined.groupBy(\"product_name\").count().fillna(0)\n",
    "    most_used_product = most_used_product.orderBy(\"count\",ascending=[0])\n",
    "    top_10 =most_used_product.select(\"product_name\").take(10)\n",
    "    top_product = [row['product_name'] for row in top_10]\n",
    "    return top_product\n",
    "    "
   ],
   "id": "a72cbc96613ea99e",
   "outputs": [],
   "execution_count": 5
  },
  {
   "metadata": {
    "ExecuteTime": {
     "end_time": "2024-06-05T11:54:45.601323Z",
     "start_time": "2024-06-05T11:54:37.193078Z"
    }
   },
   "cell_type": "code",
   "source": [
    "def mapping(product_category_map = product_category_map,rw_transaction_data = rw_transaction_data):\n",
    "    joined = rw_transaction_data.join(product_category_map, ['product_id', 'product_type_id', 'module_id'])\n",
    "    joined = joined.withColumn(\"months\", month(col(\"last_modified_date\")))\n",
    "    top_product = most_used_product(joined)\n",
    "    filtered_df = joined.filter(col(\"product_name\").isin(top_product))\n",
    "    product_used_count = filtered_df.groupBy(\"payer_account_id\", \"product_name\").pivot(\"months\").count().fillna(0)\n",
    "    columns = product_used_count.columns\n",
    "    monthly_columns = columns[2:]\n",
    "    for column in monthly_columns:\n",
    "        product_used_count = product_used_count.withColumn(column, when(col(column) > 0, 1).otherwise(col(column)))\n",
    "    concat_expr = col(monthly_columns[0])\n",
    "    for col_name in monthly_columns[1:]:\n",
    "        concat_expr = concat(concat_expr, col(col_name))\n",
    "    product_used_count = product_used_count.withColumn(\"used_map\",concat_expr)\n",
    "    return product_used_count\n",
    "\n",
    "mapping().show()"
   ],
   "id": "50dc924da5e59962",
   "outputs": [
    {
     "name": "stdout",
     "output_type": "stream",
     "text": [
      "+----------------+--------------------+---+---+---+---+---+--------+\n",
      "|payer_account_id|        product_name|  1|  2|  3|  4|  5|used_map|\n",
      "+----------------+--------------------+---+---+---+---+---+--------+\n",
      "|              34|          Send Money|  1|  1|  1|  1|  1|   11111|\n",
      "|              26|         Electricity|  1|  1|  1|  1|  1|   11111|\n",
      "|             471|          Send Money|  1|  1|  1|  1|  1|   11111|\n",
      "|              56|         Electricity|  1|  1|  1|  1|  1|   11111|\n",
      "|              34|    NT Prepaid Topup|  1|  1|  1|  1|  1|   11111|\n",
      "|             531| Ncell Data Via Bank|  1|  1|  1|  1|  1|   11111|\n",
      "|             531|   NT Topup via Bank|  1|  1|  1|  1|  1|   11111|\n",
      "|             222|       Prepaid Topup|  1|  1|  1|  1|  1|   11111|\n",
      "|             471|       Prepaid Topup|  1|  1|  1|  1|  1|   11111|\n",
      "|             531|TOPUP VIA BANK DI...|  0|  0|  1|  1|  1|   00111|\n",
      "|              34|         Ncell Topup|  1|  1|  1|  1|  1|   11111|\n",
      "|              34|         Electricity|  1|  1|  1|  1|  1|   11111|\n",
      "|             471|    NT Prepaid Topup|  1|  1|  1|  1|  1|   11111|\n",
      "|             222|          Send Money|  1|  1|  0|  0|  0|   11000|\n",
      "|             471|         Electricity|  1|  1|  1|  1|  1|   11111|\n",
      "|              56|          Send Money|  1|  1|  1|  1|  1|   11111|\n",
      "|              56|       Prepaid Topup|  1|  1|  1|  1|  1|   11111|\n",
      "|             538|       Prepaid Topup|  0|  0|  0|  0|  1|   00001|\n",
      "|             222|    NT Prepaid Topup|  1|  1|  1|  1|  1|   11111|\n",
      "|              26|          Send Money|  1|  1|  1|  1|  1|   11111|\n",
      "+----------------+--------------------+---+---+---+---+---+--------+\n",
      "only showing top 20 rows\n",
      "\n"
     ]
    }
   ],
   "execution_count": 6
  }
 ],
 "metadata": {
  "kernelspec": {
   "display_name": "Python 3",
   "language": "python",
   "name": "python3"
  },
  "language_info": {
   "codemirror_mode": {
    "name": "ipython",
    "version": 2
   },
   "file_extension": ".py",
   "mimetype": "text/x-python",
   "name": "python",
   "nbconvert_exporter": "python",
   "pygments_lexer": "ipython2",
   "version": "2.7.6"
  }
 },
 "nbformat": 4,
 "nbformat_minor": 5
}
