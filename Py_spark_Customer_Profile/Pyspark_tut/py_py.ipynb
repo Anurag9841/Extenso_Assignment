{
 "cells": [
  {
   "metadata": {
    "ExecuteTime": {
     "end_time": "2024-06-26T06:39:19.907399Z",
     "start_time": "2024-06-26T06:39:19.137823Z"
    }
   },
   "cell_type": "code",
   "source": [
    "from pyspark.sql import SparkSession\n",
    "from pyspark.sql import types as T\n",
    "from pyspark.sql.functions import  *\n",
    "from datetime import date\n",
    "from pyspark.sql.types import * \n",
    "from pyspark.sql import Window\n",
    "from datetime import datetime"
   ],
   "id": "4dbfe6f2464bf0e6",
   "outputs": [],
   "execution_count": 1
  },
  {
   "metadata": {
    "ExecuteTime": {
     "end_time": "2024-06-26T06:39:38.054386Z",
     "start_time": "2024-06-26T06:39:21.238795Z"
    }
   },
   "cell_type": "code",
   "source": [
    "spark = (\n",
    "    SparkSession.builder\n",
    "    .master(\"local\")\n",
    "    .appName(\"Exploring Joins\")\n",
    "    .config(\"spark.some.config.option\", \"some-value\")\n",
    "    .getOrCreate()\n",
    ")"
   ],
   "id": "bc9ae1bf4a54281b",
   "outputs": [],
   "execution_count": 2
  },
  {
   "metadata": {
    "ExecuteTime": {
     "end_time": "2024-06-26T06:40:05.746625Z",
     "start_time": "2024-06-26T06:40:05.329501Z"
    }
   },
   "cell_type": "code",
   "source": "df = spark.read.csv('pets.csv',header = True)",
   "id": "4bbdc6fd86ec8396",
   "outputs": [],
   "execution_count": 5
  },
  {
   "metadata": {
    "ExecuteTime": {
     "end_time": "2024-06-26T06:40:05.991597Z",
     "start_time": "2024-06-26T06:40:05.754890Z"
    }
   },
   "cell_type": "code",
   "source": "df.show()",
   "id": "7344221f87e89007",
   "outputs": [
    {
     "name": "stdout",
     "output_type": "stream",
     "text": [
      "+---+--------+--------+-------------------+---+-----+------+\n",
      "| id|breed_id|nickname|           birthday|age|color|weight|\n",
      "+---+--------+--------+-------------------+---+-----+------+\n",
      "|  1|       1|    King|2014-11-22 12:30:31|  5|brown|  10.0|\n",
      "|  2|       3|   Argus|2016-11-22 10:05:10| 10| NULL|   5.5|\n",
      "|  3|       1|  Chewie|2016-11-22 10:05:10| 15| NULL|    12|\n",
      "|  3|       2|   Maple|2018-11-22 10:05:10| 17|white|   3.4|\n",
      "|  4|       2|    NULL|2019-01-01 10:05:10| 13| NULL|    10|\n",
      "+---+--------+--------+-------------------+---+-----+------+\n",
      "\n"
     ]
    }
   ],
   "execution_count": 6
  },
  {
   "metadata": {
    "ExecuteTime": {
     "end_time": "2024-06-26T06:40:28.610723Z",
     "start_time": "2024-06-26T06:40:26.648481Z"
    }
   },
   "cell_type": "code",
   "source": "df.toPandas()",
   "id": "36e7f97e7304941e",
   "outputs": [
    {
     "data": {
      "text/plain": [
       "  id breed_id nickname             birthday age  color weight\n",
       "0  1        1     King  2014-11-22 12:30:31   5  brown   10.0\n",
       "1  2        3    Argus  2016-11-22 10:05:10  10   None    5.5\n",
       "2  3        1   Chewie  2016-11-22 10:05:10  15   None     12\n",
       "3  3        2    Maple  2018-11-22 10:05:10  17  white    3.4\n",
       "4  4        2     None  2019-01-01 10:05:10  13   None     10"
      ],
      "text/html": [
       "<div>\n",
       "<style scoped>\n",
       "    .dataframe tbody tr th:only-of-type {\n",
       "        vertical-align: middle;\n",
       "    }\n",
       "\n",
       "    .dataframe tbody tr th {\n",
       "        vertical-align: top;\n",
       "    }\n",
       "\n",
       "    .dataframe thead th {\n",
       "        text-align: right;\n",
       "    }\n",
       "</style>\n",
       "<table border=\"1\" class=\"dataframe\">\n",
       "  <thead>\n",
       "    <tr style=\"text-align: right;\">\n",
       "      <th></th>\n",
       "      <th>id</th>\n",
       "      <th>breed_id</th>\n",
       "      <th>nickname</th>\n",
       "      <th>birthday</th>\n",
       "      <th>age</th>\n",
       "      <th>color</th>\n",
       "      <th>weight</th>\n",
       "    </tr>\n",
       "  </thead>\n",
       "  <tbody>\n",
       "    <tr>\n",
       "      <th>0</th>\n",
       "      <td>1</td>\n",
       "      <td>1</td>\n",
       "      <td>King</td>\n",
       "      <td>2014-11-22 12:30:31</td>\n",
       "      <td>5</td>\n",
       "      <td>brown</td>\n",
       "      <td>10.0</td>\n",
       "    </tr>\n",
       "    <tr>\n",
       "      <th>1</th>\n",
       "      <td>2</td>\n",
       "      <td>3</td>\n",
       "      <td>Argus</td>\n",
       "      <td>2016-11-22 10:05:10</td>\n",
       "      <td>10</td>\n",
       "      <td>None</td>\n",
       "      <td>5.5</td>\n",
       "    </tr>\n",
       "    <tr>\n",
       "      <th>2</th>\n",
       "      <td>3</td>\n",
       "      <td>1</td>\n",
       "      <td>Chewie</td>\n",
       "      <td>2016-11-22 10:05:10</td>\n",
       "      <td>15</td>\n",
       "      <td>None</td>\n",
       "      <td>12</td>\n",
       "    </tr>\n",
       "    <tr>\n",
       "      <th>3</th>\n",
       "      <td>3</td>\n",
       "      <td>2</td>\n",
       "      <td>Maple</td>\n",
       "      <td>2018-11-22 10:05:10</td>\n",
       "      <td>17</td>\n",
       "      <td>white</td>\n",
       "      <td>3.4</td>\n",
       "    </tr>\n",
       "    <tr>\n",
       "      <th>4</th>\n",
       "      <td>4</td>\n",
       "      <td>2</td>\n",
       "      <td>None</td>\n",
       "      <td>2019-01-01 10:05:10</td>\n",
       "      <td>13</td>\n",
       "      <td>None</td>\n",
       "      <td>10</td>\n",
       "    </tr>\n",
       "  </tbody>\n",
       "</table>\n",
       "</div>"
      ]
     },
     "execution_count": 8,
     "metadata": {},
     "output_type": "execute_result"
    }
   ],
   "execution_count": 8
  },
  {
   "metadata": {
    "ExecuteTime": {
     "end_time": "2024-06-26T06:40:34.844188Z",
     "start_time": "2024-06-26T06:40:34.758710Z"
    }
   },
   "cell_type": "code",
   "source": "df.collect()",
   "id": "b1b40a6b6d3c28bb",
   "outputs": [
    {
     "data": {
      "text/plain": [
       "[Row(id='1', breed_id='1', nickname='King', birthday='2014-11-22 12:30:31', age='5', color='brown', weight='10.0'),\n",
       " Row(id='2', breed_id='3', nickname='Argus', birthday='2016-11-22 10:05:10', age='10', color=None, weight='5.5'),\n",
       " Row(id='3', breed_id='1', nickname='Chewie', birthday='2016-11-22 10:05:10', age='15', color=None, weight='12'),\n",
       " Row(id='3', breed_id='2', nickname='Maple', birthday='2018-11-22 10:05:10', age='17', color='white', weight='3.4'),\n",
       " Row(id='4', breed_id='2', nickname=None, birthday='2019-01-01 10:05:10', age='13', color=None, weight='10')]"
      ]
     },
     "execution_count": 9,
     "metadata": {},
     "output_type": "execute_result"
    }
   ],
   "execution_count": 9
  },
  {
   "metadata": {
    "ExecuteTime": {
     "end_time": "2024-06-26T06:40:44.328434Z",
     "start_time": "2024-06-26T06:40:44.179629Z"
    }
   },
   "cell_type": "code",
   "source": "df.head()",
   "id": "893fcaecbe360558",
   "outputs": [
    {
     "data": {
      "text/plain": [
       "Row(id='1', breed_id='1', nickname='King', birthday='2014-11-22 12:30:31', age='5', color='brown', weight='10.0')"
      ]
     },
     "execution_count": 10,
     "metadata": {},
     "output_type": "execute_result"
    }
   ],
   "execution_count": 10
  },
  {
   "metadata": {
    "ExecuteTime": {
     "end_time": "2024-06-26T06:41:20.082936Z",
     "start_time": "2024-06-26T06:41:19.831333Z"
    }
   },
   "cell_type": "code",
   "source": "df.select('id','breed_id').show()",
   "id": "e13aef27621c8365",
   "outputs": [
    {
     "name": "stdout",
     "output_type": "stream",
     "text": [
      "+---+--------+\n",
      "| id|breed_id|\n",
      "+---+--------+\n",
      "|  1|       1|\n",
      "|  2|       3|\n",
      "|  3|       1|\n",
      "|  3|       2|\n",
      "|  4|       2|\n",
      "+---+--------+\n",
      "\n"
     ]
    }
   ],
   "execution_count": 11
  },
  {
   "metadata": {
    "ExecuteTime": {
     "end_time": "2024-06-26T06:41:42.195298Z",
     "start_time": "2024-06-26T06:41:41.966404Z"
    }
   },
   "cell_type": "code",
   "source": "df.drop('id','breed_id').show()",
   "id": "ecf1ed7668d73c58",
   "outputs": [
    {
     "name": "stdout",
     "output_type": "stream",
     "text": [
      "+--------+-------------------+---+-----+------+\n",
      "|nickname|           birthday|age|color|weight|\n",
      "+--------+-------------------+---+-----+------+\n",
      "|    King|2014-11-22 12:30:31|  5|brown|  10.0|\n",
      "|   Argus|2016-11-22 10:05:10| 10| NULL|   5.5|\n",
      "|  Chewie|2016-11-22 10:05:10| 15| NULL|    12|\n",
      "|   Maple|2018-11-22 10:05:10| 17|white|   3.4|\n",
      "|    NULL|2019-01-01 10:05:10| 13| NULL|    10|\n",
      "+--------+-------------------+---+-----+------+\n",
      "\n"
     ]
    }
   ],
   "execution_count": 12
  },
  {
   "metadata": {
    "ExecuteTime": {
     "end_time": "2024-06-26T06:43:10.295937Z",
     "start_time": "2024-06-26T06:43:10.076373Z"
    }
   },
   "cell_type": "code",
   "source": "df.withColumn('nick_named_copy',col('nickname')).withColumn('nick_name_capital',upper(col('nickname'))).show()",
   "id": "e165ab2424447c0b",
   "outputs": [
    {
     "name": "stdout",
     "output_type": "stream",
     "text": [
      "+---+--------+--------+-------------------+---+-----+------+---------------+-----------------+\n",
      "| id|breed_id|nickname|           birthday|age|color|weight|nick_named_copy|nick_name_capital|\n",
      "+---+--------+--------+-------------------+---+-----+------+---------------+-----------------+\n",
      "|  1|       1|    King|2014-11-22 12:30:31|  5|brown|  10.0|           King|             KING|\n",
      "|  2|       3|   Argus|2016-11-22 10:05:10| 10| NULL|   5.5|          Argus|            ARGUS|\n",
      "|  3|       1|  Chewie|2016-11-22 10:05:10| 15| NULL|    12|         Chewie|           CHEWIE|\n",
      "|  3|       2|   Maple|2018-11-22 10:05:10| 17|white|   3.4|          Maple|            MAPLE|\n",
      "|  4|       2|    NULL|2019-01-01 10:05:10| 13| NULL|    10|           NULL|             NULL|\n",
      "+---+--------+--------+-------------------+---+-----+------+---------------+-----------------+\n",
      "\n"
     ]
    }
   ],
   "execution_count": 14
  },
  {
   "metadata": {
    "ExecuteTime": {
     "end_time": "2024-06-26T06:43:40.020213Z",
     "start_time": "2024-06-26T06:43:39.885277Z"
    }
   },
   "cell_type": "code",
   "source": "df.withColumnRenamed('id','pet_id').show()",
   "id": "7906bb0fd7225640",
   "outputs": [
    {
     "name": "stdout",
     "output_type": "stream",
     "text": [
      "+------+--------+--------+-------------------+---+-----+------+\n",
      "|pet_id|breed_id|nickname|           birthday|age|color|weight|\n",
      "+------+--------+--------+-------------------+---+-----+------+\n",
      "|     1|       1|    King|2014-11-22 12:30:31|  5|brown|  10.0|\n",
      "|     2|       3|   Argus|2016-11-22 10:05:10| 10| NULL|   5.5|\n",
      "|     3|       1|  Chewie|2016-11-22 10:05:10| 15| NULL|    12|\n",
      "|     3|       2|   Maple|2018-11-22 10:05:10| 17|white|   3.4|\n",
      "|     4|       2|    NULL|2019-01-01 10:05:10| 13| NULL|    10|\n",
      "+------+--------+--------+-------------------+---+-----+------+\n",
      "\n"
     ]
    }
   ],
   "execution_count": 15
  },
  {
   "metadata": {
    "ExecuteTime": {
     "end_time": "2024-06-26T06:45:44.591060Z",
     "start_time": "2024-06-26T06:45:44.334066Z"
    }
   },
   "cell_type": "code",
   "source": "df.withColumn('dates',lit(date.today())).show()",
   "id": "414b689730aa5f98",
   "outputs": [
    {
     "name": "stdout",
     "output_type": "stream",
     "text": [
      "+---+--------+--------+-------------------+---+-----+------+----------+\n",
      "| id|breed_id|nickname|           birthday|age|color|weight|     dates|\n",
      "+---+--------+--------+-------------------+---+-----+------+----------+\n",
      "|  1|       1|    King|2014-11-22 12:30:31|  5|brown|  10.0|2024-06-26|\n",
      "|  2|       3|   Argus|2016-11-22 10:05:10| 10| NULL|   5.5|2024-06-26|\n",
      "|  3|       1|  Chewie|2016-11-22 10:05:10| 15| NULL|    12|2024-06-26|\n",
      "|  3|       2|   Maple|2018-11-22 10:05:10| 17|white|   3.4|2024-06-26|\n",
      "|  4|       2|    NULL|2019-01-01 10:05:10| 13| NULL|    10|2024-06-26|\n",
      "+---+--------+--------+-------------------+---+-----+------+----------+\n",
      "\n"
     ]
    }
   ],
   "execution_count": 17
  },
  {
   "metadata": {
    "ExecuteTime": {
     "end_time": "2024-06-26T06:46:24.469409Z",
     "start_time": "2024-06-26T06:46:24.320066Z"
    }
   },
   "cell_type": "code",
   "source": "df.withColumn('random_constant',lit(10)).show()",
   "id": "65cbc9cc33dd09bb",
   "outputs": [
    {
     "name": "stdout",
     "output_type": "stream",
     "text": [
      "+---+--------+--------+-------------------+---+-----+------+---------------+\n",
      "| id|breed_id|nickname|           birthday|age|color|weight|random_constant|\n",
      "+---+--------+--------+-------------------+---+-----+------+---------------+\n",
      "|  1|       1|    King|2014-11-22 12:30:31|  5|brown|  10.0|             10|\n",
      "|  2|       3|   Argus|2016-11-22 10:05:10| 10| NULL|   5.5|             10|\n",
      "|  3|       1|  Chewie|2016-11-22 10:05:10| 15| NULL|    12|             10|\n",
      "|  3|       2|   Maple|2018-11-22 10:05:10| 17|white|   3.4|             10|\n",
      "|  4|       2|    NULL|2019-01-01 10:05:10| 13| NULL|    10|             10|\n",
      "+---+--------+--------+-------------------+---+-----+------+---------------+\n",
      "\n"
     ]
    }
   ],
   "execution_count": 18
  },
  {
   "metadata": {
    "ExecuteTime": {
     "end_time": "2024-06-26T06:48:46.209935Z",
     "start_time": "2024-06-26T06:48:46.192637Z"
    }
   },
   "cell_type": "code",
   "source": "df.printSchema()",
   "id": "81e0a00ca76af432",
   "outputs": [
    {
     "name": "stdout",
     "output_type": "stream",
     "text": [
      "root\n",
      " |-- id: string (nullable = true)\n",
      " |-- breed_id: string (nullable = true)\n",
      " |-- nickname: string (nullable = true)\n",
      " |-- birthday: string (nullable = true)\n",
      " |-- age: string (nullable = true)\n",
      " |-- color: string (nullable = true)\n",
      " |-- weight: string (nullable = true)\n",
      "\n"
     ]
    }
   ],
   "execution_count": 20
  },
  {
   "metadata": {
    "ExecuteTime": {
     "end_time": "2024-06-26T06:51:47.577703Z",
     "start_time": "2024-06-26T06:51:47.525615Z"
    }
   },
   "cell_type": "code",
   "source": "df.withColumn('birthday',col('birthday').cast('date')).withColumn('age',col('age').cast('integer')).printSchema()",
   "id": "dda369a4d9764790",
   "outputs": [
    {
     "name": "stdout",
     "output_type": "stream",
     "text": [
      "root\n",
      " |-- id: string (nullable = true)\n",
      " |-- breed_id: string (nullable = true)\n",
      " |-- nickname: string (nullable = true)\n",
      " |-- birthday: date (nullable = true)\n",
      " |-- age: integer (nullable = true)\n",
      " |-- color: string (nullable = true)\n",
      " |-- weight: string (nullable = true)\n",
      "\n"
     ]
    }
   ],
   "execution_count": 28
  },
  {
   "metadata": {
    "ExecuteTime": {
     "end_time": "2024-06-26T06:54:29.673818Z",
     "start_time": "2024-06-26T06:54:29.492183Z"
    }
   },
   "cell_type": "code",
   "source": "df.withColumn('weight',col('weight').cast('integer')).show()",
   "id": "cd87ec676c28520e",
   "outputs": [
    {
     "name": "stdout",
     "output_type": "stream",
     "text": [
      "+---+--------+--------+-------------------+---+-----+------+\n",
      "| id|breed_id|nickname|           birthday|age|color|weight|\n",
      "+---+--------+--------+-------------------+---+-----+------+\n",
      "|  1|       1|    King|2014-11-22 12:30:31|  5|brown|    10|\n",
      "|  2|       3|   Argus|2016-11-22 10:05:10| 10| NULL|     5|\n",
      "|  3|       1|  Chewie|2016-11-22 10:05:10| 15| NULL|    12|\n",
      "|  3|       2|   Maple|2018-11-22 10:05:10| 17|white|     3|\n",
      "|  4|       2|    NULL|2019-01-01 10:05:10| 13| NULL|    10|\n",
      "+---+--------+--------+-------------------+---+-----+------+\n",
      "\n"
     ]
    }
   ],
   "execution_count": 29
  },
  {
   "metadata": {
    "ExecuteTime": {
     "end_time": "2024-06-26T06:55:48.059296Z",
     "start_time": "2024-06-26T06:55:47.833186Z"
    }
   },
   "cell_type": "code",
   "source": "df.where((col('age')>5) & (col('weight')<=5)).show()",
   "id": "582e6e34e74b91a7",
   "outputs": [
    {
     "name": "stdout",
     "output_type": "stream",
     "text": [
      "+---+--------+--------+-------------------+---+-----+------+\n",
      "| id|breed_id|nickname|           birthday|age|color|weight|\n",
      "+---+--------+--------+-------------------+---+-----+------+\n",
      "|  2|       3|   Argus|2016-11-22 10:05:10| 10| NULL|   5.5|\n",
      "|  3|       2|   Maple|2018-11-22 10:05:10| 17|white|   3.4|\n",
      "+---+--------+--------+-------------------+---+-----+------+\n",
      "\n"
     ]
    }
   ],
   "execution_count": 30
  },
  {
   "metadata": {
    "ExecuteTime": {
     "end_time": "2024-06-26T06:56:23.061485Z",
     "start_time": "2024-06-26T06:56:22.894645Z"
    }
   },
   "cell_type": "code",
   "source": "df.filter((col('age')>5) & (col('weight')<=5)).show()",
   "id": "540002edd966576b",
   "outputs": [
    {
     "name": "stdout",
     "output_type": "stream",
     "text": [
      "+---+--------+--------+-------------------+---+-----+------+\n",
      "| id|breed_id|nickname|           birthday|age|color|weight|\n",
      "+---+--------+--------+-------------------+---+-----+------+\n",
      "|  2|       3|   Argus|2016-11-22 10:05:10| 10| NULL|   5.5|\n",
      "|  3|       2|   Maple|2018-11-22 10:05:10| 17|white|   3.4|\n",
      "+---+--------+--------+-------------------+---+-----+------+\n",
      "\n"
     ]
    }
   ],
   "execution_count": 31
  },
  {
   "metadata": {
    "ExecuteTime": {
     "end_time": "2024-06-26T07:02:51.310841Z",
     "start_time": "2024-06-26T07:02:51.066888Z"
    }
   },
   "cell_type": "code",
   "source": "df.withColumn('result',col('color')!='white').show()",
   "id": "575bee71340418",
   "outputs": [
    {
     "name": "stdout",
     "output_type": "stream",
     "text": [
      "+---+--------+--------+-------------------+---+-----+------+------+\n",
      "| id|breed_id|nickname|           birthday|age|color|weight|result|\n",
      "+---+--------+--------+-------------------+---+-----+------+------+\n",
      "|  1|       1|    King|2014-11-22 12:30:31|  5|brown|  10.0|  true|\n",
      "|  2|       3|   Argus|2016-11-22 10:05:10| 10| NULL|   5.5|  NULL|\n",
      "|  3|       1|  Chewie|2016-11-22 10:05:10| 15| NULL|    12|  NULL|\n",
      "|  3|       2|   Maple|2018-11-22 10:05:10| 17|white|   3.4| false|\n",
      "|  4|       2|    NULL|2019-01-01 10:05:10| 13| NULL|    10|  NULL|\n",
      "+---+--------+--------+-------------------+---+-----+------+------+\n",
      "\n"
     ]
    }
   ],
   "execution_count": 32
  },
  {
   "metadata": {
    "ExecuteTime": {
     "end_time": "2024-06-26T07:10:03.163787Z",
     "start_time": "2024-06-26T07:10:03.116900Z"
    }
   },
   "cell_type": "code",
   "source": [
    "df = df.withColumn('age',col('age').cast('integer')).withColumn('weight',col('weight').cast('integer'))\n",
    "df.printSchema()"
   ],
   "id": "c5d06f84977356da",
   "outputs": [
    {
     "name": "stdout",
     "output_type": "stream",
     "text": [
      "root\n",
      " |-- id: string (nullable = true)\n",
      " |-- breed_id: string (nullable = true)\n",
      " |-- nickname: string (nullable = true)\n",
      " |-- birthday: string (nullable = true)\n",
      " |-- age: integer (nullable = true)\n",
      " |-- color: string (nullable = true)\n",
      " |-- weight: integer (nullable = true)\n",
      "\n"
     ]
    }
   ],
   "execution_count": 43
  },
  {
   "metadata": {
    "ExecuteTime": {
     "end_time": "2024-06-26T07:10:10.216967Z",
     "start_time": "2024-06-26T07:10:10.045224Z"
    }
   },
   "cell_type": "code",
   "source": "df.withColumn('maturity',when(col('age')<=5,'young').when((col('age')>5) & (col('age')<14),'middle_age').otherwise('old')).show()",
   "id": "9f6487aab9a72f47",
   "outputs": [
    {
     "name": "stdout",
     "output_type": "stream",
     "text": [
      "+---+--------+--------+-------------------+---+-----+------+----------+\n",
      "| id|breed_id|nickname|           birthday|age|color|weight|  maturity|\n",
      "+---+--------+--------+-------------------+---+-----+------+----------+\n",
      "|  1|       1|    King|2014-11-22 12:30:31|  5|brown|    10|     young|\n",
      "|  2|       3|   Argus|2016-11-22 10:05:10| 10| NULL|     5|middle_age|\n",
      "|  3|       1|  Chewie|2016-11-22 10:05:10| 15| NULL|    12|       old|\n",
      "|  3|       2|   Maple|2018-11-22 10:05:10| 17|white|     3|       old|\n",
      "|  4|       2|    NULL|2019-01-01 10:05:10| 13| NULL|    10|middle_age|\n",
      "+---+--------+--------+-------------------+---+-----+------+----------+\n",
      "\n"
     ]
    }
   ],
   "execution_count": 44
  },
  {
   "metadata": {
    "ExecuteTime": {
     "end_time": "2024-06-26T07:11:33.091012Z",
     "start_time": "2024-06-26T07:11:32.950137Z"
    }
   },
   "cell_type": "code",
   "source": "df.select('nickname').fillna('ngawang').show()",
   "id": "b19efeee076e455a",
   "outputs": [
    {
     "name": "stdout",
     "output_type": "stream",
     "text": [
      "+--------+\n",
      "|nickname|\n",
      "+--------+\n",
      "|    King|\n",
      "|   Argus|\n",
      "|  Chewie|\n",
      "|   Maple|\n",
      "| ngawang|\n",
      "+--------+\n",
      "\n"
     ]
    }
   ],
   "execution_count": 46
  },
  {
   "metadata": {
    "ExecuteTime": {
     "end_time": "2024-06-26T07:14:12.569812Z",
     "start_time": "2024-06-26T07:14:12.397974Z"
    }
   },
   "cell_type": "code",
   "source": "df.fillna({'nickname':'Ngawang','color':'Ngawanguu'}).show()",
   "id": "e9c352d9ffe85c38",
   "outputs": [
    {
     "name": "stdout",
     "output_type": "stream",
     "text": [
      "+---+--------+--------+-------------------+---+---------+------+\n",
      "| id|breed_id|nickname|           birthday|age|    color|weight|\n",
      "+---+--------+--------+-------------------+---+---------+------+\n",
      "|  1|       1|    King|2014-11-22 12:30:31|  5|    brown|    10|\n",
      "|  2|       3|   Argus|2016-11-22 10:05:10| 10|Ngawanguu|     5|\n",
      "|  3|       1|  Chewie|2016-11-22 10:05:10| 15|Ngawanguu|    12|\n",
      "|  3|       2|   Maple|2018-11-22 10:05:10| 17|    white|     3|\n",
      "|  4|       2| Ngawang|2019-01-01 10:05:10| 13|Ngawanguu|    10|\n",
      "+---+--------+--------+-------------------+---+---------+------+\n",
      "\n"
     ]
    }
   ],
   "execution_count": 48
  },
  {
   "metadata": {
    "ExecuteTime": {
     "end_time": "2024-06-26T07:25:47.435867Z",
     "start_time": "2024-06-26T07:25:47.225866Z"
    }
   },
   "cell_type": "code",
   "source": "df.withColumn('xyz',coalesce(col('color'),col('nickname'),lit('default'))).show()",
   "id": "c5cd899b2d633357",
   "outputs": [
    {
     "name": "stdout",
     "output_type": "stream",
     "text": [
      "+---+--------+--------+-------------------+---+-----+------+-------+\n",
      "| id|breed_id|nickname|           birthday|age|color|weight|    xyz|\n",
      "+---+--------+--------+-------------------+---+-----+------+-------+\n",
      "|  1|       1|    King|2014-11-22 12:30:31|  5|brown|    10|  brown|\n",
      "|  2|       3|   Argus|2016-11-22 10:05:10| 10| NULL|     5|  Argus|\n",
      "|  3|       1|  Chewie|2016-11-22 10:05:10| 15| NULL|    12| Chewie|\n",
      "|  3|       2|   Maple|2018-11-22 10:05:10| 17|white|     3|  white|\n",
      "|  4|       2|    NULL|2019-01-01 10:05:10| 13| NULL|    10|default|\n",
      "+---+--------+--------+-------------------+---+-----+------+-------+\n",
      "\n"
     ]
    }
   ],
   "execution_count": 51
  },
  {
   "metadata": {
    "ExecuteTime": {
     "end_time": "2024-06-26T07:28:32.252091Z",
     "start_time": "2024-06-26T07:28:30.676749Z"
    }
   },
   "cell_type": "code",
   "source": "df.groupBy('breed_id').agg({'*':'count','age':'sum','weight':'sum'}).show()",
   "id": "b54b5acf3e5422c1",
   "outputs": [
    {
     "name": "stdout",
     "output_type": "stream",
     "text": [
      "+--------+-----------+--------+--------+\n",
      "|breed_id|sum(weight)|count(1)|sum(age)|\n",
      "+--------+-----------+--------+--------+\n",
      "|       3|          5|       1|      10|\n",
      "|       1|         22|       2|      20|\n",
      "|       2|         13|       2|      30|\n",
      "+--------+-----------+--------+--------+\n",
      "\n"
     ]
    }
   ],
   "execution_count": 53
  },
  {
   "metadata": {
    "ExecuteTime": {
     "end_time": "2024-06-26T07:34:22.628078Z",
     "start_time": "2024-06-26T07:34:22.388421Z"
    }
   },
   "cell_type": "code",
   "source": "df.orderBy('birthday').groupBy('breed_id').agg(count(\"*\").alias('count'),sum(\"age\").alias('sum_age'),sum('weight').alias('sum_weight')).show()",
   "id": "e3145f6c16d7f3ba",
   "outputs": [
    {
     "name": "stdout",
     "output_type": "stream",
     "text": [
      "+--------+-----+-------+----------+\n",
      "|breed_id|count|sum_age|sum_weight|\n",
      "+--------+-----+-------+----------+\n",
      "|       3|    1|     10|         5|\n",
      "|       1|    2|     20|        22|\n",
      "|       2|    2|     30|        13|\n",
      "+--------+-----+-------+----------+\n",
      "\n"
     ]
    }
   ],
   "execution_count": 60
  },
  {
   "metadata": {
    "ExecuteTime": {
     "end_time": "2024-06-26T07:44:39.241023Z",
     "start_time": "2024-06-26T07:44:39.216757Z"
    }
   },
   "cell_type": "code",
   "source": "window = Window.partitionBy('breed_id').orderBy(\"age\")",
   "id": "8065d85edffe755c",
   "outputs": [],
   "execution_count": 93
  },
  {
   "metadata": {
    "ExecuteTime": {
     "end_time": "2024-06-26T07:44:39.863402Z",
     "start_time": "2024-06-26T07:44:39.814973Z"
    }
   },
   "cell_type": "code",
   "source": [
    "pets = spark.createDataFrame(\n",
    "    [\n",
    "        (1, 1, datetime(2018, 1, 1, 1 ,1, 1), 'Bear', 5),\n",
    "        (2, 1, datetime(2010, 1, 1, 1 ,1, 1), 'Chewie', 15),\n",
    "        (3, 1, datetime(2015, 1, 1, 1 ,1, 1), 'Roger', 10),\n",
    "        (4, 2, datetime(2015, 1, 2, 2 ,3, 4), 'Roger', 10),\n",
    "        (5, 2, datetime(2015, 5, 6, 7 ,8, 9), 'Roger', 10),\n",
    "    ], ['id', 'breed_id', 'birthday', 'nickname', 'age']\n",
    ")\n"
   ],
   "id": "89db478fde305a79",
   "outputs": [],
   "execution_count": 94
  },
  {
   "metadata": {
    "ExecuteTime": {
     "end_time": "2024-06-26T07:44:40.548512Z",
     "start_time": "2024-06-26T07:44:40.527343Z"
    }
   },
   "cell_type": "code",
   "source": "pets = pets.withColumn('row_number',row_number().over(window))",
   "id": "92b826454521822",
   "outputs": [],
   "execution_count": 95
  },
  {
   "metadata": {
    "ExecuteTime": {
     "end_time": "2024-06-26T07:44:42.661388Z",
     "start_time": "2024-06-26T07:44:41.327479Z"
    }
   },
   "cell_type": "code",
   "source": [
    "window2 = Window.partitionBy('breed_id').orderBy('row_number')\n",
    "\n",
    "pets.withColumn(\"Sum_Age\",sum('age').over(window2)).show()"
   ],
   "id": "72cd8dcfbe4a676b",
   "outputs": [
    {
     "name": "stdout",
     "output_type": "stream",
     "text": [
      "+---+--------+-------------------+--------+---+----------+-------+\n",
      "| id|breed_id|           birthday|nickname|age|row_number|Sum_Age|\n",
      "+---+--------+-------------------+--------+---+----------+-------+\n",
      "|  1|       1|2018-01-01 01:01:01|    Bear|  5|         1|      5|\n",
      "|  3|       1|2015-01-01 01:01:01|   Roger| 10|         2|     15|\n",
      "|  2|       1|2010-01-01 01:01:01|  Chewie| 15|         3|     30|\n",
      "|  4|       2|2015-01-02 02:03:04|   Roger| 10|         1|     10|\n",
      "|  5|       2|2015-05-06 07:08:09|   Roger| 10|         2|     20|\n",
      "+---+--------+-------------------+--------+---+----------+-------+\n",
      "\n"
     ]
    }
   ],
   "execution_count": 96
  },
  {
   "metadata": {
    "ExecuteTime": {
     "end_time": "2024-06-26T07:51:26.670985Z",
     "start_time": "2024-06-26T07:51:25.539493Z"
    }
   },
   "cell_type": "code",
   "source": [
    "window3 = Window.partitionBy('breed_id').orderBy('age')\n",
    "pets.withColumn('Count_Id',dense_rank().over(window3)).show()"
   ],
   "id": "584d632194930b5a",
   "outputs": [
    {
     "name": "stdout",
     "output_type": "stream",
     "text": [
      "+---+--------+-------------------+--------+---+----------+--------+\n",
      "| id|breed_id|           birthday|nickname|age|row_number|Count_Id|\n",
      "+---+--------+-------------------+--------+---+----------+--------+\n",
      "|  1|       1|2018-01-01 01:01:01|    Bear|  5|         1|       1|\n",
      "|  3|       1|2015-01-01 01:01:01|   Roger| 10|         2|       2|\n",
      "|  2|       1|2010-01-01 01:01:01|  Chewie| 15|         3|       3|\n",
      "|  4|       2|2015-01-02 02:03:04|   Roger| 10|         1|       1|\n",
      "|  5|       2|2015-05-06 07:08:09|   Roger| 10|         2|       1|\n",
      "+---+--------+-------------------+--------+---+----------+--------+\n",
      "\n"
     ]
    }
   ],
   "execution_count": 106
  },
  {
   "metadata": {},
   "cell_type": "code",
   "outputs": [],
   "execution_count": null,
   "source": "",
   "id": "6a24cc3a4fdb740f"
  }
 ],
 "metadata": {
  "kernelspec": {
   "display_name": "Python 3",
   "language": "python",
   "name": "python3"
  },
  "language_info": {
   "codemirror_mode": {
    "name": "ipython",
    "version": 2
   },
   "file_extension": ".py",
   "mimetype": "text/x-python",
   "name": "python",
   "nbconvert_exporter": "python",
   "pygments_lexer": "ipython2",
   "version": "2.7.6"
  }
 },
 "nbformat": 4,
 "nbformat_minor": 5
}
