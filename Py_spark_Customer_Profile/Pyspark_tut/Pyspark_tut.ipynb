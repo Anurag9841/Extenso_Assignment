{
 "cells": [
  {
   "cell_type": "code",
   "id": "initial_id",
   "metadata": {
    "collapsed": true,
    "ExecuteTime": {
     "end_time": "2024-06-19T03:18:37.945876Z",
     "start_time": "2024-06-19T03:18:36.815278Z"
    }
   },
   "source": [
    "from pyspark.sql import SparkSession\n",
    "from pyspark.sql import types as T\n",
    "from pyspark.sql.functions import  *\n",
    "from datetime import date\n",
    "from pyspark.sql.types import * \n",
    "from pyspark.sql import Window\n",
    "from datetime import datetime"
   ],
   "outputs": [],
   "execution_count": 1
  },
  {
   "metadata": {
    "ExecuteTime": {
     "end_time": "2024-06-19T03:18:59.052957Z",
     "start_time": "2024-06-19T03:18:37.954873Z"
    }
   },
   "cell_type": "code",
   "source": [
    "spark = (\n",
    "    SparkSession.builder\n",
    "    .master(\"local\")\n",
    "    .appName(\"Exploring Joins\")\n",
    "    .config(\"spark.some.config.option\", \"some-value\")\n",
    "    .getOrCreate()\n",
    ")\n",
    "sc = spark.sparkContext"
   ],
   "id": "582eb1ded42ac18c",
   "outputs": [],
   "execution_count": 2
  },
  {
   "metadata": {
    "ExecuteTime": {
     "end_time": "2024-06-19T03:19:04.110069Z",
     "start_time": "2024-06-19T03:18:59.052957Z"
    }
   },
   "cell_type": "code",
   "source": "data = spark.read.csv('pets.csv',header=True)",
   "id": "e076cce12ad904bc",
   "outputs": [],
   "execution_count": 3
  },
  {
   "metadata": {},
   "cell_type": "markdown",
   "source": "### Looking at your Data",
   "id": "1ff6592fef76dc23"
  },
  {
   "metadata": {
    "ExecuteTime": {
     "end_time": "2024-06-19T03:19:04.375690Z",
     "start_time": "2024-06-19T03:19:04.110069Z"
    }
   },
   "cell_type": "code",
   "source": [
    "# First method is collect method\n",
    "data.collect()"
   ],
   "id": "d6be92f5827b8a19",
   "outputs": [
    {
     "data": {
      "text/plain": [
       "[Row(id='1', breed_id='1', nickname='King', birthday='2014-11-22 12:30:31', age='5', color='brown', weight='10.0'),\n",
       " Row(id='2', breed_id='3', nickname='Argus', birthday='2016-11-22 10:05:10', age='10', color=None, weight='5.5'),\n",
       " Row(id='3', breed_id='1', nickname='Chewie', birthday='2016-11-22 10:05:10', age='15', color=None, weight='12'),\n",
       " Row(id='3', breed_id='2', nickname='Maple', birthday='2018-11-22 10:05:10', age='17', color='white', weight='3.4'),\n",
       " Row(id='4', breed_id='2', nickname=None, birthday='2019-01-01 10:05:10', age='13', color=None, weight='10')]"
      ]
     },
     "execution_count": 4,
     "metadata": {},
     "output_type": "execute_result"
    }
   ],
   "execution_count": 4
  },
  {
   "metadata": {
    "ExecuteTime": {
     "end_time": "2024-06-19T03:19:06.158536Z",
     "start_time": "2024-06-19T03:19:04.375690Z"
    }
   },
   "cell_type": "code",
   "source": [
    "# Second method is toPandas method\n",
    "data.toPandas()"
   ],
   "id": "9289c542e51ca4ce",
   "outputs": [
    {
     "data": {
      "text/plain": [
       "  id breed_id nickname             birthday age  color weight\n",
       "0  1        1     King  2014-11-22 12:30:31   5  brown   10.0\n",
       "1  2        3    Argus  2016-11-22 10:05:10  10   None    5.5\n",
       "2  3        1   Chewie  2016-11-22 10:05:10  15   None     12\n",
       "3  3        2    Maple  2018-11-22 10:05:10  17  white    3.4\n",
       "4  4        2     None  2019-01-01 10:05:10  13   None     10"
      ],
      "text/html": [
       "<div>\n",
       "<style scoped>\n",
       "    .dataframe tbody tr th:only-of-type {\n",
       "        vertical-align: middle;\n",
       "    }\n",
       "\n",
       "    .dataframe tbody tr th {\n",
       "        vertical-align: top;\n",
       "    }\n",
       "\n",
       "    .dataframe thead th {\n",
       "        text-align: right;\n",
       "    }\n",
       "</style>\n",
       "<table border=\"1\" class=\"dataframe\">\n",
       "  <thead>\n",
       "    <tr style=\"text-align: right;\">\n",
       "      <th></th>\n",
       "      <th>id</th>\n",
       "      <th>breed_id</th>\n",
       "      <th>nickname</th>\n",
       "      <th>birthday</th>\n",
       "      <th>age</th>\n",
       "      <th>color</th>\n",
       "      <th>weight</th>\n",
       "    </tr>\n",
       "  </thead>\n",
       "  <tbody>\n",
       "    <tr>\n",
       "      <th>0</th>\n",
       "      <td>1</td>\n",
       "      <td>1</td>\n",
       "      <td>King</td>\n",
       "      <td>2014-11-22 12:30:31</td>\n",
       "      <td>5</td>\n",
       "      <td>brown</td>\n",
       "      <td>10.0</td>\n",
       "    </tr>\n",
       "    <tr>\n",
       "      <th>1</th>\n",
       "      <td>2</td>\n",
       "      <td>3</td>\n",
       "      <td>Argus</td>\n",
       "      <td>2016-11-22 10:05:10</td>\n",
       "      <td>10</td>\n",
       "      <td>None</td>\n",
       "      <td>5.5</td>\n",
       "    </tr>\n",
       "    <tr>\n",
       "      <th>2</th>\n",
       "      <td>3</td>\n",
       "      <td>1</td>\n",
       "      <td>Chewie</td>\n",
       "      <td>2016-11-22 10:05:10</td>\n",
       "      <td>15</td>\n",
       "      <td>None</td>\n",
       "      <td>12</td>\n",
       "    </tr>\n",
       "    <tr>\n",
       "      <th>3</th>\n",
       "      <td>3</td>\n",
       "      <td>2</td>\n",
       "      <td>Maple</td>\n",
       "      <td>2018-11-22 10:05:10</td>\n",
       "      <td>17</td>\n",
       "      <td>white</td>\n",
       "      <td>3.4</td>\n",
       "    </tr>\n",
       "    <tr>\n",
       "      <th>4</th>\n",
       "      <td>4</td>\n",
       "      <td>2</td>\n",
       "      <td>None</td>\n",
       "      <td>2019-01-01 10:05:10</td>\n",
       "      <td>13</td>\n",
       "      <td>None</td>\n",
       "      <td>10</td>\n",
       "    </tr>\n",
       "  </tbody>\n",
       "</table>\n",
       "</div>"
      ]
     },
     "execution_count": 5,
     "metadata": {},
     "output_type": "execute_result"
    }
   ],
   "execution_count": 5
  },
  {
   "metadata": {
    "ExecuteTime": {
     "end_time": "2024-06-19T03:19:06.330412Z",
     "start_time": "2024-06-19T03:19:06.158536Z"
    }
   },
   "cell_type": "code",
   "source": [
    "# Third method is head method\n",
    "data.head(n=3)"
   ],
   "id": "e7a05c1d7b1dce94",
   "outputs": [
    {
     "data": {
      "text/plain": [
       "[Row(id='1', breed_id='1', nickname='King', birthday='2014-11-22 12:30:31', age='5', color='brown', weight='10.0'),\n",
       " Row(id='2', breed_id='3', nickname='Argus', birthday='2016-11-22 10:05:10', age='10', color=None, weight='5.5'),\n",
       " Row(id='3', breed_id='1', nickname='Chewie', birthday='2016-11-22 10:05:10', age='15', color=None, weight='12')]"
      ]
     },
     "execution_count": 6,
     "metadata": {},
     "output_type": "execute_result"
    }
   ],
   "execution_count": 6
  },
  {
   "metadata": {
    "ExecuteTime": {
     "end_time": "2024-06-19T03:19:06.948871Z",
     "start_time": "2024-06-19T03:19:06.330412Z"
    }
   },
   "cell_type": "code",
   "source": "data.show(n=3)",
   "id": "2209a3ec2045e106",
   "outputs": [
    {
     "name": "stdout",
     "output_type": "stream",
     "text": [
      "+---+--------+--------+-------------------+---+-----+------+\n",
      "| id|breed_id|nickname|           birthday|age|color|weight|\n",
      "+---+--------+--------+-------------------+---+-----+------+\n",
      "|  1|       1|    King|2014-11-22 12:30:31|  5|brown|  10.0|\n",
      "|  2|       3|   Argus|2016-11-22 10:05:10| 10| NULL|   5.5|\n",
      "|  3|       1|  Chewie|2016-11-22 10:05:10| 15| NULL|    12|\n",
      "+---+--------+--------+-------------------+---+-----+------+\n",
      "only showing top 3 rows\n",
      "\n"
     ]
    }
   ],
   "execution_count": 7
  },
  {
   "metadata": {},
   "cell_type": "markdown",
   "source": "### Selecting a Subset of Columns",
   "id": "6480eee8c9e38605"
  },
  {
   "metadata": {
    "ExecuteTime": {
     "end_time": "2024-06-19T03:19:07.236085Z",
     "start_time": "2024-06-19T03:19:06.948871Z"
    }
   },
   "cell_type": "code",
   "source": "data.select(\"id\",\"breed_id\",\"nickname\",\"age\",\"weight\").toPandas()",
   "id": "3682ebb00de8ce28",
   "outputs": [
    {
     "data": {
      "text/plain": [
       "  id breed_id nickname age weight\n",
       "0  1        1     King   5   10.0\n",
       "1  2        3    Argus  10    5.5\n",
       "2  3        1   Chewie  15     12\n",
       "3  3        2    Maple  17    3.4\n",
       "4  4        2     None  13     10"
      ],
      "text/html": [
       "<div>\n",
       "<style scoped>\n",
       "    .dataframe tbody tr th:only-of-type {\n",
       "        vertical-align: middle;\n",
       "    }\n",
       "\n",
       "    .dataframe tbody tr th {\n",
       "        vertical-align: top;\n",
       "    }\n",
       "\n",
       "    .dataframe thead th {\n",
       "        text-align: right;\n",
       "    }\n",
       "</style>\n",
       "<table border=\"1\" class=\"dataframe\">\n",
       "  <thead>\n",
       "    <tr style=\"text-align: right;\">\n",
       "      <th></th>\n",
       "      <th>id</th>\n",
       "      <th>breed_id</th>\n",
       "      <th>nickname</th>\n",
       "      <th>age</th>\n",
       "      <th>weight</th>\n",
       "    </tr>\n",
       "  </thead>\n",
       "  <tbody>\n",
       "    <tr>\n",
       "      <th>0</th>\n",
       "      <td>1</td>\n",
       "      <td>1</td>\n",
       "      <td>King</td>\n",
       "      <td>5</td>\n",
       "      <td>10.0</td>\n",
       "    </tr>\n",
       "    <tr>\n",
       "      <th>1</th>\n",
       "      <td>2</td>\n",
       "      <td>3</td>\n",
       "      <td>Argus</td>\n",
       "      <td>10</td>\n",
       "      <td>5.5</td>\n",
       "    </tr>\n",
       "    <tr>\n",
       "      <th>2</th>\n",
       "      <td>3</td>\n",
       "      <td>1</td>\n",
       "      <td>Chewie</td>\n",
       "      <td>15</td>\n",
       "      <td>12</td>\n",
       "    </tr>\n",
       "    <tr>\n",
       "      <th>3</th>\n",
       "      <td>3</td>\n",
       "      <td>2</td>\n",
       "      <td>Maple</td>\n",
       "      <td>17</td>\n",
       "      <td>3.4</td>\n",
       "    </tr>\n",
       "    <tr>\n",
       "      <th>4</th>\n",
       "      <td>4</td>\n",
       "      <td>2</td>\n",
       "      <td>None</td>\n",
       "      <td>13</td>\n",
       "      <td>10</td>\n",
       "    </tr>\n",
       "  </tbody>\n",
       "</table>\n",
       "</div>"
      ]
     },
     "execution_count": 8,
     "metadata": {},
     "output_type": "execute_result"
    }
   ],
   "execution_count": 8
  },
  {
   "metadata": {
    "ExecuteTime": {
     "end_time": "2024-06-19T03:19:07.430520Z",
     "start_time": "2024-06-19T03:19:07.236085Z"
    }
   },
   "cell_type": "code",
   "source": "data.drop(\"birthday\",\"color\").toPandas()",
   "id": "58cbcf93b800816c",
   "outputs": [
    {
     "data": {
      "text/plain": [
       "  id breed_id nickname age weight\n",
       "0  1        1     King   5   10.0\n",
       "1  2        3    Argus  10    5.5\n",
       "2  3        1   Chewie  15     12\n",
       "3  3        2    Maple  17    3.4\n",
       "4  4        2     None  13     10"
      ],
      "text/html": [
       "<div>\n",
       "<style scoped>\n",
       "    .dataframe tbody tr th:only-of-type {\n",
       "        vertical-align: middle;\n",
       "    }\n",
       "\n",
       "    .dataframe tbody tr th {\n",
       "        vertical-align: top;\n",
       "    }\n",
       "\n",
       "    .dataframe thead th {\n",
       "        text-align: right;\n",
       "    }\n",
       "</style>\n",
       "<table border=\"1\" class=\"dataframe\">\n",
       "  <thead>\n",
       "    <tr style=\"text-align: right;\">\n",
       "      <th></th>\n",
       "      <th>id</th>\n",
       "      <th>breed_id</th>\n",
       "      <th>nickname</th>\n",
       "      <th>age</th>\n",
       "      <th>weight</th>\n",
       "    </tr>\n",
       "  </thead>\n",
       "  <tbody>\n",
       "    <tr>\n",
       "      <th>0</th>\n",
       "      <td>1</td>\n",
       "      <td>1</td>\n",
       "      <td>King</td>\n",
       "      <td>5</td>\n",
       "      <td>10.0</td>\n",
       "    </tr>\n",
       "    <tr>\n",
       "      <th>1</th>\n",
       "      <td>2</td>\n",
       "      <td>3</td>\n",
       "      <td>Argus</td>\n",
       "      <td>10</td>\n",
       "      <td>5.5</td>\n",
       "    </tr>\n",
       "    <tr>\n",
       "      <th>2</th>\n",
       "      <td>3</td>\n",
       "      <td>1</td>\n",
       "      <td>Chewie</td>\n",
       "      <td>15</td>\n",
       "      <td>12</td>\n",
       "    </tr>\n",
       "    <tr>\n",
       "      <th>3</th>\n",
       "      <td>3</td>\n",
       "      <td>2</td>\n",
       "      <td>Maple</td>\n",
       "      <td>17</td>\n",
       "      <td>3.4</td>\n",
       "    </tr>\n",
       "    <tr>\n",
       "      <th>4</th>\n",
       "      <td>4</td>\n",
       "      <td>2</td>\n",
       "      <td>None</td>\n",
       "      <td>13</td>\n",
       "      <td>10</td>\n",
       "    </tr>\n",
       "  </tbody>\n",
       "</table>\n",
       "</div>"
      ]
     },
     "execution_count": 9,
     "metadata": {},
     "output_type": "execute_result"
    }
   ],
   "execution_count": 9
  },
  {
   "metadata": {
    "ExecuteTime": {
     "end_time": "2024-06-19T03:19:07.827804Z",
     "start_time": "2024-06-19T03:19:07.430520Z"
    }
   },
   "cell_type": "code",
   "source": [
    "data.withColumn(\"n-nickname_copy\",col(\"nickname\")).\\\n",
    "    withColumn('nickname_capatilize',upper(col('nickname'))).toPandas()"
   ],
   "id": "f2a83bf70a26bc6f",
   "outputs": [
    {
     "data": {
      "text/plain": [
       "  id breed_id nickname             birthday age  color weight n-nickname_copy  \\\n",
       "0  1        1     King  2014-11-22 12:30:31   5  brown   10.0            King   \n",
       "1  2        3    Argus  2016-11-22 10:05:10  10   None    5.5           Argus   \n",
       "2  3        1   Chewie  2016-11-22 10:05:10  15   None     12          Chewie   \n",
       "3  3        2    Maple  2018-11-22 10:05:10  17  white    3.4           Maple   \n",
       "4  4        2     None  2019-01-01 10:05:10  13   None     10            None   \n",
       "\n",
       "  nickname_capatilize  \n",
       "0                KING  \n",
       "1               ARGUS  \n",
       "2              CHEWIE  \n",
       "3               MAPLE  \n",
       "4                None  "
      ],
      "text/html": [
       "<div>\n",
       "<style scoped>\n",
       "    .dataframe tbody tr th:only-of-type {\n",
       "        vertical-align: middle;\n",
       "    }\n",
       "\n",
       "    .dataframe tbody tr th {\n",
       "        vertical-align: top;\n",
       "    }\n",
       "\n",
       "    .dataframe thead th {\n",
       "        text-align: right;\n",
       "    }\n",
       "</style>\n",
       "<table border=\"1\" class=\"dataframe\">\n",
       "  <thead>\n",
       "    <tr style=\"text-align: right;\">\n",
       "      <th></th>\n",
       "      <th>id</th>\n",
       "      <th>breed_id</th>\n",
       "      <th>nickname</th>\n",
       "      <th>birthday</th>\n",
       "      <th>age</th>\n",
       "      <th>color</th>\n",
       "      <th>weight</th>\n",
       "      <th>n-nickname_copy</th>\n",
       "      <th>nickname_capatilize</th>\n",
       "    </tr>\n",
       "  </thead>\n",
       "  <tbody>\n",
       "    <tr>\n",
       "      <th>0</th>\n",
       "      <td>1</td>\n",
       "      <td>1</td>\n",
       "      <td>King</td>\n",
       "      <td>2014-11-22 12:30:31</td>\n",
       "      <td>5</td>\n",
       "      <td>brown</td>\n",
       "      <td>10.0</td>\n",
       "      <td>King</td>\n",
       "      <td>KING</td>\n",
       "    </tr>\n",
       "    <tr>\n",
       "      <th>1</th>\n",
       "      <td>2</td>\n",
       "      <td>3</td>\n",
       "      <td>Argus</td>\n",
       "      <td>2016-11-22 10:05:10</td>\n",
       "      <td>10</td>\n",
       "      <td>None</td>\n",
       "      <td>5.5</td>\n",
       "      <td>Argus</td>\n",
       "      <td>ARGUS</td>\n",
       "    </tr>\n",
       "    <tr>\n",
       "      <th>2</th>\n",
       "      <td>3</td>\n",
       "      <td>1</td>\n",
       "      <td>Chewie</td>\n",
       "      <td>2016-11-22 10:05:10</td>\n",
       "      <td>15</td>\n",
       "      <td>None</td>\n",
       "      <td>12</td>\n",
       "      <td>Chewie</td>\n",
       "      <td>CHEWIE</td>\n",
       "    </tr>\n",
       "    <tr>\n",
       "      <th>3</th>\n",
       "      <td>3</td>\n",
       "      <td>2</td>\n",
       "      <td>Maple</td>\n",
       "      <td>2018-11-22 10:05:10</td>\n",
       "      <td>17</td>\n",
       "      <td>white</td>\n",
       "      <td>3.4</td>\n",
       "      <td>Maple</td>\n",
       "      <td>MAPLE</td>\n",
       "    </tr>\n",
       "    <tr>\n",
       "      <th>4</th>\n",
       "      <td>4</td>\n",
       "      <td>2</td>\n",
       "      <td>None</td>\n",
       "      <td>2019-01-01 10:05:10</td>\n",
       "      <td>13</td>\n",
       "      <td>None</td>\n",
       "      <td>10</td>\n",
       "      <td>None</td>\n",
       "      <td>None</td>\n",
       "    </tr>\n",
       "  </tbody>\n",
       "</table>\n",
       "</div>"
      ]
     },
     "execution_count": 10,
     "metadata": {},
     "output_type": "execute_result"
    }
   ],
   "execution_count": 10
  },
  {
   "metadata": {
    "ExecuteTime": {
     "end_time": "2024-06-19T03:19:08.109035Z",
     "start_time": "2024-06-19T03:19:07.827804Z"
    }
   },
   "cell_type": "code",
   "source": "data.withColumnRenamed(\"id\",\"pet_id\").toPandas()",
   "id": "9451e039a76d1331",
   "outputs": [
    {
     "data": {
      "text/plain": [
       "  pet_id breed_id nickname             birthday age  color weight\n",
       "0      1        1     King  2014-11-22 12:30:31   5  brown   10.0\n",
       "1      2        3    Argus  2016-11-22 10:05:10  10   None    5.5\n",
       "2      3        1   Chewie  2016-11-22 10:05:10  15   None     12\n",
       "3      3        2    Maple  2018-11-22 10:05:10  17  white    3.4\n",
       "4      4        2     None  2019-01-01 10:05:10  13   None     10"
      ],
      "text/html": [
       "<div>\n",
       "<style scoped>\n",
       "    .dataframe tbody tr th:only-of-type {\n",
       "        vertical-align: middle;\n",
       "    }\n",
       "\n",
       "    .dataframe tbody tr th {\n",
       "        vertical-align: top;\n",
       "    }\n",
       "\n",
       "    .dataframe thead th {\n",
       "        text-align: right;\n",
       "    }\n",
       "</style>\n",
       "<table border=\"1\" class=\"dataframe\">\n",
       "  <thead>\n",
       "    <tr style=\"text-align: right;\">\n",
       "      <th></th>\n",
       "      <th>pet_id</th>\n",
       "      <th>breed_id</th>\n",
       "      <th>nickname</th>\n",
       "      <th>birthday</th>\n",
       "      <th>age</th>\n",
       "      <th>color</th>\n",
       "      <th>weight</th>\n",
       "    </tr>\n",
       "  </thead>\n",
       "  <tbody>\n",
       "    <tr>\n",
       "      <th>0</th>\n",
       "      <td>1</td>\n",
       "      <td>1</td>\n",
       "      <td>King</td>\n",
       "      <td>2014-11-22 12:30:31</td>\n",
       "      <td>5</td>\n",
       "      <td>brown</td>\n",
       "      <td>10.0</td>\n",
       "    </tr>\n",
       "    <tr>\n",
       "      <th>1</th>\n",
       "      <td>2</td>\n",
       "      <td>3</td>\n",
       "      <td>Argus</td>\n",
       "      <td>2016-11-22 10:05:10</td>\n",
       "      <td>10</td>\n",
       "      <td>None</td>\n",
       "      <td>5.5</td>\n",
       "    </tr>\n",
       "    <tr>\n",
       "      <th>2</th>\n",
       "      <td>3</td>\n",
       "      <td>1</td>\n",
       "      <td>Chewie</td>\n",
       "      <td>2016-11-22 10:05:10</td>\n",
       "      <td>15</td>\n",
       "      <td>None</td>\n",
       "      <td>12</td>\n",
       "    </tr>\n",
       "    <tr>\n",
       "      <th>3</th>\n",
       "      <td>3</td>\n",
       "      <td>2</td>\n",
       "      <td>Maple</td>\n",
       "      <td>2018-11-22 10:05:10</td>\n",
       "      <td>17</td>\n",
       "      <td>white</td>\n",
       "      <td>3.4</td>\n",
       "    </tr>\n",
       "    <tr>\n",
       "      <th>4</th>\n",
       "      <td>4</td>\n",
       "      <td>2</td>\n",
       "      <td>None</td>\n",
       "      <td>2019-01-01 10:05:10</td>\n",
       "      <td>13</td>\n",
       "      <td>None</td>\n",
       "      <td>10</td>\n",
       "    </tr>\n",
       "  </tbody>\n",
       "</table>\n",
       "</div>"
      ]
     },
     "execution_count": 11,
     "metadata": {},
     "output_type": "execute_result"
    }
   ],
   "execution_count": 11
  },
  {
   "metadata": {},
   "cell_type": "markdown",
   "source": "### Constant Value and Column Expression",
   "id": "c0f1de945f5e0fcd"
  },
  {
   "metadata": {
    "ExecuteTime": {
     "end_time": "2024-06-19T03:19:09.082542Z",
     "start_time": "2024-06-19T03:19:08.109035Z"
    }
   },
   "cell_type": "code",
   "source": [
    "# what if we want to insert constant value to the new column\n",
    "\n",
    "data.withColumn(\"today-date\",date.today()).toPandas()"
   ],
   "id": "7113bf61a4c2643f",
   "outputs": [
    {
     "ename": "PySparkTypeError",
     "evalue": "[NOT_COLUMN] Argument `col` should be a Column, got date.",
     "output_type": "error",
     "traceback": [
      "\u001B[1;31m---------------------------------------------------------------------------\u001B[0m",
      "\u001B[1;31mPySparkTypeError\u001B[0m                          Traceback (most recent call last)",
      "Cell \u001B[1;32mIn[12], line 3\u001B[0m\n\u001B[0;32m      1\u001B[0m \u001B[38;5;66;03m# what if we want to insert constant value to the new column\u001B[39;00m\n\u001B[1;32m----> 3\u001B[0m \u001B[43mdata\u001B[49m\u001B[38;5;241;43m.\u001B[39;49m\u001B[43mwithColumn\u001B[49m\u001B[43m(\u001B[49m\u001B[38;5;124;43m\"\u001B[39;49m\u001B[38;5;124;43mtoday-date\u001B[39;49m\u001B[38;5;124;43m\"\u001B[39;49m\u001B[43m,\u001B[49m\u001B[43mdate\u001B[49m\u001B[38;5;241;43m.\u001B[39;49m\u001B[43mtoday\u001B[49m\u001B[43m(\u001B[49m\u001B[43m)\u001B[49m\u001B[43m)\u001B[49m\u001B[38;5;241m.\u001B[39mtoPandas()\n",
      "File \u001B[1;32m~\\PycharmProjects\\Extenso_Assignment\\Py_spark_Customer_Profile\\.venv\\lib\\site-packages\\pyspark\\sql\\dataframe.py:5170\u001B[0m, in \u001B[0;36mDataFrame.withColumn\u001B[1;34m(self, colName, col)\u001B[0m\n\u001B[0;32m   5127\u001B[0m \u001B[38;5;250m\u001B[39m\u001B[38;5;124;03m\"\"\"\u001B[39;00m\n\u001B[0;32m   5128\u001B[0m \u001B[38;5;124;03mReturns a new :class:`DataFrame` by adding a column or replacing the\u001B[39;00m\n\u001B[0;32m   5129\u001B[0m \u001B[38;5;124;03mexisting column that has the same name.\u001B[39;00m\n\u001B[1;32m   (...)\u001B[0m\n\u001B[0;32m   5167\u001B[0m \u001B[38;5;124;03m+---+-----+----+\u001B[39;00m\n\u001B[0;32m   5168\u001B[0m \u001B[38;5;124;03m\"\"\"\u001B[39;00m\n\u001B[0;32m   5169\u001B[0m \u001B[38;5;28;01mif\u001B[39;00m \u001B[38;5;129;01mnot\u001B[39;00m \u001B[38;5;28misinstance\u001B[39m(col, Column):\n\u001B[1;32m-> 5170\u001B[0m     \u001B[38;5;28;01mraise\u001B[39;00m PySparkTypeError(\n\u001B[0;32m   5171\u001B[0m         error_class\u001B[38;5;241m=\u001B[39m\u001B[38;5;124m\"\u001B[39m\u001B[38;5;124mNOT_COLUMN\u001B[39m\u001B[38;5;124m\"\u001B[39m,\n\u001B[0;32m   5172\u001B[0m         message_parameters\u001B[38;5;241m=\u001B[39m{\u001B[38;5;124m\"\u001B[39m\u001B[38;5;124marg_name\u001B[39m\u001B[38;5;124m\"\u001B[39m: \u001B[38;5;124m\"\u001B[39m\u001B[38;5;124mcol\u001B[39m\u001B[38;5;124m\"\u001B[39m, \u001B[38;5;124m\"\u001B[39m\u001B[38;5;124marg_type\u001B[39m\u001B[38;5;124m\"\u001B[39m: \u001B[38;5;28mtype\u001B[39m(col)\u001B[38;5;241m.\u001B[39m\u001B[38;5;18m__name__\u001B[39m},\n\u001B[0;32m   5173\u001B[0m     )\n\u001B[0;32m   5174\u001B[0m \u001B[38;5;28;01mreturn\u001B[39;00m DataFrame(\u001B[38;5;28mself\u001B[39m\u001B[38;5;241m.\u001B[39m_jdf\u001B[38;5;241m.\u001B[39mwithColumn(colName, col\u001B[38;5;241m.\u001B[39m_jc), \u001B[38;5;28mself\u001B[39m\u001B[38;5;241m.\u001B[39msparkSession)\n",
      "\u001B[1;31mPySparkTypeError\u001B[0m: [NOT_COLUMN] Argument `col` should be a Column, got date."
     ]
    }
   ],
   "execution_count": 12
  },
  {
   "metadata": {
    "ExecuteTime": {
     "end_time": "2024-06-19T03:19:46.657886Z",
     "start_time": "2024-06-19T03:19:46.260316Z"
    }
   },
   "cell_type": "code",
   "source": [
    "'''\n",
    "Spark functions that have a col as an argument will usually require you to pass in a Column expression. As seen in the previous section, withColumn() worked fine when we gave it a column from the current df. But this isn't the case when we want set a column to a constant value.\n",
    "'''\n",
    "data.withColumn(\"today_date\",lit(date.today())).show()"
   ],
   "id": "4d256de9f43246ec",
   "outputs": [
    {
     "name": "stdout",
     "output_type": "stream",
     "text": [
      "+---+--------+--------+-------------------+---+-----+------+----------+\n",
      "| id|breed_id|nickname|           birthday|age|color|weight|today_date|\n",
      "+---+--------+--------+-------------------+---+-----+------+----------+\n",
      "|  1|       1|    King|2014-11-22 12:30:31|  5|brown|  10.0|2024-06-19|\n",
      "|  2|       3|   Argus|2016-11-22 10:05:10| 10| NULL|   5.5|2024-06-19|\n",
      "|  3|       1|  Chewie|2016-11-22 10:05:10| 15| NULL|    12|2024-06-19|\n",
      "|  3|       2|   Maple|2018-11-22 10:05:10| 17|white|   3.4|2024-06-19|\n",
      "|  4|       2|    NULL|2019-01-01 10:05:10| 13| NULL|    10|2024-06-19|\n",
      "+---+--------+--------+-------------------+---+-----+------+----------+\n",
      "\n"
     ]
    }
   ],
   "execution_count": 13
  },
  {
   "metadata": {
    "ExecuteTime": {
     "end_time": "2024-06-19T03:19:46.904522Z",
     "start_time": "2024-06-19T03:19:46.657886Z"
    }
   },
   "cell_type": "code",
   "source": "data.withColumn('height',lit(10)).show()",
   "id": "2d90e9c1389cab24",
   "outputs": [
    {
     "name": "stdout",
     "output_type": "stream",
     "text": [
      "+---+--------+--------+-------------------+---+-----+------+------+\n",
      "| id|breed_id|nickname|           birthday|age|color|weight|height|\n",
      "+---+--------+--------+-------------------+---+-----+------+------+\n",
      "|  1|       1|    King|2014-11-22 12:30:31|  5|brown|  10.0|    10|\n",
      "|  2|       3|   Argus|2016-11-22 10:05:10| 10| NULL|   5.5|    10|\n",
      "|  3|       1|  Chewie|2016-11-22 10:05:10| 15| NULL|    12|    10|\n",
      "|  3|       2|   Maple|2018-11-22 10:05:10| 17|white|   3.4|    10|\n",
      "|  4|       2|    NULL|2019-01-01 10:05:10| 13| NULL|    10|    10|\n",
      "+---+--------+--------+-------------------+---+-----+------+------+\n",
      "\n"
     ]
    }
   ],
   "execution_count": 14
  },
  {
   "metadata": {
    "ExecuteTime": {
     "end_time": "2024-06-19T03:19:47.226324Z",
     "start_time": "2024-06-19T03:19:46.904522Z"
    }
   },
   "cell_type": "code",
   "source": "data.withColumn('double_age',col('age')*2).show()",
   "id": "8b29f472b0965b8",
   "outputs": [
    {
     "name": "stdout",
     "output_type": "stream",
     "text": [
      "+---+--------+--------+-------------------+---+-----+------+----------+\n",
      "| id|breed_id|nickname|           birthday|age|color|weight|double_age|\n",
      "+---+--------+--------+-------------------+---+-----+------+----------+\n",
      "|  1|       1|    King|2014-11-22 12:30:31|  5|brown|  10.0|      10.0|\n",
      "|  2|       3|   Argus|2016-11-22 10:05:10| 10| NULL|   5.5|      20.0|\n",
      "|  3|       1|  Chewie|2016-11-22 10:05:10| 15| NULL|    12|      30.0|\n",
      "|  3|       2|   Maple|2018-11-22 10:05:10| 17|white|   3.4|      34.0|\n",
      "|  4|       2|    NULL|2019-01-01 10:05:10| 13| NULL|    10|      26.0|\n",
      "+---+--------+--------+-------------------+---+-----+------+----------+\n",
      "\n"
     ]
    }
   ],
   "execution_count": 15
  },
  {
   "metadata": {},
   "cell_type": "markdown",
   "source": "#### Casting_Column_to_Different_DataTypes",
   "id": "82b4d62393af3621"
  },
  {
   "metadata": {
    "ExecuteTime": {
     "end_time": "2024-06-19T03:19:47.242345Z",
     "start_time": "2024-06-19T03:19:47.226833Z"
    }
   },
   "cell_type": "code",
   "source": "data.printSchema()",
   "id": "4e62b6bed0cee177",
   "outputs": [
    {
     "name": "stdout",
     "output_type": "stream",
     "text": [
      "root\n",
      " |-- id: string (nullable = true)\n",
      " |-- breed_id: string (nullable = true)\n",
      " |-- nickname: string (nullable = true)\n",
      " |-- birthday: string (nullable = true)\n",
      " |-- age: string (nullable = true)\n",
      " |-- color: string (nullable = true)\n",
      " |-- weight: string (nullable = true)\n",
      "\n"
     ]
    }
   ],
   "execution_count": 16
  },
  {
   "metadata": {
    "ExecuteTime": {
     "end_time": "2024-06-19T03:19:47.632988Z",
     "start_time": "2024-06-19T03:19:47.273609Z"
    }
   },
   "cell_type": "code",
   "source": "data.select('birthday').withColumn(\"birthday_date\",col('birthday').cast('date')).withColumn(\"birthday_date2\",col('birthday').cast(DateType())).show()",
   "id": "ae0687c042f0edd7",
   "outputs": [
    {
     "name": "stdout",
     "output_type": "stream",
     "text": [
      "+-------------------+-------------+--------------+\n",
      "|           birthday|birthday_date|birthday_date2|\n",
      "+-------------------+-------------+--------------+\n",
      "|2014-11-22 12:30:31|   2014-11-22|    2014-11-22|\n",
      "|2016-11-22 10:05:10|   2016-11-22|    2016-11-22|\n",
      "|2016-11-22 10:05:10|   2016-11-22|    2016-11-22|\n",
      "|2018-11-22 10:05:10|   2018-11-22|    2018-11-22|\n",
      "|2019-01-01 10:05:10|   2019-01-01|    2019-01-01|\n",
      "+-------------------+-------------+--------------+\n",
      "\n"
     ]
    }
   ],
   "execution_count": 17
  },
  {
   "metadata": {
    "ExecuteTime": {
     "end_time": "2024-06-19T03:19:47.934149Z",
     "start_time": "2024-06-19T03:19:47.887269Z"
    }
   },
   "cell_type": "code",
   "source": "data.select('birthday').withColumn(\"birthday\",col('birthday').cast('date')).printSchema()",
   "id": "26faaf8d381ba692",
   "outputs": [
    {
     "name": "stdout",
     "output_type": "stream",
     "text": [
      "root\n",
      " |-- birthday: date (nullable = true)\n",
      "\n"
     ]
    }
   ],
   "execution_count": 18
  },
  {
   "metadata": {},
   "cell_type": "markdown",
   "source": "### Filtering Data Where,Filter and is_in.",
   "id": "4e32538cd8835d55"
  },
  {
   "metadata": {
    "ExecuteTime": {
     "end_time": "2024-06-19T03:19:48.706178Z",
     "start_time": "2024-06-19T03:19:48.356020Z"
    }
   },
   "cell_type": "code",
   "source": "data.select(\"age\",\"nickname\").where(col(\"age\")>3).show()",
   "id": "ccc83613021d09e1",
   "outputs": [
    {
     "name": "stdout",
     "output_type": "stream",
     "text": [
      "+---+--------+\n",
      "|age|nickname|\n",
      "+---+--------+\n",
      "|  5|    King|\n",
      "| 10|   Argus|\n",
      "| 15|  Chewie|\n",
      "| 17|   Maple|\n",
      "| 13|    NULL|\n",
      "+---+--------+\n",
      "\n"
     ]
    }
   ],
   "execution_count": 19
  },
  {
   "metadata": {
    "ExecuteTime": {
     "end_time": "2024-06-19T03:19:48.992407Z",
     "start_time": "2024-06-19T03:19:48.784302Z"
    }
   },
   "cell_type": "code",
   "source": "data.where(col(\"breed_id\")==2).show()",
   "id": "3969b6e66c235f5c",
   "outputs": [
    {
     "name": "stdout",
     "output_type": "stream",
     "text": [
      "+---+--------+--------+-------------------+---+-----+------+\n",
      "| id|breed_id|nickname|           birthday|age|color|weight|\n",
      "+---+--------+--------+-------------------+---+-----+------+\n",
      "|  3|       2|   Maple|2018-11-22 10:05:10| 17|white|   3.4|\n",
      "|  4|       2|    NULL|2019-01-01 10:05:10| 13| NULL|    10|\n",
      "+---+--------+--------+-------------------+---+-----+------+\n",
      "\n"
     ]
    }
   ],
   "execution_count": 20
  },
  {
   "metadata": {
    "ExecuteTime": {
     "end_time": "2024-06-19T03:19:49.244345Z",
     "start_time": "2024-06-19T03:19:49.072464Z"
    }
   },
   "cell_type": "code",
   "source": "data.filter(col('breed_id')==2).show()",
   "id": "d3becec3aa48efd5",
   "outputs": [
    {
     "name": "stdout",
     "output_type": "stream",
     "text": [
      "+---+--------+--------+-------------------+---+-----+------+\n",
      "| id|breed_id|nickname|           birthday|age|color|weight|\n",
      "+---+--------+--------+-------------------+---+-----+------+\n",
      "|  3|       2|   Maple|2018-11-22 10:05:10| 17|white|   3.4|\n",
      "|  4|       2|    NULL|2019-01-01 10:05:10| 13| NULL|    10|\n",
      "+---+--------+--------+-------------------+---+-----+------+\n",
      "\n"
     ]
    }
   ],
   "execution_count": 21
  },
  {
   "metadata": {
    "ExecuteTime": {
     "end_time": "2024-06-19T03:19:49.538021Z",
     "start_time": "2024-06-19T03:19:49.259967Z"
    }
   },
   "cell_type": "code",
   "source": "data.filter(col('breed_id').isin(2,3)).show()",
   "id": "8ee30ac6a15b408e",
   "outputs": [
    {
     "name": "stdout",
     "output_type": "stream",
     "text": [
      "+---+--------+--------+-------------------+---+-----+------+\n",
      "| id|breed_id|nickname|           birthday|age|color|weight|\n",
      "+---+--------+--------+-------------------+---+-----+------+\n",
      "|  2|       3|   Argus|2016-11-22 10:05:10| 10| NULL|   5.5|\n",
      "|  3|       2|   Maple|2018-11-22 10:05:10| 17|white|   3.4|\n",
      "|  4|       2|    NULL|2019-01-01 10:05:10| 13| NULL|    10|\n",
      "+---+--------+--------+-------------------+---+-----+------+\n",
      "\n"
     ]
    }
   ],
   "execution_count": 22
  },
  {
   "metadata": {
    "ExecuteTime": {
     "end_time": "2024-06-19T03:19:49.787147Z",
     "start_time": "2024-06-19T03:19:49.592074Z"
    }
   },
   "cell_type": "code",
   "source": "data.where(col('nickname').isin(\"King\",\"Argus\")).show()",
   "id": "d74cc1ace37f333e",
   "outputs": [
    {
     "name": "stdout",
     "output_type": "stream",
     "text": [
      "+---+--------+--------+-------------------+---+-----+------+\n",
      "| id|breed_id|nickname|           birthday|age|color|weight|\n",
      "+---+--------+--------+-------------------+---+-----+------+\n",
      "|  1|       1|    King|2014-11-22 12:30:31|  5|brown|  10.0|\n",
      "|  2|       3|   Argus|2016-11-22 10:05:10| 10| NULL|   5.5|\n",
      "+---+--------+--------+-------------------+---+-----+------+\n",
      "\n"
     ]
    }
   ],
   "execution_count": 23
  },
  {
   "metadata": {},
   "cell_type": "markdown",
   "source": "### Equality Statememt in PySpark",
   "id": "fbf1f022b0eeb02e"
  },
  {
   "metadata": {
    "ExecuteTime": {
     "end_time": "2024-06-19T03:19:50.123719Z",
     "start_time": "2024-06-19T03:19:49.896513Z"
    }
   },
   "cell_type": "code",
   "source": "data.where((col('breed_id')>=lit(1)) & (col('breed_id')<lit(3))).show()",
   "id": "d943fd0c1b0b5d6a",
   "outputs": [
    {
     "name": "stdout",
     "output_type": "stream",
     "text": [
      "+---+--------+--------+-------------------+---+-----+------+\n",
      "| id|breed_id|nickname|           birthday|age|color|weight|\n",
      "+---+--------+--------+-------------------+---+-----+------+\n",
      "|  1|       1|    King|2014-11-22 12:30:31|  5|brown|  10.0|\n",
      "|  3|       1|  Chewie|2016-11-22 10:05:10| 15| NULL|    12|\n",
      "|  3|       2|   Maple|2018-11-22 10:05:10| 17|white|   3.4|\n",
      "|  4|       2|    NULL|2019-01-01 10:05:10| 13| NULL|    10|\n",
      "+---+--------+--------+-------------------+---+-----+------+\n",
      "\n"
     ]
    }
   ],
   "execution_count": 24
  },
  {
   "metadata": {
    "ExecuteTime": {
     "end_time": "2024-06-19T03:19:50.490018Z",
     "start_time": "2024-06-19T03:19:50.271274Z"
    }
   },
   "cell_type": "code",
   "source": "data.filter((col('breed_id')>=1) & (col('breed_id')<=3)).show()",
   "id": "e101332fbfa1d50a",
   "outputs": [
    {
     "name": "stdout",
     "output_type": "stream",
     "text": [
      "+---+--------+--------+-------------------+---+-----+------+\n",
      "| id|breed_id|nickname|           birthday|age|color|weight|\n",
      "+---+--------+--------+-------------------+---+-----+------+\n",
      "|  1|       1|    King|2014-11-22 12:30:31|  5|brown|  10.0|\n",
      "|  2|       3|   Argus|2016-11-22 10:05:10| 10| NULL|   5.5|\n",
      "|  3|       1|  Chewie|2016-11-22 10:05:10| 15| NULL|    12|\n",
      "|  3|       2|   Maple|2018-11-22 10:05:10| 17|white|   3.4|\n",
      "|  4|       2|    NULL|2019-01-01 10:05:10| 13| NULL|    10|\n",
      "+---+--------+--------+-------------------+---+-----+------+\n",
      "\n"
     ]
    }
   ],
   "execution_count": 25
  },
  {
   "metadata": {
    "ExecuteTime": {
     "end_time": "2024-06-19T03:19:50.849389Z",
     "start_time": "2024-06-19T03:19:50.724392Z"
    }
   },
   "cell_type": "code",
   "source": "data.filter(col('breed_id').isin(2,3)).show()",
   "id": "aa78f3f5a23239d",
   "outputs": [
    {
     "name": "stdout",
     "output_type": "stream",
     "text": [
      "+---+--------+--------+-------------------+---+-----+------+\n",
      "| id|breed_id|nickname|           birthday|age|color|weight|\n",
      "+---+--------+--------+-------------------+---+-----+------+\n",
      "|  2|       3|   Argus|2016-11-22 10:05:10| 10| NULL|   5.5|\n",
      "|  3|       2|   Maple|2018-11-22 10:05:10| 17|white|   3.4|\n",
      "|  4|       2|    NULL|2019-01-01 10:05:10| 13| NULL|    10|\n",
      "+---+--------+--------+-------------------+---+-----+------+\n",
      "\n"
     ]
    }
   ],
   "execution_count": 26
  },
  {
   "metadata": {
    "ExecuteTime": {
     "end_time": "2024-06-19T03:19:51.488189Z",
     "start_time": "2024-06-19T03:19:51.182811Z"
    }
   },
   "cell_type": "code",
   "source": "data.filter((col(\"breed_id\").isin(1,2)) & (col('nickname').isNotNull())|col('color').isin(\"white\")).show()",
   "id": "567d363043f05ef2",
   "outputs": [
    {
     "name": "stdout",
     "output_type": "stream",
     "text": [
      "+---+--------+--------+-------------------+---+-----+------+\n",
      "| id|breed_id|nickname|           birthday|age|color|weight|\n",
      "+---+--------+--------+-------------------+---+-----+------+\n",
      "|  1|       1|    King|2014-11-22 12:30:31|  5|brown|  10.0|\n",
      "|  3|       1|  Chewie|2016-11-22 10:05:10| 15| NULL|    12|\n",
      "|  3|       2|   Maple|2018-11-22 10:05:10| 17|white|   3.4|\n",
      "+---+--------+--------+-------------------+---+-----+------+\n",
      "\n"
     ]
    }
   ],
   "execution_count": 27
  },
  {
   "metadata": {
    "ExecuteTime": {
     "end_time": "2024-06-19T03:19:51.867835Z",
     "start_time": "2024-06-19T03:19:51.617838Z"
    }
   },
   "cell_type": "code",
   "source": [
    "data.withColumn(\"result\",col(\"color\")!=\"white\").\\\n",
    "    withColumn(\"result2\",(col('color')!=\"white\")& (col('color').isNotNull())).show()"
   ],
   "id": "ef1cb6710adfbf88",
   "outputs": [
    {
     "name": "stdout",
     "output_type": "stream",
     "text": [
      "+---+--------+--------+-------------------+---+-----+------+------+-------+\n",
      "| id|breed_id|nickname|           birthday|age|color|weight|result|result2|\n",
      "+---+--------+--------+-------------------+---+-----+------+------+-------+\n",
      "|  1|       1|    King|2014-11-22 12:30:31|  5|brown|  10.0|  true|   true|\n",
      "|  2|       3|   Argus|2016-11-22 10:05:10| 10| NULL|   5.5|  NULL|  false|\n",
      "|  3|       1|  Chewie|2016-11-22 10:05:10| 15| NULL|    12|  NULL|  false|\n",
      "|  3|       2|   Maple|2018-11-22 10:05:10| 17|white|   3.4| false|  false|\n",
      "|  4|       2|    NULL|2019-01-01 10:05:10| 13| NULL|    10|  NULL|  false|\n",
      "+---+--------+--------+-------------------+---+-----+------+------+-------+\n",
      "\n"
     ]
    }
   ],
   "execution_count": 28
  },
  {
   "metadata": {},
   "cell_type": "markdown",
   "source": "### Case Statements",
   "id": "52128bda8603094d"
  },
  {
   "metadata": {
    "ExecuteTime": {
     "end_time": "2024-06-19T03:19:52.153696Z",
     "start_time": "2024-06-19T03:19:51.983522Z"
    }
   },
   "cell_type": "code",
   "source": "data.withColumn('oldness_value',when(col('age')<=5,\"young\").when((col('age')>=5) & (col('age')<=13),\"middle_age\").otherwise(\"old\")).show()",
   "id": "97ca4f39dcc81d2d",
   "outputs": [
    {
     "name": "stdout",
     "output_type": "stream",
     "text": [
      "+---+--------+--------+-------------------+---+-----+------+-------------+\n",
      "| id|breed_id|nickname|           birthday|age|color|weight|oldness_value|\n",
      "+---+--------+--------+-------------------+---+-----+------+-------------+\n",
      "|  1|       1|    King|2014-11-22 12:30:31|  5|brown|  10.0|        young|\n",
      "|  2|       3|   Argus|2016-11-22 10:05:10| 10| NULL|   5.5|   middle_age|\n",
      "|  3|       1|  Chewie|2016-11-22 10:05:10| 15| NULL|    12|          old|\n",
      "|  3|       2|   Maple|2018-11-22 10:05:10| 17|white|   3.4|          old|\n",
      "|  4|       2|    NULL|2019-01-01 10:05:10| 13| NULL|    10|   middle_age|\n",
      "+---+--------+--------+-------------------+---+-----+------+-------------+\n",
      "\n"
     ]
    }
   ],
   "execution_count": 29
  },
  {
   "metadata": {
    "ExecuteTime": {
     "end_time": "2024-06-19T03:19:52.544333Z",
     "start_time": "2024-06-19T03:19:52.388081Z"
    }
   },
   "cell_type": "code",
   "source": "data.withColumn('race',when(col('color')=='brown',\"black_dog\").when(col('color')=='white','white_dog').otherwise('black_white_dog')).show()",
   "id": "6780de12e9e5cb53",
   "outputs": [
    {
     "name": "stdout",
     "output_type": "stream",
     "text": [
      "+---+--------+--------+-------------------+---+-----+------+---------------+\n",
      "| id|breed_id|nickname|           birthday|age|color|weight|           race|\n",
      "+---+--------+--------+-------------------+---+-----+------+---------------+\n",
      "|  1|       1|    King|2014-11-22 12:30:31|  5|brown|  10.0|      black_dog|\n",
      "|  2|       3|   Argus|2016-11-22 10:05:10| 10| NULL|   5.5|black_white_dog|\n",
      "|  3|       1|  Chewie|2016-11-22 10:05:10| 15| NULL|    12|black_white_dog|\n",
      "|  3|       2|   Maple|2018-11-22 10:05:10| 17|white|   3.4|      white_dog|\n",
      "|  4|       2|    NULL|2019-01-01 10:05:10| 13| NULL|    10|black_white_dog|\n",
      "+---+--------+--------+-------------------+---+-----+------+---------------+\n",
      "\n"
     ]
    }
   ],
   "execution_count": 30
  },
  {
   "metadata": {
    "ExecuteTime": {
     "end_time": "2024-06-19T03:19:52.795889Z",
     "start_time": "2024-06-19T03:19:52.605902Z"
    }
   },
   "cell_type": "code",
   "source": [
    "data.select(\"nickname\",\"weight\").withColumn(\"weight_value\",when(col(\"weight\")<5,\"under_weight\").when((col('weight')>5) & (col('weight')<=10),\"normal_weight\").\\\n",
    "                                   otherwise(\"over_weight\")).show()"
   ],
   "id": "840714406680137c",
   "outputs": [
    {
     "name": "stdout",
     "output_type": "stream",
     "text": [
      "+--------+------+-------------+\n",
      "|nickname|weight| weight_value|\n",
      "+--------+------+-------------+\n",
      "|    King|  10.0|normal_weight|\n",
      "|   Argus|   5.5|  over_weight|\n",
      "|  Chewie|    12|  over_weight|\n",
      "|   Maple|   3.4| under_weight|\n",
      "|    NULL|    10|normal_weight|\n",
      "+--------+------+-------------+\n",
      "\n"
     ]
    }
   ],
   "execution_count": 31
  },
  {
   "metadata": {},
   "cell_type": "markdown",
   "source": "### Fill nan and null values",
   "id": "4dd265a1d29e23fb"
  },
  {
   "metadata": {
    "ExecuteTime": {
     "end_time": "2024-06-19T03:19:53.117022Z",
     "start_time": "2024-06-19T03:19:52.948726Z"
    }
   },
   "cell_type": "code",
   "source": "data.fillna(\"Ngawang\").toPandas()",
   "id": "6b9b8dd7bd019181",
   "outputs": [
    {
     "data": {
      "text/plain": [
       "  id breed_id nickname             birthday age    color weight\n",
       "0  1        1     King  2014-11-22 12:30:31   5    brown   10.0\n",
       "1  2        3    Argus  2016-11-22 10:05:10  10  Ngawang    5.5\n",
       "2  3        1   Chewie  2016-11-22 10:05:10  15  Ngawang     12\n",
       "3  3        2    Maple  2018-11-22 10:05:10  17    white    3.4\n",
       "4  4        2  Ngawang  2019-01-01 10:05:10  13  Ngawang     10"
      ],
      "text/html": [
       "<div>\n",
       "<style scoped>\n",
       "    .dataframe tbody tr th:only-of-type {\n",
       "        vertical-align: middle;\n",
       "    }\n",
       "\n",
       "    .dataframe tbody tr th {\n",
       "        vertical-align: top;\n",
       "    }\n",
       "\n",
       "    .dataframe thead th {\n",
       "        text-align: right;\n",
       "    }\n",
       "</style>\n",
       "<table border=\"1\" class=\"dataframe\">\n",
       "  <thead>\n",
       "    <tr style=\"text-align: right;\">\n",
       "      <th></th>\n",
       "      <th>id</th>\n",
       "      <th>breed_id</th>\n",
       "      <th>nickname</th>\n",
       "      <th>birthday</th>\n",
       "      <th>age</th>\n",
       "      <th>color</th>\n",
       "      <th>weight</th>\n",
       "    </tr>\n",
       "  </thead>\n",
       "  <tbody>\n",
       "    <tr>\n",
       "      <th>0</th>\n",
       "      <td>1</td>\n",
       "      <td>1</td>\n",
       "      <td>King</td>\n",
       "      <td>2014-11-22 12:30:31</td>\n",
       "      <td>5</td>\n",
       "      <td>brown</td>\n",
       "      <td>10.0</td>\n",
       "    </tr>\n",
       "    <tr>\n",
       "      <th>1</th>\n",
       "      <td>2</td>\n",
       "      <td>3</td>\n",
       "      <td>Argus</td>\n",
       "      <td>2016-11-22 10:05:10</td>\n",
       "      <td>10</td>\n",
       "      <td>Ngawang</td>\n",
       "      <td>5.5</td>\n",
       "    </tr>\n",
       "    <tr>\n",
       "      <th>2</th>\n",
       "      <td>3</td>\n",
       "      <td>1</td>\n",
       "      <td>Chewie</td>\n",
       "      <td>2016-11-22 10:05:10</td>\n",
       "      <td>15</td>\n",
       "      <td>Ngawang</td>\n",
       "      <td>12</td>\n",
       "    </tr>\n",
       "    <tr>\n",
       "      <th>3</th>\n",
       "      <td>3</td>\n",
       "      <td>2</td>\n",
       "      <td>Maple</td>\n",
       "      <td>2018-11-22 10:05:10</td>\n",
       "      <td>17</td>\n",
       "      <td>white</td>\n",
       "      <td>3.4</td>\n",
       "    </tr>\n",
       "    <tr>\n",
       "      <th>4</th>\n",
       "      <td>4</td>\n",
       "      <td>2</td>\n",
       "      <td>Ngawang</td>\n",
       "      <td>2019-01-01 10:05:10</td>\n",
       "      <td>13</td>\n",
       "      <td>Ngawang</td>\n",
       "      <td>10</td>\n",
       "    </tr>\n",
       "  </tbody>\n",
       "</table>\n",
       "</div>"
      ]
     },
     "execution_count": 32,
     "metadata": {},
     "output_type": "execute_result"
    }
   ],
   "execution_count": 32
  },
  {
   "metadata": {
    "ExecuteTime": {
     "end_time": "2024-06-19T03:19:53.379786Z",
     "start_time": "2024-06-19T03:19:53.206654Z"
    }
   },
   "cell_type": "code",
   "source": [
    "'''\n",
    "You have the option of filling in each column with a diffferent value. This provides more flexibility as most times the columns will be different types and a single deafult value won't be sufficient enough.\n",
    "'''\n",
    "data.fillna({\"nickname\":\"Ngawang\",\"color\":\"Anurag\"}).show()"
   ],
   "id": "949b333d25baebbc",
   "outputs": [
    {
     "name": "stdout",
     "output_type": "stream",
     "text": [
      "+---+--------+--------+-------------------+---+------+------+\n",
      "| id|breed_id|nickname|           birthday|age| color|weight|\n",
      "+---+--------+--------+-------------------+---+------+------+\n",
      "|  1|       1|    King|2014-11-22 12:30:31|  5| brown|  10.0|\n",
      "|  2|       3|   Argus|2016-11-22 10:05:10| 10|Anurag|   5.5|\n",
      "|  3|       1|  Chewie|2016-11-22 10:05:10| 15|Anurag|    12|\n",
      "|  3|       2|   Maple|2018-11-22 10:05:10| 17| white|   3.4|\n",
      "|  4|       2| Ngawang|2019-01-01 10:05:10| 13|Anurag|    10|\n",
      "+---+--------+--------+-------------------+---+------+------+\n",
      "\n"
     ]
    }
   ],
   "execution_count": 33
  },
  {
   "metadata": {
    "ExecuteTime": {
     "end_time": "2024-06-19T03:19:53.660674Z",
     "start_time": "2024-06-19T03:19:53.509299Z"
    }
   },
   "cell_type": "code",
   "source": [
    "'''\n",
    "Another way to fill in a column with values is using coalesce(). This function will try to fill in the specified columns by looking at the given arguments in order from left to right, until one of the arguments is not null and use that. If all else fails, you can provide a \"default\" value as your last arugment (remembering that it should be a columnar expression).\n",
    "'''\n",
    "data.withColumn('xyz',coalesce(col('nickname'),col('color'),lit('default'))).show()"
   ],
   "id": "82e5b3eb29ace4ee",
   "outputs": [
    {
     "name": "stdout",
     "output_type": "stream",
     "text": [
      "+---+--------+--------+-------------------+---+-----+------+-------+\n",
      "| id|breed_id|nickname|           birthday|age|color|weight|    xyz|\n",
      "+---+--------+--------+-------------------+---+-----+------+-------+\n",
      "|  1|       1|    King|2014-11-22 12:30:31|  5|brown|  10.0|   King|\n",
      "|  2|       3|   Argus|2016-11-22 10:05:10| 10| NULL|   5.5|  Argus|\n",
      "|  3|       1|  Chewie|2016-11-22 10:05:10| 15| NULL|    12| Chewie|\n",
      "|  3|       2|   Maple|2018-11-22 10:05:10| 17|white|   3.4|  Maple|\n",
      "|  4|       2|    NULL|2019-01-01 10:05:10| 13| NULL|    10|default|\n",
      "+---+--------+--------+-------------------+---+-----+------+-------+\n",
      "\n"
     ]
    }
   ],
   "execution_count": 34
  },
  {
   "metadata": {},
   "cell_type": "markdown",
   "source": "### User_Defined_Function",
   "id": "f52d9dc4ace878da"
  },
  {
   "metadata": {
    "ExecuteTime": {
     "end_time": "2024-06-19T03:19:56.095144Z",
     "start_time": "2024-06-19T03:19:53.834909Z"
    }
   },
   "cell_type": "code",
   "source": [
    "from pyspark.sql.functions import udf\n",
    "\n",
    "@udf('string')\n",
    "def uppercase(word):\n",
    "    return word.upper()[:2] if word else None\n",
    "\n",
    "data.withColumn('uppercase',uppercase(col('nickname'))).show()\n",
    "\n"
   ],
   "id": "563ae1761499ee44",
   "outputs": [
    {
     "name": "stdout",
     "output_type": "stream",
     "text": [
      "+---+--------+--------+-------------------+---+-----+------+---------+\n",
      "| id|breed_id|nickname|           birthday|age|color|weight|uppercase|\n",
      "+---+--------+--------+-------------------+---+-----+------+---------+\n",
      "|  1|       1|    King|2014-11-22 12:30:31|  5|brown|  10.0|       KI|\n",
      "|  2|       3|   Argus|2016-11-22 10:05:10| 10| NULL|   5.5|       AR|\n",
      "|  3|       1|  Chewie|2016-11-22 10:05:10| 15| NULL|    12|       CH|\n",
      "|  3|       2|   Maple|2018-11-22 10:05:10| 17|white|   3.4|       MA|\n",
      "|  4|       2|    NULL|2019-01-01 10:05:10| 13| NULL|    10|     NULL|\n",
      "+---+--------+--------+-------------------+---+-----+------+---------+\n",
      "\n"
     ]
    }
   ],
   "execution_count": 35
  },
  {
   "metadata": {
    "ExecuteTime": {
     "end_time": "2024-06-19T03:19:56.178748Z",
     "start_time": "2024-06-19T03:19:56.095144Z"
    }
   },
   "cell_type": "code",
   "source": "data.toPandas()",
   "id": "c2d564e342cbca2b",
   "outputs": [
    {
     "data": {
      "text/plain": [
       "  id breed_id nickname             birthday age  color weight\n",
       "0  1        1     King  2014-11-22 12:30:31   5  brown   10.0\n",
       "1  2        3    Argus  2016-11-22 10:05:10  10   None    5.5\n",
       "2  3        1   Chewie  2016-11-22 10:05:10  15   None     12\n",
       "3  3        2    Maple  2018-11-22 10:05:10  17  white    3.4\n",
       "4  4        2     None  2019-01-01 10:05:10  13   None     10"
      ],
      "text/html": [
       "<div>\n",
       "<style scoped>\n",
       "    .dataframe tbody tr th:only-of-type {\n",
       "        vertical-align: middle;\n",
       "    }\n",
       "\n",
       "    .dataframe tbody tr th {\n",
       "        vertical-align: top;\n",
       "    }\n",
       "\n",
       "    .dataframe thead th {\n",
       "        text-align: right;\n",
       "    }\n",
       "</style>\n",
       "<table border=\"1\" class=\"dataframe\">\n",
       "  <thead>\n",
       "    <tr style=\"text-align: right;\">\n",
       "      <th></th>\n",
       "      <th>id</th>\n",
       "      <th>breed_id</th>\n",
       "      <th>nickname</th>\n",
       "      <th>birthday</th>\n",
       "      <th>age</th>\n",
       "      <th>color</th>\n",
       "      <th>weight</th>\n",
       "    </tr>\n",
       "  </thead>\n",
       "  <tbody>\n",
       "    <tr>\n",
       "      <th>0</th>\n",
       "      <td>1</td>\n",
       "      <td>1</td>\n",
       "      <td>King</td>\n",
       "      <td>2014-11-22 12:30:31</td>\n",
       "      <td>5</td>\n",
       "      <td>brown</td>\n",
       "      <td>10.0</td>\n",
       "    </tr>\n",
       "    <tr>\n",
       "      <th>1</th>\n",
       "      <td>2</td>\n",
       "      <td>3</td>\n",
       "      <td>Argus</td>\n",
       "      <td>2016-11-22 10:05:10</td>\n",
       "      <td>10</td>\n",
       "      <td>None</td>\n",
       "      <td>5.5</td>\n",
       "    </tr>\n",
       "    <tr>\n",
       "      <th>2</th>\n",
       "      <td>3</td>\n",
       "      <td>1</td>\n",
       "      <td>Chewie</td>\n",
       "      <td>2016-11-22 10:05:10</td>\n",
       "      <td>15</td>\n",
       "      <td>None</td>\n",
       "      <td>12</td>\n",
       "    </tr>\n",
       "    <tr>\n",
       "      <th>3</th>\n",
       "      <td>3</td>\n",
       "      <td>2</td>\n",
       "      <td>Maple</td>\n",
       "      <td>2018-11-22 10:05:10</td>\n",
       "      <td>17</td>\n",
       "      <td>white</td>\n",
       "      <td>3.4</td>\n",
       "    </tr>\n",
       "    <tr>\n",
       "      <th>4</th>\n",
       "      <td>4</td>\n",
       "      <td>2</td>\n",
       "      <td>None</td>\n",
       "      <td>2019-01-01 10:05:10</td>\n",
       "      <td>13</td>\n",
       "      <td>None</td>\n",
       "      <td>10</td>\n",
       "    </tr>\n",
       "  </tbody>\n",
       "</table>\n",
       "</div>"
      ]
     },
     "execution_count": 36,
     "metadata": {},
     "output_type": "execute_result"
    }
   ],
   "execution_count": 36
  },
  {
   "metadata": {},
   "cell_type": "markdown",
   "source": "### Aggregation Function",
   "id": "411396a7597359f1"
  },
  {
   "metadata": {
    "ExecuteTime": {
     "end_time": "2024-06-19T03:19:57.442298Z",
     "start_time": "2024-06-19T03:19:56.178748Z"
    }
   },
   "cell_type": "code",
   "source": "data.groupBy(\"breed_id\").agg({\"*\":\"count\",\"age\":\"avg\",\"weight\":\"avg\"}).show()",
   "id": "619bdd693677a72e",
   "outputs": [
    {
     "name": "stdout",
     "output_type": "stream",
     "text": [
      "+--------+-----------+--------+--------+\n",
      "|breed_id|avg(weight)|count(1)|avg(age)|\n",
      "+--------+-----------+--------+--------+\n",
      "|       3|        5.5|       1|    10.0|\n",
      "|       1|       11.0|       2|    10.0|\n",
      "|       2|        6.7|       2|    15.0|\n",
      "+--------+-----------+--------+--------+\n",
      "\n"
     ]
    }
   ],
   "execution_count": 37
  },
  {
   "metadata": {
    "ExecuteTime": {
     "end_time": "2024-06-19T03:19:57.952945Z",
     "start_time": "2024-06-19T03:19:57.442298Z"
    }
   },
   "cell_type": "code",
   "source": "data.groupBy(\"breed_id\").agg(count(\"age\").alias(\"count_breed\"),sum(\"age\").alias(\"age_sum\"),avg(\"age\").alias(\"age_avg\")).show()",
   "id": "256a90b03d7479ab",
   "outputs": [
    {
     "name": "stdout",
     "output_type": "stream",
     "text": [
      "+--------+-----------+-------+-------+\n",
      "|breed_id|count_breed|age_sum|age_avg|\n",
      "+--------+-----------+-------+-------+\n",
      "|       3|          1|   10.0|   10.0|\n",
      "|       1|          2|   20.0|   10.0|\n",
      "|       2|          2|   30.0|   15.0|\n",
      "+--------+-----------+-------+-------+\n",
      "\n"
     ]
    }
   ],
   "execution_count": 38
  },
  {
   "metadata": {
    "ExecuteTime": {
     "end_time": "2024-06-19T03:19:58.392056Z",
     "start_time": "2024-06-19T03:19:57.953896Z"
    }
   },
   "cell_type": "code",
   "source": "data.groupby(\"breed_id\").agg(count(\"*\").alias(\"count_breed\"),sum(\"weight\").alias(\"weight_sum\"),avg(\"weight\").alias(\"average_weight\")).show()",
   "id": "2e87fb0a10418486",
   "outputs": [
    {
     "name": "stdout",
     "output_type": "stream",
     "text": [
      "+--------+-----------+----------+--------------+\n",
      "|breed_id|count_breed|weight_sum|average_weight|\n",
      "+--------+-----------+----------+--------------+\n",
      "|       3|          1|       5.5|           5.5|\n",
      "|       1|          2|      22.0|          11.0|\n",
      "|       2|          2|      13.4|           6.7|\n",
      "+--------+-----------+----------+--------------+\n",
      "\n"
     ]
    }
   ],
   "execution_count": 39
  },
  {
   "metadata": {},
   "cell_type": "markdown",
   "source": "### Non Deterministic Ordering for GroupBys",
   "id": "4a4c0b58bddfa6db"
  },
  {
   "metadata": {
    "ExecuteTime": {
     "end_time": "2024-06-19T03:19:58.407685Z",
     "start_time": "2024-06-19T03:19:58.392056Z"
    }
   },
   "cell_type": "code",
   "source": "data.printSchema()",
   "id": "197557ef82f4738d",
   "outputs": [
    {
     "name": "stdout",
     "output_type": "stream",
     "text": [
      "root\n",
      " |-- id: string (nullable = true)\n",
      " |-- breed_id: string (nullable = true)\n",
      " |-- nickname: string (nullable = true)\n",
      " |-- birthday: string (nullable = true)\n",
      " |-- age: string (nullable = true)\n",
      " |-- color: string (nullable = true)\n",
      " |-- weight: string (nullable = true)\n",
      "\n"
     ]
    }
   ],
   "execution_count": 40
  },
  {
   "metadata": {
    "ExecuteTime": {
     "end_time": "2024-06-19T03:19:58.438929Z",
     "start_time": "2024-06-19T03:19:58.407685Z"
    }
   },
   "cell_type": "code",
   "source": "data = data.withColumn(\"birthday\",col(\"birthday\").cast(\"date\"))",
   "id": "fa5048803f717c5b",
   "outputs": [],
   "execution_count": 41
  },
  {
   "metadata": {
    "ExecuteTime": {
     "end_time": "2024-06-19T03:19:58.574698Z",
     "start_time": "2024-06-19T03:19:58.438929Z"
    }
   },
   "cell_type": "code",
   "source": "data.show()",
   "id": "9abd64acdca6eab7",
   "outputs": [
    {
     "name": "stdout",
     "output_type": "stream",
     "text": [
      "+---+--------+--------+----------+---+-----+------+\n",
      "| id|breed_id|nickname|  birthday|age|color|weight|\n",
      "+---+--------+--------+----------+---+-----+------+\n",
      "|  1|       1|    King|2014-11-22|  5|brown|  10.0|\n",
      "|  2|       3|   Argus|2016-11-22| 10| NULL|   5.5|\n",
      "|  3|       1|  Chewie|2016-11-22| 15| NULL|    12|\n",
      "|  3|       2|   Maple|2018-11-22| 17|white|   3.4|\n",
      "|  4|       2|    NULL|2019-01-01| 13| NULL|    10|\n",
      "+---+--------+--------+----------+---+-----+------+\n",
      "\n"
     ]
    }
   ],
   "execution_count": 42
  },
  {
   "metadata": {
    "ExecuteTime": {
     "end_time": "2024-06-19T03:19:59.460408Z",
     "start_time": "2024-06-19T03:19:58.574698Z"
    }
   },
   "cell_type": "code",
   "source": "data.orderBy(\"birthday\").groupBy('breed_id').agg(first('nickname').alias('first_breed')).toPandas()",
   "id": "9138fb68839b8727",
   "outputs": [
    {
     "data": {
      "text/plain": [
       "  breed_id first_breed\n",
       "0        1        King\n",
       "1        2       Maple\n",
       "2        3       Argus"
      ],
      "text/html": [
       "<div>\n",
       "<style scoped>\n",
       "    .dataframe tbody tr th:only-of-type {\n",
       "        vertical-align: middle;\n",
       "    }\n",
       "\n",
       "    .dataframe tbody tr th {\n",
       "        vertical-align: top;\n",
       "    }\n",
       "\n",
       "    .dataframe thead th {\n",
       "        text-align: right;\n",
       "    }\n",
       "</style>\n",
       "<table border=\"1\" class=\"dataframe\">\n",
       "  <thead>\n",
       "    <tr style=\"text-align: right;\">\n",
       "      <th></th>\n",
       "      <th>breed_id</th>\n",
       "      <th>first_breed</th>\n",
       "    </tr>\n",
       "  </thead>\n",
       "  <tbody>\n",
       "    <tr>\n",
       "      <th>0</th>\n",
       "      <td>1</td>\n",
       "      <td>King</td>\n",
       "    </tr>\n",
       "    <tr>\n",
       "      <th>1</th>\n",
       "      <td>2</td>\n",
       "      <td>Maple</td>\n",
       "    </tr>\n",
       "    <tr>\n",
       "      <th>2</th>\n",
       "      <td>3</td>\n",
       "      <td>Argus</td>\n",
       "    </tr>\n",
       "  </tbody>\n",
       "</table>\n",
       "</div>"
      ]
     },
     "execution_count": 43,
     "metadata": {},
     "output_type": "execute_result"
    }
   ],
   "execution_count": 43
  },
  {
   "metadata": {
    "ExecuteTime": {
     "end_time": "2024-06-19T03:19:59.872043Z",
     "start_time": "2024-06-19T03:19:59.460408Z"
    }
   },
   "cell_type": "code",
   "source": "data.orderBy(\"birthday\").groupBy('breed_id').agg(first('nickname').alias('first_breed')).toPandas()",
   "id": "2cc78c69b9e4a329",
   "outputs": [
    {
     "data": {
      "text/plain": [
       "  breed_id first_breed\n",
       "0        1        King\n",
       "1        2       Maple\n",
       "2        3       Argus"
      ],
      "text/html": [
       "<div>\n",
       "<style scoped>\n",
       "    .dataframe tbody tr th:only-of-type {\n",
       "        vertical-align: middle;\n",
       "    }\n",
       "\n",
       "    .dataframe tbody tr th {\n",
       "        vertical-align: top;\n",
       "    }\n",
       "\n",
       "    .dataframe thead th {\n",
       "        text-align: right;\n",
       "    }\n",
       "</style>\n",
       "<table border=\"1\" class=\"dataframe\">\n",
       "  <thead>\n",
       "    <tr style=\"text-align: right;\">\n",
       "      <th></th>\n",
       "      <th>breed_id</th>\n",
       "      <th>first_breed</th>\n",
       "    </tr>\n",
       "  </thead>\n",
       "  <tbody>\n",
       "    <tr>\n",
       "      <th>0</th>\n",
       "      <td>1</td>\n",
       "      <td>King</td>\n",
       "    </tr>\n",
       "    <tr>\n",
       "      <th>1</th>\n",
       "      <td>2</td>\n",
       "      <td>Maple</td>\n",
       "    </tr>\n",
       "    <tr>\n",
       "      <th>2</th>\n",
       "      <td>3</td>\n",
       "      <td>Argus</td>\n",
       "    </tr>\n",
       "  </tbody>\n",
       "</table>\n",
       "</div>"
      ]
     },
     "execution_count": 44,
     "metadata": {},
     "output_type": "execute_result"
    }
   ],
   "execution_count": 44
  },
  {
   "metadata": {
    "ExecuteTime": {
     "end_time": "2024-06-19T03:19:59.920300Z",
     "start_time": "2024-06-19T03:19:59.872043Z"
    }
   },
   "cell_type": "code",
   "source": "window = Window.partitionBy(\"breed_id\").orderBy(\"birthday\")",
   "id": "4106b7a5a22fedaf",
   "outputs": [],
   "execution_count": 45
  },
  {
   "metadata": {
    "ExecuteTime": {
     "end_time": "2024-06-19T03:20:00.517325Z",
     "start_time": "2024-06-19T03:19:59.925304Z"
    }
   },
   "cell_type": "code",
   "source": "data.withColumn('row_number',row_number().over(window)).show()",
   "id": "3388822e5b3693ce",
   "outputs": [
    {
     "name": "stdout",
     "output_type": "stream",
     "text": [
      "+---+--------+--------+----------+---+-----+------+----------+\n",
      "| id|breed_id|nickname|  birthday|age|color|weight|row_number|\n",
      "+---+--------+--------+----------+---+-----+------+----------+\n",
      "|  1|       1|    King|2014-11-22|  5|brown|  10.0|         1|\n",
      "|  3|       1|  Chewie|2016-11-22| 15| NULL|    12|         2|\n",
      "|  3|       2|   Maple|2018-11-22| 17|white|   3.4|         1|\n",
      "|  4|       2|    NULL|2019-01-01| 13| NULL|    10|         2|\n",
      "|  2|       3|   Argus|2016-11-22| 10| NULL|   5.5|         1|\n",
      "+---+--------+--------+----------+---+-----+------+----------+\n",
      "\n"
     ]
    }
   ],
   "execution_count": 46
  },
  {
   "metadata": {
    "ExecuteTime": {
     "end_time": "2024-06-19T03:20:04.383643Z",
     "start_time": "2024-06-19T03:20:00.517325Z"
    }
   },
   "cell_type": "code",
   "source": [
    "\n",
    "pets = spark.createDataFrame(\n",
    "    [\n",
    "        (1, 1, datetime(2018, 1, 1, 1 ,1, 1), 'Bear', 5),\n",
    "        (2, 1, datetime(2010, 1, 1, 1 ,1, 1), 'Chewie', 15),\n",
    "        (3, 1, datetime(2015, 1, 1, 1 ,1, 1), 'Roger', 10),\n",
    "        (4, 2, datetime(2015, 1, 2, 2 ,3, 4), 'Roger', 10),\n",
    "        (5, 2, datetime(2015, 5, 6, 7 ,8, 9), 'Roger', 10),\n",
    "    ], ['id', 'breed_id', 'birthday', 'nickname', 'age']\n",
    ")\n",
    "\n",
    "pets.toPandas()"
   ],
   "id": "86249fe92dcf370d",
   "outputs": [
    {
     "data": {
      "text/plain": [
       "   id  breed_id            birthday nickname  age\n",
       "0   1         1 2018-01-01 01:01:01     Bear    5\n",
       "1   2         1 2010-01-01 01:01:01   Chewie   15\n",
       "2   3         1 2015-01-01 01:01:01    Roger   10\n",
       "3   4         2 2015-01-02 02:03:04    Roger   10\n",
       "4   5         2 2015-05-06 07:08:09    Roger   10"
      ],
      "text/html": [
       "<div>\n",
       "<style scoped>\n",
       "    .dataframe tbody tr th:only-of-type {\n",
       "        vertical-align: middle;\n",
       "    }\n",
       "\n",
       "    .dataframe tbody tr th {\n",
       "        vertical-align: top;\n",
       "    }\n",
       "\n",
       "    .dataframe thead th {\n",
       "        text-align: right;\n",
       "    }\n",
       "</style>\n",
       "<table border=\"1\" class=\"dataframe\">\n",
       "  <thead>\n",
       "    <tr style=\"text-align: right;\">\n",
       "      <th></th>\n",
       "      <th>id</th>\n",
       "      <th>breed_id</th>\n",
       "      <th>birthday</th>\n",
       "      <th>nickname</th>\n",
       "      <th>age</th>\n",
       "    </tr>\n",
       "  </thead>\n",
       "  <tbody>\n",
       "    <tr>\n",
       "      <th>0</th>\n",
       "      <td>1</td>\n",
       "      <td>1</td>\n",
       "      <td>2018-01-01 01:01:01</td>\n",
       "      <td>Bear</td>\n",
       "      <td>5</td>\n",
       "    </tr>\n",
       "    <tr>\n",
       "      <th>1</th>\n",
       "      <td>2</td>\n",
       "      <td>1</td>\n",
       "      <td>2010-01-01 01:01:01</td>\n",
       "      <td>Chewie</td>\n",
       "      <td>15</td>\n",
       "    </tr>\n",
       "    <tr>\n",
       "      <th>2</th>\n",
       "      <td>3</td>\n",
       "      <td>1</td>\n",
       "      <td>2015-01-01 01:01:01</td>\n",
       "      <td>Roger</td>\n",
       "      <td>10</td>\n",
       "    </tr>\n",
       "    <tr>\n",
       "      <th>3</th>\n",
       "      <td>4</td>\n",
       "      <td>2</td>\n",
       "      <td>2015-01-02 02:03:04</td>\n",
       "      <td>Roger</td>\n",
       "      <td>10</td>\n",
       "    </tr>\n",
       "    <tr>\n",
       "      <th>4</th>\n",
       "      <td>5</td>\n",
       "      <td>2</td>\n",
       "      <td>2015-05-06 07:08:09</td>\n",
       "      <td>Roger</td>\n",
       "      <td>10</td>\n",
       "    </tr>\n",
       "  </tbody>\n",
       "</table>\n",
       "</div>"
      ]
     },
     "execution_count": 47,
     "metadata": {},
     "output_type": "execute_result"
    }
   ],
   "execution_count": 47
  },
  {
   "metadata": {
    "ExecuteTime": {
     "end_time": "2024-06-19T03:20:04.406585Z",
     "start_time": "2024-06-19T03:20:04.386643Z"
    }
   },
   "cell_type": "code",
   "source": "windows = Window.partitionBy(\"breed_id\").orderBy(\"age\")",
   "id": "6ca8c9d4f12d82a7",
   "outputs": [],
   "execution_count": 48
  },
  {
   "metadata": {
    "ExecuteTime": {
     "end_time": "2024-06-19T03:20:05.877662Z",
     "start_time": "2024-06-19T03:20:04.406585Z"
    }
   },
   "cell_type": "code",
   "source": "pets.withColumn('row_number',row_number().over(windows)).show()",
   "id": "5160b4989b962467",
   "outputs": [
    {
     "name": "stdout",
     "output_type": "stream",
     "text": [
      "+---+--------+-------------------+--------+---+----------+\n",
      "| id|breed_id|           birthday|nickname|age|row_number|\n",
      "+---+--------+-------------------+--------+---+----------+\n",
      "|  1|       1|2018-01-01 01:01:01|    Bear|  5|         1|\n",
      "|  3|       1|2015-01-01 01:01:01|   Roger| 10|         2|\n",
      "|  2|       1|2010-01-01 01:01:01|  Chewie| 15|         3|\n",
      "|  4|       2|2015-01-02 02:03:04|   Roger| 10|         1|\n",
      "|  5|       2|2015-05-06 07:08:09|   Roger| 10|         2|\n",
      "+---+--------+-------------------+--------+---+----------+\n",
      "\n"
     ]
    }
   ],
   "execution_count": 49
  },
  {
   "metadata": {
    "ExecuteTime": {
     "end_time": "2024-06-19T03:20:54.056584Z",
     "start_time": "2024-06-19T03:20:54.032467Z"
    }
   },
   "cell_type": "code",
   "source": "windows2 = Window.partitionBy(\"breed_id\").orderBy(\"id\")",
   "id": "badea74058937f7",
   "outputs": [],
   "execution_count": 50
  },
  {
   "metadata": {
    "ExecuteTime": {
     "end_time": "2024-06-19T03:24:02.722170Z",
     "start_time": "2024-06-19T03:24:01.215635Z"
    }
   },
   "cell_type": "code",
   "source": "pets.withColumn('sum_age',sum(\"age\").over(windows2)).show()",
   "id": "50894b39d1ae9d0a",
   "outputs": [
    {
     "name": "stdout",
     "output_type": "stream",
     "text": [
      "+---+--------+-------------------+--------+---+-------+\n",
      "| id|breed_id|           birthday|nickname|age|sum_age|\n",
      "+---+--------+-------------------+--------+---+-------+\n",
      "|  1|       1|2018-01-01 01:01:01|    Bear|  5|      5|\n",
      "|  2|       1|2010-01-01 01:01:01|  Chewie| 15|     20|\n",
      "|  3|       1|2015-01-01 01:01:01|   Roger| 10|     30|\n",
      "|  4|       2|2015-01-02 02:03:04|   Roger| 10|     10|\n",
      "|  5|       2|2015-05-06 07:08:09|   Roger| 10|     20|\n",
      "+---+--------+-------------------+--------+---+-------+\n",
      "\n"
     ]
    }
   ],
   "execution_count": 53
  },
  {
   "metadata": {
    "ExecuteTime": {
     "end_time": "2024-06-19T03:25:27.235407Z",
     "start_time": "2024-06-19T03:25:26.001474Z"
    }
   },
   "cell_type": "code",
   "source": [
    "windows3 = Window.partitionBy(\"breed_id\")\n",
    "pets.withColumn('sum_all',sum(\"age\").over(windows3)).show()"
   ],
   "id": "7d35f8ec80d29136",
   "outputs": [
    {
     "name": "stdout",
     "output_type": "stream",
     "text": [
      "+---+--------+-------------------+--------+---+-------+\n",
      "| id|breed_id|           birthday|nickname|age|sum_all|\n",
      "+---+--------+-------------------+--------+---+-------+\n",
      "|  1|       1|2018-01-01 01:01:01|    Bear|  5|     30|\n",
      "|  2|       1|2010-01-01 01:01:01|  Chewie| 15|     30|\n",
      "|  3|       1|2015-01-01 01:01:01|   Roger| 10|     30|\n",
      "|  4|       2|2015-01-02 02:03:04|   Roger| 10|     20|\n",
      "|  5|       2|2015-05-06 07:08:09|   Roger| 10|     20|\n",
      "+---+--------+-------------------+--------+---+-------+\n",
      "\n"
     ]
    }
   ],
   "execution_count": 54
  },
  {
   "metadata": {},
   "cell_type": "code",
   "outputs": [],
   "execution_count": null,
   "source": "",
   "id": "4f3288d9fcb9d2cb"
  }
 ],
 "metadata": {
  "kernelspec": {
   "display_name": "Python 3",
   "language": "python",
   "name": "python3"
  },
  "language_info": {
   "codemirror_mode": {
    "name": "ipython",
    "version": 2
   },
   "file_extension": ".py",
   "mimetype": "text/x-python",
   "name": "python",
   "nbconvert_exporter": "python",
   "pygments_lexer": "ipython2",
   "version": "2.7.6"
  }
 },
 "nbformat": 4,
 "nbformat_minor": 5
}
