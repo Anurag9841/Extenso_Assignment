{
 "cells": [
  {
   "cell_type": "code",
   "id": "initial_id",
   "metadata": {
    "collapsed": true,
    "ExecuteTime": {
     "end_time": "2024-06-19T03:18:37.945876Z",
     "start_time": "2024-06-19T03:18:36.815278Z"
    }
   },
   "source": [
    "from pyspark.sql import SparkSession\n",
    "from pyspark.sql import types as T\n",
    "from pyspark.sql.functions import  *\n",
    "from datetime import date\n",
    "from pyspark.sql.types import * \n",
    "from pyspark.sql import Window\n",
    "from datetime import datetime"
   ],
   "execution_count": 1,
   "outputs": []
  },
  {
   "metadata": {
    "ExecuteTime": {
     "end_time": "2024-06-19T03:18:59.052957Z",
     "start_time": "2024-06-19T03:18:37.954873Z"
    }
   },
   "cell_type": "code",
   "source": [
    "spark = (\n",
    "    SparkSession.builder\n",
    "    .master(\"local\")\n",
    "    .appName(\"Exploring Joins\")\n",
    "    .config(\"spark.some.config.option\", \"some-value\")\n",
    "    .getOrCreate()\n",
    ")\n",
    "sc = spark.sparkContext"
   ],
   "id": "582eb1ded42ac18c",
   "execution_count": 2,
   "outputs": []
  },
  {
   "metadata": {
    "ExecuteTime": {
     "end_time": "2024-06-19T03:19:04.110069Z",
     "start_time": "2024-06-19T03:18:59.052957Z"
    }
   },
   "cell_type": "code",
   "source": "data = spark.read.csv('pets.csv',header=True)",
   "id": "e076cce12ad904bc",
   "execution_count": 3,
   "outputs": []
  },
  {
   "metadata": {},
   "cell_type": "markdown",
   "source": "### Looking at your Data",
   "id": "1ff6592fef76dc23"
  },
  {
   "metadata": {
    "ExecuteTime": {
     "end_time": "2024-06-19T03:19:04.375690Z",
     "start_time": "2024-06-19T03:19:04.110069Z"
    }
   },
   "cell_type": "code",
   "source": [
    "# First method is collect method\n",
    "data.collect()"
   ],
   "id": "d6be92f5827b8a19",
   "execution_count": 4,
   "outputs": []
  },
  {
   "metadata": {
    "ExecuteTime": {
     "end_time": "2024-06-19T03:19:06.158536Z",
     "start_time": "2024-06-19T03:19:04.375690Z"
    }
   },
   "cell_type": "code",
   "source": [
    "# Second method is toPandas method\n",
    "data.toPandas()"
   ],
   "id": "9289c542e51ca4ce",
   "execution_count": 5,
   "outputs": []
  },
  {
   "metadata": {
    "ExecuteTime": {
     "end_time": "2024-06-19T03:19:06.330412Z",
     "start_time": "2024-06-19T03:19:06.158536Z"
    }
   },
   "cell_type": "code",
   "source": [
    "# Third method is head method\n",
    "data.head(n=3)"
   ],
   "id": "e7a05c1d7b1dce94",
   "execution_count": 6,
   "outputs": []
  },
  {
   "metadata": {
    "ExecuteTime": {
     "end_time": "2024-06-19T03:19:06.948871Z",
     "start_time": "2024-06-19T03:19:06.330412Z"
    }
   },
   "cell_type": "code",
   "source": "data.show(n=3)",
   "id": "2209a3ec2045e106",
   "execution_count": 7,
   "outputs": []
  },
  {
   "metadata": {},
   "cell_type": "markdown",
   "source": "### Selecting a Subset of Columns",
   "id": "6480eee8c9e38605"
  },
  {
   "metadata": {
    "ExecuteTime": {
     "end_time": "2024-06-19T03:19:07.236085Z",
     "start_time": "2024-06-19T03:19:06.948871Z"
    }
   },
   "cell_type": "code",
   "source": "data.select(\"id\",\"breed_id\",\"nickname\",\"age\",\"weight\").toPandas()",
   "id": "3682ebb00de8ce28",
   "execution_count": 8,
   "outputs": []
  },
  {
   "metadata": {
    "ExecuteTime": {
     "end_time": "2024-06-19T03:19:07.430520Z",
     "start_time": "2024-06-19T03:19:07.236085Z"
    }
   },
   "cell_type": "code",
   "source": "data.drop(\"birthday\",\"color\").toPandas()",
   "id": "58cbcf93b800816c",
   "execution_count": 9,
   "outputs": []
  },
  {
   "metadata": {
    "ExecuteTime": {
     "end_time": "2024-06-19T03:19:07.827804Z",
     "start_time": "2024-06-19T03:19:07.430520Z"
    }
   },
   "cell_type": "code",
   "source": [
    "data.withColumn(\"n-nickname_copy\",col(\"nickname\")).\\\n",
    "    withColumn('nickname_capatilize',upper(col('nickname'))).toPandas()"
   ],
   "id": "f2a83bf70a26bc6f",
   "execution_count": 10,
   "outputs": []
  },
  {
   "metadata": {
    "ExecuteTime": {
     "end_time": "2024-06-19T03:19:08.109035Z",
     "start_time": "2024-06-19T03:19:07.827804Z"
    }
   },
   "cell_type": "code",
   "source": "data.withColumnRenamed(\"id\",\"pet_id\").toPandas()",
   "id": "9451e039a76d1331",
   "execution_count": 11,
   "outputs": []
  },
  {
   "metadata": {},
   "cell_type": "markdown",
   "source": "### Constant Value and Column Expression",
   "id": "c0f1de945f5e0fcd"
  },
  {
   "metadata": {
    "ExecuteTime": {
     "end_time": "2024-06-19T03:19:09.082542Z",
     "start_time": "2024-06-19T03:19:08.109035Z"
    }
   },
   "cell_type": "code",
   "source": [
    "# what if we want to insert constant value to the new column\n",
    "\n",
    "data.withColumn(\"today-date\",date.today()).toPandas()"
   ],
   "id": "7113bf61a4c2643f",
   "execution_count": 12,
   "outputs": []
  },
  {
   "metadata": {
    "ExecuteTime": {
     "end_time": "2024-06-19T03:19:46.657886Z",
     "start_time": "2024-06-19T03:19:46.260316Z"
    }
   },
   "cell_type": "code",
   "source": [
    "'''\n",
    "Spark functions that have a col as an argument will usually require you to pass in a Column expression. As seen in the previous section, withColumn() worked fine when we gave it a column from the current df. But this isn't the case when we want set a column to a constant value.\n",
    "'''\n",
    "data.withColumn(\"today_date\",lit(date.today())).show()"
   ],
   "id": "4d256de9f43246ec",
   "execution_count": 13,
   "outputs": []
  },
  {
   "metadata": {
    "ExecuteTime": {
     "end_time": "2024-06-19T03:19:46.904522Z",
     "start_time": "2024-06-19T03:19:46.657886Z"
    }
   },
   "cell_type": "code",
   "source": "data.withColumn('height',lit(10)).show()",
   "id": "2d90e9c1389cab24",
   "execution_count": 14,
   "outputs": []
  },
  {
   "metadata": {
    "ExecuteTime": {
     "end_time": "2024-06-19T03:19:47.226324Z",
     "start_time": "2024-06-19T03:19:46.904522Z"
    }
   },
   "cell_type": "code",
   "source": "data.withColumn('double_age',col('age')*2).show()",
   "id": "8b29f472b0965b8",
   "execution_count": 15,
   "outputs": []
  },
  {
   "metadata": {},
   "cell_type": "markdown",
   "source": "#### Casting_Column_to_Different_DataTypes",
   "id": "82b4d62393af3621"
  },
  {
   "metadata": {
    "ExecuteTime": {
     "end_time": "2024-06-19T03:19:47.242345Z",
     "start_time": "2024-06-19T03:19:47.226833Z"
    }
   },
   "cell_type": "code",
   "source": "data.printSchema()",
   "id": "4e62b6bed0cee177",
   "execution_count": 16,
   "outputs": []
  },
  {
   "metadata": {
    "ExecuteTime": {
     "end_time": "2024-06-19T03:19:47.632988Z",
     "start_time": "2024-06-19T03:19:47.273609Z"
    }
   },
   "cell_type": "code",
   "source": "data.select('birthday').withColumn(\"birthday_date\",col('birthday').cast('date')).withColumn(\"birthday_date2\",col('birthday').cast(DateType())).show()",
   "id": "ae0687c042f0edd7",
   "execution_count": 17,
   "outputs": []
  },
  {
   "metadata": {
    "ExecuteTime": {
     "end_time": "2024-06-19T03:19:47.934149Z",
     "start_time": "2024-06-19T03:19:47.887269Z"
    }
   },
   "cell_type": "code",
   "source": "data.select('birthday').withColumn(\"birthday\",col('birthday').cast('date')).printSchema()",
   "id": "26faaf8d381ba692",
   "execution_count": 18,
   "outputs": []
  },
  {
   "metadata": {},
   "cell_type": "markdown",
   "source": "### Filtering Data Where,Filter and is_in.",
   "id": "4e32538cd8835d55"
  },
  {
   "metadata": {
    "ExecuteTime": {
     "end_time": "2024-06-19T03:19:48.706178Z",
     "start_time": "2024-06-19T03:19:48.356020Z"
    }
   },
   "cell_type": "code",
   "source": "data.select(\"age\",\"nickname\").where(col(\"age\")>3).show()",
   "id": "ccc83613021d09e1",
   "execution_count": 19,
   "outputs": []
  },
  {
   "metadata": {
    "ExecuteTime": {
     "end_time": "2024-06-19T03:19:48.992407Z",
     "start_time": "2024-06-19T03:19:48.784302Z"
    }
   },
   "cell_type": "code",
   "source": "data.where(col(\"breed_id\")==2).show()",
   "id": "3969b6e66c235f5c",
   "execution_count": 20,
   "outputs": []
  },
  {
   "metadata": {
    "ExecuteTime": {
     "end_time": "2024-06-19T03:19:49.244345Z",
     "start_time": "2024-06-19T03:19:49.072464Z"
    }
   },
   "cell_type": "code",
   "source": "data.filter(col('breed_id')==2).show()",
   "id": "d3becec3aa48efd5",
   "execution_count": 21,
   "outputs": []
  },
  {
   "metadata": {
    "ExecuteTime": {
     "end_time": "2024-06-19T03:19:49.538021Z",
     "start_time": "2024-06-19T03:19:49.259967Z"
    }
   },
   "cell_type": "code",
   "source": "data.filter(col('breed_id').isin(2,3)).show()",
   "id": "8ee30ac6a15b408e",
   "execution_count": 22,
   "outputs": []
  },
  {
   "metadata": {
    "ExecuteTime": {
     "end_time": "2024-06-19T03:19:49.787147Z",
     "start_time": "2024-06-19T03:19:49.592074Z"
    }
   },
   "cell_type": "code",
   "source": "data.where(col('nickname').isin(\"King\",\"Argus\")).show()",
   "id": "d74cc1ace37f333e",
   "execution_count": 23,
   "outputs": []
  },
  {
   "metadata": {},
   "cell_type": "markdown",
   "source": "### Equality Statememt in PySpark",
   "id": "fbf1f022b0eeb02e"
  },
  {
   "metadata": {
    "ExecuteTime": {
     "end_time": "2024-06-19T03:19:50.123719Z",
     "start_time": "2024-06-19T03:19:49.896513Z"
    }
   },
   "cell_type": "code",
   "source": "data.where((col('breed_id')>=lit(1)) & (col('breed_id')<lit(3))).show()",
   "id": "d943fd0c1b0b5d6a",
   "execution_count": 24,
   "outputs": []
  },
  {
   "metadata": {
    "ExecuteTime": {
     "end_time": "2024-06-19T03:19:50.490018Z",
     "start_time": "2024-06-19T03:19:50.271274Z"
    }
   },
   "cell_type": "code",
   "source": "data.filter((col('breed_id')>=1) & (col('breed_id')<=3)).show()",
   "id": "e101332fbfa1d50a",
   "execution_count": 25,
   "outputs": []
  },
  {
   "metadata": {
    "ExecuteTime": {
     "end_time": "2024-06-19T03:19:50.849389Z",
     "start_time": "2024-06-19T03:19:50.724392Z"
    }
   },
   "cell_type": "code",
   "source": "data.filter(col('breed_id').isin(2,3)).show()",
   "id": "aa78f3f5a23239d",
   "execution_count": 26,
   "outputs": []
  },
  {
   "metadata": {
    "ExecuteTime": {
     "end_time": "2024-06-19T03:19:51.488189Z",
     "start_time": "2024-06-19T03:19:51.182811Z"
    }
   },
   "cell_type": "code",
   "source": "data.filter((col(\"breed_id\").isin(1,2)) & (col('nickname').isNotNull())|col('color').isin(\"white\")).show()",
   "id": "567d363043f05ef2",
   "execution_count": 27,
   "outputs": []
  },
  {
   "metadata": {
    "ExecuteTime": {
     "end_time": "2024-06-19T03:19:51.867835Z",
     "start_time": "2024-06-19T03:19:51.617838Z"
    }
   },
   "cell_type": "code",
   "source": [
    "data.withColumn(\"result\",col(\"color\")!=\"white\").\\\n",
    "    withColumn(\"result2\",(col('color')!=\"white\")& (col('color').isNotNull())).show()"
   ],
   "id": "ef1cb6710adfbf88",
   "execution_count": 28,
   "outputs": []
  },
  {
   "metadata": {},
   "cell_type": "markdown",
   "source": "### Case Statements",
   "id": "52128bda8603094d"
  },
  {
   "metadata": {
    "ExecuteTime": {
     "end_time": "2024-06-19T03:19:52.153696Z",
     "start_time": "2024-06-19T03:19:51.983522Z"
    }
   },
   "cell_type": "code",
   "source": "data.withColumn('oldness_value',when(col('age')<=5,\"young\").when((col('age')>=5) & (col('age')<=13),\"middle_age\").otherwise(\"old\")).show()",
   "id": "97ca4f39dcc81d2d",
   "execution_count": 29,
   "outputs": []
  },
  {
   "metadata": {
    "ExecuteTime": {
     "end_time": "2024-06-19T03:19:52.544333Z",
     "start_time": "2024-06-19T03:19:52.388081Z"
    }
   },
   "cell_type": "code",
   "source": "data.withColumn('race',when(col('color')=='brown',\"black_dog\").when(col('color')=='white','white_dog').otherwise('black_white_dog')).show()",
   "id": "6780de12e9e5cb53",
   "execution_count": 30,
   "outputs": []
  },
  {
   "metadata": {
    "ExecuteTime": {
     "end_time": "2024-06-19T03:19:52.795889Z",
     "start_time": "2024-06-19T03:19:52.605902Z"
    }
   },
   "cell_type": "code",
   "source": [
    "data.select(\"nickname\",\"weight\").withColumn(\"weight_value\",when(col(\"weight\")<5,\"under_weight\").when((col('weight')>5) & (col('weight')<=10),\"normal_weight\").\\\n",
    "                                   otherwise(\"over_weight\")).show()"
   ],
   "id": "840714406680137c",
   "execution_count": 31,
   "outputs": []
  },
  {
   "metadata": {},
   "cell_type": "markdown",
   "source": "### Fill nan and null values",
   "id": "4dd265a1d29e23fb"
  },
  {
   "metadata": {
    "ExecuteTime": {
     "end_time": "2024-06-19T03:19:53.117022Z",
     "start_time": "2024-06-19T03:19:52.948726Z"
    }
   },
   "cell_type": "code",
   "source": "data.fillna(\"Ngawang\").toPandas()",
   "id": "6b9b8dd7bd019181",
   "execution_count": 32,
   "outputs": []
  },
  {
   "metadata": {
    "ExecuteTime": {
     "end_time": "2024-06-19T03:19:53.379786Z",
     "start_time": "2024-06-19T03:19:53.206654Z"
    }
   },
   "cell_type": "code",
   "source": [
    "'''\n",
    "You have the option of filling in each column with a diffferent value. This provides more flexibility as most times the columns will be different types and a single deafult value won't be sufficient enough.\n",
    "'''\n",
    "data.fillna({\"nickname\":\"Ngawang\",\"color\":\"Anurag\"}).show()"
   ],
   "id": "949b333d25baebbc",
   "execution_count": 33,
   "outputs": []
  },
  {
   "metadata": {
    "ExecuteTime": {
     "end_time": "2024-06-19T03:19:53.660674Z",
     "start_time": "2024-06-19T03:19:53.509299Z"
    }
   },
   "cell_type": "code",
   "source": [
    "'''\n",
    "Another way to fill in a column with values is using coalesce(). This function will try to fill in the specified columns by looking at the given arguments in order from left to right, until one of the arguments is not null and use that. If all else fails, you can provide a \"default\" value as your last arugment (remembering that it should be a columnar expression).\n",
    "'''\n",
    "data.withColumn('xyz',coalesce(col('nickname'),col('color'),lit('default'))).show()"
   ],
   "id": "82e5b3eb29ace4ee",
   "execution_count": 34,
   "outputs": []
  },
  {
   "metadata": {},
   "cell_type": "markdown",
   "source": "### User_Defined_Function",
   "id": "f52d9dc4ace878da"
  },
  {
   "metadata": {
    "ExecuteTime": {
     "end_time": "2024-06-19T03:19:56.095144Z",
     "start_time": "2024-06-19T03:19:53.834909Z"
    }
   },
   "cell_type": "code",
   "source": [
    "from pyspark.sql.functions import udf\n",
    "\n",
    "@udf('string')\n",
    "def uppercase(word):\n",
    "    return word.upper()[:2] if word else None\n",
    "\n",
    "data.withColumn('uppercase',uppercase(col('nickname'))).show()\n",
    "\n"
   ],
   "id": "563ae1761499ee44",
   "execution_count": 35,
   "outputs": []
  },
  {
   "metadata": {
    "ExecuteTime": {
     "end_time": "2024-06-19T03:19:56.178748Z",
     "start_time": "2024-06-19T03:19:56.095144Z"
    }
   },
   "cell_type": "code",
   "source": "data.toPandas()",
   "id": "c2d564e342cbca2b",
   "execution_count": 36,
   "outputs": []
  },
  {
   "metadata": {},
   "cell_type": "markdown",
   "source": "### Aggregation Function",
   "id": "411396a7597359f1"
  },
  {
   "metadata": {
    "ExecuteTime": {
     "end_time": "2024-06-19T03:19:57.442298Z",
     "start_time": "2024-06-19T03:19:56.178748Z"
    }
   },
   "cell_type": "code",
   "source": "data.groupBy(\"breed_id\").agg({\"*\":\"count\",\"age\":\"avg\",\"weight\":\"avg\"}).show()",
   "id": "619bdd693677a72e",
   "execution_count": 37,
   "outputs": []
  },
  {
   "metadata": {
    "ExecuteTime": {
     "end_time": "2024-06-19T03:19:57.952945Z",
     "start_time": "2024-06-19T03:19:57.442298Z"
    }
   },
   "cell_type": "code",
   "source": "data.groupBy(\"breed_id\").agg(count(\"age\").alias(\"count_breed\"),sum(\"age\").alias(\"age_sum\"),avg(\"age\").alias(\"age_avg\")).show()",
   "id": "256a90b03d7479ab",
   "execution_count": 38,
   "outputs": []
  },
  {
   "metadata": {
    "ExecuteTime": {
     "end_time": "2024-06-19T03:19:58.392056Z",
     "start_time": "2024-06-19T03:19:57.953896Z"
    }
   },
   "cell_type": "code",
   "source": "data.groupby(\"breed_id\").agg(count(\"*\").alias(\"count_breed\"),sum(\"weight\").alias(\"weight_sum\"),avg(\"weight\").alias(\"average_weight\")).show()",
   "id": "2e87fb0a10418486",
   "execution_count": 39,
   "outputs": []
  },
  {
   "metadata": {},
   "cell_type": "markdown",
   "source": "### Non Deterministic Ordering for GroupBys",
   "id": "4a4c0b58bddfa6db"
  },
  {
   "metadata": {
    "ExecuteTime": {
     "end_time": "2024-06-19T03:19:58.407685Z",
     "start_time": "2024-06-19T03:19:58.392056Z"
    }
   },
   "cell_type": "code",
   "source": "data.printSchema()",
   "id": "197557ef82f4738d",
   "execution_count": 40,
   "outputs": []
  },
  {
   "metadata": {
    "ExecuteTime": {
     "end_time": "2024-06-19T03:19:58.438929Z",
     "start_time": "2024-06-19T03:19:58.407685Z"
    }
   },
   "cell_type": "code",
   "source": "data = data.withColumn(\"birthday\",col(\"birthday\").cast(\"date\"))",
   "id": "fa5048803f717c5b",
   "execution_count": 41,
   "outputs": []
  },
  {
   "metadata": {
    "ExecuteTime": {
     "end_time": "2024-06-19T03:19:58.574698Z",
     "start_time": "2024-06-19T03:19:58.438929Z"
    }
   },
   "cell_type": "code",
   "source": "data.show()",
   "id": "9abd64acdca6eab7",
   "execution_count": 42,
   "outputs": []
  },
  {
   "metadata": {
    "ExecuteTime": {
     "end_time": "2024-06-19T03:19:59.460408Z",
     "start_time": "2024-06-19T03:19:58.574698Z"
    }
   },
   "cell_type": "code",
   "source": "data.orderBy(\"birthday\").groupBy('breed_id').agg(first('nickname').alias('first_breed')).toPandas()",
   "id": "9138fb68839b8727",
   "execution_count": 43,
   "outputs": []
  },
  {
   "metadata": {
    "ExecuteTime": {
     "end_time": "2024-06-19T03:19:59.872043Z",
     "start_time": "2024-06-19T03:19:59.460408Z"
    }
   },
   "cell_type": "code",
   "source": "data.orderBy(\"birthday\").groupBy('breed_id').agg(first('nickname').alias('first_breed')).toPandas()",
   "id": "2cc78c69b9e4a329",
   "execution_count": 44,
   "outputs": []
  },
  {
   "metadata": {
    "ExecuteTime": {
     "end_time": "2024-06-19T03:19:59.920300Z",
     "start_time": "2024-06-19T03:19:59.872043Z"
    }
   },
   "cell_type": "code",
   "source": "window = Window.partitionBy(\"breed_id\").orderBy(\"birthday\")",
   "id": "4106b7a5a22fedaf",
   "execution_count": 45,
   "outputs": []
  },
  {
   "metadata": {
    "ExecuteTime": {
     "end_time": "2024-06-19T03:20:00.517325Z",
     "start_time": "2024-06-19T03:19:59.925304Z"
    }
   },
   "cell_type": "code",
   "source": "data.withColumn('row_number',row_number().over(window)).show()",
   "id": "3388822e5b3693ce",
   "execution_count": 46,
   "outputs": []
  },
  {
   "metadata": {
    "ExecuteTime": {
     "end_time": "2024-06-19T03:20:04.383643Z",
     "start_time": "2024-06-19T03:20:00.517325Z"
    }
   },
   "cell_type": "code",
   "source": [
    "pets = spark.createDataFrame(\n",
    "    [\n",
    "        (1, 1, datetime(2018, 1, 1, 1 ,1, 1), 'Bear', 5),\n",
    "        (2, 1, datetime(2010, 1, 1, 1 ,1, 1), 'Chewie', 15),\n",
    "        (3, 1, datetime(2015, 1, 1, 1 ,1, 1), 'Roger', 10),\n",
    "        (4, 2, datetime(2015, 1, 2, 2 ,3, 4), 'Roger', 10),\n",
    "        (5, 2, datetime(2015, 5, 6, 7 ,8, 9), 'Roger', 10),\n",
    "    ], ['id', 'breed_id', 'birthday', 'nickname', 'age']\n",
    ")\n",
    "pets.toPandas()"
   ],
   "id": "86249fe92dcf370d",
   "execution_count": 47,
   "outputs": []
  },
  {
   "metadata": {
    "ExecuteTime": {
     "end_time": "2024-06-19T03:20:04.406585Z",
     "start_time": "2024-06-19T03:20:04.386643Z"
    }
   },
   "cell_type": "code",
   "source": "windows = Window.partitionBy(\"breed_id\").orderBy(\"age\")",
   "id": "6ca8c9d4f12d82a7",
   "execution_count": 48,
   "outputs": []
  },
  {
   "metadata": {
    "ExecuteTime": {
     "end_time": "2024-06-19T03:20:05.877662Z",
     "start_time": "2024-06-19T03:20:04.406585Z"
    }
   },
   "cell_type": "code",
   "source": "pets.withColumn('row_number',row_number().over(windows)).show()",
   "id": "5160b4989b962467",
   "execution_count": 49,
   "outputs": []
  },
  {
   "metadata": {
    "ExecuteTime": {
     "end_time": "2024-06-19T03:20:54.056584Z",
     "start_time": "2024-06-19T03:20:54.032467Z"
    }
   },
   "cell_type": "code",
   "source": "windows2 = Window.partitionBy(\"breed_id\").orderBy(\"id\")",
   "id": "badea74058937f7",
   "execution_count": 50,
   "outputs": []
  },
  {
   "metadata": {
    "ExecuteTime": {
     "end_time": "2024-06-19T03:24:02.722170Z",
     "start_time": "2024-06-19T03:24:01.215635Z"
    }
   },
   "cell_type": "code",
   "source": "pets.withColumn('sum_age',sum(\"age\").over(windows2)).show()",
   "id": "50894b39d1ae9d0a",
   "execution_count": 53,
   "outputs": []
  },
  {
   "metadata": {
    "ExecuteTime": {
     "end_time": "2024-06-19T03:25:27.235407Z",
     "start_time": "2024-06-19T03:25:26.001474Z"
    }
   },
   "cell_type": "code",
   "source": [
    "windows3 = Window.partitionBy(\"breed_id\")\n",
    "pets.withColumn('sum_all',sum(\"age\").over(windows3)).show()"
   ],
   "id": "7d35f8ec80d29136",
   "execution_count": 54,
   "outputs": []
  },
  {
   "metadata": {},
   "cell_type": "code",
   "execution_count": null,
   "source": "",
   "id": "4f3288d9fcb9d2cb",
   "outputs": []
  }
 ],
 "metadata": {
  "kernelspec": {
   "display_name": "Python 3",
   "language": "python",
   "name": "python3"
  },
  "language_info": {
   "codemirror_mode": {
    "name": "ipython",
    "version": 2
   },
   "file_extension": ".py",
   "mimetype": "text/x-python",
   "name": "python",
   "nbconvert_exporter": "python",
   "pygments_lexer": "ipython2",
   "version": "2.7.6"
  }
 },
 "nbformat": 4,
 "nbformat_minor": 5
}
