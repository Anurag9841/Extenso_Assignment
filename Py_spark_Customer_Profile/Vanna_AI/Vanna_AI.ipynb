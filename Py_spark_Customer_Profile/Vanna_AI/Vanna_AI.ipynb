{
 "cells": [
  {
   "metadata": {
    "ExecuteTime": {
     "end_time": "2024-06-17T06:33:53.226600Z",
     "start_time": "2024-06-17T06:33:50.168046Z"
    }
   },
   "cell_type": "code",
   "source": [
    "\n",
    "!pip install --upgrade cryptography mysql-connector-python sqlalchemy pandas"
   ],
   "id": "9ffe6dd5a33f1f72",
   "outputs": [
    {
     "name": "stdout",
     "output_type": "stream",
     "text": [
      "Requirement already satisfied: cryptography in c:\\users\\acer\\pycharmprojects\\extenso_assignment\\py_spark_customer_profile\\.venv\\lib\\site-packages (42.0.8)\n",
      "Requirement already satisfied: mysql-connector-python in c:\\users\\acer\\pycharmprojects\\extenso_assignment\\py_spark_customer_profile\\.venv\\lib\\site-packages (8.4.0)\n",
      "Requirement already satisfied: sqlalchemy in c:\\users\\acer\\pycharmprojects\\extenso_assignment\\py_spark_customer_profile\\.venv\\lib\\site-packages (2.0.30)\n",
      "Requirement already satisfied: pandas in c:\\users\\acer\\pycharmprojects\\extenso_assignment\\py_spark_customer_profile\\.venv\\lib\\site-packages (2.2.2)\n",
      "Requirement already satisfied: cffi>=1.12 in c:\\users\\acer\\pycharmprojects\\extenso_assignment\\py_spark_customer_profile\\.venv\\lib\\site-packages (from cryptography) (1.16.0)\n",
      "Requirement already satisfied: typing-extensions>=4.6.0 in c:\\users\\acer\\pycharmprojects\\extenso_assignment\\py_spark_customer_profile\\.venv\\lib\\site-packages (from sqlalchemy) (4.12.1)\n",
      "Requirement already satisfied: greenlet!=0.4.17 in c:\\users\\acer\\pycharmprojects\\extenso_assignment\\py_spark_customer_profile\\.venv\\lib\\site-packages (from sqlalchemy) (3.0.3)\n",
      "Requirement already satisfied: numpy>=1.22.4 in c:\\users\\acer\\pycharmprojects\\extenso_assignment\\py_spark_customer_profile\\.venv\\lib\\site-packages (from pandas) (1.26.4)\n",
      "Requirement already satisfied: python-dateutil>=2.8.2 in c:\\users\\acer\\pycharmprojects\\extenso_assignment\\py_spark_customer_profile\\.venv\\lib\\site-packages (from pandas) (2.9.0.post0)\n",
      "Requirement already satisfied: pytz>=2020.1 in c:\\users\\acer\\pycharmprojects\\extenso_assignment\\py_spark_customer_profile\\.venv\\lib\\site-packages (from pandas) (2024.1)\n",
      "Requirement already satisfied: tzdata>=2022.7 in c:\\users\\acer\\pycharmprojects\\extenso_assignment\\py_spark_customer_profile\\.venv\\lib\\site-packages (from pandas) (2024.1)\n",
      "Requirement already satisfied: pycparser in c:\\users\\acer\\pycharmprojects\\extenso_assignment\\py_spark_customer_profile\\.venv\\lib\\site-packages (from cffi>=1.12->cryptography) (2.22)\n",
      "Requirement already satisfied: six>=1.5 in c:\\users\\acer\\pycharmprojects\\extenso_assignment\\py_spark_customer_profile\\.venv\\lib\\site-packages (from python-dateutil>=2.8.2->pandas) (1.16.0)\n"
     ]
    },
    {
     "name": "stderr",
     "output_type": "stream",
     "text": [
      "\n",
      "[notice] A new release of pip is available: 23.2.1 -> 24.0\n",
      "[notice] To update, run: python.exe -m pip install --upgrade pip\n"
     ]
    }
   ],
   "execution_count": 26
  },
  {
   "metadata": {
    "ExecuteTime": {
     "end_time": "2024-06-18T03:25:59.369901Z",
     "start_time": "2024-06-18T03:25:57.117284Z"
    }
   },
   "cell_type": "code",
   "source": [
    "import pandas as pd\n",
    "from sqlalchemy import create_engine"
   ],
   "id": "de75e207728a1865",
   "outputs": [],
   "execution_count": 1
  },
  {
   "metadata": {
    "ExecuteTime": {
     "end_time": "2024-06-18T03:25:59.385350Z",
     "start_time": "2024-06-18T03:25:59.369901Z"
    }
   },
   "cell_type": "code",
   "source": [
    "database = \"moviesdb\"\n",
    "username = \"root\"\n",
    "password = \"root\"\n",
    "host = \"localhost\"\n",
    "port = \"3306\""
   ],
   "id": "c6f5780a7a18ada5",
   "outputs": [],
   "execution_count": 2
  },
  {
   "metadata": {
    "ExecuteTime": {
     "end_time": "2024-06-18T03:25:59.400970Z",
     "start_time": "2024-06-18T03:25:59.385350Z"
    }
   },
   "cell_type": "code",
   "source": "db_uri = f\"mysql+pymysql://{username}:{password}@{host}:{port}/{database}\"",
   "id": "50dc8280676565b0",
   "outputs": [],
   "execution_count": 3
  },
  {
   "metadata": {
    "ExecuteTime": {
     "end_time": "2024-06-18T03:25:59.606651Z",
     "start_time": "2024-06-18T03:25:59.400970Z"
    }
   },
   "cell_type": "code",
   "source": "engine = create_engine(db_uri)",
   "id": "2914cbe0013b8da0",
   "outputs": [],
   "execution_count": 4
  },
  {
   "metadata": {
    "ExecuteTime": {
     "end_time": "2024-06-18T03:25:59.873113Z",
     "start_time": "2024-06-18T03:25:59.606651Z"
    }
   },
   "cell_type": "code",
   "source": "tables = pd.read_sql_table(\"movies\", engine)",
   "id": "b3dc36c0f4f33fb2",
   "outputs": [],
   "execution_count": 5
  },
  {
   "metadata": {
    "ExecuteTime": {
     "end_time": "2024-06-18T03:26:03.195274Z",
     "start_time": "2024-06-18T03:26:03.164045Z"
    }
   },
   "cell_type": "code",
   "source": "tables",
   "id": "b6e68261bd7971b7",
   "outputs": [
    {
     "data": {
      "text/plain": [
       "    movie_id                                        title   industry  \\\n",
       "0        101                             K.G.F: Chapter 2  Bollywood   \n",
       "1        102  Doctor Strange in the Multiverse of Madness  Hollywood   \n",
       "2        103                        Thor: The Dark World   Hollywood   \n",
       "3        104                              Thor: Ragnarok   Hollywood   \n",
       "4        105                      Thor: Love and Thunder   Hollywood   \n",
       "5        106                                       Sholay  Bollywood   \n",
       "6        107                  Dilwale Dulhania Le Jayenge  Bollywood   \n",
       "7        108                                     3 Idiots  Bollywood   \n",
       "8        109                     Kabhi Khushi Kabhie Gham  Bollywood   \n",
       "9        110                             Bajirao Mastani   Bollywood   \n",
       "10       111                     The Shawshank Redemption  Hollywood   \n",
       "11       112                                    Inception  Hollywood   \n",
       "12       113                                 Interstellar  Hollywood   \n",
       "13       115                     The Pursuit of Happyness  Hollywood   \n",
       "14       116                                    Gladiator  Hollywood   \n",
       "15       117                                      Titanic  Hollywood   \n",
       "16       118                        It's a Wonderful Life  Hollywood   \n",
       "17       119                                       Avatar  Hollywood   \n",
       "18       120                                The Godfather  Hollywood   \n",
       "19       121                              The Dark Knight  Hollywood   \n",
       "20       122                             Schindler's List  Hollywood   \n",
       "21       123                                Jurassic Park  Hollywood   \n",
       "22       124                                     Parasite  Hollywood   \n",
       "23       125                            Avengers: Endgame  Hollywood   \n",
       "24       126                       Avengers: Infinity War  Hollywood   \n",
       "25       127                              Pather Panchali  Bollywood   \n",
       "26       128                             Taare Zameen Par  Bollywood   \n",
       "27       129                          Munna Bhai M.B.B.S.  Bollywood   \n",
       "28       130                                           PK  Bollywood   \n",
       "29       131                                        Sanju  Bollywood   \n",
       "30       132                                       Pushpa  Bollywood   \n",
       "31       133                                          RRR  Bollywood   \n",
       "32       134                     Baahubali: The Beginning  Bollywood   \n",
       "33       135                            The Kashmir Files  Bollywood   \n",
       "34       136                            Bajrangi Bhaijaan  Bollywood   \n",
       "35       137           Captain America: The First Avenger  Hollywood   \n",
       "36       138          Captain America: The Winter Soldier  Hollywood   \n",
       "37       139                                       Race 3  Bollywood   \n",
       "38       140                                    Shershaah  Bollywood   \n",
       "39       145                               Faulad ki jung  Bollywood   \n",
       "40       146                               Faulad ki jung     Anurag   \n",
       "\n",
       "    release_year  imdb_rating                     studio  language_id  \n",
       "0           2022          8.4              Hombale Films            3  \n",
       "1           2022          7.0             Marvel Studios            5  \n",
       "2           2013          6.8             Marvel Studios            5  \n",
       "3           2017          7.9             Marvel Studios            5  \n",
       "4           2022          6.8             Marvel Studios            5  \n",
       "5           1975          8.1           United Producers            1  \n",
       "6           1995          8.0             Yash Raj Films            1  \n",
       "7           2009          8.4         Vinod Chopra Films            1  \n",
       "8           2001          7.4         Dharma Productions            1  \n",
       "9           2015          7.2                                       1  \n",
       "10          1994          9.3  Castle Rock Entertainment            5  \n",
       "11          2010          8.8      Warner Bros. Pictures            5  \n",
       "12          2014          8.6      Warner Bros. Pictures            5  \n",
       "13          2006          8.0          Columbia Pictures            5  \n",
       "14          2000          8.5       Universal Pictures              5  \n",
       "15          1997          7.9         Paramount Pictures            5  \n",
       "16          1946          8.6              Liberty Films            5  \n",
       "17          2009          7.8           20th Century Fox            5  \n",
       "18          1972          9.2         Paramount Pictures            5  \n",
       "19          2008          9.0                    Syncopy            5  \n",
       "20          1993          9.0         Universal Pictures            5  \n",
       "21          1993          8.2         Universal Pictures            5  \n",
       "22          2019          8.5                     Anurag            5  \n",
       "23          2019          8.4             Marvel Studios            5  \n",
       "24          2018          8.4             Marvel Studios            5  \n",
       "25          1955          8.3  Government of West Bengal            7  \n",
       "26          2007          8.3                                       1  \n",
       "27          2003          8.1   Vinod Chopra Productions            1  \n",
       "28          2014          8.1         Vinod Chopra Films            1  \n",
       "29          2018          NaN         Vinod Chopra Films            1  \n",
       "30          2021          7.6        Mythri Movie Makers            2  \n",
       "31          2022          8.0          DVV Entertainment            2  \n",
       "32          2015          8.0           Arka Media Works            2  \n",
       "33          2022          8.3                Zee Studios            1  \n",
       "34          2015          8.1          Salman Khan Films            1  \n",
       "35          2011          6.9             Marvel Studios            5  \n",
       "36          2014          7.8             Marvel Studios            5  \n",
       "37          2018          1.9          Salman Khan Films            1  \n",
       "38          2021          8.4         Dharma Productions            1  \n",
       "39          2015          8.0              Anurag Studio            2  \n",
       "40          2015          8.0              Anurag Studio            2  "
      ],
      "text/html": [
       "<div>\n",
       "<style scoped>\n",
       "    .dataframe tbody tr th:only-of-type {\n",
       "        vertical-align: middle;\n",
       "    }\n",
       "\n",
       "    .dataframe tbody tr th {\n",
       "        vertical-align: top;\n",
       "    }\n",
       "\n",
       "    .dataframe thead th {\n",
       "        text-align: right;\n",
       "    }\n",
       "</style>\n",
       "<table border=\"1\" class=\"dataframe\">\n",
       "  <thead>\n",
       "    <tr style=\"text-align: right;\">\n",
       "      <th></th>\n",
       "      <th>movie_id</th>\n",
       "      <th>title</th>\n",
       "      <th>industry</th>\n",
       "      <th>release_year</th>\n",
       "      <th>imdb_rating</th>\n",
       "      <th>studio</th>\n",
       "      <th>language_id</th>\n",
       "    </tr>\n",
       "  </thead>\n",
       "  <tbody>\n",
       "    <tr>\n",
       "      <th>0</th>\n",
       "      <td>101</td>\n",
       "      <td>K.G.F: Chapter 2</td>\n",
       "      <td>Bollywood</td>\n",
       "      <td>2022</td>\n",
       "      <td>8.4</td>\n",
       "      <td>Hombale Films</td>\n",
       "      <td>3</td>\n",
       "    </tr>\n",
       "    <tr>\n",
       "      <th>1</th>\n",
       "      <td>102</td>\n",
       "      <td>Doctor Strange in the Multiverse of Madness</td>\n",
       "      <td>Hollywood</td>\n",
       "      <td>2022</td>\n",
       "      <td>7.0</td>\n",
       "      <td>Marvel Studios</td>\n",
       "      <td>5</td>\n",
       "    </tr>\n",
       "    <tr>\n",
       "      <th>2</th>\n",
       "      <td>103</td>\n",
       "      <td>Thor: The Dark World</td>\n",
       "      <td>Hollywood</td>\n",
       "      <td>2013</td>\n",
       "      <td>6.8</td>\n",
       "      <td>Marvel Studios</td>\n",
       "      <td>5</td>\n",
       "    </tr>\n",
       "    <tr>\n",
       "      <th>3</th>\n",
       "      <td>104</td>\n",
       "      <td>Thor: Ragnarok</td>\n",
       "      <td>Hollywood</td>\n",
       "      <td>2017</td>\n",
       "      <td>7.9</td>\n",
       "      <td>Marvel Studios</td>\n",
       "      <td>5</td>\n",
       "    </tr>\n",
       "    <tr>\n",
       "      <th>4</th>\n",
       "      <td>105</td>\n",
       "      <td>Thor: Love and Thunder</td>\n",
       "      <td>Hollywood</td>\n",
       "      <td>2022</td>\n",
       "      <td>6.8</td>\n",
       "      <td>Marvel Studios</td>\n",
       "      <td>5</td>\n",
       "    </tr>\n",
       "    <tr>\n",
       "      <th>5</th>\n",
       "      <td>106</td>\n",
       "      <td>Sholay</td>\n",
       "      <td>Bollywood</td>\n",
       "      <td>1975</td>\n",
       "      <td>8.1</td>\n",
       "      <td>United Producers</td>\n",
       "      <td>1</td>\n",
       "    </tr>\n",
       "    <tr>\n",
       "      <th>6</th>\n",
       "      <td>107</td>\n",
       "      <td>Dilwale Dulhania Le Jayenge</td>\n",
       "      <td>Bollywood</td>\n",
       "      <td>1995</td>\n",
       "      <td>8.0</td>\n",
       "      <td>Yash Raj Films</td>\n",
       "      <td>1</td>\n",
       "    </tr>\n",
       "    <tr>\n",
       "      <th>7</th>\n",
       "      <td>108</td>\n",
       "      <td>3 Idiots</td>\n",
       "      <td>Bollywood</td>\n",
       "      <td>2009</td>\n",
       "      <td>8.4</td>\n",
       "      <td>Vinod Chopra Films</td>\n",
       "      <td>1</td>\n",
       "    </tr>\n",
       "    <tr>\n",
       "      <th>8</th>\n",
       "      <td>109</td>\n",
       "      <td>Kabhi Khushi Kabhie Gham</td>\n",
       "      <td>Bollywood</td>\n",
       "      <td>2001</td>\n",
       "      <td>7.4</td>\n",
       "      <td>Dharma Productions</td>\n",
       "      <td>1</td>\n",
       "    </tr>\n",
       "    <tr>\n",
       "      <th>9</th>\n",
       "      <td>110</td>\n",
       "      <td>Bajirao Mastani</td>\n",
       "      <td>Bollywood</td>\n",
       "      <td>2015</td>\n",
       "      <td>7.2</td>\n",
       "      <td></td>\n",
       "      <td>1</td>\n",
       "    </tr>\n",
       "    <tr>\n",
       "      <th>10</th>\n",
       "      <td>111</td>\n",
       "      <td>The Shawshank Redemption</td>\n",
       "      <td>Hollywood</td>\n",
       "      <td>1994</td>\n",
       "      <td>9.3</td>\n",
       "      <td>Castle Rock Entertainment</td>\n",
       "      <td>5</td>\n",
       "    </tr>\n",
       "    <tr>\n",
       "      <th>11</th>\n",
       "      <td>112</td>\n",
       "      <td>Inception</td>\n",
       "      <td>Hollywood</td>\n",
       "      <td>2010</td>\n",
       "      <td>8.8</td>\n",
       "      <td>Warner Bros. Pictures</td>\n",
       "      <td>5</td>\n",
       "    </tr>\n",
       "    <tr>\n",
       "      <th>12</th>\n",
       "      <td>113</td>\n",
       "      <td>Interstellar</td>\n",
       "      <td>Hollywood</td>\n",
       "      <td>2014</td>\n",
       "      <td>8.6</td>\n",
       "      <td>Warner Bros. Pictures</td>\n",
       "      <td>5</td>\n",
       "    </tr>\n",
       "    <tr>\n",
       "      <th>13</th>\n",
       "      <td>115</td>\n",
       "      <td>The Pursuit of Happyness</td>\n",
       "      <td>Hollywood</td>\n",
       "      <td>2006</td>\n",
       "      <td>8.0</td>\n",
       "      <td>Columbia Pictures</td>\n",
       "      <td>5</td>\n",
       "    </tr>\n",
       "    <tr>\n",
       "      <th>14</th>\n",
       "      <td>116</td>\n",
       "      <td>Gladiator</td>\n",
       "      <td>Hollywood</td>\n",
       "      <td>2000</td>\n",
       "      <td>8.5</td>\n",
       "      <td>Universal Pictures</td>\n",
       "      <td>5</td>\n",
       "    </tr>\n",
       "    <tr>\n",
       "      <th>15</th>\n",
       "      <td>117</td>\n",
       "      <td>Titanic</td>\n",
       "      <td>Hollywood</td>\n",
       "      <td>1997</td>\n",
       "      <td>7.9</td>\n",
       "      <td>Paramount Pictures</td>\n",
       "      <td>5</td>\n",
       "    </tr>\n",
       "    <tr>\n",
       "      <th>16</th>\n",
       "      <td>118</td>\n",
       "      <td>It's a Wonderful Life</td>\n",
       "      <td>Hollywood</td>\n",
       "      <td>1946</td>\n",
       "      <td>8.6</td>\n",
       "      <td>Liberty Films</td>\n",
       "      <td>5</td>\n",
       "    </tr>\n",
       "    <tr>\n",
       "      <th>17</th>\n",
       "      <td>119</td>\n",
       "      <td>Avatar</td>\n",
       "      <td>Hollywood</td>\n",
       "      <td>2009</td>\n",
       "      <td>7.8</td>\n",
       "      <td>20th Century Fox</td>\n",
       "      <td>5</td>\n",
       "    </tr>\n",
       "    <tr>\n",
       "      <th>18</th>\n",
       "      <td>120</td>\n",
       "      <td>The Godfather</td>\n",
       "      <td>Hollywood</td>\n",
       "      <td>1972</td>\n",
       "      <td>9.2</td>\n",
       "      <td>Paramount Pictures</td>\n",
       "      <td>5</td>\n",
       "    </tr>\n",
       "    <tr>\n",
       "      <th>19</th>\n",
       "      <td>121</td>\n",
       "      <td>The Dark Knight</td>\n",
       "      <td>Hollywood</td>\n",
       "      <td>2008</td>\n",
       "      <td>9.0</td>\n",
       "      <td>Syncopy</td>\n",
       "      <td>5</td>\n",
       "    </tr>\n",
       "    <tr>\n",
       "      <th>20</th>\n",
       "      <td>122</td>\n",
       "      <td>Schindler's List</td>\n",
       "      <td>Hollywood</td>\n",
       "      <td>1993</td>\n",
       "      <td>9.0</td>\n",
       "      <td>Universal Pictures</td>\n",
       "      <td>5</td>\n",
       "    </tr>\n",
       "    <tr>\n",
       "      <th>21</th>\n",
       "      <td>123</td>\n",
       "      <td>Jurassic Park</td>\n",
       "      <td>Hollywood</td>\n",
       "      <td>1993</td>\n",
       "      <td>8.2</td>\n",
       "      <td>Universal Pictures</td>\n",
       "      <td>5</td>\n",
       "    </tr>\n",
       "    <tr>\n",
       "      <th>22</th>\n",
       "      <td>124</td>\n",
       "      <td>Parasite</td>\n",
       "      <td>Hollywood</td>\n",
       "      <td>2019</td>\n",
       "      <td>8.5</td>\n",
       "      <td>Anurag</td>\n",
       "      <td>5</td>\n",
       "    </tr>\n",
       "    <tr>\n",
       "      <th>23</th>\n",
       "      <td>125</td>\n",
       "      <td>Avengers: Endgame</td>\n",
       "      <td>Hollywood</td>\n",
       "      <td>2019</td>\n",
       "      <td>8.4</td>\n",
       "      <td>Marvel Studios</td>\n",
       "      <td>5</td>\n",
       "    </tr>\n",
       "    <tr>\n",
       "      <th>24</th>\n",
       "      <td>126</td>\n",
       "      <td>Avengers: Infinity War</td>\n",
       "      <td>Hollywood</td>\n",
       "      <td>2018</td>\n",
       "      <td>8.4</td>\n",
       "      <td>Marvel Studios</td>\n",
       "      <td>5</td>\n",
       "    </tr>\n",
       "    <tr>\n",
       "      <th>25</th>\n",
       "      <td>127</td>\n",
       "      <td>Pather Panchali</td>\n",
       "      <td>Bollywood</td>\n",
       "      <td>1955</td>\n",
       "      <td>8.3</td>\n",
       "      <td>Government of West Bengal</td>\n",
       "      <td>7</td>\n",
       "    </tr>\n",
       "    <tr>\n",
       "      <th>26</th>\n",
       "      <td>128</td>\n",
       "      <td>Taare Zameen Par</td>\n",
       "      <td>Bollywood</td>\n",
       "      <td>2007</td>\n",
       "      <td>8.3</td>\n",
       "      <td></td>\n",
       "      <td>1</td>\n",
       "    </tr>\n",
       "    <tr>\n",
       "      <th>27</th>\n",
       "      <td>129</td>\n",
       "      <td>Munna Bhai M.B.B.S.</td>\n",
       "      <td>Bollywood</td>\n",
       "      <td>2003</td>\n",
       "      <td>8.1</td>\n",
       "      <td>Vinod Chopra Productions</td>\n",
       "      <td>1</td>\n",
       "    </tr>\n",
       "    <tr>\n",
       "      <th>28</th>\n",
       "      <td>130</td>\n",
       "      <td>PK</td>\n",
       "      <td>Bollywood</td>\n",
       "      <td>2014</td>\n",
       "      <td>8.1</td>\n",
       "      <td>Vinod Chopra Films</td>\n",
       "      <td>1</td>\n",
       "    </tr>\n",
       "    <tr>\n",
       "      <th>29</th>\n",
       "      <td>131</td>\n",
       "      <td>Sanju</td>\n",
       "      <td>Bollywood</td>\n",
       "      <td>2018</td>\n",
       "      <td>NaN</td>\n",
       "      <td>Vinod Chopra Films</td>\n",
       "      <td>1</td>\n",
       "    </tr>\n",
       "    <tr>\n",
       "      <th>30</th>\n",
       "      <td>132</td>\n",
       "      <td>Pushpa</td>\n",
       "      <td>Bollywood</td>\n",
       "      <td>2021</td>\n",
       "      <td>7.6</td>\n",
       "      <td>Mythri Movie Makers</td>\n",
       "      <td>2</td>\n",
       "    </tr>\n",
       "    <tr>\n",
       "      <th>31</th>\n",
       "      <td>133</td>\n",
       "      <td>RRR</td>\n",
       "      <td>Bollywood</td>\n",
       "      <td>2022</td>\n",
       "      <td>8.0</td>\n",
       "      <td>DVV Entertainment</td>\n",
       "      <td>2</td>\n",
       "    </tr>\n",
       "    <tr>\n",
       "      <th>32</th>\n",
       "      <td>134</td>\n",
       "      <td>Baahubali: The Beginning</td>\n",
       "      <td>Bollywood</td>\n",
       "      <td>2015</td>\n",
       "      <td>8.0</td>\n",
       "      <td>Arka Media Works</td>\n",
       "      <td>2</td>\n",
       "    </tr>\n",
       "    <tr>\n",
       "      <th>33</th>\n",
       "      <td>135</td>\n",
       "      <td>The Kashmir Files</td>\n",
       "      <td>Bollywood</td>\n",
       "      <td>2022</td>\n",
       "      <td>8.3</td>\n",
       "      <td>Zee Studios</td>\n",
       "      <td>1</td>\n",
       "    </tr>\n",
       "    <tr>\n",
       "      <th>34</th>\n",
       "      <td>136</td>\n",
       "      <td>Bajrangi Bhaijaan</td>\n",
       "      <td>Bollywood</td>\n",
       "      <td>2015</td>\n",
       "      <td>8.1</td>\n",
       "      <td>Salman Khan Films</td>\n",
       "      <td>1</td>\n",
       "    </tr>\n",
       "    <tr>\n",
       "      <th>35</th>\n",
       "      <td>137</td>\n",
       "      <td>Captain America: The First Avenger</td>\n",
       "      <td>Hollywood</td>\n",
       "      <td>2011</td>\n",
       "      <td>6.9</td>\n",
       "      <td>Marvel Studios</td>\n",
       "      <td>5</td>\n",
       "    </tr>\n",
       "    <tr>\n",
       "      <th>36</th>\n",
       "      <td>138</td>\n",
       "      <td>Captain America: The Winter Soldier</td>\n",
       "      <td>Hollywood</td>\n",
       "      <td>2014</td>\n",
       "      <td>7.8</td>\n",
       "      <td>Marvel Studios</td>\n",
       "      <td>5</td>\n",
       "    </tr>\n",
       "    <tr>\n",
       "      <th>37</th>\n",
       "      <td>139</td>\n",
       "      <td>Race 3</td>\n",
       "      <td>Bollywood</td>\n",
       "      <td>2018</td>\n",
       "      <td>1.9</td>\n",
       "      <td>Salman Khan Films</td>\n",
       "      <td>1</td>\n",
       "    </tr>\n",
       "    <tr>\n",
       "      <th>38</th>\n",
       "      <td>140</td>\n",
       "      <td>Shershaah</td>\n",
       "      <td>Bollywood</td>\n",
       "      <td>2021</td>\n",
       "      <td>8.4</td>\n",
       "      <td>Dharma Productions</td>\n",
       "      <td>1</td>\n",
       "    </tr>\n",
       "    <tr>\n",
       "      <th>39</th>\n",
       "      <td>145</td>\n",
       "      <td>Faulad ki jung</td>\n",
       "      <td>Bollywood</td>\n",
       "      <td>2015</td>\n",
       "      <td>8.0</td>\n",
       "      <td>Anurag Studio</td>\n",
       "      <td>2</td>\n",
       "    </tr>\n",
       "    <tr>\n",
       "      <th>40</th>\n",
       "      <td>146</td>\n",
       "      <td>Faulad ki jung</td>\n",
       "      <td>Anurag</td>\n",
       "      <td>2015</td>\n",
       "      <td>8.0</td>\n",
       "      <td>Anurag Studio</td>\n",
       "      <td>2</td>\n",
       "    </tr>\n",
       "  </tbody>\n",
       "</table>\n",
       "</div>"
      ]
     },
     "execution_count": 6,
     "metadata": {},
     "output_type": "execute_result"
    }
   ],
   "execution_count": 6
  },
  {
   "metadata": {
    "ExecuteTime": {
     "end_time": "2024-06-18T03:26:06.724780Z",
     "start_time": "2024-06-18T03:26:06.425202Z"
    }
   },
   "cell_type": "code",
   "source": [
    "import vanna as vn\n",
    "from vanna.remote import VannaDefault"
   ],
   "id": "2b2681f616fe7f6c",
   "outputs": [],
   "execution_count": 7
  },
  {
   "metadata": {
    "ExecuteTime": {
     "end_time": "2024-06-18T03:26:07.127670Z",
     "start_time": "2024-06-18T03:26:07.112047Z"
    }
   },
   "cell_type": "code",
   "source": [
    "api_key = \"1cdce4ff500d4205b6045ab5f2169a46\"\n",
    "vanna_model_name = \"movied_db_practice\""
   ],
   "id": "b9f81accdd8db677",
   "outputs": [],
   "execution_count": 8
  },
  {
   "metadata": {
    "ExecuteTime": {
     "end_time": "2024-06-18T03:26:10.585959Z",
     "start_time": "2024-06-18T03:26:10.570340Z"
    }
   },
   "cell_type": "code",
   "source": "vn = VannaDefault(model = vanna_model_name,api_key = api_key)",
   "id": "b11164b0dadf45b8",
   "outputs": [],
   "execution_count": 9
  },
  {
   "metadata": {
    "ExecuteTime": {
     "end_time": "2024-06-18T03:26:12.852219Z",
     "start_time": "2024-06-18T03:26:11.945250Z"
    }
   },
   "cell_type": "code",
   "source": "vn.get_models()",
   "id": "cda2013862e597d4",
   "outputs": [
    {
     "data": {
      "text/plain": [
       "['movied_db_practice']"
      ]
     },
     "execution_count": 10,
     "metadata": {},
     "output_type": "execute_result"
    }
   ],
   "execution_count": 10
  },
  {
   "metadata": {
    "ExecuteTime": {
     "end_time": "2024-06-18T03:26:16.682172Z",
     "start_time": "2024-06-18T03:26:16.666531Z"
    }
   },
   "cell_type": "code",
   "source": "vn.connect_to_mysql(host = host,dbname = database,user=username,password=password,port=3306)",
   "id": "baf255bd0525e046",
   "outputs": [],
   "execution_count": 11
  },
  {
   "metadata": {
    "ExecuteTime": {
     "end_time": "2024-06-17T11:21:01.311168Z",
     "start_time": "2024-06-17T11:21:01.279894Z"
    }
   },
   "cell_type": "code",
   "source": "df_movies = vn.run_sql(\"select * from information_schema.columns where TABLE_SCHEMA = 'moviesdb'\")",
   "id": "d8f87af2ffa56b69",
   "outputs": [],
   "execution_count": 12
  },
  {
   "metadata": {
    "ExecuteTime": {
     "end_time": "2024-06-17T11:21:03.120503Z",
     "start_time": "2024-06-17T11:21:02.980086Z"
    }
   },
   "cell_type": "code",
   "source": [
    "plan = vn.get_training_plan_generic(df_movies)\n",
    "plan"
   ],
   "id": "d13990e52477183b",
   "outputs": [
    {
     "data": {
      "text/plain": [
       "Train on Information Schema: def.moviesdb actors\n",
       "Train on Information Schema: def.moviesdb financials\n",
       "Train on Information Schema: def.moviesdb languages\n",
       "Train on Information Schema: def.moviesdb movie_actor\n",
       "Train on Information Schema: def.moviesdb movies"
      ]
     },
     "execution_count": 13,
     "metadata": {},
     "output_type": "execute_result"
    }
   ],
   "execution_count": 13
  },
  {
   "metadata": {
    "ExecuteTime": {
     "end_time": "2024-06-17T11:21:11.740887Z",
     "start_time": "2024-06-17T11:21:05.902453Z"
    }
   },
   "cell_type": "code",
   "source": "vn.train(plan = plan)",
   "id": "ffd1eb016d36615c",
   "outputs": [],
   "execution_count": 14
  },
  {
   "metadata": {
    "ExecuteTime": {
     "end_time": "2024-06-17T11:21:25.665604Z",
     "start_time": "2024-06-17T11:21:24.786114Z"
    }
   },
   "cell_type": "code",
   "source": [
    "vn.train(documentation='''You have access to the following SQL tables:\n",
    "movies: Contains information about movies including title, industry, release year, IMDb rating, studio, and language.\n",
    "actors: Stores data on actors such as their names and birth years.\n",
    "movie_actor: Establishes a many-to-many relationship between movies and actors by linking actor IDs with movie IDs.\n",
    "financials: Holds financial data related to movies including budget, revenue, unit, and currency.\n",
    "languages: Contains information about different languages used in movies, assigning a unique ID to each language.\n",
    "Using these tables and their relationships, perform the necessary joins to answer the following questions.''')"
   ],
   "id": "db7f7df89f17e69b",
   "outputs": [
    {
     "name": "stdout",
     "output_type": "stream",
     "text": [
      "Adding documentation....\n"
     ]
    },
    {
     "data": {
      "text/plain": [
       "'1080081-doc'"
      ]
     },
     "execution_count": 15,
     "metadata": {},
     "output_type": "execute_result"
    }
   ],
   "execution_count": 15
  },
  {
   "metadata": {
    "ExecuteTime": {
     "end_time": "2024-06-17T11:28:39.786505Z",
     "start_time": "2024-06-17T11:28:38.871464Z"
    }
   },
   "cell_type": "code",
   "source": "vn.train(documentation='''When using financial tables, ensure you also consider the 'unit' column, which specifies the unit of currency. For example, if the budget is listed as 100 and the unit is 'Billions,' this signifies 100 Billions dollars. Therefore, when determining the top-budget movies, consider both the budget value and the associated unit.''')",
   "id": "8f966227761fe88",
   "outputs": [
    {
     "name": "stdout",
     "output_type": "stream",
     "text": [
      "Adding documentation....\n"
     ]
    },
    {
     "data": {
      "text/plain": [
       "'1080419-doc'"
      ]
     },
     "execution_count": 12,
     "metadata": {},
     "output_type": "execute_result"
    }
   ],
   "execution_count": 12
  },
  {
   "metadata": {
    "ExecuteTime": {
     "end_time": "2024-06-17T11:22:36.228277Z",
     "start_time": "2024-06-17T11:22:23.681475Z"
    }
   },
   "cell_type": "code",
   "source": "vn.ask(\"What are top 10 best movies?\")",
   "id": "6a42825580a509f4",
   "outputs": [
    {
     "name": "stdout",
     "output_type": "stream",
     "text": [
      "SQL Prompt: [{'role': 'system', 'content': \"You are a SQL expert. Please help to generate a SQL query to answer the question. Your response should ONLY be based on the given context and follow the response guidelines and format instructions. \\n===Additional Context \\n\\nYou have access to the following SQL tables:\\nmovies: Contains information about movies including title, industry, release year, IMDb rating, studio, and language.\\nactors: Stores data on actors such as their names and birth years.\\nmovie_actor: Establishes a many-to-many relationship between movies and actors by linking actor IDs with movie IDs.\\nfinancials: Holds financial data related to movies including budget, revenue, unit, and currency.\\nlanguages: Contains information about different languages used in movies, assigning a unique ID to each language.\\nUsing these tables and their relationships, perform the necessary joins to answer the following questions.\\n\\nYou have access to the following SQL tables:\\nmovies: Contains information about movies including title, industry, release year, IMDb rating, studio, and language.\\nactors: Stores data on actors such as their names and birth years.\\nmovie_actor: Establishes a many-to-many relationship between movies and actors by linking actor IDs with movie IDs.\\nfinancials: Holds financial data related to movies including budget, revenue, unit, and currency.\\nlanguages: Contains information about different languages used in movies, assigning a unique ID to each language.\\nUsing these tables and their relationships, perform the necessary joins to answer the following questions.\\n\\nThe following columns are in the movies table in the def database:\\n\\n|    | TABLE_CATALOG   | TABLE_SCHEMA   | TABLE_NAME   | COLUMN_NAME   | DATA_TYPE   | COLUMN_COMMENT   |\\n|---:|:----------------|:---------------|:-------------|:--------------|:------------|:-----------------|\\n| 12 | def             | moviesdb       | movies       | imdb_rating   | decimal     |                  |\\n| 13 | def             | moviesdb       | movies       | industry      | varchar     |                  |\\n| 14 | def             | moviesdb       | movies       | language_id   | tinyint     |                  |\\n| 15 | def             | moviesdb       | movies       | movie_id      | int         |                  |\\n| 16 | def             | moviesdb       | movies       | release_year  | year        |                  |\\n| 17 | def             | moviesdb       | movies       | studio        | varchar     |                  |\\n| 18 | def             | moviesdb       | movies       | title         | varchar     |                  |\\n\\nThe following columns are in the movies table in the def database:\\n\\n|    | TABLE_CATALOG   | TABLE_SCHEMA   | TABLE_NAME   | COLUMN_NAME   | DATA_TYPE   | COLUMN_COMMENT   |\\n|---:|:----------------|:---------------|:-------------|:--------------|:------------|:-----------------|\\n| 12 | def             | moviesdb       | movies       | imdb_rating   | decimal     |                  |\\n| 13 | def             | moviesdb       | movies       | industry      | varchar     |                  |\\n| 14 | def             | moviesdb       | movies       | language_id   | tinyint     |                  |\\n| 15 | def             | moviesdb       | movies       | movie_id      | int         |                  |\\n| 16 | def             | moviesdb       | movies       | release_year  | year        |                  |\\n| 17 | def             | moviesdb       | movies       | studio        | varchar     |                  |\\n| 18 | def             | moviesdb       | movies       | title         | varchar     |                  |\\n\\nThe following columns are in the movies table in the def database:\\n\\n|    | TABLE_CATALOG   | TABLE_SCHEMA   | TABLE_NAME   | COLUMN_NAME   | DATA_TYPE   | COLUMN_COMMENT   |\\n|---:|:----------------|:---------------|:-------------|:--------------|:------------|:-----------------|\\n| 12 | def             | moviesdb       | movies       | movie_id      | int         |                  |\\n| 13 | def             | moviesdb       | movies       | title         | varchar     |                  |\\n| 14 | def             | moviesdb       | movies       | industry      | varchar     |                  |\\n| 15 | def             | moviesdb       | movies       | release_year  | year        |                  |\\n| 16 | def             | moviesdb       | movies       | imdb_rating   | decimal     |                  |\\n| 17 | def             | moviesdb       | movies       | studio        | varchar     |                  |\\n| 18 | def             | moviesdb       | movies       | language_id   | tinyint     |                  |\\n\\nThe following columns are in the movies table in the def database:\\n\\n|    | TABLE_CATALOG   | TABLE_SCHEMA   | TABLE_NAME   | COLUMN_NAME   | DATA_TYPE   | COLUMN_COMMENT   |\\n|---:|:----------------|:---------------|:-------------|:--------------|:------------|:-----------------|\\n| 12 | def             | moviesdb       | movies       | movie_id      | int         |                  |\\n| 13 | def             | moviesdb       | movies       | title         | varchar     |                  |\\n| 14 | def             | moviesdb       | movies       | industry      | varchar     |                  |\\n| 15 | def             | moviesdb       | movies       | release_year  | year        |                  |\\n| 16 | def             | moviesdb       | movies       | imdb_rating   | decimal     |                  |\\n| 17 | def             | moviesdb       | movies       | studio        | varchar     |                  |\\n| 18 | def             | moviesdb       | movies       | language_id   | tinyint     |                  |\\n\\nThe following columns are in the movie_actor table in the def database:\\n\\n|    | TABLE_CATALOG   | TABLE_SCHEMA   | TABLE_NAME   | COLUMN_NAME   | DATA_TYPE   | COLUMN_COMMENT   |\\n|---:|:----------------|:---------------|:-------------|:--------------|:------------|:-----------------|\\n| 10 | def             | moviesdb       | movie_actor  | actor_id      | int         |                  |\\n| 11 | def             | moviesdb       | movie_actor  | movie_id      | int         |                  |\\n\\nThe following columns are in the movie_actor table in the def database:\\n\\n|    | TABLE_CATALOG   | TABLE_SCHEMA   | TABLE_NAME   | COLUMN_NAME   | DATA_TYPE   | COLUMN_COMMENT   |\\n|---:|:----------------|:---------------|:-------------|:--------------|:------------|:-----------------|\\n| 10 | def             | moviesdb       | movie_actor  | actor_id      | int         |                  |\\n| 11 | def             | moviesdb       | movie_actor  | movie_id      | int         |                  |\\n\\nThe following columns are in the movie_actor table in the def database:\\n\\n|    | TABLE_CATALOG   | TABLE_SCHEMA   | TABLE_NAME   | COLUMN_NAME   | DATA_TYPE   | COLUMN_COMMENT   |\\n|---:|:----------------|:---------------|:-------------|:--------------|:------------|:-----------------|\\n| 10 | def             | moviesdb       | movie_actor  | movie_id      | int         |                  |\\n| 11 | def             | moviesdb       | movie_actor  | actor_id      | int         |                  |\\n\\nThe following columns are in the movie_actor table in the def database:\\n\\n|    | TABLE_CATALOG   | TABLE_SCHEMA   | TABLE_NAME   | COLUMN_NAME   | DATA_TYPE   | COLUMN_COMMENT   |\\n|---:|:----------------|:---------------|:-------------|:--------------|:------------|:-----------------|\\n| 10 | def             | moviesdb       | movie_actor  | movie_id      | int         |                  |\\n| 11 | def             | moviesdb       | movie_actor  | actor_id      | int         |                  |\\n\\n===Response Guidelines \\n1. If the provided context is sufficient, please generate a valid SQL query without any explanations for the question. \\n2. If the provided context is almost sufficient but requires knowledge of a specific string in a particular column, please generate an intermediate SQL query to find the distinct strings in that column. Prepend the query with a comment saying intermediate_sql \\n3. If the provided context is insufficient, please explain why it can't be generated. \\n4. Please use the most relevant table(s). \\n5. If the question has been asked and answered before, please repeat the answer exactly as it was given before. \\n\"}, {'role': 'user', 'content': 'What are top 10 best movies?'}, {'role': 'assistant', 'content': 'SELECT title, imdb_rating\\nFROM movies\\nORDER BY imdb_rating DESC\\nLIMIT 10;'}, {'role': 'user', 'content': 'What are the best movies?'}, {'role': 'assistant', 'content': 'SELECT title, imdb_rating\\nFROM movies\\nORDER BY imdb_rating DESC;'}, {'role': 'user', 'content': 'What are top 10 best movies?'}]\n",
      "LLM Response: SELECT title, imdb_rating\n",
      "FROM movies\n",
      "ORDER BY imdb_rating DESC\n",
      "LIMIT 10;\n",
      "Extracted SQL: SELECT title, imdb_rating\n",
      "FROM movies\n",
      "ORDER BY imdb_rating DESC\n",
      "LIMIT 10;\n",
      "SELECT title, imdb_rating\n",
      "FROM movies\n",
      "ORDER BY imdb_rating DESC\n",
      "LIMIT 10;\n",
      "                      title imdb_rating\n",
      "0  The Shawshank Redemption         9.3\n",
      "1             The Godfather         9.2\n",
      "2           The Dark Knight         9.0\n",
      "3          Schindler's List         9.0\n",
      "4                 Inception         8.8\n",
      "5              Interstellar         8.6\n",
      "6     It's a Wonderful Life         8.6\n",
      "7                  Parasite         8.5\n",
      "8                 Gladiator         8.5\n",
      "9                  3 Idiots         8.4\n"
     ]
    },
    {
     "data": {
      "image/png": "[encoded data removed]",
      "text/plain": [
       "<IPython.core.display.Image object>"
      ]
     },
     "metadata": {},
     "output_type": "display_data"
    },
    {
     "data": {
      "text/plain": [
       "('SELECT title, imdb_rating\\nFROM movies\\nORDER BY imdb_rating DESC\\nLIMIT 10;',\n",
       "                       title imdb_rating\n",
       " 0  The Shawshank Redemption         9.3\n",
       " 1             The Godfather         9.2\n",
       " 2           The Dark Knight         9.0\n",
       " 3          Schindler's List         9.0\n",
       " 4                 Inception         8.8\n",
       " 5              Interstellar         8.6\n",
       " 6     It's a Wonderful Life         8.6\n",
       " 7                  Parasite         8.5\n",
       " 8                 Gladiator         8.5\n",
       " 9                  3 Idiots         8.4,\n",
       " Figure({\n",
       "     'data': [{'alignmentgroup': 'True',\n",
       "               'hovertemplate': 'Movie Title=%{x}<br>IMDb Rating=%{y}<extra></extra>',\n",
       "               'legendgroup': '',\n",
       "               'marker': {'color': '#636efa', 'pattern': {'shape': ''}},\n",
       "               'name': '',\n",
       "               'offsetgroup': '',\n",
       "               'orientation': 'v',\n",
       "               'showlegend': False,\n",
       "               'textposition': 'auto',\n",
       "               'type': 'bar',\n",
       "               'x': array(['The Shawshank Redemption', 'The Godfather', 'The Dark Knight',\n",
       "                           \"Schindler's List\", 'Inception', 'Interstellar',\n",
       "                           \"It's a Wonderful Life\", 'Parasite', 'Gladiator', '3 Idiots'],\n",
       "                          dtype=object),\n",
       "               'xaxis': 'x',\n",
       "               'y': array([Decimal('9.3'), Decimal('9.2'), Decimal('9.0'), Decimal('9.0'),\n",
       "                           Decimal('8.8'), Decimal('8.6'), Decimal('8.6'), Decimal('8.5'),\n",
       "                           Decimal('8.5'), Decimal('8.4')], dtype=object),\n",
       "               'yaxis': 'y'}],\n",
       "     'layout': {'barmode': 'relative',\n",
       "                'legend': {'tracegroupgap': 0},\n",
       "                'template': '...',\n",
       "                'title': {'text': 'Top 10 Best Movies'},\n",
       "                'xaxis': {'anchor': 'y',\n",
       "                          'categoryorder': 'total descending',\n",
       "                          'domain': [0.0, 1.0],\n",
       "                          'title': {'text': 'Movie Title'}},\n",
       "                'yaxis': {'anchor': 'x', 'domain': [0.0, 1.0], 'title': {'text': 'IMDb Rating'}}}\n",
       " }))"
      ]
     },
     "execution_count": 16,
     "metadata": {},
     "output_type": "execute_result"
    }
   ],
   "execution_count": 16
  },
  {
   "metadata": {
    "jupyter": {
     "is_executing": true
    },
    "ExecuteTime": {
     "start_time": "2024-06-18T03:26:25.779454Z"
    }
   },
   "cell_type": "code",
   "source": [
    "from vanna.flask import VannaFlaskApp\n",
    "VannaFlaskApp(vn).run()"
   ],
   "id": "3da09c8dfaf54e55",
   "outputs": [
    {
     "name": "stdout",
     "output_type": "stream",
     "text": [
      "Your app is running at:\n",
      "http://localhost:8084\n",
      " * Serving Flask app 'vanna.flask'\n",
      " * Debug mode: on\n"
     ]
    }
   ],
   "execution_count": null
  },
  {
   "metadata": {},
   "cell_type": "code",
   "outputs": [],
   "execution_count": null,
   "source": "",
   "id": "eea4bace9bdb74b"
  }
 ],
 "metadata": {
  "kernelspec": {
   "display_name": "Python 3",
   "language": "python",
   "name": "python3"
  },
  "language_info": {
   "codemirror_mode": {
    "name": "ipython",
    "version": 2
   },
   "file_extension": ".py",
   "mimetype": "text/x-python",
   "name": "python",
   "nbconvert_exporter": "python",
   "pygments_lexer": "ipython2",
   "version": "2.7.6"
  }
 },
 "nbformat": 4,
 "nbformat_minor": 5
}
