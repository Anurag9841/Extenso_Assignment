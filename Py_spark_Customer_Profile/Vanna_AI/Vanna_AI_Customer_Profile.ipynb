{
 "cells": [
  {
   "cell_type": "code",
   "id": "initial_id",
   "metadata": {
    "collapsed": true,
    "ExecuteTime": {
     "end_time": "2024-07-02T05:09:01.062317Z",
     "start_time": "2024-07-02T05:09:01.046758Z"
    }
   },
   "source": [
    "import pandas as pd\n",
    "from sqlalchemy import create_engine"
   ],
   "outputs": [],
   "execution_count": 10
  },
  {
   "metadata": {
    "ExecuteTime": {
     "end_time": "2024-07-02T05:09:01.077975Z",
     "start_time": "2024-07-02T05:09:01.062317Z"
    }
   },
   "cell_type": "code",
   "source": [
    "database = \"extenso_customer_profile\"\n",
    "username = \"root\"\n",
    "password = \"root\"\n",
    "host = \"localhost\"\n",
    "port = \"3306\""
   ],
   "id": "a3e8064c93aa8702",
   "outputs": [],
   "execution_count": 11
  },
  {
   "metadata": {
    "ExecuteTime": {
     "end_time": "2024-07-02T05:09:01.093573Z",
     "start_time": "2024-07-02T05:09:01.077975Z"
    }
   },
   "cell_type": "code",
   "source": "db_uri = f\"mysql+pymysql://{username}:{password}@{host}:{port}/{database}\"\n",
   "id": "cacdbdefffe7210a",
   "outputs": [],
   "execution_count": 12
  },
  {
   "metadata": {
    "ExecuteTime": {
     "end_time": "2024-07-02T05:09:01.109183Z",
     "start_time": "2024-07-02T05:09:01.093573Z"
    }
   },
   "cell_type": "code",
   "source": "engine = create_engine(db_uri)",
   "id": "7b09216664158623",
   "outputs": [],
   "execution_count": 13
  },
  {
   "metadata": {
    "ExecuteTime": {
     "end_time": "2024-07-02T05:09:01.218736Z",
     "start_time": "2024-07-02T05:09:01.109183Z"
    }
   },
   "cell_type": "code",
   "source": "tables = pd.read_sql_table(\"product_category_map\", engine)\n",
   "id": "9974aa915083e919",
   "outputs": [],
   "execution_count": 14
  },
  {
   "metadata": {
    "ExecuteTime": {
     "end_time": "2024-07-02T05:09:01.234233Z",
     "start_time": "2024-07-02T05:09:01.218736Z"
    }
   },
   "cell_type": "code",
   "source": "from vanna.remote import VannaDefault",
   "id": "3033373c03cb801a",
   "outputs": [],
   "execution_count": 15
  },
  {
   "metadata": {
    "ExecuteTime": {
     "end_time": "2024-07-02T05:09:01.249819Z",
     "start_time": "2024-07-02T05:09:01.234233Z"
    }
   },
   "cell_type": "code",
   "source": [
    "api_key = \"1cdce4ff500d4205b6045ab5f2169a46\"\n",
    "vanna_model_name = \"customer_profile1\""
   ],
   "id": "f5d93387c39b76e2",
   "outputs": [],
   "execution_count": 16
  },
  {
   "metadata": {
    "ExecuteTime": {
     "end_time": "2024-07-02T05:09:01.265438Z",
     "start_time": "2024-07-02T05:09:01.249819Z"
    }
   },
   "cell_type": "code",
   "source": "vn = VannaDefault(model = vanna_model_name,api_key = api_key)",
   "id": "5d1e5b6b4147e1d6",
   "outputs": [],
   "execution_count": 17
  },
  {
   "metadata": {
    "ExecuteTime": {
     "end_time": "2024-07-02T05:09:01.312764Z",
     "start_time": "2024-07-02T05:09:01.265438Z"
    }
   },
   "cell_type": "code",
   "source": "vn.connect_to_mysql(host = host,dbname = database,user=username,password=password,port=3306)",
   "id": "4e54c46fff4d9a68",
   "outputs": [],
   "execution_count": 18
  },
  {
   "metadata": {
    "ExecuteTime": {
     "end_time": "2024-06-20T04:52:00.137004Z",
     "start_time": "2024-06-20T04:52:00.105710Z"
    }
   },
   "cell_type": "code",
   "source": "schemas = vn.run_sql(\"select * from information_schema.columns where TABLE_SCHEMA = 'extenso_customer_profile'\")",
   "id": "d6774a40daae2db6",
   "execution_count": 86,
   "outputs": []
  },
  {
   "metadata": {
    "ExecuteTime": {
     "end_time": "2024-06-20T04:52:00.168198Z",
     "start_time": "2024-06-20T04:52:00.137004Z"
    }
   },
   "cell_type": "code",
   "source": "schemas",
   "id": "27e4149a16703c04",
   "execution_count": 87,
   "outputs": []
  },
  {
   "metadata": {
    "ExecuteTime": {
     "end_time": "2024-06-20T04:52:00.246328Z",
     "start_time": "2024-06-20T04:52:00.168198Z"
    }
   },
   "cell_type": "code",
   "source": [
    "plan = vn.get_training_plan_generic(schemas)\n",
    "plan"
   ],
   "id": "afbb48fe47ab5d34",
   "execution_count": 88,
   "outputs": []
  },
  {
   "metadata": {
    "ExecuteTime": {
     "end_time": "2024-06-20T04:52:01.754225Z",
     "start_time": "2024-06-20T04:52:00.246328Z"
    }
   },
   "cell_type": "code",
   "source": "vn.train(plan = plan)",
   "id": "ea678c646fd0f43b",
   "execution_count": 89,
   "outputs": []
  },
  {
   "metadata": {
    "ExecuteTime": {
     "end_time": "2024-06-20T04:52:02.415754Z",
     "start_time": "2024-06-20T04:52:01.754225Z"
    }
   },
   "cell_type": "code",
   "source": [
    "vn.train(documentation='''Here is a table called rw_transaction_data which contains details of each transaction performed by users. The key aspects of this table are as follows:\n",
    "a. Each row represents a transaction performed by a user.\n",
    "b. Transactions are associated with specific products, which can include top-up services, airlines, fund transfers, and others.\n",
    "c. Each transaction has a payer_account_id and a receiver_account_id.\n",
    "d. Products are uniquely identified using a combination of module_id, product_id, and product_type_id.\n",
    "e. Transaction details such as transaction amount, cashback amount, reward points, and revenue amount are provided.\n",
    "f. The sample table includes transactions over a period of time for certain users.''')"
   ],
   "id": "8d01e24a7fa947e4",
   "execution_count": 90,
   "outputs": []
  },
  {
   "metadata": {
    "ExecuteTime": {
     "end_time": "2024-06-20T04:52:03.138933Z",
     "start_time": "2024-06-20T04:52:02.415754Z"
    }
   },
   "cell_type": "code",
   "source": [
    "vn.train(documentation='''\n",
    "Here is a table called Product Category Map Table which provides the mapping of products to their parent categories. The key aspects of this table are as follows:\n",
    "a. It provides the mapping for each product to its parent category.\n",
    "b. The product_category_id in this table corresponds to the ID in the product category table.\n",
    "c. The txn_flow column indicates the transaction flow type, which can be:\n",
    "i. Inflow: For products that credit a user account (e.g., another user’s account is credited).\n",
    "ii. Outflow: For products that debit a user account (e.g., another user’s account is debited).\n",
    "iii. Value Chain: For transactions that generate value for the client (e.g., top-up services, airline transactions).\n",
    "''')"
   ],
   "id": "9feb075f11424815",
   "execution_count": 91,
   "outputs": []
  },
  {
   "metadata": {
    "ExecuteTime": {
     "end_time": "2024-06-20T04:52:03.896187Z",
     "start_time": "2024-06-20T04:52:03.138933Z"
    }
   },
   "cell_type": "code",
   "source": [
    "vn.train(documentation=''' for question for each account id give me inflow,outflow and valuechain count\n",
    "SELECT payer_account_id as account_id,\n",
    "       SUM(CASE WHEN txn_flow = 'Inflow' THEN 1 ELSE 0 END) AS inflow_count,\n",
    "       SUM(CASE WHEN txn_flow = 'Outflow' THEN 1 ELSE 0 END) AS outflow_count,\n",
    "       SUM(CASE WHEN txn_flow = 'Value Chain' THEN 1 ELSE 0 END) AS valuechain_count\n",
    "FROM rw_transaction_data\n",
    "JOIN product_category_map ON rw_transaction_data.module_id = product_category_map.module_id\n",
    "                         AND rw_transaction_data.product_id = product_category_map.product_id\n",
    "                         AND rw_transaction_data.product_type_id = product_category_map.product_type_id\n",
    "GROUP BY payer_account_id;\n",
    "''')"
   ],
   "id": "aa8bd0cee6d86798",
   "execution_count": 92,
   "outputs": []
  },
  {
   "metadata": {
    "ExecuteTime": {
     "end_time": "2024-06-20T04:52:03.911810Z",
     "start_time": "2024-06-20T04:52:03.896187Z"
    }
   },
   "cell_type": "code",
   "source": "# vn.train(documentation = '''dont use customer profile table for calculation only use it as a reference. For all calculation use rw_transacation_data and product_category_map''')",
   "id": "1e9804979f2a2e3b",
   "execution_count": 93,
   "outputs": []
  },
  {
   "metadata": {
    "ExecuteTime": {
     "end_time": "2024-07-02T05:15:51.355269Z",
     "start_time": "2024-07-02T05:09:09.796525Z"
    }
   },
   "cell_type": "code",
   "source": [
    "from vanna.flask import VannaFlaskApp\n",
    "VannaFlaskApp(vn,  allow_llm_to_see_data=True).run()"
   ],
   "id": "3530a65bc0919be0",
   "outputs": [
    {
     "name": "stdout",
     "output_type": "stream",
     "text": [
      "Your app is running at:\n",
      "http://localhost:8084\n",
      " * Serving Flask app 'vanna.flask'\n",
      " * Debug mode: on\n",
      "None\n",
      "None\n",
      "None\n",
      "None\n",
      "None\n",
      "None\n",
      "None\n",
      "None\n",
      "{'function_name': 'get_total_cash_back', 'description': 'What is the total cash back amount for transactions with a cash back amount greater than {cash_back_threshold}?', 'arguments': [{'name': 'cash_back_threshold', 'description': 'The threshold amount for cash back to be considered in the total', 'general_type': 'STRING', 'is_user_editable': True}], 'sql_template': 'SELECT SUM(cash_back_amount) FROM rw_transaction_data WHERE cash_back_amount > {cash_back_threshold};', 'post_processing_code_template': ''}\n",
      "[]\n",
      "None\n",
      "None\n",
      "None\n"
     ]
    }
   ],
   "execution_count": 19
  },
  {
   "metadata": {},
   "cell_type": "code",
   "execution_count": null,
   "source": "",
   "id": "c75366d3c2cd20af",
   "outputs": []
  }
 ],
 "metadata": {
  "kernelspec": {
   "display_name": "Python 3",
   "language": "python",
   "name": "python3"
  },
  "language_info": {
   "codemirror_mode": {
    "name": "ipython",
    "version": 2
   },
   "file_extension": ".py",
   "mimetype": "text/x-python",
   "name": "python",
   "nbconvert_exporter": "python",
   "pygments_lexer": "ipython2",
   "version": "2.7.6"
  }
 },
 "nbformat": 4,
 "nbformat_minor": 5
}
