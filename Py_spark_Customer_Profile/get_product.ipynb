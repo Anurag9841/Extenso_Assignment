{
 "cells": [
  {
   "metadata": {},
   "cell_type": "markdown",
   "source": "### **Adding necessary library**",
   "id": "8e1aab3e2cf58d5d"
  },
  {
   "cell_type": "code",
   "id": "initial_id",
   "metadata": {
    "collapsed": true,
    "ExecuteTime": {
     "end_time": "2024-06-05T09:27:40.252016Z",
     "start_time": "2024-06-05T09:27:39.884187Z"
    }
   },
   "source": [
    "from pyspark.sql import SparkSession\n",
    "from pyspark.sql.functions import *\n",
    "from pyspark.sql.types import *\n",
    "from pyspark.sql.window import *  \n",
    "import json"
   ],
   "outputs": [],
   "execution_count": 1
  },
  {
   "metadata": {},
   "cell_type": "markdown",
   "source": "### **Creating SparkSession**",
   "id": "c3b8d72b48953c9c"
  },
  {
   "metadata": {
    "ExecuteTime": {
     "end_time": "2024-06-05T09:27:47.575411Z",
     "start_time": "2024-06-05T09:27:40.252016Z"
    }
   },
   "cell_type": "code",
   "source": "spark = SparkSession.builder.appName(\"spark_dataframe_py\").config(\"spark.jars\", \"C:\\spark-3.5.1-bin-hadoop3\\jars\\mysql-connector-j-8.4.0.jar\").getOrCreate()",
   "id": "95d70831466bc882",
   "outputs": [],
   "execution_count": 2
  },
  {
   "metadata": {},
   "cell_type": "markdown",
   "source": "### **Adding Necessary configs for connection**",
   "id": "2f3e3addd1a7b02b"
  },
  {
   "metadata": {
    "ExecuteTime": {
     "end_time": "2024-06-05T09:27:47.591040Z",
     "start_time": "2024-06-05T09:27:47.575411Z"
    }
   },
   "cell_type": "code",
   "source": [
    "url = \"jdbc:mysql://localhost:3306/extenso_config\"\n",
    "properties = {\n",
    "    \"user\": \"root\",\n",
    "    \"password\": \"root\",\n",
    "    \"driver\": \"com.mysql.jdbc.Driver\"\n",
    "}"
   ],
   "id": "ae04824055e17f62",
   "outputs": [],
   "execution_count": 3
  },
  {
   "metadata": {},
   "cell_type": "markdown",
   "source": "### **Function to create dataframe from each sql table**",
   "id": "96bf1e57210900b3"
  },
  {
   "metadata": {
    "ExecuteTime": {
     "end_time": "2024-06-05T09:27:51.241662Z",
     "start_time": "2024-06-05T09:27:47.591040Z"
    }
   },
   "cell_type": "code",
   "source": [
    "def table(table_name, start_date, end_date):\n",
    "  df = spark.read.jdbc(url=url, table=table_name, properties=properties)\n",
    "  if table_name == \"rw_transaction_data\":\n",
    "    df = df.filter((df.last_modified_date <= to_date(lit(end_date))) & (df.last_modified_date >= to_date(lit(start_date))))\n",
    "  return df\n",
    "product_category_map = table(\"product_category_map\",'2023-01-01','2024-01-01')\n",
    "rw_transaction_data = table(\"rw_transaction_data\",'2023-01-01','2024-01-01')"
   ],
   "id": "83f86dfb40422227",
   "outputs": [],
   "execution_count": 4
  },
  {
   "metadata": {},
   "cell_type": "markdown",
   "source": "### **Joined rw_transaction and product_category_map**",
   "id": "50eaad66feec996a"
  },
  {
   "metadata": {
    "ExecuteTime": {
     "end_time": "2024-06-05T09:27:51.366671Z",
     "start_time": "2024-06-05T09:27:51.241662Z"
    }
   },
   "cell_type": "code",
   "source": [
    "joined = rw_transaction_data.join(product_category_map,['product_id', 'product_type_id','module_id'])\n",
    "joined.printSchema()"
   ],
   "id": "5700385147852765",
   "outputs": [
    {
     "name": "stdout",
     "output_type": "stream",
     "text": [
      "root\n",
      " |-- product_id: integer (nullable = true)\n",
      " |-- product_type_id: integer (nullable = true)\n",
      " |-- module_id: integer (nullable = true)\n",
      " |-- txn_id: long (nullable = true)\n",
      " |-- last_modified_date: date (nullable = true)\n",
      " |-- last_modified_date_bs: string (nullable = true)\n",
      " |-- created_date: date (nullable = true)\n",
      " |-- amount: double (nullable = true)\n",
      " |-- status: integer (nullable = true)\n",
      " |-- payer_account_id: integer (nullable = true)\n",
      " |-- receiver_account_id: integer (nullable = true)\n",
      " |-- reward_point: double (nullable = true)\n",
      " |-- cash_back_amount: double (nullable = true)\n",
      " |-- revenue_amount: double (nullable = true)\n",
      " |-- transactor_module_id: long (nullable = true)\n",
      " |-- time: string (nullable = true)\n",
      " |-- product_name: string (nullable = true)\n",
      " |-- product_category_id: long (nullable = true)\n",
      " |-- txn_flow: string (nullable = true)\n",
      "\n"
     ]
    }
   ],
   "execution_count": 5
  },
  {
   "metadata": {
    "ExecuteTime": {
     "end_time": "2024-06-05T09:27:55.292423Z",
     "start_time": "2024-06-05T09:27:51.366671Z"
    }
   },
   "cell_type": "code",
   "source": "joined.count()",
   "id": "6e1ebcaeaf805c84",
   "outputs": [
    {
     "data": {
      "text/plain": [
       "212488"
      ]
     },
     "execution_count": 6,
     "metadata": {},
     "output_type": "execute_result"
    }
   ],
   "execution_count": 6
  },
  {
   "metadata": {},
   "cell_type": "markdown",
   "source": "### **Function to get months**",
   "id": "dc0bd8842d8d66b0"
  },
  {
   "metadata": {
    "ExecuteTime": {
     "end_time": "2024-06-05T09:27:59.349876Z",
     "start_time": "2024-06-05T09:27:55.292423Z"
    }
   },
   "cell_type": "code",
   "source": [
    "joined =  joined.withColumn(\"months\",month(col(\"last_modified_date\")))\n",
    "joined.show(n=2)"
   ],
   "id": "117bf6ccab5c47ed",
   "outputs": [
    {
     "name": "stdout",
     "output_type": "stream",
     "text": [
      "+----------+---------------+---------+---------+------------------+---------------------+------------+------+------+----------------+-------------------+------------+----------------+--------------+--------------------+--------+--------------------+-------------------+-----------+------+\n",
      "|product_id|product_type_id|module_id|   txn_id|last_modified_date|last_modified_date_bs|created_date|amount|status|payer_account_id|receiver_account_id|reward_point|cash_back_amount|revenue_amount|transactor_module_id|    time|        product_name|product_category_id|   txn_flow|months|\n",
      "+----------+---------------+---------+---------+------------------+---------------------+------------+------+------+----------------+-------------------+------------+----------------+--------------+--------------------+--------+--------------------+-------------------+-----------+------+\n",
      "|       143|             59|        1|693893736|        2023-01-06|           2079-09-22|  2023-01-06| 175.0|     1|             531|                466|         0.0|             0.0|           0.0|                   4|11:20:32|Gunjanagar Khanepani|                 17|Value Chain|     1|\n",
      "|       143|             59|        1|693923060|        2023-01-06|           2079-09-22|  2023-01-06| 325.0|     1|             531|                466|         0.0|             0.0|           0.0|                   4|11:51:44|Gunjanagar Khanepani|                 17|Value Chain|     1|\n",
      "+----------+---------------+---------+---------+------------------+---------------------+------------+------+------+----------------+-------------------+------------+----------------+--------------+--------------------+--------+--------------------+-------------------+-----------+------+\n",
      "only showing top 2 rows\n",
      "\n"
     ]
    }
   ],
   "execution_count": 7
  },
  {
   "metadata": {
    "ExecuteTime": {
     "end_time": "2024-06-05T09:28:01.965446Z",
     "start_time": "2024-06-05T09:27:59.349876Z"
    }
   },
   "cell_type": "code",
   "source": "joined.select('product_name').distinct().collect()",
   "id": "e884195338108d72",
   "outputs": [
    {
     "data": {
      "text/plain": [
       "[Row(product_name='Smart Cell Topup'),\n",
       " Row(product_name='Kolhuwa Khanepani'),\n",
       " Row(product_name='Gajedi 2 Bakalghad Khanepani'),\n",
       " Row(product_name='Ncell Pack'),\n",
       " Row(product_name='Postpaid Topup'),\n",
       " Row(product_name='Karahiya Khanepani upabhokta tatha Sarsafai Sanstha'),\n",
       " Row(product_name='Lalbandi khanepani'),\n",
       " Row(product_name='Parsa Khanepani'),\n",
       " Row(product_name='Kerwani Khanepani'),\n",
       " Row(product_name='Kushma Shivalaya Khanepani'),\n",
       " Row(product_name='Waling Khanepani'),\n",
       " Row(product_name='Jaluke Water Supply And Sanitation Users Organisation'),\n",
       " Row(product_name='Shankarnagar Khanepani'),\n",
       " Row(product_name='eSewa agent to Century'),\n",
       " Row(product_name='Prabhu TV'),\n",
       " Row(product_name='Electricity'),\n",
       " Row(product_name='Sipadol Khanepani'),\n",
       " Row(product_name='BUDDHA AIR'),\n",
       " Row(product_name='Damak Khanepani'),\n",
       " Row(product_name='Parasi Khanepani'),\n",
       " Row(product_name='Devdaha Khanepani'),\n",
       " Row(product_name='Siddhipur Khanepani'),\n",
       " Row(product_name='Sau Farsatikar Khanepani'),\n",
       " Row(product_name='eSewa agent to NIC Asia'),\n",
       " Row(product_name='Vianet Payment via Bank'),\n",
       " Row(product_name='SIM TV TOPUP VIA BANK'),\n",
       " Row(product_name='DishHome FIBERNET'),\n",
       " Row(product_name='Nijgadh Khanepani'),\n",
       " Row(product_name='Shree Khudunabari arjundhara Khanepani'),\n",
       " Row(product_name='Surunga Khanepani'),\n",
       " Row(product_name='Arungkhola Khanepani'),\n",
       " Row(product_name='Saurya Airlines Claim for Refund'),\n",
       " Row(product_name='Tamnagar Khanepani'),\n",
       " Row(product_name='eSewa to Everest Bank Ltd.'),\n",
       " Row(product_name='Wordlink Topup via Bank'),\n",
       " Row(product_name='eSewa to Laxmi Sunrise Bank Ltd.'),\n",
       " Row(product_name='Khanepani Sansthan Banepa'),\n",
       " Row(product_name='Jeevan Bikas laghubitta Bittiya Sanstha'),\n",
       " Row(product_name='Bhaluhi khanepani'),\n",
       " Row(product_name='eSewa Agent to Nabil bank'),\n",
       " Row(product_name='Surkhet Khanepani'),\n",
       " Row(product_name='Pandobazar Khanepani Yojana Jal Upabhokta Samittee'),\n",
       " Row(product_name='Khanepani Sansthan Rajbiraj'),\n",
       " Row(product_name='Prepaid Topup'),\n",
       " Row(product_name='eSewa agent to Mahalaxmi'),\n",
       " Row(product_name='SAINAMAINA KHANEPANI'),\n",
       " Row(product_name='Urlabari Khanepani'),\n",
       " Row(product_name='Khanepani Sansthan Pokhara, Hemja'),\n",
       " Row(product_name='Nepal Telecom Data Pack Service'),\n",
       " Row(product_name='Linked Account Withdraw'),\n",
       " Row(product_name='Motipur Khanepani'),\n",
       " Row(product_name='eSewa to Global IME Bank'),\n",
       " Row(product_name='Lakhanpur Khanepani Tatha Sarsafai Upabhokta Samiti'),\n",
       " Row(product_name='Attariya Khanepani'),\n",
       " Row(product_name='Kumari Bank Revenue TSA Account-eSewa'),\n",
       " Row(product_name='GIME Revenue TSA Account - eSewa'),\n",
       " Row(product_name='NT ADSL Topup - Unlimited'),\n",
       " Row(product_name='Dish Home Topup'),\n",
       " Row(product_name='Chhimek Laghubitta Bittiya Sanstha'),\n",
       " Row(product_name='Nepal Telecom Data Pack Service Via Bank'),\n",
       " Row(product_name='Namuna Shivanagar Khanepani (Vijayanagar Khanepani)'),\n",
       " Row(product_name='Nayagaun Khanepani'),\n",
       " Row(product_name='KAKARVITTA KHANEPANI'),\n",
       " Row(product_name='Charange Bhumigat Khanepani'),\n",
       " Row(product_name='NT FTTH'),\n",
       " Row(product_name='eSewa Agent to Global'),\n",
       " Row(product_name='Rudrapur Khanepani'),\n",
       " Row(product_name='Sunawal Khanepani'),\n",
       " Row(product_name='NT Prepaid Topup'),\n",
       " Row(product_name='eSewa agent to Everest'),\n",
       " Row(product_name='Radhakrishna Khanepani'),\n",
       " Row(product_name='Ratnanagar Khanepani'),\n",
       " Row(product_name='Baglung Khanepani'),\n",
       " Row(product_name='Besisahar Khanepani'),\n",
       " Row(product_name='GAURADAHA KHANEPANI'),\n",
       " Row(product_name='Simara Khanepani'),\n",
       " Row(product_name='Mangadh Khanepani'),\n",
       " Row(product_name='CG Communications'),\n",
       " Row(product_name='Shivnagar Khanepani, Dhangadi'),\n",
       " Row(product_name='Pathari Khanepani'),\n",
       " Row(product_name='Beni Khanepani'),\n",
       " Row(product_name='Itahari Khanepani'),\n",
       " Row(product_name='Shiva Parbati Khanepani'),\n",
       " Row(product_name='Brihat Khanepani'),\n",
       " Row(product_name='RBB Revenue TSA Account - eSewa'),\n",
       " Row(product_name='Pragatinagar Khanepani'),\n",
       " Row(product_name='Indrapur Khanepani'),\n",
       " Row(product_name='Mukundapur Khanepani'),\n",
       " Row(product_name='Anandaban Shankarnagar Khanepani'),\n",
       " Row(product_name='Ncell Topup via Bank'),\n",
       " Row(product_name='Balkot Khanepani'),\n",
       " Row(product_name='Deurali Hupsekot Khanepani'),\n",
       " Row(product_name='eSewa to Mahalaxmi Bikas Bank'),\n",
       " Row(product_name='Godawari Khanepani'),\n",
       " Row(product_name='Bharatpur Water Supply Management Board'),\n",
       " Row(product_name='Nepal Life Insurance Co. Ltd.'),\n",
       " Row(product_name='TOPUP VIA BANK DIRECT'),\n",
       " Row(product_name='WorldLink'),\n",
       " Row(product_name='Tikathali Khanepani'),\n",
       " Row(product_name='Lekhnath Khanepani'),\n",
       " Row(product_name='Bhupu Sainik Khanepani'),\n",
       " Row(product_name='Khanepani Sansthan Butwal'),\n",
       " Row(product_name='Chandragadi Khanepani'),\n",
       " Row(product_name='Buddhanagar Khanepani'),\n",
       " Row(product_name='NT Landline Payment'),\n",
       " Row(product_name='Belbari Khanepani'),\n",
       " Row(product_name='Birtamod Khanepani'),\n",
       " Row(product_name='Sundar Bazar Khanepani'),\n",
       " Row(product_name='Dadhikot Khanepani'),\n",
       " Row(product_name='eSewa agent to NIBL'),\n",
       " Row(product_name='Fonepay Payment'),\n",
       " Row(product_name='Vianet'),\n",
       " Row(product_name='eSewa agent to Laxmi Sunrise'),\n",
       " Row(product_name='eSewa agent to RBB'),\n",
       " Row(product_name='Gunjanagar Khanepani'),\n",
       " Row(product_name='Amarapuri Water Supply And Sanitation Users Organisation'),\n",
       " Row(product_name='eSewa to Garima Dev. Bank'),\n",
       " Row(product_name='SHREE AIRLINES'),\n",
       " Row(product_name='Ncell Data Via Bank'),\n",
       " Row(product_name='Gaindakot Khanepani'),\n",
       " Row(product_name='Naumule Khanepani'),\n",
       " Row(product_name='Dhulikhel Khanepani'),\n",
       " Row(product_name='Ncell Topup'),\n",
       " Row(product_name='Cash In'),\n",
       " Row(product_name='Birendranagar Khanepani'),\n",
       " Row(product_name='Sandhikharka Khanepani Tatha Sarsaphai'),\n",
       " Row(product_name='eSewa Travels and Tours Web'),\n",
       " Row(product_name='Nagarik Cable Link'),\n",
       " Row(product_name=\"Rajahar Water Supply And Sanitation Users' Organisation\"),\n",
       " Row(product_name='NT Topup via Bank'),\n",
       " Row(product_name='eSewa to NIC Asia Bank'),\n",
       " Row(product_name='Karahiya Khanepani'),\n",
       " Row(product_name='Prabhu TV Via Bank'),\n",
       " Row(product_name='Dhamilikuwa Khanepani'),\n",
       " Row(product_name='eSewa to Citizens Bank'),\n",
       " Row(product_name='Kawasoti Khanepani'),\n",
       " Row(product_name='Dibyapuri Khanepani'),\n",
       " Row(product_name='Sun Nepal Life - DOFE'),\n",
       " Row(product_name='Kahun Dharahara Khanepani'),\n",
       " Row(product_name='Tulsipur Khanepani'),\n",
       " Row(product_name='Indrayani Khanepani'),\n",
       " Row(product_name='Send Money'),\n",
       " Row(product_name='Panchanagar Khanepani'),\n",
       " Row(product_name='eScrow Service'),\n",
       " Row(product_name='Tokha Khanepani'),\n",
       " Row(product_name='eSewa to NMB Bank'),\n",
       " Row(product_name='NT Postpaid Topup'),\n",
       " Row(product_name='Yeti Airlines B2C'),\n",
       " Row(product_name='Khanepani Sansthan Pokhara, Bindiyabasini'),\n",
       " Row(product_name='Khanepani Sansthan Pokhara, Pardi'),\n",
       " Row(product_name='eSewa agent to Civil'),\n",
       " Row(product_name='Gajehada Khanepani'),\n",
       " Row(product_name='eSewa agent to Sanima'),\n",
       " Row(product_name='Katunje Khanepani'),\n",
       " Row(product_name='Budhabare Khanepani'),\n",
       " Row(product_name='eSewa agent to Prabhu'),\n",
       " Row(product_name='eSewa agent to NMB')]"
      ]
     },
     "execution_count": 8,
     "metadata": {},
     "output_type": "execute_result"
    }
   ],
   "execution_count": 8
  },
  {
   "metadata": {},
   "cell_type": "markdown",
   "source": "### **Grouping according to payer_acc_id and product_name**",
   "id": "6512143bc8368bbd"
  },
  {
   "metadata": {
    "ExecuteTime": {
     "end_time": "2024-06-05T09:28:04.143090Z",
     "start_time": "2024-06-05T09:28:01.965446Z"
    }
   },
   "cell_type": "code",
   "source": "product_map = joined.groupBy([\"payer_account_id\",\"product_name\"]).pivot(\"months\").count().fillna(0)",
   "id": "81b020deb25bf958",
   "outputs": [],
   "execution_count": 9
  },
  {
   "metadata": {},
   "cell_type": "markdown",
   "source": "### **Function to get top 10 most_used_product**",
   "id": "a166b18650327305"
  },
  {
   "metadata": {
    "ExecuteTime": {
     "end_time": "2024-06-05T09:28:05.206693Z",
     "start_time": "2024-06-05T09:28:04.143090Z"
    }
   },
   "cell_type": "code",
   "source": [
    "def most_used_product():\n",
    "    most_used_product = joined.groupBy(\"product_name\").count().fillna(0)\n",
    "    most_used_product = most_used_product.orderBy(\"count\",ascending=[0])\n",
    "    top_10 =most_used_product.select(\"product_name\").take(10)\n",
    "    top_product = [row['product_name'] for row in top_10]\n",
    "    return top_product\n",
    "top_product = most_used_product()"
   ],
   "id": "e6371a381f4b244f",
   "outputs": [],
   "execution_count": 10
  },
  {
   "metadata": {
    "ExecuteTime": {
     "end_time": "2024-06-05T09:28:05.222307Z",
     "start_time": "2024-06-05T09:28:05.206693Z"
    }
   },
   "cell_type": "code",
   "source": "top_product",
   "id": "98bcb08b10908eb2",
   "outputs": [
    {
     "data": {
      "text/plain": [
       "['NT Topup via Bank',\n",
       " 'Ncell Topup via Bank',\n",
       " 'TOPUP VIA BANK DIRECT',\n",
       " 'Send Money',\n",
       " 'Ncell Data Via Bank',\n",
       " 'Ncell Topup',\n",
       " 'Wordlink Topup via Bank',\n",
       " 'NT Prepaid Topup',\n",
       " 'Prepaid Topup',\n",
       " 'Electricity']"
      ]
     },
     "execution_count": 11,
     "metadata": {},
     "output_type": "execute_result"
    }
   ],
   "execution_count": 11
  },
  {
   "metadata": {
    "ExecuteTime": {
     "end_time": "2024-06-05T09:28:08.540852Z",
     "start_time": "2024-06-05T09:28:05.222307Z"
    }
   },
   "cell_type": "code",
   "source": [
    "filtered_df = joined.filter(col(\"product_name\").isin(top_product))\n",
    "product_used_count = filtered_df.groupBy(\"payer_account_id\",\"product_name\").pivot(\"months\").count().fillna(0)\n",
    "product_used_count.show()"
   ],
   "id": "9031bafd331379c6",
   "outputs": [
    {
     "name": "stdout",
     "output_type": "stream",
     "text": [
      "+----------------+--------------------+-----+----+----+-----+-----+\n",
      "|payer_account_id|        product_name|    1|   2|   3|    4|    5|\n",
      "+----------------+--------------------+-----+----+----+-----+-----+\n",
      "|              34|          Send Money| 1444|1330|1524| 1430| 1188|\n",
      "|              26|         Electricity|    4|   1|   7|    3|    3|\n",
      "|             471|          Send Money|   18|  18|  34|   44|   14|\n",
      "|              56|         Electricity|  255| 251| 256|  273|  191|\n",
      "|              34|    NT Prepaid Topup|   71|  85|  93|   65|   53|\n",
      "|             531| Ncell Data Via Bank|  764| 516| 660| 1166|  686|\n",
      "|             531|   NT Topup via Bank|16977|4675|6278| 6205|24663|\n",
      "|             222|       Prepaid Topup|    1|   1|   2|    1|    2|\n",
      "|             471|       Prepaid Topup|  137| 120| 118|  144|  113|\n",
      "|             531|TOPUP VIA BANK DI...|    0|   0|3453|35028|18912|\n",
      "|              34|         Ncell Topup|   60|  44|  86|   68|   76|\n",
      "|              34|         Electricity|  107| 110| 101|   90|   79|\n",
      "|             471|    NT Prepaid Topup|  137| 120| 118|  144|  113|\n",
      "|             222|          Send Money|    2|   2|   0|    0|    0|\n",
      "|             471|         Electricity|    5|   4|  10|    6|    1|\n",
      "|              56|          Send Money|  148| 146| 156|  158|  100|\n",
      "|              56|       Prepaid Topup|   94| 109| 111|  105|  100|\n",
      "|             538|       Prepaid Topup|    0|   0|   0|    0|    1|\n",
      "|             222|    NT Prepaid Topup|    1|   1|   2|    1|    2|\n",
      "|              26|          Send Money|   86| 110| 150|  140|  136|\n",
      "+----------------+--------------------+-----+----+----+-----+-----+\n",
      "only showing top 20 rows\n",
      "\n"
     ]
    }
   ],
   "execution_count": 12
  },
  {
   "metadata": {
    "ExecuteTime": {
     "end_time": "2024-06-05T09:28:08.556465Z",
     "start_time": "2024-06-05T09:28:08.540852Z"
    }
   },
   "cell_type": "code",
   "source": "product_used_count.columns",
   "id": "51fbe98f3661a86c",
   "outputs": [
    {
     "data": {
      "text/plain": [
       "['payer_account_id', 'product_name', '1', '2', '3', '4', '5']"
      ]
     },
     "execution_count": 13,
     "metadata": {},
     "output_type": "execute_result"
    }
   ],
   "execution_count": 13
  },
  {
   "metadata": {},
   "cell_type": "markdown",
   "source": "### **if count greater than 0 then replace it with 1**",
   "id": "93a8e5acd75aa7b5"
  },
  {
   "metadata": {
    "ExecuteTime": {
     "end_time": "2024-06-05T09:28:10.494332Z",
     "start_time": "2024-06-05T09:28:08.556465Z"
    }
   },
   "cell_type": "code",
   "source": [
    "cols_to_change = ['1','2','3','4','5']\n",
    "\n",
    "for column in cols_to_change:\n",
    "    product_used_count = product_used_count.withColumn(column,when(col(column)>0,1).otherwise(col(column)))\n",
    "product_used_count.show()"
   ],
   "id": "c5f3c112d10f53ac",
   "outputs": [
    {
     "name": "stdout",
     "output_type": "stream",
     "text": [
      "+----------------+--------------------+---+---+---+---+---+\n",
      "|payer_account_id|        product_name|  1|  2|  3|  4|  5|\n",
      "+----------------+--------------------+---+---+---+---+---+\n",
      "|              34|          Send Money|  1|  1|  1|  1|  1|\n",
      "|              26|         Electricity|  1|  1|  1|  1|  1|\n",
      "|             471|          Send Money|  1|  1|  1|  1|  1|\n",
      "|              56|         Electricity|  1|  1|  1|  1|  1|\n",
      "|              34|    NT Prepaid Topup|  1|  1|  1|  1|  1|\n",
      "|             531| Ncell Data Via Bank|  1|  1|  1|  1|  1|\n",
      "|             531|   NT Topup via Bank|  1|  1|  1|  1|  1|\n",
      "|             222|       Prepaid Topup|  1|  1|  1|  1|  1|\n",
      "|             471|       Prepaid Topup|  1|  1|  1|  1|  1|\n",
      "|             531|TOPUP VIA BANK DI...|  0|  0|  1|  1|  1|\n",
      "|              34|         Ncell Topup|  1|  1|  1|  1|  1|\n",
      "|              34|         Electricity|  1|  1|  1|  1|  1|\n",
      "|             471|    NT Prepaid Topup|  1|  1|  1|  1|  1|\n",
      "|             222|          Send Money|  1|  1|  0|  0|  0|\n",
      "|             471|         Electricity|  1|  1|  1|  1|  1|\n",
      "|              56|          Send Money|  1|  1|  1|  1|  1|\n",
      "|              56|       Prepaid Topup|  1|  1|  1|  1|  1|\n",
      "|             538|       Prepaid Topup|  0|  0|  0|  0|  1|\n",
      "|             222|    NT Prepaid Topup|  1|  1|  1|  1|  1|\n",
      "|              26|          Send Money|  1|  1|  1|  1|  1|\n",
      "+----------------+--------------------+---+---+---+---+---+\n",
      "only showing top 20 rows\n",
      "\n"
     ]
    }
   ],
   "execution_count": 14
  },
  {
   "metadata": {},
   "cell_type": "markdown",
   "source": "### Final_result",
   "id": "e858b773124fd166"
  },
  {
   "metadata": {
    "ExecuteTime": {
     "end_time": "2024-06-05T09:29:45.133406Z",
     "start_time": "2024-06-05T09:29:43.089129Z"
    }
   },
   "cell_type": "code",
   "source": [
    "product_used_count = product_used_count.withColumn(\"used_map\",concat(col(\"1\"), col(\"2\"),col(\"3\"), col(\"4\"),col(\"5\")))\n",
    "product_used_count.show(n=37)"
   ],
   "id": "dfbe1cfe6dc86783",
   "outputs": [
    {
     "name": "stdout",
     "output_type": "stream",
     "text": [
      "+----------------+--------------------+---+---+---+---+---+--------+\n",
      "|payer_account_id|        product_name|  1|  2|  3|  4|  5|used_map|\n",
      "+----------------+--------------------+---+---+---+---+---+--------+\n",
      "|              34|          Send Money|  1|  1|  1|  1|  1|   11111|\n",
      "|              26|         Electricity|  1|  1|  1|  1|  1|   11111|\n",
      "|             471|          Send Money|  1|  1|  1|  1|  1|   11111|\n",
      "|              56|         Electricity|  1|  1|  1|  1|  1|   11111|\n",
      "|              34|    NT Prepaid Topup|  1|  1|  1|  1|  1|   11111|\n",
      "|             531| Ncell Data Via Bank|  1|  1|  1|  1|  1|   11111|\n",
      "|             531|   NT Topup via Bank|  1|  1|  1|  1|  1|   11111|\n",
      "|             222|       Prepaid Topup|  1|  1|  1|  1|  1|   11111|\n",
      "|             471|       Prepaid Topup|  1|  1|  1|  1|  1|   11111|\n",
      "|             531|TOPUP VIA BANK DI...|  0|  0|  1|  1|  1|   00111|\n",
      "|              34|         Ncell Topup|  1|  1|  1|  1|  1|   11111|\n",
      "|              34|         Electricity|  1|  1|  1|  1|  1|   11111|\n",
      "|             471|    NT Prepaid Topup|  1|  1|  1|  1|  1|   11111|\n",
      "|             222|          Send Money|  1|  1|  0|  0|  0|   11000|\n",
      "|             471|         Electricity|  1|  1|  1|  1|  1|   11111|\n",
      "|              56|          Send Money|  1|  1|  1|  1|  1|   11111|\n",
      "|              56|       Prepaid Topup|  1|  1|  1|  1|  1|   11111|\n",
      "|             538|       Prepaid Topup|  0|  0|  0|  0|  1|   00001|\n",
      "|             222|    NT Prepaid Topup|  1|  1|  1|  1|  1|   11111|\n",
      "|              26|          Send Money|  1|  1|  1|  1|  1|   11111|\n",
      "|             531|Ncell Topup via Bank|  0|  0|  1|  1|  1|   00111|\n",
      "|            1056|         Ncell Topup|  0|  0|  1|  0|  1|   00101|\n",
      "|              26|    NT Prepaid Topup|  1|  1|  1|  1|  1|   11111|\n",
      "|              34|       Prepaid Topup|  1|  1|  1|  1|  1|   11111|\n",
      "|              56|         Ncell Topup|  1|  1|  1|  1|  1|   11111|\n",
      "|            1056|         Electricity|  0|  1|  1|  0|  1|   01101|\n",
      "|             531|Wordlink Topup vi...|  1|  1|  1|  1|  1|   11111|\n",
      "|             538|    NT Prepaid Topup|  0|  0|  0|  0|  1|   00001|\n",
      "|            1176|         Ncell Topup|  0|  0|  1|  0|  0|   00100|\n",
      "|             471|         Ncell Topup|  1|  1|  1|  1|  1|   11111|\n",
      "|            1056|       Prepaid Topup|  1|  1|  1|  1|  1|   11111|\n",
      "|              56|    NT Prepaid Topup|  1|  1|  1|  1|  1|   11111|\n",
      "|             222|         Ncell Topup|  1|  1|  0|  1|  1|   11011|\n",
      "|            1056|          Send Money|  1|  1|  0|  0|  0|   11000|\n",
      "|              26|       Prepaid Topup|  1|  1|  1|  1|  1|   11111|\n",
      "|            1056|    NT Prepaid Topup|  1|  1|  1|  1|  1|   11111|\n",
      "|              26|         Ncell Topup|  1|  1|  1|  1|  1|   11111|\n",
      "+----------------+--------------------+---+---+---+---+---+--------+\n",
      "\n"
     ]
    }
   ],
   "execution_count": 18
  },
  {
   "metadata": {
    "ExecuteTime": {
     "end_time": "2024-06-05T09:28:12.908664Z",
     "start_time": "2024-06-05T09:28:12.893036Z"
    }
   },
   "cell_type": "code",
   "source": "",
   "id": "a72cbc96613ea99e",
   "outputs": [],
   "execution_count": 15
  }
 ],
 "metadata": {
  "kernelspec": {
   "display_name": "Python 3",
   "language": "python",
   "name": "python3"
  },
  "language_info": {
   "codemirror_mode": {
    "name": "ipython",
    "version": 2
   },
   "file_extension": ".py",
   "mimetype": "text/x-python",
   "name": "python",
   "nbconvert_exporter": "python",
   "pygments_lexer": "ipython2",
   "version": "2.7.6"
  }
 },
 "nbformat": 4,
 "nbformat_minor": 5
}
