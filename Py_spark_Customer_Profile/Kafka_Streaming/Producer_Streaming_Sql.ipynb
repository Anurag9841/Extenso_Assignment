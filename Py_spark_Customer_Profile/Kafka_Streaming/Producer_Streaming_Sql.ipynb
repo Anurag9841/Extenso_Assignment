{
 "cells": [
  {
   "cell_type": "code",
   "id": "140519e3-436f-40dd-b418-b38fd2f7bdc5",
   "metadata": {
    "ExecuteTime": {
     "end_time": "2024-06-27T08:07:00.746067Z",
     "start_time": "2024-06-27T08:06:59.924974Z"
    }
   },
   "source": [
    "import mysql.connector\n",
    "import pandas as pd\n",
    "from kafka import KafkaProducer\n",
    "from datetime import datetime\n",
    "import time\n",
    "import random\n",
    "import numpy as np"
   ],
   "outputs": [],
   "execution_count": 1
  },
  {
   "cell_type": "code",
   "id": "05d75429-bfc4-49fc-9ae5-f45f52bfec3c",
   "metadata": {
    "ExecuteTime": {
     "end_time": "2024-06-27T08:07:13.129298Z",
     "start_time": "2024-06-27T08:07:12.984269Z"
    }
   },
   "source": [
    "mydb = mysql.connector.connect(\n",
    "    host = \"localhost\",\n",
    "    user = \"root\",\n",
    "    password = \"root\",\n",
    "    database = \"client_rw\"\n",
    ")"
   ],
   "outputs": [],
   "execution_count": 3
  },
  {
   "cell_type": "code",
   "id": "fc95c3a7-b2cc-4284-86cf-7a109a59d9ac",
   "metadata": {
    "ExecuteTime": {
     "end_time": "2024-06-27T08:07:36.331794Z",
     "start_time": "2024-06-27T08:07:34.718460Z"
    }
   },
   "source": [
    "cursor = mydb.cursor()\n",
    "query = \"select * from transaction_summary\"\n",
    "cursor.execute(query)\n",
    "result = cursor.fetchall()\n",
    "columns = [col[0] for col in cursor.description]\n",
    "df = pd.DataFrame(result, columns=columns)"
   ],
   "outputs": [],
   "execution_count": 4
  },
  {
   "cell_type": "code",
   "id": "fb44e894-fea0-40b2-9b87-1031d74ceac2",
   "metadata": {
    "ExecuteTime": {
     "end_time": "2024-06-27T08:07:38.654837Z",
     "start_time": "2024-06-27T08:07:38.597825Z"
    }
   },
   "source": [
    "df = df[[\"Account_No\",\"TRANSACTION_DETAILS\",\"Cheq_No\",\"WITHDRAWL_AMOUNT\",\"DEPOSIT_AMT\",\"BALANCE_AMT\"]]"
   ],
   "outputs": [],
   "execution_count": 5
  },
  {
   "cell_type": "code",
   "id": "3b7c20f6-17d3-4b15-8dd6-3c2872966925",
   "metadata": {
    "ExecuteTime": {
     "end_time": "2024-06-27T08:07:39.896839Z",
     "start_time": "2024-06-27T08:07:39.809355Z"
    }
   },
   "source": [
    "df.info()"
   ],
   "outputs": [
    {
     "name": "stdout",
     "output_type": "stream",
     "text": [
      "<class 'pandas.core.frame.DataFrame'>\n",
      "RangeIndex: 116201 entries, 0 to 116200\n",
      "Data columns (total 6 columns):\n",
      " #   Column               Non-Null Count   Dtype \n",
      "---  ------               --------------   ----- \n",
      " 0   Account_No           116201 non-null  object\n",
      " 1   TRANSACTION_DETAILS  116201 non-null  object\n",
      " 2   Cheq_No              116201 non-null  object\n",
      " 3   WITHDRAWL_AMOUNT     116201 non-null  object\n",
      " 4   DEPOSIT_AMT          116201 non-null  object\n",
      " 5   BALANCE_AMT          116201 non-null  object\n",
      "dtypes: object(6)\n",
      "memory usage: 5.3+ MB\n"
     ]
    }
   ],
   "execution_count": 6
  },
  {
   "cell_type": "code",
   "id": "c247345f-9acd-4321-bc08-19ce014b6f61",
   "metadata": {
    "ExecuteTime": {
     "end_time": "2024-06-27T08:07:47.203853Z",
     "start_time": "2024-06-27T08:07:47.194852Z"
    }
   },
   "source": [
    "'''\n",
    "name of the Kafka topic that the consumer will subscribe to and read messages from\n",
    "'''\n",
    "KAFKA_TOPIC_NAME_CONS = \"Topic4\"\n",
    "'''\n",
    "indicates that the Kafka broker is running on the local machine and is accessible through port 9092\n",
    "'''\n",
    "KAFKA_BOOTSTRAP_SERVERS_CONS = 'localhost:9092'"
   ],
   "outputs": [],
   "execution_count": 7
  },
  {
   "cell_type": "code",
   "id": "6bb38165-adcb-4433-80f5-eddada6acf48",
   "metadata": {
    "ExecuteTime": {
     "end_time": "2024-06-27T08:08:52.882504Z",
     "start_time": "2024-06-27T08:08:01.704253Z"
    }
   },
   "source": [
    "if __name__ == \"__main__\":\n",
    "    print(\"Kafka Producer Application Started ... \")\n",
    "\n",
    "    kafka_producer_obj = KafkaProducer(bootstrap_servers=KAFKA_BOOTSTRAP_SERVERS_CONS,\n",
    "                                       value_serializer=lambda x: x.encode('utf-8'))\n",
    "    \n",
    "    df =df.head(50)\n",
    "    df['id'] = np.arange(len(df)) \n",
    "    df_list = df.to_dict(orient=\"records\")\n",
    "    message_list = []\n",
    "    message = None\n",
    "    for message in df_list:\n",
    "        \n",
    "        message_fields_value_list = []\n",
    "               \n",
    "        message_fields_value_list.append(message[\"id\"])\n",
    "        message_fields_value_list.append(message[\"Account_No\"])\n",
    "        # message_fields_value_list.append(message[\"DATE\"])\n",
    "        message_fields_value_list.append(message[\"TRANSACTION_DETAILS\"])\n",
    "        message_fields_value_list.append(message[\"Cheq_No\"])\n",
    "        # message_fields_value_list.append(message[\"VALUE_DATE\"])\n",
    "        message_fields_value_list.append(message[\"WITHDRAWL_AMOUNT\"])\n",
    "        message_fields_value_list.append(message[\"DEPOSIT_AMT\"])\n",
    "        message_fields_value_list.append(message[\"BALANCE_AMT\"])\n",
    "\n",
    "        message = ','.join(str(v) for v in message_fields_value_list)\n",
    "        print(\"Message Type: \", type(message))\n",
    "        print(\"Message: \", message)\n",
    "        kafka_producer_obj.send(KAFKA_TOPIC_NAME_CONS, message)\n",
    "        time.sleep(1)\n",
    "\n",
    "\n",
    "    print(\"Kafka Producer Application Completed. \")"
   ],
   "outputs": [
    {
     "name": "stdout",
     "output_type": "stream",
     "text": [
      "Kafka Producer Application Started ... \n",
      "Message Type:  <class 'str'>\n",
      "Message:  0,409000611074',TRF FROM  Indiaforensic SERVICES,,0.00,1000000.00,1000000.00\n",
      "Message Type:  <class 'str'>\n",
      "Message:  1,409000611074',TRF FROM  Indiaforensic SERVICES,,0.00,1000000.00,2000000.00\n",
      "Message Type:  <class 'str'>\n",
      "Message:  2,409000611074',FDRL/INTERNAL FUND TRANSFE,,0.00,500000.00,2500000.00\n",
      "Message Type:  <class 'str'>\n",
      "Message:  3,409000611074',TRF FRM  Indiaforensic SERVICES,,0.00,3000000.00,5500000.00\n",
      "Message Type:  <class 'str'>\n",
      "Message:  4,409000611074',FDRL/INTERNAL FUND TRANSFE,,0.00,500000.00,6000000.00\n",
      "Message Type:  <class 'str'>\n",
      "Message:  5,409000611074',FDRL/INTERNAL FUND TRANSFE,,0.00,500000.00,6500000.00\n",
      "Message Type:  <class 'str'>\n",
      "Message:  6,409000611074',FDRL/INTERNAL FUND TRANSFE,,0.00,500000.00,7000000.00\n",
      "Message Type:  <class 'str'>\n",
      "Message:  7,409000611074',FDRL/INTERNAL FUND TRANSFE,,0.00,500000.00,7500000.00\n",
      "Message Type:  <class 'str'>\n",
      "Message:  8,409000611074',FDRL/INTERNAL FUND TRANSFE,,0.00,500000.00,8000000.00\n",
      "Message Type:  <class 'str'>\n",
      "Message:  9,409000611074',FDRL/INTERNAL FUND TRANSFE,,0.00,500000.00,8500000.00\n",
      "Message Type:  <class 'str'>\n",
      "Message:  10,409000611074',INDO GIBL Indiaforensic STL01071,,133900.00,0.00,8366100.00\n",
      "Message Type:  <class 'str'>\n",
      "Message:  11,409000611074',INDO GIBL Indiaforensic STL02071,,18000.00,0.00,8348100.00\n",
      "Message Type:  <class 'str'>\n",
      "Message:  12,409000611074',INDO GIBL Indiaforensic STL03071,,5000.00,0.00,8343100.00\n",
      "Message Type:  <class 'str'>\n",
      "Message:  13,409000611074',INDO GIBL Indiaforensic STL04071,,195800.00,0.00,8147300.00\n",
      "Message Type:  <class 'str'>\n",
      "Message:  14,409000611074',INDO GIBL Indiaforensic STL05071,,81600.00,0.00,8065700.00\n",
      "Message Type:  <class 'str'>\n",
      "Message:  15,409000611074',INDO GIBL Indiaforensic STL06071,,41800.00,0.00,8023900.00\n",
      "Message Type:  <class 'str'>\n",
      "Message:  16,409000611074',INDO GIBL Indiaforensic STL07071,,98500.00,0.00,7925400.00\n",
      "Message Type:  <class 'str'>\n",
      "Message:  17,409000611074',INDO GIBL Indiaforensic STL10071,,143800.00,0.00,7781600.00\n",
      "Message Type:  <class 'str'>\n",
      "Message:  18,409000611074',INDO GIBL Indiaforensic STL11071,,331650.00,0.00,7449950.00\n",
      "Message Type:  <class 'str'>\n",
      "Message:  19,409000611074',INDO GIBL Indiaforensic STL12071,,129000.00,0.00,7320950.00\n",
      "Message Type:  <class 'str'>\n",
      "Message:  20,409000611074',INDO GIBL Indiaforensic STL13071,,230013.00,0.00,7090937.00\n",
      "Message Type:  <class 'str'>\n",
      "Message:  21,409000611074',INDO GIBL Indiaforensic STL14071,,367900.00,0.00,6723037.00\n",
      "Message Type:  <class 'str'>\n",
      "Message:  22,409000611074',INDO GIBL Indiaforensic STL15071,,108000.00,0.00,6615037.00\n",
      "Message Type:  <class 'str'>\n",
      "Message:  23,409000611074',INDO GIBL Indiaforensic STL16071,,64800.00,0.00,6550237.00\n",
      "Message Type:  <class 'str'>\n",
      "Message:  24,409000611074',INDO GIBL Indiaforensic STL17071,,141000.00,0.00,6409237.00\n",
      "Message Type:  <class 'str'>\n",
      "Message:  25,409000611074',INDO GIBL Indiaforensic STL18071,,61750.00,0.00,6347487.00\n",
      "Message Type:  <class 'str'>\n",
      "Message:  26,409000611074',INDO GIBL Indiaforensic STL19071,,67920.00,0.00,6279567.00\n",
      "Message Type:  <class 'str'>\n",
      "Message:  27,409000611074',INDO GIBL Indiaforensic STL20071,,78100.00,0.00,6201467.00\n",
      "Message Type:  <class 'str'>\n",
      "Message:  28,409000611074',INDO GIBL Indiaforensic STL21071,,35650.00,0.00,6165817.00\n",
      "Message Type:  <class 'str'>\n",
      "Message:  29,409000611074',INDO GIBL Indiaforensic STL22071,,206000.00,0.00,5959817.00\n",
      "Message Type:  <class 'str'>\n",
      "Message:  30,409000611074',INDO GIBL Indiaforensic STL24071,,35300.00,0.00,5924517.00\n",
      "Message Type:  <class 'str'>\n",
      "Message:  31,409000611074',INDO GIBL Indiaforensic STL25071,,49800.00,0.00,5874717.00\n",
      "Message Type:  <class 'str'>\n",
      "Message:  32,409000611074',INDO GIBL Indiaforensic STL26071,,53000.00,0.00,5821717.00\n",
      "Message Type:  <class 'str'>\n",
      "Message:  33,409000611074',INDO GIBL Indiaforensic STL27071,,91300.00,0.00,5730417.00\n",
      "Message Type:  <class 'str'>\n",
      "Message:  34,409000611074',INDO GIBL Indiaforensic STL28071,,57499.00,0.00,5672918.00\n",
      "Message Type:  <class 'str'>\n",
      "Message:  35,409000611074',INDO GIBL Indiaforensic STL30071,,20000.00,0.00,5652918.00\n",
      "Message Type:  <class 'str'>\n",
      "Message:  36,409000611074',INDO GIBL Indiaforensic STL31071,,19400.00,0.00,5633518.00\n",
      "Message Type:  <class 'str'>\n",
      "Message:  37,409000611074',INDO GIBL Indiaforensic STL01081,,40500.00,0.00,5593018.00\n",
      "Message Type:  <class 'str'>\n",
      "Message:  38,409000611074',INDO GIBL Indiaforensic STL02081,,242300.00,0.00,5350718.00\n",
      "Message Type:  <class 'str'>\n",
      "Message:  39,409000611074',INDO GIBL Indiaforensic STL03081,,90100.00,0.00,5260618.00\n",
      "Message Type:  <class 'str'>\n",
      "Message:  40,409000611074',INDO GIBL Indiaforensic STL04081,,113250.00,0.00,5147368.00\n",
      "Message Type:  <class 'str'>\n",
      "Message:  41,409000611074',INDO GIBL Indiaforensic STL05081,,12500.00,0.00,5134868.00\n",
      "Message Type:  <class 'str'>\n",
      "Message:  42,409000611074',INDO GIBL Indiaforensic STL06081,,40000.00,0.00,5094868.00\n",
      "Message Type:  <class 'str'>\n",
      "Message:  43,409000611074',INDO GIBL Indiaforensic STL07081,,206900.00,0.00,4887968.00\n",
      "Message Type:  <class 'str'>\n",
      "Message:  44,409000611074',INDO GIBL Indiaforensic STL08081,,276000.00,0.00,4611968.00\n",
      "Message Type:  <class 'str'>\n",
      "Message:  45,409000611074',INDO GIBL Indiaforensic STL09081,,171000.00,0.00,4440968.00\n",
      "Message Type:  <class 'str'>\n",
      "Message:  46,409000611074',INDO GIBL Indiaforensic STL10081,,40100.00,0.00,4400868.00\n",
      "Message Type:  <class 'str'>\n",
      "Message:  47,409000611074',INDO GIBL Indiaforensic STL11081,,189800.00,0.00,4211068.00\n",
      "Message Type:  <class 'str'>\n",
      "Message:  48,409000611074',INDO GIBL Indiaforensic STL12081,,55800.00,0.00,4155268.00\n",
      "Message Type:  <class 'str'>\n",
      "Message:  49,409000611074',INDO GIBL Indiaforensic STL13081,,95400.00,0.00,4059868.00\n",
      "Kafka Producer Application Completed. \n"
     ]
    }
   ],
   "execution_count": 8
  },
  {
   "cell_type": "code",
   "execution_count": null,
   "id": "862dc589-feae-4847-b2a5-b44e03566910",
   "metadata": {},
   "outputs": [],
   "source": []
  }
 ],
 "metadata": {
  "kernelspec": {
   "display_name": "Python 3 (ipykernel)",
   "language": "python",
   "name": "python3"
  },
  "language_info": {
   "codemirror_mode": {
    "name": "ipython",
    "version": 3
   },
   "file_extension": ".py",
   "mimetype": "text/x-python",
   "name": "python",
   "nbconvert_exporter": "python",
   "pygments_lexer": "ipython3",
   "version": "3.10.7"
  }
 },
 "nbformat": 4,
 "nbformat_minor": 5
}
