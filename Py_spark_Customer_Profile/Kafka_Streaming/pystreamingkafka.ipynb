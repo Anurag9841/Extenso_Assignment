{
 "cells": [
  {
   "cell_type": "code",
   "id": "initial_id",
   "metadata": {
    "collapsed": true,
    "ExecuteTime": {
     "end_time": "2024-06-05T07:04:32.701911Z",
     "start_time": "2024-06-05T07:04:31.668816Z"
    }
   },
   "source": [
    "import mysql.connector\n",
    "import pandas as pd\n",
    "from kafka import KafkaProducer\n",
    "from datetime import datetime\n",
    "import time\n",
    "import random\n",
    "import numpy as np"
   ],
   "execution_count": 1,
   "outputs": []
  },
  {
   "metadata": {
    "ExecuteTime": {
     "end_time": "2024-06-05T07:04:32.717537Z",
     "start_time": "2024-06-05T07:04:32.701911Z"
    }
   },
   "cell_type": "code",
   "source": [
    "KAFKA_TOPIC_NAME_CONS = \"Topic1\"\n",
    "KAFKA_BOOTSTRAP_SERVERS_CONS = 'localhost:9092'"
   ],
   "id": "910b678447946c9",
   "execution_count": 2,
   "outputs": []
  },
  {
   "metadata": {
    "ExecuteTime": {
     "end_time": "2024-06-05T07:04:32.764416Z",
     "start_time": "2024-06-05T07:04:32.717537Z"
    }
   },
   "cell_type": "code",
   "source": [
    "df = pd.read_csv(\"F:/IRIS.csv\")\n",
    "df.head()"
   ],
   "id": "41394836e9de66f5",
   "execution_count": 3,
   "outputs": []
  },
  {
   "metadata": {
    "ExecuteTime": {
     "end_time": "2024-06-05T07:07:04.284170Z",
     "start_time": "2024-06-05T07:04:32.764416Z"
    }
   },
   "cell_type": "code",
   "source": [
    "if __name__ == \"__main__\":\n",
    "    print(\"Kafka Producer Application Started ... \")\n",
    "\n",
    "    kafka_producer_obj = KafkaProducer(bootstrap_servers=KAFKA_BOOTSTRAP_SERVERS_CONS,\n",
    "                                       value_serializer=lambda x: x.encode('utf-8'))\n",
    "    filepath = \"F:/IRIS.csv\"\n",
    "    \n",
    "    flower_df = pd.read_csv(filepath)\n",
    "    flower_df['order_id'] = np.arange(len(flower_df))\n",
    "\n",
    "    \n",
    "    flower_list = flower_df.to_dict(orient=\"records\")\n",
    "       \n",
    "\n",
    "    message_list = []\n",
    "    message = None\n",
    "    for message in flower_list:\n",
    "        \n",
    "        message_fields_value_list = []\n",
    "               \n",
    "        message_fields_value_list.append(message[\"order_id\"])\n",
    "        message_fields_value_list.append(message[\"sepal_length\"])\n",
    "        message_fields_value_list.append(message[\"sepal_width\"])\n",
    "        message_fields_value_list.append(message[\"petal_length\"])\n",
    "        message_fields_value_list.append(message[\"petal_width\"])\n",
    "        message_fields_value_list.append(message[\"species\"])\n",
    "\n",
    "        message = ','.join(str(v) for v in message_fields_value_list)\n",
    "        print(\"Message Type: \", type(message))\n",
    "        print(\"Message: \", message)\n",
    "        kafka_producer_obj.send(KAFKA_TOPIC_NAME_CONS, message)\n",
    "        time.sleep(1)\n",
    "\n",
    "\n",
    "    print(\"Kafka Producer Application Completed. \")"
   ],
   "id": "efe3c263358369b5",
   "execution_count": 4,
   "outputs": []
  },
  {
   "metadata": {
    "ExecuteTime": {
     "end_time": "2024-06-05T07:07:04.316168Z",
     "start_time": "2024-06-05T07:07:04.297160Z"
    }
   },
   "cell_type": "code",
   "source": "",
   "id": "88acdf1cbbe23ad8",
   "execution_count": 4,
   "outputs": []
  }
 ],
 "metadata": {
  "kernelspec": {
   "display_name": "Python 3",
   "language": "python",
   "name": "python3"
  },
  "language_info": {
   "codemirror_mode": {
    "name": "ipython",
    "version": 2
   },
   "file_extension": ".py",
   "mimetype": "text/x-python",
   "name": "python",
   "nbconvert_exporter": "python",
   "pygments_lexer": "ipython2",
   "version": "2.7.6"
  }
 },
 "nbformat": 4,
 "nbformat_minor": 5
}
