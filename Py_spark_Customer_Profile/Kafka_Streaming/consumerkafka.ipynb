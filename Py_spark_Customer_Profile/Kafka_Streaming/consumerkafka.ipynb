{
 "cells": [
  {
   "cell_type": "code",
   "id": "initial_id",
   "metadata": {
    "collapsed": true,
    "ExecuteTime": {
     "end_time": "2024-06-10T04:50:06.538495Z",
     "start_time": "2024-06-10T04:49:46.933370Z"
    }
   },
   "source": [
    "from pyspark.sql import SparkSession\n",
    "from pyspark.sql.functions import *\n",
    "from pyspark.ml.feature import Normalizer, StandardScaler\n",
    "import random\n",
    "\n",
    "import time\n",
    "\n",
    "kafka_topic_name = \"Topic1\"\n",
    "kafka_bootstrap_servers = 'localhost:9092'\n",
    "\n",
    "spark = SparkSession \\\n",
    "        .builder \\\n",
    "        .appName(\"Structured Streaming \") \\\n",
    "        .master(\"local[*]\") \\\n",
    "        .config(\"spark.jars.packages\", \"org.apache.spark:spark-sql-kafka-0-10_2.12:3.5.1\") \\\n",
    "        .getOrCreate()\n",
    "\n",
    "spark.sparkContext.setLogLevel(\"ERROR\")"
   ],
   "execution_count": 1,
   "outputs": []
  },
  {
   "metadata": {
    "ExecuteTime": {
     "end_time": "2024-06-10T04:50:13.658797Z",
     "start_time": "2024-06-10T04:50:06.551507Z"
    }
   },
   "cell_type": "code",
   "source": [
    "flower_df = spark \\\n",
    "        .readStream \\\n",
    "        .format(\"kafka\") \\\n",
    "        .option(\"kafka.bootstrap.servers\", kafka_bootstrap_servers) \\\n",
    "        .option(\"subscribe\", kafka_topic_name) \\\n",
    "        .option(\"startingOffsets\", \"earliest\") \\\n",
    "        .load()"
   ],
   "id": "8d58080aa82967e5",
   "execution_count": 2,
   "outputs": []
  },
  {
   "metadata": {
    "ExecuteTime": {
     "end_time": "2024-06-10T04:50:18.274972Z",
     "start_time": "2024-06-10T04:50:13.658797Z"
    }
   },
   "cell_type": "code",
   "source": [
    "flower_df1 = flower_df.selectExpr(\"CAST(value AS STRING)\", \"timestamp\")\n",
    "\n",
    "\n",
    "flower_schema_string = \"order_id INT,sepal_length DOUBLE,sepal_length DOUBLE,sepal_length DOUBLE,sepal_length DOUBLE,species STRING\"\n",
    "\n",
    "\n",
    "\n",
    "flower_df2 = flower_df1 \\\n",
    "        .select(from_csv(col(\"value\"), flower_schema_string) \\\n",
    "                .alias(\"flower\"), \"timestamp\")\n",
    "\n",
    "\n",
    "flower_df3 = flower_df2.select(\"flower.*\", \"timestamp\")\n",
    "\n",
    "    \n",
    "flower_df3.createOrReplaceTempView(\"flower_find\");\n",
    "song_find_text = spark.sql(\"SELECT * FROM flower_find\")\n",
    "flower_agg_write_stream = song_find_text \\\n",
    "        .writeStream \\\n",
    "        .trigger(processingTime='5 seconds') \\\n",
    "        .outputMode(\"append\") \\\n",
    "        .option(\"truncate\", \"false\") \\\n",
    "        .format(\"memory\") \\\n",
    "        .queryName(\"testedTable\") \\\n",
    "        .start()\n",
    "\n",
    "flower_agg_write_stream.awaitTermination(1)"
   ],
   "id": "a376fe07ae0ad507",
   "execution_count": 3,
   "outputs": []
  },
  {
   "metadata": {
    "ExecuteTime": {
     "end_time": "2024-06-05T07:05:12.909014Z",
     "start_time": "2024-06-05T07:05:12.720959Z"
    }
   },
   "cell_type": "code",
   "source": [
    "df = spark.sql(\"SELECT * FROM testedTable\")\n",
    "df.show()"
   ],
   "id": "b872e7b188f3c6f6",
   "execution_count": 7,
   "outputs": []
  },
  {
   "metadata": {
    "ExecuteTime": {
     "end_time": "2024-06-05T07:05:29.319848Z",
     "start_time": "2024-06-05T07:05:28.071893Z"
    }
   },
   "cell_type": "code",
   "source": "df.count()",
   "id": "80c5da41cabf2c05",
   "execution_count": 8,
   "outputs": []
  },
  {
   "metadata": {
    "ExecuteTime": {
     "end_time": "2024-06-05T07:05:38.861194Z",
     "start_time": "2024-06-05T07:05:38.688071Z"
    }
   },
   "cell_type": "code",
   "source": "df.count()",
   "id": "7f6fcd43525625b7",
   "execution_count": 9,
   "outputs": []
  },
  {
   "metadata": {
    "ExecuteTime": {
     "end_time": "2024-06-05T07:05:48.463640Z",
     "start_time": "2024-06-05T07:05:48.230473Z"
    }
   },
   "cell_type": "code",
   "source": "df.count()",
   "id": "7ca588a47f4909af",
   "execution_count": 10,
   "outputs": []
  },
  {
   "metadata": {},
   "cell_type": "code",
   "execution_count": null,
   "source": "",
   "id": "d0a0e3be40cfdf37",
   "outputs": []
  }
 ],
 "metadata": {
  "kernelspec": {
   "display_name": "Python 3",
   "language": "python",
   "name": "python3"
  },
  "language_info": {
   "codemirror_mode": {
    "name": "ipython",
    "version": 2
   },
   "file_extension": ".py",
   "mimetype": "text/x-python",
   "name": "python",
   "nbconvert_exporter": "python",
   "pygments_lexer": "ipython2",
   "version": "2.7.6"
  }
 },
 "nbformat": 4,
 "nbformat_minor": 5
}
