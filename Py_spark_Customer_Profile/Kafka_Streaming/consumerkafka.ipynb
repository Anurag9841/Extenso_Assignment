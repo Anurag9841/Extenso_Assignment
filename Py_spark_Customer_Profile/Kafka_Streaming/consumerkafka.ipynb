{
 "cells": [
  {
   "cell_type": "code",
   "id": "initial_id",
   "metadata": {
    "collapsed": true,
    "ExecuteTime": {
     "end_time": "2024-06-05T07:04:55.920823Z",
     "start_time": "2024-06-05T07:04:45.510673Z"
    }
   },
   "source": [
    "from pyspark.sql import SparkSession\n",
    "from pyspark.sql.functions import *\n",
    "from pyspark.ml.feature import Normalizer, StandardScaler\n",
    "import random\n",
    "\n",
    "import time\n",
    "\n",
    "kafka_topic_name = \"Topic1\"\n",
    "kafka_bootstrap_servers = 'localhost:9092'\n",
    "\n",
    "spark = SparkSession \\\n",
    "        .builder \\\n",
    "        .appName(\"Structured Streaming \") \\\n",
    "        .master(\"local[*]\") \\\n",
    "        .config(\"spark.jars.packages\", \"org.apache.spark:spark-sql-kafka-0-10_2.12:3.5.1\") \\\n",
    "        .getOrCreate()\n",
    "\n",
    "spark.sparkContext.setLogLevel(\"ERROR\")"
   ],
   "outputs": [],
   "execution_count": 1
  },
  {
   "metadata": {
    "ExecuteTime": {
     "end_time": "2024-06-05T07:04:57.908404Z",
     "start_time": "2024-06-05T07:04:55.920823Z"
    }
   },
   "cell_type": "code",
   "source": [
    "flower_df = spark \\\n",
    "        .readStream \\\n",
    "        .format(\"kafka\") \\\n",
    "        .option(\"kafka.bootstrap.servers\", kafka_bootstrap_servers) \\\n",
    "        .option(\"subscribe\", kafka_topic_name) \\\n",
    "        .option(\"startingOffsets\", \"earliest\") \\\n",
    "        .load()"
   ],
   "id": "8d58080aa82967e5",
   "outputs": [],
   "execution_count": 2
  },
  {
   "metadata": {
    "ExecuteTime": {
     "end_time": "2024-06-05T07:05:01.259940Z",
     "start_time": "2024-06-05T07:04:57.908404Z"
    }
   },
   "cell_type": "code",
   "source": [
    "flower_df1 = flower_df.selectExpr(\"CAST(value AS STRING)\", \"timestamp\")\n",
    "\n",
    "\n",
    "flower_schema_string = \"order_id INT,sepal_length DOUBLE,sepal_length DOUBLE,sepal_length DOUBLE,sepal_length DOUBLE,species STRING\"\n",
    "\n",
    "\n",
    "\n",
    "flower_df2 = flower_df1 \\\n",
    "        .select(from_csv(col(\"value\"), flower_schema_string) \\\n",
    "                .alias(\"flower\"), \"timestamp\")\n",
    "\n",
    "\n",
    "flower_df3 = flower_df2.select(\"flower.*\", \"timestamp\")\n",
    "\n",
    "    \n",
    "flower_df3.createOrReplaceTempView(\"flower_find\");\n",
    "song_find_text = spark.sql(\"SELECT * FROM flower_find\")\n",
    "flower_agg_write_stream = song_find_text \\\n",
    "        .writeStream \\\n",
    "        .trigger(processingTime='5 seconds') \\\n",
    "        .outputMode(\"append\") \\\n",
    "        .option(\"truncate\", \"false\") \\\n",
    "        .format(\"memory\") \\\n",
    "        .queryName(\"testedTable\") \\\n",
    "        .start()\n",
    "\n",
    "flower_agg_write_stream.awaitTermination(1)"
   ],
   "id": "a376fe07ae0ad507",
   "outputs": [
    {
     "data": {
      "text/plain": [
       "False"
      ]
     },
     "execution_count": 3,
     "metadata": {},
     "output_type": "execute_result"
    }
   ],
   "execution_count": 3
  },
  {
   "metadata": {
    "ExecuteTime": {
     "end_time": "2024-06-05T07:05:12.909014Z",
     "start_time": "2024-06-05T07:05:12.720959Z"
    }
   },
   "cell_type": "code",
   "source": [
    "df = spark.sql(\"SELECT * FROM testedTable\")\n",
    "df.show()"
   ],
   "id": "b872e7b188f3c6f6",
   "outputs": [
    {
     "name": "stdout",
     "output_type": "stream",
     "text": [
      "+--------+------------+------------+------------+------------+-----------+--------------------+\n",
      "|order_id|sepal_length|sepal_length|sepal_length|sepal_length|    species|           timestamp|\n",
      "+--------+------------+------------+------------+------------+-----------+--------------------+\n",
      "|       0|         5.1|         3.5|         1.4|         0.2|Iris-setosa|2024-06-05 12:49:...|\n",
      "|       1|         4.9|         3.0|         1.4|         0.2|Iris-setosa|2024-06-05 12:49:...|\n",
      "|       2|         4.7|         3.2|         1.3|         0.2|Iris-setosa|2024-06-05 12:49:...|\n",
      "|       3|         4.6|         3.1|         1.5|         0.2|Iris-setosa|2024-06-05 12:49:...|\n",
      "|       4|         5.0|         3.6|         1.4|         0.2|Iris-setosa|2024-06-05 12:49:...|\n",
      "|       5|         5.4|         3.9|         1.7|         0.4|Iris-setosa|2024-06-05 12:49:...|\n",
      "|       6|         4.6|         3.4|         1.4|         0.3|Iris-setosa|2024-06-05 12:49:...|\n",
      "|       7|         5.0|         3.4|         1.5|         0.2|Iris-setosa|2024-06-05 12:49:...|\n",
      "|       8|         4.4|         2.9|         1.4|         0.2|Iris-setosa|2024-06-05 12:49:...|\n",
      "|       9|         4.9|         3.1|         1.5|         0.1|Iris-setosa|2024-06-05 12:49:...|\n",
      "|      10|         5.4|         3.7|         1.5|         0.2|Iris-setosa|2024-06-05 12:49:...|\n",
      "|      11|         4.8|         3.4|         1.6|         0.2|Iris-setosa|2024-06-05 12:49:...|\n",
      "|      12|         4.8|         3.0|         1.4|         0.1|Iris-setosa|2024-06-05 12:49:...|\n",
      "|      13|         4.3|         3.0|         1.1|         0.1|Iris-setosa|2024-06-05 12:49:...|\n",
      "|      14|         5.8|         4.0|         1.2|         0.2|Iris-setosa|2024-06-05 12:49:...|\n",
      "|      15|         5.7|         4.4|         1.5|         0.4|Iris-setosa|2024-06-05 12:49:...|\n",
      "|      16|         5.4|         3.9|         1.3|         0.4|Iris-setosa|2024-06-05 12:49:...|\n",
      "|      17|         5.1|         3.5|         1.4|         0.3|Iris-setosa|2024-06-05 12:49:...|\n",
      "|      18|         5.7|         3.8|         1.7|         0.3|Iris-setosa|2024-06-05 12:49:...|\n",
      "|      19|         5.1|         3.8|         1.5|         0.3|Iris-setosa|2024-06-05 12:49:...|\n",
      "+--------+------------+------------+------------+------------+-----------+--------------------+\n",
      "only showing top 20 rows\n",
      "\n"
     ]
    }
   ],
   "execution_count": 7
  },
  {
   "metadata": {
    "ExecuteTime": {
     "end_time": "2024-06-05T07:05:29.319848Z",
     "start_time": "2024-06-05T07:05:28.071893Z"
    }
   },
   "cell_type": "code",
   "source": "df.count()",
   "id": "80c5da41cabf2c05",
   "outputs": [
    {
     "data": {
      "text/plain": [
       "52"
      ]
     },
     "execution_count": 8,
     "metadata": {},
     "output_type": "execute_result"
    }
   ],
   "execution_count": 8
  },
  {
   "metadata": {
    "ExecuteTime": {
     "end_time": "2024-06-05T07:05:38.861194Z",
     "start_time": "2024-06-05T07:05:38.688071Z"
    }
   },
   "cell_type": "code",
   "source": "df.count()",
   "id": "7f6fcd43525625b7",
   "outputs": [
    {
     "data": {
      "text/plain": [
       "62"
      ]
     },
     "execution_count": 9,
     "metadata": {},
     "output_type": "execute_result"
    }
   ],
   "execution_count": 9
  },
  {
   "metadata": {
    "ExecuteTime": {
     "end_time": "2024-06-05T07:05:48.463640Z",
     "start_time": "2024-06-05T07:05:48.230473Z"
    }
   },
   "cell_type": "code",
   "source": "df.count()",
   "id": "7ca588a47f4909af",
   "outputs": [
    {
     "data": {
      "text/plain": [
       "72"
      ]
     },
     "execution_count": 10,
     "metadata": {},
     "output_type": "execute_result"
    }
   ],
   "execution_count": 10
  },
  {
   "metadata": {},
   "cell_type": "code",
   "outputs": [],
   "execution_count": null,
   "source": "",
   "id": "d0a0e3be40cfdf37"
  }
 ],
 "metadata": {
  "kernelspec": {
   "display_name": "Python 3",
   "language": "python",
   "name": "python3"
  },
  "language_info": {
   "codemirror_mode": {
    "name": "ipython",
    "version": 2
   },
   "file_extension": ".py",
   "mimetype": "text/x-python",
   "name": "python",
   "nbconvert_exporter": "python",
   "pygments_lexer": "ipython2",
   "version": "2.7.6"
  }
 },
 "nbformat": 4,
 "nbformat_minor": 5
}
