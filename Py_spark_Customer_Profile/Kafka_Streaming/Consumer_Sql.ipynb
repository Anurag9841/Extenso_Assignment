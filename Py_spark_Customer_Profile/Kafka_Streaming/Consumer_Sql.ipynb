{
 "cells": [
  {
   "cell_type": "code",
   "id": "6754a44a-532b-4ce9-9887-c97f4a8c0482",
   "metadata": {
    "ExecuteTime": {
     "end_time": "2024-06-27T08:08:12.358883Z",
     "start_time": "2024-06-27T08:08:11.953792Z"
    }
   },
   "source": [
    "import time\n",
    "from pyspark.sql import SparkSession\n",
    "from pyspark.sql.functions import *\n",
    "from pyspark.ml.feature import Normalizer, StandardScaler\n",
    "import random"
   ],
   "outputs": [],
   "execution_count": 1
  },
  {
   "cell_type": "code",
   "id": "c9c3a4f7-7670-4d8d-8840-d9dcdf6aaf65",
   "metadata": {
    "ExecuteTime": {
     "end_time": "2024-06-27T08:08:23.015864Z",
     "start_time": "2024-06-27T08:08:12.600378Z"
    }
   },
   "source": [
    "'''\n",
    "name of the Kafka topic that the consumer will subscribe to and read messages from\n",
    "'''\n",
    "kafka_topic_name = \"Topic4\"\n",
    "'''\n",
    "indicates that the Kafka broker is running on the local machine and is accessible through port 9092\n",
    "'''\n",
    "kafka_bootstrap_servers = 'localhost:9092'\n",
    "\n",
    "spark = SparkSession \\\n",
    "        .builder \\\n",
    "        .appName(\"Structured Streaming \") \\\n",
    "        .master(\"local[*]\") \\\n",
    "        .config(\"spark.jars.packages\", \"org.apache.spark:spark-sql-kafka-0-10_2.12:3.5.1\") \\\n",
    "        .getOrCreate()\n",
    "\n",
    "spark.sparkContext.setLogLevel(\"ERROR\")"
   ],
   "outputs": [],
   "execution_count": 2
  },
  {
   "cell_type": "code",
   "id": "634466c7-988e-42bd-81ae-74aa24e164ef",
   "metadata": {
    "ExecuteTime": {
     "end_time": "2024-06-27T08:08:26.093671Z",
     "start_time": "2024-06-27T08:08:23.019811Z"
    }
   },
   "source": [
    "'''\n",
    "read message from the kafka topic\n",
    "'''\n",
    "df_transaction = spark \\\n",
    "        .readStream \\\n",
    "        .format(\"kafka\") \\\n",
    "        .option(\"kafka.bootstrap.servers\", kafka_bootstrap_servers) \\\n",
    "        .option(\"subscribe\", kafka_topic_name) \\\n",
    "        .option(\"startingOffsets\", \"earliest\") \\\n",
    "        .load()"
   ],
   "outputs": [],
   "execution_count": 3
  },
  {
   "metadata": {
    "ExecuteTime": {
     "end_time": "2024-06-27T08:14:37.182311Z",
     "start_time": "2024-06-27T08:14:37.156308Z"
    }
   },
   "cell_type": "code",
   "source": "df_transaction.printSchema()",
   "id": "801318356662c9b5",
   "outputs": [
    {
     "name": "stdout",
     "output_type": "stream",
     "text": [
      "root\n",
      " |-- key: binary (nullable = true)\n",
      " |-- value: binary (nullable = true)\n",
      " |-- topic: string (nullable = true)\n",
      " |-- partition: integer (nullable = true)\n",
      " |-- offset: long (nullable = true)\n",
      " |-- timestamp: timestamp (nullable = true)\n",
      " |-- timestampType: integer (nullable = true)\n",
      "\n"
     ]
    }
   ],
   "execution_count": 9
  },
  {
   "cell_type": "code",
   "id": "a94d7ebd-56a9-464c-942e-6ed1d2b9cf3e",
   "metadata": {
    "ExecuteTime": {
     "end_time": "2024-06-27T08:08:31.676324Z",
     "start_time": "2024-06-27T08:08:28.587314Z"
    }
   },
   "source": [
    "df1_transaction = df_transaction.selectExpr(\"CAST(value AS STRING)\", \"timestamp\")\n",
    "df_schema_string = \"id INT,Account_No STRING,TRANSACTION_DETAILS STRING,Cheq_No STRING,WITHDRAWL_AMOUNT STRING,DEPOSIT_AMT STRING,BALANCE_AMT STRING\"\n",
    "'''\n",
    "Parsing the CSV Data\n",
    "'''\n",
    "df2_transaction= df1_transaction \\\n",
    "        .select(from_csv(col(\"value\"), df_schema_string) \\\n",
    "                .alias(\"transaction\"), \"timestamp\")\n",
    "\n",
    "'''\n",
    "Flattening the Structure\n",
    "'''\n",
    "df3_transaction = df2_transaction.select(\"transaction.*\", \"timestamp\")\n",
    "\n",
    "'''\n",
    " Creating Temporary View\n",
    "'''   \n",
    "df3_transaction.createOrReplaceTempView(\"transaction\");\n",
    "final_transaction = spark.sql(\"SELECT * FROM transaction\")\n",
    "Transaction_agg_write_stream = final_transaction \\\n",
    "        .writeStream \\\n",
    "        .trigger(processingTime='5 seconds') \\\n",
    "        .outputMode(\"append\") \\\n",
    "        .option(\"truncate\", \"false\") \\\n",
    "        .format(\"memory\") \\\n",
    "        .queryName(\"Transaction_Table\") \\\n",
    "        .start()\n",
    "Transaction_agg_write_stream.awaitTermination(1)"
   ],
   "outputs": [
    {
     "data": {
      "text/plain": [
       "False"
      ]
     },
     "execution_count": 4,
     "metadata": {},
     "output_type": "execute_result"
    }
   ],
   "execution_count": 4
  },
  {
   "cell_type": "code",
   "id": "40aaed6d-74b9-4f57-b183-f26107594973",
   "metadata": {
    "ExecuteTime": {
     "end_time": "2024-06-27T08:08:39.713014Z",
     "start_time": "2024-06-27T08:08:39.504583Z"
    }
   },
   "source": [
    "df = spark.sql(\"SELECT * FROM Transaction_Table\")\n",
    "df.show()"
   ],
   "outputs": [
    {
     "name": "stdout",
     "output_type": "stream",
     "text": [
      "+---+-------------+--------------------+-------+----------------+-----------+-----------+--------------------+\n",
      "| id|   Account_No| TRANSACTION_DETAILS|Cheq_No|WITHDRAWL_AMOUNT|DEPOSIT_AMT|BALANCE_AMT|           timestamp|\n",
      "+---+-------------+--------------------+-------+----------------+-----------+-----------+--------------------+\n",
      "|  0|409000611074'|TRF FROM  Indiafo...|   NULL|            0.00| 1000000.00| 1000000.00|2024-06-27 13:53:...|\n",
      "|  1|409000611074'|TRF FROM  Indiafo...|   NULL|            0.00| 1000000.00| 2000000.00|2024-06-27 13:53:...|\n",
      "|  2|409000611074'|FDRL/INTERNAL FUN...|   NULL|            0.00|  500000.00| 2500000.00|2024-06-27 13:53:...|\n",
      "|  3|409000611074'|TRF FRM  Indiafor...|   NULL|            0.00| 3000000.00| 5500000.00|2024-06-27 13:53:...|\n",
      "|  4|409000611074'|FDRL/INTERNAL FUN...|   NULL|            0.00|  500000.00| 6000000.00|2024-06-27 13:53:...|\n",
      "|  5|409000611074'|FDRL/INTERNAL FUN...|   NULL|            0.00|  500000.00| 6500000.00|2024-06-27 13:53:...|\n",
      "|  6|409000611074'|FDRL/INTERNAL FUN...|   NULL|            0.00|  500000.00| 7000000.00|2024-06-27 13:53:...|\n",
      "|  7|409000611074'|FDRL/INTERNAL FUN...|   NULL|            0.00|  500000.00| 7500000.00|2024-06-27 13:53:...|\n",
      "|  8|409000611074'|FDRL/INTERNAL FUN...|   NULL|            0.00|  500000.00| 8000000.00|2024-06-27 13:53:...|\n",
      "|  9|409000611074'|FDRL/INTERNAL FUN...|   NULL|            0.00|  500000.00| 8500000.00|2024-06-27 13:53:...|\n",
      "| 10|409000611074'|INDO GIBL Indiafo...|   NULL|       133900.00|       0.00| 8366100.00|2024-06-27 13:53:...|\n",
      "| 11|409000611074'|INDO GIBL Indiafo...|   NULL|        18000.00|       0.00| 8348100.00|2024-06-27 13:53:...|\n",
      "| 12|409000611074'|INDO GIBL Indiafo...|   NULL|         5000.00|       0.00| 8343100.00|2024-06-27 13:53:...|\n",
      "| 13|409000611074'|INDO GIBL Indiafo...|   NULL|       195800.00|       0.00| 8147300.00|2024-06-27 13:53:...|\n",
      "| 14|409000611074'|INDO GIBL Indiafo...|   NULL|        81600.00|       0.00| 8065700.00|2024-06-27 13:53:...|\n",
      "| 15|409000611074'|INDO GIBL Indiafo...|   NULL|        41800.00|       0.00| 8023900.00|2024-06-27 13:53:...|\n",
      "| 16|409000611074'|INDO GIBL Indiafo...|   NULL|        98500.00|       0.00| 7925400.00|2024-06-27 13:53:...|\n",
      "| 17|409000611074'|INDO GIBL Indiafo...|   NULL|       143800.00|       0.00| 7781600.00|2024-06-27 13:53:...|\n",
      "| 18|409000611074'|INDO GIBL Indiafo...|   NULL|       331650.00|       0.00| 7449950.00|2024-06-27 13:53:...|\n",
      "| 19|409000611074'|INDO GIBL Indiafo...|   NULL|       129000.00|       0.00| 7320950.00|2024-06-27 13:53:...|\n",
      "+---+-------------+--------------------+-------+----------------+-----------+-----------+--------------------+\n",
      "only showing top 20 rows\n",
      "\n"
     ]
    }
   ],
   "execution_count": 7
  },
  {
   "cell_type": "code",
   "id": "4aaa181b-3c4c-458f-8fb8-de4debe58aa9",
   "metadata": {
    "ExecuteTime": {
     "end_time": "2024-06-27T08:09:53.556963Z",
     "start_time": "2024-06-27T08:09:53.354387Z"
    }
   },
   "source": [
    "df.count()"
   ],
   "outputs": [
    {
     "data": {
      "text/plain": [
       "50"
      ]
     },
     "execution_count": 8,
     "metadata": {},
     "output_type": "execute_result"
    }
   ],
   "execution_count": 8
  },
  {
   "cell_type": "code",
   "execution_count": null,
   "id": "95f73a6b-af98-40b5-8253-01255b519967",
   "metadata": {},
   "outputs": [],
   "source": []
  }
 ],
 "metadata": {
  "kernelspec": {
   "display_name": "Python 3 (ipykernel)",
   "language": "python",
   "name": "python3"
  },
  "language_info": {
   "codemirror_mode": {
    "name": "ipython",
    "version": 3
   },
   "file_extension": ".py",
   "mimetype": "text/x-python",
   "name": "python",
   "nbconvert_exporter": "python",
   "pygments_lexer": "ipython3",
   "version": "3.10.7"
  }
 },
 "nbformat": 4,
 "nbformat_minor": 5
}
