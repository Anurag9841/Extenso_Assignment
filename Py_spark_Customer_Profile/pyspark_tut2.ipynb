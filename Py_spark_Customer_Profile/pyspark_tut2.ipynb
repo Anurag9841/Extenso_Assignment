{
 "cells": [
  {
   "cell_type": "code",
   "id": "initial_id",
   "metadata": {
    "collapsed": true,
    "ExecuteTime": {
     "end_time": "2024-06-04T07:42:24.294432Z",
     "start_time": "2024-06-04T07:42:24.021417Z"
    }
   },
   "source": [
    "from pyspark.sql import SparkSession\n",
    "from pyspark.sql.functions import *\n",
    "# from pyspark.sql.types import *\n",
    "from pyspark.sql.window import *"
   ],
   "execution_count": 1,
   "outputs": []
  },
  {
   "metadata": {
    "ExecuteTime": {
     "end_time": "2024-06-04T07:42:24.676788Z",
     "start_time": "2024-06-04T07:42:24.672123Z"
    }
   },
   "cell_type": "code",
   "source": "import json",
   "id": "72d861c407201ba7",
   "execution_count": 2,
   "outputs": []
  },
  {
   "metadata": {
    "ExecuteTime": {
     "end_time": "2024-06-04T07:42:32.438837Z",
     "start_time": "2024-06-04T07:42:24.756134Z"
    }
   },
   "cell_type": "code",
   "source": "spark = SparkSession.builder.appName(\"spark_dataframe\").config(\"spark.jars\", \"C:\\spark-3.5.1-bin-hadoop3\\jars\\mysql-connector-j-8.4.0.jar\").getOrCreate()\n",
   "id": "15d7534d5047d4ea",
   "execution_count": 3,
   "outputs": []
  },
  {
   "metadata": {
    "ExecuteTime": {
     "end_time": "2024-06-04T07:42:32.460224Z",
     "start_time": "2024-06-04T07:42:32.440342Z"
    }
   },
   "cell_type": "code",
   "source": [
    "url = \"jdbc:mysql://localhost:3306/extenso_assignment\"\n",
    "properties = {\n",
    "    \"user\": \"root\",\n",
    "    \"password\": \"root\",\n",
    "    \"driver\": \"com.mysql.jdbc.Driver\"\n",
    "}"
   ],
   "id": "80346506d8b16fcf",
   "execution_count": 4,
   "outputs": []
  },
  {
   "metadata": {
    "ExecuteTime": {
     "end_time": "2024-06-04T07:42:32.479654Z",
     "start_time": "2024-06-04T07:42:32.462317Z"
    }
   },
   "cell_type": "code",
   "source": [
    "def table(table_name):\n",
    "    df = spark.read.jdbc(url=url, table=table_name, properties=properties)\n",
    "    return df"
   ],
   "id": "4e27b4f308454b96",
   "execution_count": 5,
   "outputs": []
  },
  {
   "metadata": {
    "ExecuteTime": {
     "end_time": "2024-06-04T07:42:36.214453Z",
     "start_time": "2024-06-04T07:42:32.481233Z"
    }
   },
   "cell_type": "code",
   "source": [
    "customer_profile = table('customer_profile')\n",
    "product_category = table(\"product_category\")\n",
    "product_category_map = table(\"product_category_map\")\n",
    "products = table(\"products\")\n",
    "rw_transaction_data = table(\"rw_transaction_data\")"
   ],
   "id": "73a1a8a0cb81c5d1",
   "execution_count": 6,
   "outputs": []
  },
  {
   "metadata": {
    "ExecuteTime": {
     "end_time": "2024-06-04T07:42:40.488343Z",
     "start_time": "2024-06-04T07:42:36.330952Z"
    }
   },
   "cell_type": "code",
   "source": "rw_transaction_data.show()",
   "id": "99a13b49c27a9fa7",
   "execution_count": 7,
   "outputs": []
  },
  {
   "metadata": {
    "ExecuteTime": {
     "end_time": "2024-06-04T07:42:14.059598Z",
     "start_time": "2024-06-04T07:42:13.992690Z"
    }
   },
   "cell_type": "code",
   "source": "rw_transaction_data.select(\"last_modified_date\").agg(max(\"last_modified_date\"))",
   "id": "4a02244f6f299001",
   "execution_count": 77,
   "outputs": []
  },
  {
   "metadata": {
    "ExecuteTime": {
     "end_time": "2024-06-04T07:02:04.519985Z",
     "start_time": "2024-06-04T07:02:04.375771Z"
    }
   },
   "cell_type": "code",
   "source": [
    "last_date = rw_transaction_data.select(\"last_modified_date\").first()[0]\n",
    "rw_transaction_data_part1 = rw_transaction_data.filter(col(\"last_modified_date\") <= last_date)\n",
    "rw_transaction_data_part2 = rw_transaction_data.filter(col(\"last_modified_date\") > last_date)"
   ],
   "id": "279ede79537071ea",
   "execution_count": 52,
   "outputs": []
  },
  {
   "metadata": {
    "ExecuteTime": {
     "end_time": "2024-06-04T07:02:04.893674Z",
     "start_time": "2024-06-04T07:02:04.778253Z"
    }
   },
   "cell_type": "code",
   "source": "rw_transaction_data_part2.show()",
   "id": "b5b26f9fbb6a7ae7",
   "execution_count": 53,
   "outputs": []
  },
  {
   "metadata": {
    "ExecuteTime": {
     "end_time": "2024-06-04T07:02:05.205467Z",
     "start_time": "2024-06-04T07:02:05.189841Z"
    }
   },
   "cell_type": "code",
   "source": [
    "def config(table):\n",
    "    last_transaction_date = table.select(max(\"last_modified_date\")).collect()[0][0]\n",
    "    config_data = {\n",
    "      \"last_transaction_date\":last_transaction_date.strftime('%Y-%m-%d')\n",
    "    }\n",
    "    with open(\"config.json\", \"w\") as json_file:\n",
    "        json.dump(config_data, json_file)"
   ],
   "id": "29dc7c5aee8e5e5",
   "execution_count": 54,
   "outputs": []
  },
  {
   "metadata": {
    "ExecuteTime": {
     "end_time": "2024-06-04T07:02:05.786281Z",
     "start_time": "2024-06-04T07:02:05.645185Z"
    }
   },
   "cell_type": "code",
   "source": "config(rw_transaction_data_part1)",
   "id": "cb9b728a73b7345b",
   "execution_count": 55,
   "outputs": []
  },
  {
   "metadata": {
    "ExecuteTime": {
     "end_time": "2024-06-04T07:02:06.021087Z",
     "start_time": "2024-06-04T07:02:06.005462Z"
    }
   },
   "cell_type": "code",
   "source": [
    "def get_last_transaction_date(config_path):\n",
    "    with open(config_path, 'r') as file:\n",
    "        config_data = json.load(file)\n",
    "        last_transaction_date = config_data.get('last_transaction_date')\n",
    "        return last_transaction_date\n",
    "last_transaction_date = get_last_transaction_date(\"config.json\")"
   ],
   "id": "19f93fedb73cd6e6",
   "execution_count": 56,
   "outputs": []
  },
  {
   "metadata": {
    "ExecuteTime": {
     "end_time": "2024-06-04T07:02:06.315128Z",
     "start_time": "2024-06-04T07:02:06.296260Z"
    }
   },
   "cell_type": "code",
   "source": "date = to_date(last_transaction_date)",
   "id": "288abc71bbcef2cb",
   "execution_count": 57,
   "outputs": []
  },
  {
   "metadata": {
    "ExecuteTime": {
     "end_time": "2024-06-04T07:02:06.635766Z",
     "start_time": "2024-06-04T07:02:06.604489Z"
    }
   },
   "cell_type": "code",
   "source": "rw_transaction_data1 = rw_transaction_data.filter(col(\"last_modified_date\") <= lit(last_transaction_date))",
   "id": "7c26455677b4ccf0",
   "execution_count": 58,
   "outputs": []
  },
  {
   "metadata": {
    "ExecuteTime": {
     "end_time": "2024-06-04T07:02:07.388832Z",
     "start_time": "2024-06-04T07:02:07.129209Z"
    }
   },
   "cell_type": "code",
   "source": "rw_transaction_data1.show()",
   "id": "715a865c72840d3f",
   "execution_count": 59,
   "outputs": []
  },
  {
   "metadata": {
    "ExecuteTime": {
     "end_time": "2024-06-04T07:02:08.491480Z",
     "start_time": "2024-06-04T07:02:08.306582Z"
    }
   },
   "cell_type": "code",
   "source": [
    "rw_transaction_data1 = rw_transaction_data1.withColumn(\"months\",month(col(\"last_modified_date\")))\n",
    "# rw_transaction_data = rw_transaction_data.withColumn(\"last_modified_date\", col(\"last_modified_date\").cast(\"string\"))\n",
    "rw_transaction_data1 = rw_transaction_data1.withColumn(\"first_day_of_month\", trunc(col(\"last_modified_date\"), \"month\"))\n",
    "rw_transaction_data1.show()"
   ],
   "id": "bc29c698be718171",
   "execution_count": 60,
   "outputs": []
  },
  {
   "metadata": {
    "ExecuteTime": {
     "end_time": "2024-06-04T07:02:08.829746Z",
     "start_time": "2024-06-04T07:02:08.798580Z"
    }
   },
   "cell_type": "code",
   "source": "joined = rw_transaction_data1.join(product_category_map,['product_id', 'product_type_id','module_id'])",
   "id": "385b04dce802452f",
   "execution_count": 61,
   "outputs": []
  },
  {
   "metadata": {
    "ExecuteTime": {
     "end_time": "2024-06-04T07:02:09.876911Z",
     "start_time": "2024-06-04T07:02:09.529671Z"
    }
   },
   "cell_type": "code",
   "source": "joined.count()",
   "id": "d68375e7a0942b6a",
   "execution_count": 62,
   "outputs": []
  },
  {
   "metadata": {
    "ExecuteTime": {
     "end_time": "2024-06-04T07:02:10.704271Z",
     "start_time": "2024-06-04T07:02:10.641775Z"
    }
   },
   "cell_type": "code",
   "source": "final_table = joined.groupBy([\"payer_account_id\",\"first_day_of_month\",\"txn_flow\"]).agg(sum(\"amount\"),count(\"amount\"),max(\"last_modified_date\").alias(\"last_modified_date\"),min(\"last_modified_date\"))",
   "id": "cedef483c1251369",
   "execution_count": 63,
   "outputs": []
  },
  {
   "metadata": {
    "ExecuteTime": {
     "end_time": "2024-06-04T07:02:12.926759Z",
     "start_time": "2024-06-04T07:02:11.482637Z"
    }
   },
   "cell_type": "code",
   "source": "final_table.show()",
   "id": "cfa7ab6b1252b03b",
   "execution_count": 64,
   "outputs": []
  },
  {
   "metadata": {
    "ExecuteTime": {
     "end_time": "2024-06-04T07:02:17.966946Z",
     "start_time": "2024-06-04T07:02:17.588175Z"
    }
   },
   "cell_type": "code",
   "source": "config(final_table)",
   "id": "925bde12b1d9fa22",
   "execution_count": 65,
   "outputs": []
  },
  {
   "metadata": {
    "ExecuteTime": {
     "end_time": "2024-06-04T07:02:18.611475Z",
     "start_time": "2024-06-04T07:02:18.595851Z"
    }
   },
   "cell_type": "code",
   "source": [
    "def new_data(final_table,rw_transaction_data,product_category_map = product_category_map):\n",
    "    last_transaction_date = get_last_transaction_date(\"config.json\")\n",
    "    rw_transaction_data = rw_transaction_data.filter(col(\"last_modified_date\") > lit(last_transaction_date))\n",
    "    rw_transaction_data = rw_transaction_data.withColumn(\"first_day_of_month\", trunc(col(\"last_modified_date\"), \"month\"))\n",
    "    joined = rw_transaction_data.join(product_category_map,['product_id', 'product_type_id','module_id'])\n",
    "    table_to_join = joined.groupBy([\"payer_account_id\",\"first_day_of_month\",\"txn_flow\"]).agg(sum(\"amount\"),count(\"amount\"),max(\"last_modified_date\").alias(\"last_modified_date\"),min(\"last_modified_date\"))\n",
    "    final_tables = final_table.unionAll(table_to_join)\n",
    "    return final_tables"
   ],
   "id": "e6f618a23f240e96",
   "execution_count": 66,
   "outputs": []
  },
  {
   "metadata": {
    "ExecuteTime": {
     "end_time": "2024-06-04T07:02:22.629037Z",
     "start_time": "2024-06-04T07:02:21.628225Z"
    }
   },
   "cell_type": "code",
   "source": [
    "final_tables = new_data(final_table,rw_transaction_data)\n",
    "final_tables.show()"
   ],
   "id": "d9c0d95ef3eb7f67",
   "execution_count": 67,
   "outputs": []
  },
  {
   "metadata": {
    "ExecuteTime": {
     "end_time": "2024-06-04T07:23:45.144598Z",
     "start_time": "2024-06-04T07:23:44.955120Z"
    }
   },
   "cell_type": "code",
   "source": "final_tables.printSchema()",
   "id": "41734dfc7c6471c4",
   "execution_count": 68,
   "outputs": []
  },
  {
   "metadata": {},
   "cell_type": "code",
   "execution_count": null,
   "source": "",
   "id": "a1d42d66fecdac37",
   "outputs": []
  }
 ],
 "metadata": {
  "kernelspec": {
   "display_name": "Python 3",
   "language": "python",
   "name": "python3"
  },
  "language_info": {
   "codemirror_mode": {
    "name": "ipython",
    "version": 2
   },
   "file_extension": ".py",
   "mimetype": "text/x-python",
   "name": "python",
   "nbconvert_exporter": "python",
   "pygments_lexer": "ipython2",
   "version": "2.7.6"
  }
 },
 "nbformat": 4,
 "nbformat_minor": 5
}
