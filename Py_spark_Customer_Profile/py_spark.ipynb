{
 "cells": [
  {
   "cell_type": "code",
   "id": "initial_id",
   "metadata": {
    "collapsed": true,
    "ExecuteTime": {
     "end_time": "2024-06-03T10:29:48.258589Z",
     "start_time": "2024-06-03T10:29:47.861610Z"
    }
   },
   "source": [
    "from pyspark.sql import SparkSession\n",
    "from pyspark.sql.functions import *\n",
    "from pyspark.sql.types import *\n",
    "from pyspark.sql.window import *"
   ],
   "outputs": [],
   "execution_count": 1
  },
  {
   "metadata": {
    "ExecuteTime": {
     "end_time": "2024-06-03T10:29:55.129694Z",
     "start_time": "2024-06-03T10:29:48.258589Z"
    }
   },
   "cell_type": "code",
   "source": "spark = SparkSession.builder.appName(\"spark_session\").config(\"spark.jars\", \"C:\\spark-3.5.1-bin-hadoop3\\jars\\mysql-connector-j-8.4.0.jar\").getOrCreate()",
   "id": "54474cb7f4ee9ee0",
   "outputs": [],
   "execution_count": 2
  },
  {
   "metadata": {
    "ExecuteTime": {
     "end_time": "2024-06-03T10:29:55.145317Z",
     "start_time": "2024-06-03T10:29:55.129694Z"
    }
   },
   "cell_type": "code",
   "source": [
    "url = \"jdbc:mysql://localhost:3306/extenso_assignment\"\n",
    "properties = {\n",
    "    \"user\": \"root\",\n",
    "    \"password\": \"root\",\n",
    "    \"driver\": \"com.mysql.jdbc.Driver\"\n",
    "}"
   ],
   "id": "a2569bffb0a750ed",
   "outputs": [],
   "execution_count": 3
  },
  {
   "metadata": {
    "ExecuteTime": {
     "end_time": "2024-06-03T10:29:55.160976Z",
     "start_time": "2024-06-03T10:29:55.145317Z"
    }
   },
   "cell_type": "code",
   "source": [
    "def table(table_name):\n",
    "    df = spark.read.jdbc(url=url, table=table_name, properties=properties)\n",
    "    return df"
   ],
   "id": "3799e95fc45e4820",
   "outputs": [],
   "execution_count": 4
  },
  {
   "metadata": {
    "ExecuteTime": {
     "end_time": "2024-06-03T10:29:58.542831Z",
     "start_time": "2024-06-03T10:29:55.160976Z"
    }
   },
   "cell_type": "code",
   "source": [
    "customer_profile = table('customer_profile')\n",
    "product_category = table(\"product_category\")\n",
    "product_category_map = table(\"product_category_map\")\n",
    "products = table(\"products\")\n",
    "rw_transaction_data = table(\"rw_transaction_data\")"
   ],
   "id": "9c2f9ef784fdc27a",
   "outputs": [],
   "execution_count": 5
  },
  {
   "metadata": {
    "ExecuteTime": {
     "end_time": "2024-06-03T10:30:01.876841Z",
     "start_time": "2024-06-03T10:29:58.542831Z"
    }
   },
   "cell_type": "code",
   "source": "customer_profile.show()",
   "id": "a406d291bc73cc7f",
   "outputs": [
    {
     "name": "stdout",
     "output_type": "stream",
     "text": [
      "+----------+------------+-------------------+--------------------+-----------------------+------------------+-------------------+----------------------+---------------------+----------------------+-------------------------+--------------------+---------------------+------------------------+-------------------+----------------+------------------+--------------------------------+-------------+-------------+-----------------+------------------------+-----------------------+----------+\n",
      "|account_id|reward_point|total_inflow_amount|total_outflow_amount|total_valuechain_amount|total_inflow_count|total_outflow_count|total_valuechain_count|monthly_inflow_amount|monthly_outflow_amount|monthly_valuechain_amount|monthly_inflow_count|monthly_outflow_count|monthly_valuechain_count|latest_used_product|latest_tran_date|this_month_revenue|monthly_average_lifetime_revenue|total_revenue|product_usage|most_used_product|second_most_used_product|third_most_used_product|  run_date|\n",
      "+----------+------------+-------------------+--------------------+-----------------------+------------------+-------------------+----------------------+---------------------+----------------------+-------------------------+--------------------+---------------------+------------------------+-------------------+----------------+------------------+--------------------------------+-------------+-------------+-----------------+------------------------+-----------------------+----------+\n",
      "|         1|        1574|              76385|               70045|                   7650|                39|                 31|                     4|                76385|                 70045|                     7650|                  39|                   31|                       4|         Send Money|      2081-01-26|                31|                              31|           31|           14|       Send Money|         Fonepay Payment|   eSewa to Laxmi Su...|2024-01-05|\n",
      "|         2|         306|             557075|              184405|                 344798|               753|                142|                   400|                16005|                  6180|                     6170|                  53|                    7|                       8|    Fonepay Payment|      2081-01-31|                 4|                              62|         2727|           47| NT Prepaid Topup|              Send Money|            Ncell Topup|2024-01-05|\n",
      "|         3|          10|              18415|               12400|                   5110|                 6|                  5|                     9|                18415|                 12400|                     5110|                   6|                    5|                       9|   NT Prepaid Topup|      2081-01-31|                16|                              16|           16|            8|      Ncell Topup|              Send Money|        Fonepay Payment|2024-01-05|\n",
      "|         4|         324|               6350|                3050|                   7499|                 4|                  3|                     8|                 6350|                  3050|                     7499|                   4|                    3|                       8|    Fonepay Payment|      2081-01-21|                21|                              21|           21|            8|  Fonepay Payment|              Send Money|            Electricity|2024-01-05|\n",
      "|         5|         929|             168576|              100385|                  53911|                69|                 24|                    95|               106106|                 88660|                     5064|                  32|                   14|                      17|    Fonepay Payment|      2081-01-31|                70|                              28|         1226|           37| NT Prepaid Topup|       NT Postpaid Topup|             Send Money|2024-01-05|\n",
      "+----------+------------+-------------------+--------------------+-----------------------+------------------+-------------------+----------------------+---------------------+----------------------+-------------------------+--------------------+---------------------+------------------------+-------------------+----------------+------------------+--------------------------------+-------------+-------------+-----------------+------------------------+-----------------------+----------+\n",
      "\n"
     ]
    }
   ],
   "execution_count": 6
  },
  {
   "metadata": {
    "ExecuteTime": {
     "end_time": "2024-06-03T10:30:01.892465Z",
     "start_time": "2024-06-03T10:30:01.876841Z"
    }
   },
   "cell_type": "code",
   "source": "rw_transaction_data.printSchema()",
   "id": "471d6dc2eb03c7ff",
   "outputs": [
    {
     "name": "stdout",
     "output_type": "stream",
     "text": [
      "root\n",
      " |-- txn_id: long (nullable = true)\n",
      " |-- last_modified_date: date (nullable = true)\n",
      " |-- last_modified_date_bs: string (nullable = true)\n",
      " |-- created_date: date (nullable = true)\n",
      " |-- amount: double (nullable = true)\n",
      " |-- status: integer (nullable = true)\n",
      " |-- module_id: integer (nullable = true)\n",
      " |-- product_id: integer (nullable = true)\n",
      " |-- product_type_id: integer (nullable = true)\n",
      " |-- payer_account_id: integer (nullable = true)\n",
      " |-- receiver_account_id: integer (nullable = true)\n",
      " |-- reward_point: double (nullable = true)\n",
      " |-- cash_back_amount: double (nullable = true)\n",
      " |-- revenue_amount: double (nullable = true)\n",
      " |-- transactor_module_id: long (nullable = true)\n",
      " |-- time: string (nullable = true)\n",
      "\n"
     ]
    }
   ],
   "execution_count": 7
  },
  {
   "metadata": {
    "ExecuteTime": {
     "end_time": "2024-06-03T10:30:02.033115Z",
     "start_time": "2024-06-03T10:30:01.892465Z"
    }
   },
   "cell_type": "code",
   "source": [
    "rw_transaction_data = rw_transaction_data.withColumn(\"months\",month(col(\"last_modified_date\")))\n",
    "rw_transaction_data = rw_transaction_data.withColumn(\"last_modified_date\", col(\"last_modified_date\").cast(\"string\"))"
   ],
   "id": "93a5a3cfd4a91273",
   "outputs": [],
   "execution_count": 8
  },
  {
   "metadata": {
    "ExecuteTime": {
     "end_time": "2024-06-03T10:30:02.048716Z",
     "start_time": "2024-06-03T10:30:02.033115Z"
    }
   },
   "cell_type": "code",
   "source": "rw_transaction_data.printSchema()",
   "id": "60b888ca67864d8c",
   "outputs": [
    {
     "name": "stdout",
     "output_type": "stream",
     "text": [
      "root\n",
      " |-- txn_id: long (nullable = true)\n",
      " |-- last_modified_date: string (nullable = true)\n",
      " |-- last_modified_date_bs: string (nullable = true)\n",
      " |-- created_date: date (nullable = true)\n",
      " |-- amount: double (nullable = true)\n",
      " |-- status: integer (nullable = true)\n",
      " |-- module_id: integer (nullable = true)\n",
      " |-- product_id: integer (nullable = true)\n",
      " |-- product_type_id: integer (nullable = true)\n",
      " |-- payer_account_id: integer (nullable = true)\n",
      " |-- receiver_account_id: integer (nullable = true)\n",
      " |-- reward_point: double (nullable = true)\n",
      " |-- cash_back_amount: double (nullable = true)\n",
      " |-- revenue_amount: double (nullable = true)\n",
      " |-- transactor_module_id: long (nullable = true)\n",
      " |-- time: string (nullable = true)\n",
      " |-- months: integer (nullable = true)\n",
      "\n"
     ]
    }
   ],
   "execution_count": 9
  },
  {
   "metadata": {
    "ExecuteTime": {
     "end_time": "2024-06-03T10:30:03.289202Z",
     "start_time": "2024-06-03T10:30:02.048716Z"
    }
   },
   "cell_type": "code",
   "source": "rw_transaction_data.show()",
   "id": "31fce7b8ade9ea9a",
   "outputs": [
    {
     "name": "stdout",
     "output_type": "stream",
     "text": [
      "+---------+------------------+---------------------+------------+------+------+---------+----------+---------------+----------------+-------------------+------------+----------------+--------------+--------------------+--------+------+\n",
      "|   txn_id|last_modified_date|last_modified_date_bs|created_date|amount|status|module_id|product_id|product_type_id|payer_account_id|receiver_account_id|reward_point|cash_back_amount|revenue_amount|transactor_module_id|    time|months|\n",
      "+---------+------------------+---------------------+------------+------+------+---------+----------+---------------+----------------+-------------------+------------+----------------+--------------+--------------------+--------+------+\n",
      "|660612529|        2023-03-29|           2079-12-15|  2022-11-23|  50.0|     1|        1|        77|             29|             531|                  2|         0.0|             0.0|           0.0|                   4|14:07:40|     3|\n",
      "|666435422|        2022-12-01|           2079-08-15|  2022-12-01| 750.0|     1|        1|        76|             29|             531|                 81|         0.0|             0.0|         33.75|                   4|00:03:41|    12|\n",
      "|666436001|        2022-12-01|           2079-08-15|  2022-12-01|  50.0|     1|        1|        77|             29|             531|                  2|         0.0|            1.38|           0.0|                   4|00:06:20|    12|\n",
      "|666436068|        2022-12-01|           2079-08-15|  2022-12-01|  50.0|     1|        1|        77|             29|             531|                647|         0.0|            1.38|           0.0|                   4|00:06:32|    12|\n",
      "|666437220|        2022-12-01|           2079-08-15|  2022-12-01| 100.0|     1|        1|        30|             29|             531|                907|         0.0|             3.9|           0.0|                   4|00:12:51|    12|\n",
      "|666437223|        2022-12-01|           2079-08-15|  2022-12-01| 100.0|     1|        1|        30|             29|             531|                176|         0.0|             3.9|           0.0|                   4|00:12:53|    12|\n",
      "|666437680|        2022-12-01|           2079-08-15|  2022-12-01|  20.0|     1|        1|        30|             29|             531|                907|         0.0|            0.78|           0.0|                   4|00:15:41|    12|\n",
      "|666437778|        2022-12-01|           2079-08-15|  2022-12-01| 100.0|     1|        1|        77|             29|             531|                647|         0.0|            2.75|           0.0|                   4|00:15:57|    12|\n",
      "|666437926|        2022-12-01|           2079-08-15|  2022-12-01|  50.0|     1|        1|        77|             29|             531|                646|         0.0|            1.38|           0.0|                   4|00:16:27|    12|\n",
      "|666439438|        2022-12-01|           2079-08-15|  2022-12-01|  50.0|     1|        1|        30|             29|             531|                645|         0.0|            1.95|           0.0|                   4|00:26:19|    12|\n",
      "|666439850|        2022-12-01|           2079-08-15|  2022-12-01| 100.0|     1|        1|        30|             29|             531|                176|         0.0|             3.9|           0.0|                   4|00:29:30|    12|\n",
      "|666439879|        2022-12-01|           2079-08-15|  2022-12-01|  40.0|     1|        1|        77|             29|             531|                  2|         0.0|             1.1|           0.0|                   4|00:29:48|    12|\n",
      "|666440082|        2022-12-01|           2079-08-15|  2022-12-01| 100.0|     1|        1|        77|             29|             531|                647|         0.0|            2.75|           0.0|                   4|00:30:40|    12|\n",
      "|666441056|        2022-12-01|           2079-08-15|  2022-12-01|  10.0|     1|        1|        30|             29|             531|                176|         0.0|            0.39|           0.0|                   4|00:36:28|    12|\n",
      "|666442645|        2022-12-01|           2079-08-15|  2022-12-01| 130.0|     1|        1|        77|             29|             531|                  2|         0.0|            3.58|           0.0|                   4|00:47:22|    12|\n",
      "|666444385|        2022-12-01|           2079-08-15|  2022-12-01| 200.0|     1|        1|        77|             29|             531|                646|         0.0|             5.5|           0.0|                   4|01:00:40|    12|\n",
      "|666445467|        2022-12-01|           2079-08-15|  2022-12-01| 100.0|     1|        1|        77|             29|             531|                  2|         0.0|            2.75|           0.0|                   4|01:08:46|    12|\n",
      "|666445684|        2022-12-01|           2079-08-15|  2022-12-01|  20.0|     1|        1|        77|             29|             531|                647|         0.0|            0.55|           0.0|                   4|01:11:02|    12|\n",
      "|666446097|        2022-12-01|           2079-08-15|  2022-12-01| 600.0|     1|        1|        77|             29|             531|                646|         0.0|            16.5|           0.0|                   4|01:14:58|    12|\n",
      "|666446622|        2022-12-01|           2079-08-15|  2022-12-01|  10.0|     1|        1|        30|             29|             531|                645|         0.0|            0.39|           0.0|                   4|01:20:07|    12|\n",
      "+---------+------------------+---------------------+------------+------+------+---------+----------+---------------+----------------+-------------------+------------+----------------+--------------+--------------------+--------+------+\n",
      "only showing top 20 rows\n",
      "\n"
     ]
    }
   ],
   "execution_count": 10
  },
  {
   "metadata": {
    "ExecuteTime": {
     "end_time": "2024-06-03T10:30:04.850435Z",
     "start_time": "2024-06-03T10:30:03.289202Z"
    }
   },
   "cell_type": "code",
   "source": "rw_transaction_data.select(\"payer_account_id\").distinct().show()",
   "id": "7b3c1b88a6a5e7df",
   "outputs": [
    {
     "name": "stdout",
     "output_type": "stream",
     "text": [
      "+----------------+\n",
      "|payer_account_id|\n",
      "+----------------+\n",
      "|             471|\n",
      "|              34|\n",
      "|              26|\n",
      "|            1056|\n",
      "|             222|\n",
      "|             531|\n",
      "|              56|\n",
      "+----------------+\n",
      "\n"
     ]
    }
   ],
   "execution_count": 11
  },
  {
   "metadata": {
    "ExecuteTime": {
     "end_time": "2024-06-03T10:30:04.944186Z",
     "start_time": "2024-06-03T10:30:04.850435Z"
    }
   },
   "cell_type": "code",
   "source": "joined = rw_transaction_data.join(product_category_map,['product_id', 'product_type_id','module_id'])",
   "id": "5517200465a08e7f",
   "outputs": [],
   "execution_count": 12
  },
  {
   "metadata": {
    "ExecuteTime": {
     "end_time": "2024-06-03T10:30:07.120921Z",
     "start_time": "2024-06-03T10:30:04.944186Z"
    }
   },
   "cell_type": "code",
   "source": "joined.show()",
   "id": "6612d82348dfd0a9",
   "outputs": [
    {
     "name": "stdout",
     "output_type": "stream",
     "text": [
      "+----------+---------------+---------+---------+------------------+---------------------+------------+------+------+----------------+-------------------+------------+----------------+--------------+--------------------+--------+------+--------------------+-------------------+-----------+\n",
      "|product_id|product_type_id|module_id|   txn_id|last_modified_date|last_modified_date_bs|created_date|amount|status|payer_account_id|receiver_account_id|reward_point|cash_back_amount|revenue_amount|transactor_module_id|    time|months|        product_name|product_category_id|   txn_flow|\n",
      "+----------+---------------+---------+---------+------------------+---------------------+------------+------+------+----------------+-------------------+------------+----------------+--------------+--------------------+--------+------+--------------------+-------------------+-----------+\n",
      "|       143|             59|        1|693893736|        2023-01-06|           2079-09-22|  2023-01-06| 175.0|     1|             531|                466|         0.0|             0.0|           0.0|                   4|11:20:32|     1|Gunjanagar Khanepani|                 17|Value Chain|\n",
      "|       172|             59|        1|690303878|        2023-01-01|           2079-09-17|  2023-01-01| 130.0|     1|             531|                589|         0.0|             0.0|           0.0|                   4|15:48:36|     1|Namuna Shivanagar...|                 17|Value Chain|\n",
      "|       172|             59|        1|693469431|        2023-01-05|           2079-09-21|  2023-01-05| 297.0|     1|             531|                589|         0.0|             0.0|           0.0|                   4|17:14:06|     1|Namuna Shivanagar...|                 17|Value Chain|\n",
      "|        95|             59|        1|693421752|        2023-01-05|           2079-09-21|  2023-01-05| 204.0|     1|             531|                234|         0.0|             0.0|           0.0|                   4|16:27:25|     1|  Dadhikot Khanepani|                 17|Value Chain|\n",
      "|       252|             92|        1|690193263|        2023-01-01|           2079-09-17|  2023-01-01|1500.0|     1|              34|                933|         0.0|             0.0|           5.0|                   4|13:50:25|     1|RBB Revenue TSA A...|               NULL|Value Chain|\n",
      "|       311|             59|        1|691561452|        2023-01-03|           2079-09-19|  2023-01-03|1361.0|     1|             531|               1132|         0.0|             0.0|           0.0|                   4|10:34:38|     1|  Godawari Khanepani|                 17|Value Chain|\n",
      "|       252|             92|        1|692397853|        2023-01-04|           2079-09-20|  2023-01-04|1000.0|     1|              34|                933|         0.0|             0.0|           5.0|                   4|11:53:12|     1|RBB Revenue TSA A...|               NULL|Value Chain|\n",
      "|       252|             92|        1|692860040|        2023-01-04|           2079-09-20|  2023-01-04|1000.0|     1|              34|                933|         0.0|             0.0|           5.0|                   4|19:40:02|     1|RBB Revenue TSA A...|               NULL|Value Chain|\n",
      "|       252|             92|        1|693094863|        2023-01-05|           2079-09-21|  2023-01-05|1000.0|     1|              34|                933|         0.0|             0.0|           5.0|                   4|10:43:02|     1|RBB Revenue TSA A...|               NULL|Value Chain|\n",
      "|       252|             92|        1|693332113|        2023-01-05|           2079-09-21|  2023-01-05|1500.0|     1|              34|                933|         0.0|             0.0|           5.0|                   4|14:59:16|     1|RBB Revenue TSA A...|               NULL|Value Chain|\n",
      "|       323|             59|        1|692604861|        2023-01-04|           2079-09-20|  2023-01-04| 220.0|     1|             531|               1187|         0.0|             0.0|           0.0|                   4|15:36:44|     1|   Sipadol Khanepani|                 17|Value Chain|\n",
      "|        91|             80|        1|690533642|        2023-01-01|           2079-09-17|  2023-01-01|1240.0|     1|              26|               1270|         0.0|             0.0|           0.0|                   4|19:15:53|     1|             Cash In|                 90|    OutFlow|\n",
      "|        91|             80|        1|690533642|        2023-01-01|           2079-09-17|  2023-01-01|1240.0|     1|              26|               1270|         0.0|             0.0|           0.0|                   4|19:15:53|     1|             Cash In|                 90|     InFlow|\n",
      "|        91|             80|        1|691521005|        2023-01-03|           2079-09-19|  2023-01-03|2970.0|     1|              34|                724|         0.0|             0.0|           0.0|                   4|09:43:06|     1|             Cash In|                 90|    OutFlow|\n",
      "|        91|             80|        1|691521005|        2023-01-03|           2079-09-19|  2023-01-03|2970.0|     1|              34|                724|         0.0|             0.0|           0.0|                   4|09:43:06|     1|             Cash In|                 90|     InFlow|\n",
      "|        91|             80|        1|692241677|        2023-01-04|           2079-09-20|  2023-01-04|1000.0|     1|              34|               1071|         0.0|             0.0|           0.0|                   4|08:27:15|     1|             Cash In|                 90|    OutFlow|\n",
      "|        91|             80|        1|692241677|        2023-01-04|           2079-09-20|  2023-01-04|1000.0|     1|              34|               1071|         0.0|             0.0|           0.0|                   4|08:27:15|     1|             Cash In|                 90|     InFlow|\n",
      "|        91|             80|        1|692721067|        2023-01-04|           2079-09-20|  2023-01-04| 280.0|     1|              26|               1300|         0.0|             0.0|           0.0|                   4|17:27:13|     1|             Cash In|                 90|    OutFlow|\n",
      "|        91|             80|        1|692721067|        2023-01-04|           2079-09-20|  2023-01-04| 280.0|     1|              26|               1300|         0.0|             0.0|           0.0|                   4|17:27:13|     1|             Cash In|                 90|     InFlow|\n",
      "|        91|             80|        1|692825377|        2023-01-04|           2079-09-20|  2023-01-04| 200.0|     1|              26|                719|         0.0|             0.0|           0.0|                   4|19:02:53|     1|             Cash In|                 90|    OutFlow|\n",
      "+----------+---------------+---------+---------+------------------+---------------------+------------+------+------+----------------+-------------------+------------+----------------+--------------+--------------------+--------+------+--------------------+-------------------+-----------+\n",
      "only showing top 20 rows\n",
      "\n"
     ]
    }
   ],
   "execution_count": 13
  },
  {
   "metadata": {
    "ExecuteTime": {
     "end_time": "2024-06-03T10:30:09.426831Z",
     "start_time": "2024-06-03T10:30:07.120921Z"
    }
   },
   "cell_type": "code",
   "source": "joined_total = joined.groupBy([\"payer_account_id\",\"months\"]).pivot(\"txn_flow\").sum(\"amount\").fillna(0)",
   "id": "d513a1a86456e40",
   "outputs": [],
   "execution_count": 14
  },
  {
   "metadata": {
    "ExecuteTime": {
     "end_time": "2024-06-03T10:30:12.433566Z",
     "start_time": "2024-06-03T10:30:09.426831Z"
    }
   },
   "cell_type": "code",
   "source": "joined_total.show()",
   "id": "c1a88973bc81e75f",
   "outputs": [
    {
     "name": "stdout",
     "output_type": "stream",
     "text": [
      "+----------------+------+---------+---------+-----------+\n",
      "|payer_account_id|months|   InFlow|  OutFlow|Value Chain|\n",
      "+----------------+------+---------+---------+-----------+\n",
      "|             471|     1|    700.0|    700.0|    18850.0|\n",
      "|              34|    12|  83200.0|  88200.0|     4351.0|\n",
      "|              26|    12|      0.0|      0.0|      460.0|\n",
      "|              26|     1|  34340.0|  51340.0|    18011.0|\n",
      "|             222|    12|      0.0|      0.0|      270.0|\n",
      "|            1056|    12|      0.0|      0.0|      400.0|\n",
      "|             471|    12|      0.0|      0.0|     3048.0|\n",
      "|             222|     1|      0.0|      0.0|      240.0|\n",
      "|             531|    12|      0.0|      0.0|   600054.0|\n",
      "|              34|     1|2133150.0|2396770.0|   246737.0|\n",
      "|              56|    12|   9725.0|  12125.0|    18301.0|\n",
      "|             531|     1|      0.0|      0.0|  1275093.0|\n",
      "|             531|     3|      0.0|      0.0|      100.0|\n",
      "|              56|     1|  15750.0| 135750.0|    68204.0|\n",
      "+----------------+------+---------+---------+-----------+\n",
      "\n"
     ]
    }
   ],
   "execution_count": 15
  },
  {
   "metadata": {
    "ExecuteTime": {
     "end_time": "2024-06-03T10:30:13.286134Z",
     "start_time": "2024-06-03T10:30:12.433566Z"
    }
   },
   "cell_type": "code",
   "source": "joined_count = joined.groupBy([\"payer_account_id\",\"months\"]).pivot(\"txn_flow\").count().fillna(0)",
   "id": "c283f904b8f0031b",
   "outputs": [],
   "execution_count": 16
  },
  {
   "metadata": {
    "ExecuteTime": {
     "end_time": "2024-06-03T10:30:14.077297Z",
     "start_time": "2024-06-03T10:30:13.286134Z"
    }
   },
   "cell_type": "code",
   "source": "joined_count.show()",
   "id": "b2a58d6654e99e16",
   "outputs": [
    {
     "name": "stdout",
     "output_type": "stream",
     "text": [
      "+----------------+------+------+-------+-----------+\n",
      "|payer_account_id|months|InFlow|OutFlow|Value Chain|\n",
      "+----------------+------+------+-------+-----------+\n",
      "|             471|     1|     2|      2|         96|\n",
      "|              34|    12|     5|      6|          6|\n",
      "|              26|    12|     0|      0|         11|\n",
      "|              26|     1|    12|     15|         42|\n",
      "|             222|    12|     0|      0|          2|\n",
      "|            1056|    12|     0|      0|          2|\n",
      "|             471|    12|     0|      0|         20|\n",
      "|             222|     1|     0|      0|          2|\n",
      "|             531|    12|     0|      0|       3836|\n",
      "|              34|     1|   121|    137|         74|\n",
      "|              56|    12|     3|      4|         40|\n",
      "|             531|     1|     0|      0|       6157|\n",
      "|             531|     3|     0|      0|          2|\n",
      "|              56|     1|    12|     18|        153|\n",
      "+----------------+------+------+-------+-----------+\n",
      "\n"
     ]
    }
   ],
   "execution_count": 17
  },
  {
   "metadata": {
    "ExecuteTime": {
     "end_time": "2024-06-03T10:30:14.124170Z",
     "start_time": "2024-06-03T10:30:14.077297Z"
    }
   },
   "cell_type": "code",
   "source": "total_count = joined_count.groupBy(\"payer_account_id\").agg(sum(\"InFlow\").alias(\"TotalCountInflow\"),sum(\"Outflow\").alias(\"TotalCountOutflow\"),sum(\"Value Chain\").alias(\"TotalCountValueChain\"))",
   "id": "8ab9202fd0f27834",
   "outputs": [],
   "execution_count": 18
  },
  {
   "metadata": {
    "ExecuteTime": {
     "end_time": "2024-06-03T10:30:14.171655Z",
     "start_time": "2024-06-03T10:30:14.124731Z"
    }
   },
   "cell_type": "code",
   "source": "total_amount = joined_total.groupBy(\"payer_account_id\").agg(sum(\"InFlow\").alias(\"TotalAmtInflow\"),sum(\"Outflow\").alias(\"TotalAmtOutflow\"),sum(\"Value Chain\").alias(\"TotalAmtValueChain\"))",
   "id": "d4eea0823d4d8b00",
   "outputs": [],
   "execution_count": 19
  },
  {
   "metadata": {
    "ExecuteTime": {
     "end_time": "2024-06-03T10:30:15.375285Z",
     "start_time": "2024-06-03T10:30:14.171655Z"
    }
   },
   "cell_type": "code",
   "source": "total_amount.show()",
   "id": "7236db71ed15ca12",
   "outputs": [
    {
     "name": "stdout",
     "output_type": "stream",
     "text": [
      "+----------------+--------------+---------------+------------------+\n",
      "|payer_account_id|TotalAmtInflow|TotalAmtOutflow|TotalAmtValueChain|\n",
      "+----------------+--------------+---------------+------------------+\n",
      "|             471|         700.0|          700.0|           21898.0|\n",
      "|              34|     2216350.0|      2484970.0|          251088.0|\n",
      "|              26|       34340.0|        51340.0|           18471.0|\n",
      "|            1056|           0.0|            0.0|             400.0|\n",
      "|             222|           0.0|            0.0|             510.0|\n",
      "|             531|           0.0|            0.0|         1875247.0|\n",
      "|              56|       25475.0|       147875.0|           86505.0|\n",
      "+----------------+--------------+---------------+------------------+\n",
      "\n"
     ]
    }
   ],
   "execution_count": 20
  },
  {
   "metadata": {
    "ExecuteTime": {
     "end_time": "2024-06-03T10:30:15.454103Z",
     "start_time": "2024-06-03T10:30:15.375285Z"
    }
   },
   "cell_type": "code",
   "source": "avg_count = joined_count.groupBy(\"payer_account_id\").agg(avg(\"InFlow\").alias(\"AvgCountInflow\"),avg(\"Outflow\").alias(\"AvgCountOutflow\"),avg(\"Value Chain\").alias(\"AvgCountValueChain\"))",
   "id": "1ff8027092d6124c",
   "outputs": [],
   "execution_count": 21
  },
  {
   "metadata": {
    "ExecuteTime": {
     "end_time": "2024-06-03T10:30:16.773433Z",
     "start_time": "2024-06-03T10:30:15.454103Z"
    }
   },
   "cell_type": "code",
   "source": "avg_count.show()",
   "id": "34923ab72975a042",
   "outputs": [
    {
     "name": "stdout",
     "output_type": "stream",
     "text": [
      "+----------------+--------------+---------------+------------------+\n",
      "|payer_account_id|AvgCountInflow|AvgCountOutflow|AvgCountValueChain|\n",
      "+----------------+--------------+---------------+------------------+\n",
      "|             471|           1.0|            1.0|              58.0|\n",
      "|              34|          63.0|           71.5|              40.0|\n",
      "|              26|           6.0|            7.5|              26.5|\n",
      "|            1056|           0.0|            0.0|               2.0|\n",
      "|             222|           0.0|            0.0|               2.0|\n",
      "|             531|           0.0|            0.0|3331.6666666666665|\n",
      "|              56|           7.5|           11.0|              96.5|\n",
      "+----------------+--------------+---------------+------------------+\n",
      "\n"
     ]
    }
   ],
   "execution_count": 22
  },
  {
   "metadata": {
    "ExecuteTime": {
     "end_time": "2024-06-03T10:30:16.867172Z",
     "start_time": "2024-06-03T10:30:16.773433Z"
    }
   },
   "cell_type": "code",
   "source": "avg_total = joined_total.groupBy(\"payer_account_id\").agg(avg(\"InFlow\").alias(\"AvgAmtInflow\"),avg(\"Outflow\").alias(\"AvgAmtOutflow\"),avg(\"Value Chain\").alias(\"AvgAmtValueChain\"))",
   "id": "dfb653925a7aa8f7",
   "outputs": [],
   "execution_count": 23
  },
  {
   "metadata": {
    "ExecuteTime": {
     "end_time": "2024-06-03T10:30:18.154605Z",
     "start_time": "2024-06-03T10:30:16.867172Z"
    }
   },
   "cell_type": "code",
   "source": "avg_total.show()",
   "id": "4370a0c1aaf6a852",
   "outputs": [
    {
     "name": "stdout",
     "output_type": "stream",
     "text": [
      "+----------------+------------+-------------+-----------------+\n",
      "|payer_account_id|AvgAmtInflow|AvgAmtOutflow| AvgAmtValueChain|\n",
      "+----------------+------------+-------------+-----------------+\n",
      "|             471|       350.0|        350.0|          10949.0|\n",
      "|              34|   1108175.0|    1242485.0|         125544.0|\n",
      "|              26|     17170.0|      25670.0|           9235.5|\n",
      "|            1056|         0.0|          0.0|            400.0|\n",
      "|             222|         0.0|          0.0|            255.0|\n",
      "|             531|         0.0|          0.0|625082.3333333334|\n",
      "|              56|     12737.5|      73937.5|          43252.5|\n",
      "+----------------+------------+-------------+-----------------+\n",
      "\n"
     ]
    }
   ],
   "execution_count": 24
  },
  {
   "metadata": {
    "ExecuteTime": {
     "end_time": "2024-06-03T10:30:18.192991Z",
     "start_time": "2024-06-03T10:30:18.154605Z"
    }
   },
   "cell_type": "code",
   "source": "reward_point = joined.groupBy(\"payer_account_id\").agg(sum(\"reward_point\").alias(\"TotalRewardPoint\"))",
   "id": "4b3d822b0a4d4615",
   "outputs": [],
   "execution_count": 25
  },
  {
   "metadata": {
    "ExecuteTime": {
     "end_time": "2024-06-03T10:30:18.886631Z",
     "start_time": "2024-06-03T10:30:18.194991Z"
    }
   },
   "cell_type": "code",
   "source": "reward_point.show()",
   "id": "98defde2d73951f",
   "outputs": [
    {
     "name": "stdout",
     "output_type": "stream",
     "text": [
      "+----------------+----------------+\n",
      "|payer_account_id|TotalRewardPoint|\n",
      "+----------------+----------------+\n",
      "|             471|            14.0|\n",
      "|              34|            68.0|\n",
      "|              26|             0.0|\n",
      "|            1056|             8.0|\n",
      "|             222|             0.0|\n",
      "|             531|             0.0|\n",
      "|              56|            39.0|\n",
      "+----------------+----------------+\n",
      "\n"
     ]
    }
   ],
   "execution_count": 26
  },
  {
   "metadata": {
    "ExecuteTime": {
     "end_time": "2024-06-03T10:30:18.995920Z",
     "start_time": "2024-06-03T10:30:18.917833Z"
    }
   },
   "cell_type": "code",
   "source": "joined = joined.withColumn(\"Date\", concat_ws(\" \", col(\"last_modified_date\"), col(\"time\")))",
   "id": "61f965e00ada354a",
   "outputs": [],
   "execution_count": 27
  },
  {
   "metadata": {
    "ExecuteTime": {
     "end_time": "2024-06-03T10:30:19.931160Z",
     "start_time": "2024-06-03T10:30:18.995920Z"
    }
   },
   "cell_type": "code",
   "source": "joined.show()",
   "id": "b9d8920b7b66acc3",
   "outputs": [
    {
     "name": "stdout",
     "output_type": "stream",
     "text": [
      "+----------+---------------+---------+---------+------------------+---------------------+------------+------+------+----------------+-------------------+------------+----------------+--------------+--------------------+--------+------+--------------------+-------------------+-----------+-------------------+\n",
      "|product_id|product_type_id|module_id|   txn_id|last_modified_date|last_modified_date_bs|created_date|amount|status|payer_account_id|receiver_account_id|reward_point|cash_back_amount|revenue_amount|transactor_module_id|    time|months|        product_name|product_category_id|   txn_flow|               Date|\n",
      "+----------+---------------+---------+---------+------------------+---------------------+------------+------+------+----------------+-------------------+------------+----------------+--------------+--------------------+--------+------+--------------------+-------------------+-----------+-------------------+\n",
      "|       143|             59|        1|693893736|        2023-01-06|           2079-09-22|  2023-01-06| 175.0|     1|             531|                466|         0.0|             0.0|           0.0|                   4|11:20:32|     1|Gunjanagar Khanepani|                 17|Value Chain|2023-01-06 11:20:32|\n",
      "|       172|             59|        1|690303878|        2023-01-01|           2079-09-17|  2023-01-01| 130.0|     1|             531|                589|         0.0|             0.0|           0.0|                   4|15:48:36|     1|Namuna Shivanagar...|                 17|Value Chain|2023-01-01 15:48:36|\n",
      "|       172|             59|        1|693469431|        2023-01-05|           2079-09-21|  2023-01-05| 297.0|     1|             531|                589|         0.0|             0.0|           0.0|                   4|17:14:06|     1|Namuna Shivanagar...|                 17|Value Chain|2023-01-05 17:14:06|\n",
      "|        95|             59|        1|693421752|        2023-01-05|           2079-09-21|  2023-01-05| 204.0|     1|             531|                234|         0.0|             0.0|           0.0|                   4|16:27:25|     1|  Dadhikot Khanepani|                 17|Value Chain|2023-01-05 16:27:25|\n",
      "|       252|             92|        1|690193263|        2023-01-01|           2079-09-17|  2023-01-01|1500.0|     1|              34|                933|         0.0|             0.0|           5.0|                   4|13:50:25|     1|RBB Revenue TSA A...|               NULL|Value Chain|2023-01-01 13:50:25|\n",
      "|       311|             59|        1|691561452|        2023-01-03|           2079-09-19|  2023-01-03|1361.0|     1|             531|               1132|         0.0|             0.0|           0.0|                   4|10:34:38|     1|  Godawari Khanepani|                 17|Value Chain|2023-01-03 10:34:38|\n",
      "|       252|             92|        1|692397853|        2023-01-04|           2079-09-20|  2023-01-04|1000.0|     1|              34|                933|         0.0|             0.0|           5.0|                   4|11:53:12|     1|RBB Revenue TSA A...|               NULL|Value Chain|2023-01-04 11:53:12|\n",
      "|       252|             92|        1|692860040|        2023-01-04|           2079-09-20|  2023-01-04|1000.0|     1|              34|                933|         0.0|             0.0|           5.0|                   4|19:40:02|     1|RBB Revenue TSA A...|               NULL|Value Chain|2023-01-04 19:40:02|\n",
      "|       252|             92|        1|693094863|        2023-01-05|           2079-09-21|  2023-01-05|1000.0|     1|              34|                933|         0.0|             0.0|           5.0|                   4|10:43:02|     1|RBB Revenue TSA A...|               NULL|Value Chain|2023-01-05 10:43:02|\n",
      "|       252|             92|        1|693332113|        2023-01-05|           2079-09-21|  2023-01-05|1500.0|     1|              34|                933|         0.0|             0.0|           5.0|                   4|14:59:16|     1|RBB Revenue TSA A...|               NULL|Value Chain|2023-01-05 14:59:16|\n",
      "|       323|             59|        1|692604861|        2023-01-04|           2079-09-20|  2023-01-04| 220.0|     1|             531|               1187|         0.0|             0.0|           0.0|                   4|15:36:44|     1|   Sipadol Khanepani|                 17|Value Chain|2023-01-04 15:36:44|\n",
      "|        91|             80|        1|690533642|        2023-01-01|           2079-09-17|  2023-01-01|1240.0|     1|              26|               1270|         0.0|             0.0|           0.0|                   4|19:15:53|     1|             Cash In|                 90|    OutFlow|2023-01-01 19:15:53|\n",
      "|        91|             80|        1|690533642|        2023-01-01|           2079-09-17|  2023-01-01|1240.0|     1|              26|               1270|         0.0|             0.0|           0.0|                   4|19:15:53|     1|             Cash In|                 90|     InFlow|2023-01-01 19:15:53|\n",
      "|        91|             80|        1|691521005|        2023-01-03|           2079-09-19|  2023-01-03|2970.0|     1|              34|                724|         0.0|             0.0|           0.0|                   4|09:43:06|     1|             Cash In|                 90|    OutFlow|2023-01-03 09:43:06|\n",
      "|        91|             80|        1|691521005|        2023-01-03|           2079-09-19|  2023-01-03|2970.0|     1|              34|                724|         0.0|             0.0|           0.0|                   4|09:43:06|     1|             Cash In|                 90|     InFlow|2023-01-03 09:43:06|\n",
      "|        91|             80|        1|692241677|        2023-01-04|           2079-09-20|  2023-01-04|1000.0|     1|              34|               1071|         0.0|             0.0|           0.0|                   4|08:27:15|     1|             Cash In|                 90|    OutFlow|2023-01-04 08:27:15|\n",
      "|        91|             80|        1|692241677|        2023-01-04|           2079-09-20|  2023-01-04|1000.0|     1|              34|               1071|         0.0|             0.0|           0.0|                   4|08:27:15|     1|             Cash In|                 90|     InFlow|2023-01-04 08:27:15|\n",
      "|        91|             80|        1|692721067|        2023-01-04|           2079-09-20|  2023-01-04| 280.0|     1|              26|               1300|         0.0|             0.0|           0.0|                   4|17:27:13|     1|             Cash In|                 90|    OutFlow|2023-01-04 17:27:13|\n",
      "|        91|             80|        1|692721067|        2023-01-04|           2079-09-20|  2023-01-04| 280.0|     1|              26|               1300|         0.0|             0.0|           0.0|                   4|17:27:13|     1|             Cash In|                 90|     InFlow|2023-01-04 17:27:13|\n",
      "|        91|             80|        1|692825377|        2023-01-04|           2079-09-20|  2023-01-04| 200.0|     1|              26|                719|         0.0|             0.0|           0.0|                   4|19:02:53|     1|             Cash In|                 90|    OutFlow|2023-01-04 19:02:53|\n",
      "+----------+---------------+---------+---------+------------------+---------------------+------------+------+------+----------------+-------------------+------------+----------------+--------------+--------------------+--------+------+--------------------+-------------------+-----------+-------------------+\n",
      "only showing top 20 rows\n",
      "\n"
     ]
    }
   ],
   "execution_count": 28
  },
  {
   "metadata": {
    "ExecuteTime": {
     "end_time": "2024-06-03T10:30:19.965598Z",
     "start_time": "2024-06-03T10:30:19.934338Z"
    }
   },
   "cell_type": "code",
   "source": "joined = joined.withColumn(\"Date\", to_timestamp(col(\"Date\"), \"yyyy-MM-dd HH:mm:ss\"))",
   "id": "c9259788cb42596d",
   "outputs": [],
   "execution_count": 29
  },
  {
   "metadata": {
    "ExecuteTime": {
     "end_time": "2024-06-03T10:30:19.981223Z",
     "start_time": "2024-06-03T10:30:19.965598Z"
    }
   },
   "cell_type": "code",
   "source": "",
   "id": "8f0d1d27a78748fd",
   "outputs": [],
   "execution_count": 29
  },
  {
   "metadata": {
    "ExecuteTime": {
     "end_time": "2024-06-03T10:30:19.996845Z",
     "start_time": "2024-06-03T10:30:19.981223Z"
    }
   },
   "cell_type": "code",
   "source": "# joined.show()",
   "id": "1d15df8d99a1b9d6",
   "outputs": [],
   "execution_count": 30
  },
  {
   "metadata": {
    "ExecuteTime": {
     "end_time": "2024-06-03T10:30:20.043728Z",
     "start_time": "2024-06-03T10:30:19.996845Z"
    }
   },
   "cell_type": "code",
   "source": "last_transaction = joined.groupBy(\"payer_account_id\").agg(max(\"Date\").alias(\"Latest_Transaction_Date\"))",
   "id": "c1ec83132cd46ce4",
   "outputs": [],
   "execution_count": 31
  },
  {
   "metadata": {
    "ExecuteTime": {
     "end_time": "2024-06-03T10:30:20.074971Z",
     "start_time": "2024-06-03T10:30:20.043728Z"
    }
   },
   "cell_type": "code",
   "source": "joined_alias = joined.alias(\"joined\")",
   "id": "f3f7649055909067",
   "outputs": [],
   "execution_count": 32
  },
  {
   "metadata": {
    "ExecuteTime": {
     "end_time": "2024-06-03T10:30:20.157284Z",
     "start_time": "2024-06-03T10:30:20.074971Z"
    }
   },
   "cell_type": "code",
   "source": [
    "joined_and_last = joined_alias.join(\n",
    "    last_transaction,\n",
    "    last_transaction[\"Latest_Transaction_Date\"] == joined_alias[\"Date\"],how=\"semi\"\n",
    ").select(joined_alias[\"payer_account_id\"],joined_alias[\"Date\"].alias(\"Latest_Transaction_Date\"),joined_alias[\"product_name\"].alias(\"latest_Product\"))\n",
    "joined_and_last = joined_and_last.dropDuplicates(['payer_account_id'])"
   ],
   "id": "8e74a4f1f2f374f0",
   "outputs": [],
   "execution_count": 33
  },
  {
   "metadata": {
    "ExecuteTime": {
     "end_time": "2024-06-03T10:30:22.441199Z",
     "start_time": "2024-06-03T10:30:20.157284Z"
    }
   },
   "cell_type": "code",
   "source": "joined_and_last.show()",
   "id": "b52cf39e4c5e2834",
   "outputs": [
    {
     "name": "stdout",
     "output_type": "stream",
     "text": [
      "+----------------+-----------------------+--------------------+\n",
      "|payer_account_id|Latest_Transaction_Date|      latest_Product|\n",
      "+----------------+-----------------------+--------------------+\n",
      "|              26|    2023-01-06 11:13:47|    NT Prepaid Topup|\n",
      "|              34|    2023-01-06 11:34:40|         Electricity|\n",
      "|              56|    2023-01-06 11:36:30|         Electricity|\n",
      "|             222|    2023-01-01 09:39:35|         Ncell Topup|\n",
      "|             471|    2023-01-06 11:17:50|    NT Prepaid Topup|\n",
      "|             531|    2023-03-29 14:07:40|Ncell Topup via Bank|\n",
      "|            1056|    2022-12-01 21:04:02|    NT Prepaid Topup|\n",
      "+----------------+-----------------------+--------------------+\n",
      "\n"
     ]
    }
   ],
   "execution_count": 34
  },
  {
   "metadata": {
    "ExecuteTime": {
     "end_time": "2024-06-03T10:30:22.492574Z",
     "start_time": "2024-06-03T10:30:22.443199Z"
    }
   },
   "cell_type": "code",
   "source": "rev_amt = joined.groupBy(\"payer_account_id\",\"months\").agg(sum(\"revenue_amount\").alias(\"rev_amt\"))                                                         ",
   "id": "59b307684431d582",
   "outputs": [],
   "execution_count": 35
  },
  {
   "metadata": {
    "ExecuteTime": {
     "end_time": "2024-06-03T10:30:23.788636Z",
     "start_time": "2024-06-03T10:30:22.492574Z"
    }
   },
   "cell_type": "code",
   "source": "rev_amt.show()",
   "id": "f6b4ac114c0f0706",
   "outputs": [
    {
     "name": "stdout",
     "output_type": "stream",
     "text": [
      "+----------------+------+------------------+\n",
      "|payer_account_id|months|           rev_amt|\n",
      "+----------------+------+------------------+\n",
      "|             471|     1|  88.3400000000001|\n",
      "|              34|    12|              17.2|\n",
      "|              26|    12|0.9299999999999993|\n",
      "|              26|     1| 39.92999999999998|\n",
      "|             222|    12|2.0199999999999996|\n",
      "|            1056|    12|              14.0|\n",
      "|             471|    12|11.439999999999998|\n",
      "|             222|     1|1.7999999999999998|\n",
      "|             531|    12|            505.81|\n",
      "|              34|     1|499.23000000000013|\n",
      "|              56|    12|24.999999999999986|\n",
      "|             531|     1|1768.2299999999996|\n",
      "|             531|     3|               0.0|\n",
      "|              56|     1|            177.11|\n",
      "+----------------+------+------------------+\n",
      "\n"
     ]
    }
   ],
   "execution_count": 36
  },
  {
   "metadata": {
    "ExecuteTime": {
     "end_time": "2024-06-03T10:30:23.851139Z",
     "start_time": "2024-06-03T10:30:23.788636Z"
    }
   },
   "cell_type": "code",
   "source": "rev_amt_tot_mean = rev_amt.groupBy(\"payer_account_id\").agg(sum(\"rev_amt\").alias(\"Total_Revenue_Amount\"),mean(\"rev_amt\").alias(\"Monthly_Revenue_Amount\"))",
   "id": "95f2c1cc42128468",
   "outputs": [],
   "execution_count": 37
  },
  {
   "metadata": {
    "ExecuteTime": {
     "end_time": "2024-06-03T10:30:24.940181Z",
     "start_time": "2024-06-03T10:30:23.866762Z"
    }
   },
   "cell_type": "code",
   "source": "rev_amt_tot_mean.show()",
   "id": "177acc5f9183317e",
   "outputs": [
    {
     "name": "stdout",
     "output_type": "stream",
     "text": [
      "+----------------+--------------------+----------------------+\n",
      "|payer_account_id|Total_Revenue_Amount|Monthly_Revenue_Amount|\n",
      "+----------------+--------------------+----------------------+\n",
      "|             471|    99.7800000000001|     49.89000000000005|\n",
      "|              34|   516.4300000000002|     258.2150000000001|\n",
      "|              26|   40.85999999999998|     20.42999999999999|\n",
      "|            1056|                14.0|                  14.0|\n",
      "|             222|  3.8199999999999994|    1.9099999999999997|\n",
      "|             531|  2274.0399999999995|     758.0133333333332|\n",
      "|              56|              202.11|               101.055|\n",
      "+----------------+--------------------+----------------------+\n",
      "\n"
     ]
    }
   ],
   "execution_count": 38
  },
  {
   "metadata": {
    "ExecuteTime": {
     "end_time": "2024-06-03T10:33:20.483532Z",
     "start_time": "2024-06-03T10:33:20.434689Z"
    }
   },
   "cell_type": "code",
   "source": "product_used_count = joined.groupBy(\"payer_account_id\",\"product_name\").count()",
   "id": "d31aafbe7f5a1e8f",
   "outputs": [],
   "execution_count": 40
  },
  {
   "metadata": {
    "ExecuteTime": {
     "end_time": "2024-06-03T10:33:21.932782Z",
     "start_time": "2024-06-03T10:33:20.608534Z"
    }
   },
   "cell_type": "code",
   "source": "product_used_count.show()",
   "id": "76daa165af8a63f2",
   "outputs": [
    {
     "name": "stdout",
     "output_type": "stream",
     "text": [
      "+----------------+--------------------+-----+\n",
      "|payer_account_id|        product_name|count|\n",
      "+----------------+--------------------+-----+\n",
      "|              34|          Send Money|  248|\n",
      "|             531| Budhabare Khanepani|    1|\n",
      "|             531|   Bhaluhi khanepani|    3|\n",
      "|              34|           Prabhu TV|    1|\n",
      "|             531|Khanepani Sanstha...|   21|\n",
      "|             531|    Brihat Khanepani|    7|\n",
      "|              34|Chhimek Laghubitt...|    1|\n",
      "|             531| Besisahar Khanepani|    8|\n",
      "|              56|eSewa to Citizens...|    5|\n",
      "|              56|          Ncell Pack|   16|\n",
      "|             471|          Send Money|    4|\n",
      "|              26|             NT FTTH|    1|\n",
      "|             531|   Katunje Khanepani|    1|\n",
      "|             531| Dhulikhel Khanepani|    1|\n",
      "|              26|      eScrow Service|    2|\n",
      "|             531|Khanepani Sanstha...|   11|\n",
      "|             531|   Surunga Khanepani|    1|\n",
      "|             531|  Godawari Khanepani|    1|\n",
      "|              56|         Electricity|   52|\n",
      "|              34|NT ADSL Topup - U...|    1|\n",
      "+----------------+--------------------+-----+\n",
      "only showing top 20 rows\n",
      "\n"
     ]
    }
   ],
   "execution_count": 41
  },
  {
   "metadata": {
    "ExecuteTime": {
     "end_time": "2024-06-03T10:33:21.995079Z",
     "start_time": "2024-06-03T10:33:21.932782Z"
    }
   },
   "cell_type": "code",
   "source": "window_spec = Window.partitionBy(\"payer_account_id\").orderBy(col(\"count\").desc())",
   "id": "d87cf41b1e70dbb5",
   "outputs": [],
   "execution_count": 42
  },
  {
   "metadata": {
    "ExecuteTime": {
     "end_time": "2024-06-03T10:33:22.035970Z",
     "start_time": "2024-06-03T10:33:21.997080Z"
    }
   },
   "cell_type": "code",
   "source": "data = product_used_count.orderBy(\"payer_account_id\",\"count\",ascending=[0, 0])",
   "id": "4dbe567eddea818e",
   "outputs": [],
   "execution_count": 43
  },
  {
   "metadata": {
    "ExecuteTime": {
     "end_time": "2024-06-03T10:33:22.875113Z",
     "start_time": "2024-06-03T10:33:22.035970Z"
    }
   },
   "cell_type": "code",
   "source": "data.show()",
   "id": "b18a88e11f4b4b37",
   "outputs": [
    {
     "name": "stdout",
     "output_type": "stream",
     "text": [
      "+----------------+--------------------+-----+\n",
      "|payer_account_id|        product_name|count|\n",
      "+----------------+--------------------+-----+\n",
      "|            1056|       Prepaid Topup|    1|\n",
      "|            1056|    NT Prepaid Topup|    1|\n",
      "|             531|   NT Topup via Bank| 6495|\n",
      "|             531|TOPUP VIA BANK DI...| 1361|\n",
      "|             531|Ncell Topup via Bank| 1361|\n",
      "|             531| Ncell Data Via Bank|  172|\n",
      "|             531|Wordlink Topup vi...|   87|\n",
      "|             531| Gaindakot Khanepani|   81|\n",
      "|             531|Shankarnagar Khan...|   28|\n",
      "|             531|  Lekhnath Khanepani|   25|\n",
      "|             531|   Devdaha Khanepani|   25|\n",
      "|             531|  Kawasoti Khanepani|   24|\n",
      "|             531|Khanepani Sanstha...|   21|\n",
      "|             531|Mukundapur Khanepani|   21|\n",
      "|             531|Nepal Telecom Dat...|   20|\n",
      "|             531|Jaluke Water Supp...|   17|\n",
      "|             531|   Itahari Khanepani|   16|\n",
      "|             531|Pragatinagar Khan...|   16|\n",
      "|             531|Karahiya Khanepan...|   15|\n",
      "|             531|Bharatpur Water S...|   15|\n",
      "+----------------+--------------------+-----+\n",
      "only showing top 20 rows\n",
      "\n"
     ]
    }
   ],
   "execution_count": 44
  },
  {
   "metadata": {
    "ExecuteTime": {
     "end_time": "2024-06-03T10:33:22.890741Z",
     "start_time": "2024-06-03T10:33:22.875113Z"
    }
   },
   "cell_type": "code",
   "source": [
    "from pyspark.sql import SparkSession\n",
    "from pyspark.sql.window import Window\n",
    "from pyspark.sql.functions import row_number"
   ],
   "id": "1289ab732c7b7233",
   "outputs": [],
   "execution_count": 45
  },
  {
   "metadata": {
    "ExecuteTime": {
     "end_time": "2024-06-03T10:33:22.943020Z",
     "start_time": "2024-06-03T10:33:22.890741Z"
    }
   },
   "cell_type": "code",
   "source": "datas_count_sorted_with_row_num = data.withColumn(\"row_num\", row_number().over(window_spec))\n",
   "id": "5d81829201e62b64",
   "outputs": [],
   "execution_count": 46
  },
  {
   "metadata": {
    "ExecuteTime": {
     "end_time": "2024-06-03T10:33:24.592852Z",
     "start_time": "2024-06-03T10:33:22.943020Z"
    }
   },
   "cell_type": "code",
   "source": "datas_count_sorted_with_row_num.show()",
   "id": "ccbb5a35ecdff514",
   "outputs": [
    {
     "name": "stdout",
     "output_type": "stream",
     "text": [
      "+----------------+--------------------+-----+-------+\n",
      "|payer_account_id|        product_name|count|row_num|\n",
      "+----------------+--------------------+-----+-------+\n",
      "|              26|    NT Prepaid Topup|   18|      1|\n",
      "|              26|       Prepaid Topup|   18|      2|\n",
      "|              26|          Send Money|   12|      3|\n",
      "|              26|             Cash In|   10|      4|\n",
      "|              26|         Ncell Topup|   10|      5|\n",
      "|              26|      eScrow Service|    2|      6|\n",
      "|              26|     Fonepay Payment|    2|      7|\n",
      "|              26|             NT FTTH|    1|      8|\n",
      "|              26|      Postpaid Topup|    1|      9|\n",
      "|              26|    Smart Cell Topup|    1|     10|\n",
      "|              26|           WorldLink|    1|     11|\n",
      "|              26|eSewa to Mahalaxm...|    1|     12|\n",
      "|              26|eSewa to Laxmi Su...|    1|     13|\n",
      "|              26|   NT Postpaid Topup|    1|     14|\n",
      "|              26|eSewa to Everest ...|    1|     15|\n",
      "|              34|          Send Money|  248|      1|\n",
      "|              34|         Electricity|   21|      2|\n",
      "|              34|    NT Prepaid Topup|   10|      3|\n",
      "|              34|         Ncell Topup|   10|      4|\n",
      "|              34|       Prepaid Topup|   10|      5|\n",
      "+----------------+--------------------+-----+-------+\n",
      "only showing top 20 rows\n",
      "\n"
     ]
    }
   ],
   "execution_count": 47
  },
  {
   "metadata": {
    "ExecuteTime": {
     "end_time": "2024-06-03T10:33:24.686599Z",
     "start_time": "2024-06-03T10:33:24.592852Z"
    }
   },
   "cell_type": "code",
   "source": [
    "most_used_product = datas_count_sorted_with_row_num.filter(col(\"row_num\") == 1).select(\"payer_account_id\", col(\"product_name\").alias(\"most_used_product\"))\n",
    "second_used_product = datas_count_sorted_with_row_num.filter(col(\"row_num\") == 2).select(\"payer_account_id\", col(\"product_name\").alias(\"Second_most_used_product\"))\n",
    "third_used_product = datas_count_sorted_with_row_num.filter(col(\"row_num\") == 3).select(\"payer_account_id\", col(\"product_name\").alias(\"Third_most_used_product\"))\n",
    "product_usage = joined.groupBy(\"payer_account_id\").count()"
   ],
   "id": "206c17ccabcfbfdc",
   "outputs": [],
   "execution_count": 48
  },
  {
   "metadata": {
    "ExecuteTime": {
     "end_time": "2024-06-03T10:33:25.200166Z",
     "start_time": "2024-06-03T10:33:24.686599Z"
    }
   },
   "cell_type": "code",
   "source": "final_table = total_amount.join(avg_total,['payer_account_id'],how=\"left\").join(total_count,['payer_account_id'],how=\"left\").join(avg_count,['payer_account_id'],how=\"left\").join(joined_and_last,['payer_account_id'],how=\"left\").join(rev_amt_tot_mean,['payer_account_id'],how=\"left\").join(product_usage,['payer_account_id'],how=\"left\").join(most_used_product,['payer_account_id'],how=\"left\").join(second_used_product,['payer_account_id'],how=\"left\").join(third_used_product,['payer_account_id'],how=\"left\")",
   "id": "89e6ff0524ccb760",
   "outputs": [],
   "execution_count": 49
  },
  {
   "metadata": {
    "ExecuteTime": {
     "end_time": "2024-06-03T10:33:30.900373Z",
     "start_time": "2024-06-03T10:33:25.200166Z"
    }
   },
   "cell_type": "code",
   "source": "final_table.show()",
   "id": "48c255df9eb397f3",
   "outputs": [
    {
     "name": "stdout",
     "output_type": "stream",
     "text": [
      "+----------------+--------------+---------------+------------------+------------+-------------+-----------------+----------------+-----------------+--------------------+--------------+---------------+------------------+-----------------------+--------------------+--------------------+----------------------+-----+-----------------+------------------------+-----------------------+\n",
      "|payer_account_id|TotalAmtInflow|TotalAmtOutflow|TotalAmtValueChain|AvgAmtInflow|AvgAmtOutflow| AvgAmtValueChain|TotalCountInflow|TotalCountOutflow|TotalCountValueChain|AvgCountInflow|AvgCountOutflow|AvgCountValueChain|Latest_Transaction_Date|      latest_Product|Total_Revenue_Amount|Monthly_Revenue_Amount|count|most_used_product|Second_most_used_product|Third_most_used_product|\n",
      "+----------------+--------------+---------------+------------------+------------+-------------+-----------------+----------------+-----------------+--------------------+--------------+---------------+------------------+-----------------------+--------------------+--------------------+----------------------+-----+-----------------+------------------------+-----------------------+\n",
      "|             471|         700.0|          700.0|           21898.0|       350.0|        350.0|          10949.0|               2|                2|                 116|           1.0|            1.0|              58.0|    2023-01-06 11:17:50|    NT Prepaid Topup|    99.7800000000001|     49.89000000000005|  120|      Ncell Topup|           Prepaid Topup|       NT Prepaid Topup|\n",
      "|              34|     2216350.0|      2484970.0|          251088.0|   1108175.0|    1242485.0|         125544.0|             126|              143|                  80|          63.0|           71.5|              40.0|    2023-01-06 11:34:40|         Electricity|   516.4300000000002|     258.2150000000001|  349|       Send Money|             Electricity|       NT Prepaid Topup|\n",
      "|              26|       34340.0|        51340.0|           18471.0|     17170.0|      25670.0|           9235.5|              12|               15|                  53|           6.0|            7.5|              26.5|    2023-01-06 11:13:47|    NT Prepaid Topup|   40.85999999999998|     20.42999999999999|   80| NT Prepaid Topup|           Prepaid Topup|             Send Money|\n",
      "|            1056|           0.0|            0.0|             400.0|         0.0|          0.0|            400.0|               0|                0|                   2|           0.0|            0.0|               2.0|    2022-12-01 21:04:02|    NT Prepaid Topup|                14.0|                  14.0|    2|    Prepaid Topup|        NT Prepaid Topup|                   NULL|\n",
      "|             222|           0.0|            0.0|             510.0|         0.0|          0.0|            255.0|               0|                0|                   4|           0.0|            0.0|               2.0|    2023-01-01 09:39:35|         Ncell Topup|  3.8199999999999994|    1.9099999999999997|    4|      Ncell Topup|                    NULL|                   NULL|\n",
      "|             531|           0.0|            0.0|         1875247.0|         0.0|          0.0|625082.3333333334|               0|                0|                9995|           0.0|            0.0|3331.6666666666665|    2023-03-29 14:07:40|Ncell Topup via Bank|  2274.0399999999995|     758.0133333333332| 9995|NT Topup via Bank|    TOPUP VIA BANK DI...|   Ncell Topup via Bank|\n",
      "|              56|       25475.0|       147875.0|           86505.0|     12737.5|      73937.5|          43252.5|              15|               22|                 193|           7.5|           11.0|              96.5|    2023-01-06 11:36:30|         Electricity|              202.11|               101.055|  230|      Ncell Topup|             Electricity|             Send Money|\n",
      "+----------------+--------------+---------------+------------------+------------+-------------+-----------------+----------------+-----------------+--------------------+--------------+---------------+------------------+-----------------------+--------------------+--------------------+----------------------+-----+-----------------+------------------------+-----------------------+\n",
      "\n"
     ]
    }
   ],
   "execution_count": 50
  },
  {
   "metadata": {
    "ExecuteTime": {
     "end_time": "2024-06-03T10:33:30.915999Z",
     "start_time": "2024-06-03T10:33:30.900373Z"
    }
   },
   "cell_type": "code",
   "source": "",
   "id": "a79e1454e01e4ada",
   "outputs": [],
   "execution_count": 50
  },
  {
   "metadata": {},
   "cell_type": "code",
   "outputs": [],
   "execution_count": null,
   "source": "",
   "id": "2448803787e7533d"
  }
 ],
 "metadata": {
  "kernelspec": {
   "display_name": "Python 3",
   "language": "python",
   "name": "python3"
  },
  "language_info": {
   "codemirror_mode": {
    "name": "ipython",
    "version": 2
   },
   "file_extension": ".py",
   "mimetype": "text/x-python",
   "name": "python",
   "nbconvert_exporter": "python",
   "pygments_lexer": "ipython2",
   "version": "2.7.6"
  }
 },
 "nbformat": 4,
 "nbformat_minor": 5
}
