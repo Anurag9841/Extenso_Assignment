{
 "nbformat": 4,
 "nbformat_minor": 0,
 "metadata": {
  "colab": {
   "provenance": []
  },
  "kernelspec": {
   "name": "python3",
   "display_name": "Python 3 (ipykernel)",
   "language": "python"
  },
  "language_info": {
   "name": "python"
  }
 },
 "cells": [
  {
   "cell_type": "markdown",
   "source": [
    "### **Importing Necessary Libraries**"
   ],
   "metadata": {
    "id": "i5y9bWBVrsFO"
   }
  },
  {
   "cell_type": "code",
   "source": [
    "import pandas as pd\n",
    "import numpy as np\n",
    "import datetime\n",
    "import math\n",
    "import seaborn as sns\n",
    "import matplotlib.pyplot as plt"
   ],
   "metadata": {
    "id": "kSMoJlMjbT4N",
    "ExecuteTime": {
     "end_time": "2024-07-02T06:50:03.161369Z",
     "start_time": "2024-07-02T06:50:03.138017Z"
    }
   },
   "outputs": [],
   "execution_count": 1
  },
  {
   "cell_type": "markdown",
   "source": [
    "### **Loading Given Data**"
   ],
   "metadata": {
    "id": "1Avoa91Gr53y"
   }
  },
  {
   "metadata": {
    "ExecuteTime": {
     "end_time": "2024-07-02T06:50:03.181272Z",
     "start_time": "2024-07-02T06:50:03.165632Z"
    }
   },
   "cell_type": "code",
   "source": [
    "import warnings \n",
    "warnings.filterwarnings('ignore')"
   ],
   "outputs": [],
   "execution_count": 2
  },
  {
   "cell_type": "code",
   "source": "data = pd.read_csv(\"input_files/esewa_airlines.csv\")",
   "metadata": {
    "id": "yu5qrS7ZbVtp",
    "ExecuteTime": {
     "end_time": "2024-07-02T06:50:04.059081Z",
     "start_time": "2024-07-02T06:50:03.182013Z"
    }
   },
   "outputs": [],
   "execution_count": 3
  },
  {
   "cell_type": "code",
   "source": [
    "data.head()"
   ],
   "metadata": {
    "colab": {
     "base_uri": "https://localhost:8080/",
     "height": 206
    },
    "id": "6oYl29-KbbwO",
    "outputId": "e6bef0c8-1e9d-404c-e38e-884a5778fdad",
    "ExecuteTime": {
     "end_time": "2024-07-02T06:50:04.115356Z",
     "start_time": "2024-07-02T06:50:04.084176Z"
    }
   },
   "outputs": [
    {
     "data": {
      "text/plain": [
       "   Unnamed: 0    account_id last_modified_date travelled_flight_name  \\\n",
       "0           0  1.559470e+19         10/11/2023            BUDDHA AIR   \n",
       "1           1  2.693080e+18         10/11/2023            BUDDHA AIR   \n",
       "2           2  7.494540e+18         10/11/2023        SHREE AIRLINES   \n",
       "3           3  1.493320e+19         10/11/2023            BUDDHA AIR   \n",
       "4           4  1.682070e+19         10/11/2023         YETI AIRLINES   \n",
       "\n",
       "   total_amount  \n",
       "0        6400.0  \n",
       "1        5200.0  \n",
       "2        8800.0  \n",
       "3        9001.0  \n",
       "4       23200.0  "
      ],
      "text/html": [
       "<div>\n",
       "<style scoped>\n",
       "    .dataframe tbody tr th:only-of-type {\n",
       "        vertical-align: middle;\n",
       "    }\n",
       "\n",
       "    .dataframe tbody tr th {\n",
       "        vertical-align: top;\n",
       "    }\n",
       "\n",
       "    .dataframe thead th {\n",
       "        text-align: right;\n",
       "    }\n",
       "</style>\n",
       "<table border=\"1\" class=\"dataframe\">\n",
       "  <thead>\n",
       "    <tr style=\"text-align: right;\">\n",
       "      <th></th>\n",
       "      <th>Unnamed: 0</th>\n",
       "      <th>account_id</th>\n",
       "      <th>last_modified_date</th>\n",
       "      <th>travelled_flight_name</th>\n",
       "      <th>total_amount</th>\n",
       "    </tr>\n",
       "  </thead>\n",
       "  <tbody>\n",
       "    <tr>\n",
       "      <th>0</th>\n",
       "      <td>0</td>\n",
       "      <td>1.559470e+19</td>\n",
       "      <td>10/11/2023</td>\n",
       "      <td>BUDDHA AIR</td>\n",
       "      <td>6400.0</td>\n",
       "    </tr>\n",
       "    <tr>\n",
       "      <th>1</th>\n",
       "      <td>1</td>\n",
       "      <td>2.693080e+18</td>\n",
       "      <td>10/11/2023</td>\n",
       "      <td>BUDDHA AIR</td>\n",
       "      <td>5200.0</td>\n",
       "    </tr>\n",
       "    <tr>\n",
       "      <th>2</th>\n",
       "      <td>2</td>\n",
       "      <td>7.494540e+18</td>\n",
       "      <td>10/11/2023</td>\n",
       "      <td>SHREE AIRLINES</td>\n",
       "      <td>8800.0</td>\n",
       "    </tr>\n",
       "    <tr>\n",
       "      <th>3</th>\n",
       "      <td>3</td>\n",
       "      <td>1.493320e+19</td>\n",
       "      <td>10/11/2023</td>\n",
       "      <td>BUDDHA AIR</td>\n",
       "      <td>9001.0</td>\n",
       "    </tr>\n",
       "    <tr>\n",
       "      <th>4</th>\n",
       "      <td>4</td>\n",
       "      <td>1.682070e+19</td>\n",
       "      <td>10/11/2023</td>\n",
       "      <td>YETI AIRLINES</td>\n",
       "      <td>23200.0</td>\n",
       "    </tr>\n",
       "  </tbody>\n",
       "</table>\n",
       "</div>"
      ]
     },
     "execution_count": 4,
     "metadata": {},
     "output_type": "execute_result"
    }
   ],
   "execution_count": 4
  },
  {
   "cell_type": "code",
   "source": [
    "data.columns"
   ],
   "metadata": {
    "colab": {
     "base_uri": "https://localhost:8080/"
    },
    "id": "skCKPZ0cbotZ",
    "outputId": "854b2fba-bd86-477b-da8b-65f69bcbb3b3",
    "ExecuteTime": {
     "end_time": "2024-07-02T06:50:04.130991Z",
     "start_time": "2024-07-02T06:50:04.115356Z"
    }
   },
   "outputs": [
    {
     "data": {
      "text/plain": [
       "Index(['Unnamed: 0', 'account_id', 'last_modified_date',\n",
       "       'travelled_flight_name', 'total_amount'],\n",
       "      dtype='object')"
      ]
     },
     "execution_count": 5,
     "metadata": {},
     "output_type": "execute_result"
    }
   ],
   "execution_count": 5
  },
  {
   "cell_type": "code",
   "source": [
    "# Removing Extra Columns Came Due To Import\n",
    "del data['Unnamed: 0']"
   ],
   "metadata": {
    "id": "ryg1NUBHbtmK",
    "ExecuteTime": {
     "end_time": "2024-07-02T06:50:04.146593Z",
     "start_time": "2024-07-02T06:50:04.130991Z"
    }
   },
   "outputs": [],
   "execution_count": 6
  },
  {
   "cell_type": "code",
   "source": [
    "# Checking columns datatypes\n",
    "data.info()"
   ],
   "metadata": {
    "colab": {
     "base_uri": "https://localhost:8080/"
    },
    "id": "xi8SPvW5bzLt",
    "outputId": "66da9fb2-6097-414a-cba7-40b9e61aa3f7",
    "ExecuteTime": {
     "end_time": "2024-07-02T06:50:04.265065Z",
     "start_time": "2024-07-02T06:50:04.146593Z"
    }
   },
   "outputs": [
    {
     "name": "stdout",
     "output_type": "stream",
     "text": [
      "<class 'pandas.core.frame.DataFrame'>\n",
      "RangeIndex: 1048575 entries, 0 to 1048574\n",
      "Data columns (total 4 columns):\n",
      " #   Column                 Non-Null Count    Dtype  \n",
      "---  ------                 --------------    -----  \n",
      " 0   account_id             1048575 non-null  float64\n",
      " 1   last_modified_date     1048575 non-null  object \n",
      " 2   travelled_flight_name  1048575 non-null  object \n",
      " 3   total_amount           1048575 non-null  float64\n",
      "dtypes: float64(2), object(2)\n",
      "memory usage: 32.0+ MB\n"
     ]
    }
   ],
   "execution_count": 7
  },
  {
   "cell_type": "markdown",
   "source": [
    "### **Converting Date of type object to datetime**"
   ],
   "metadata": {
    "id": "_PMSCnPXsRLx"
   }
  },
  {
   "cell_type": "code",
   "source": [
    "data.last_modified_date = pd.to_datetime(data.last_modified_date,format='%m/%d/%Y')"
   ],
   "metadata": {
    "id": "bf9iDuaEb-Pj",
    "ExecuteTime": {
     "end_time": "2024-07-02T06:50:04.390067Z",
     "start_time": "2024-07-02T06:50:04.265065Z"
    }
   },
   "outputs": [],
   "execution_count": 8
  },
  {
   "cell_type": "code",
   "source": [
    "# Analyzing top 5 data of dataframe\n",
    "data.head()"
   ],
   "metadata": {
    "colab": {
     "base_uri": "https://localhost:8080/",
     "height": 206
    },
    "id": "wLevh8XTcPuG",
    "outputId": "1b0b5d9d-5147-484c-d4ca-0440901672b8",
    "ExecuteTime": {
     "end_time": "2024-07-02T06:50:04.421315Z",
     "start_time": "2024-07-02T06:50:04.390067Z"
    }
   },
   "outputs": [
    {
     "data": {
      "text/plain": [
       "     account_id last_modified_date travelled_flight_name  total_amount\n",
       "0  1.559470e+19         2023-10-11            BUDDHA AIR        6400.0\n",
       "1  2.693080e+18         2023-10-11            BUDDHA AIR        5200.0\n",
       "2  7.494540e+18         2023-10-11        SHREE AIRLINES        8800.0\n",
       "3  1.493320e+19         2023-10-11            BUDDHA AIR        9001.0\n",
       "4  1.682070e+19         2023-10-11         YETI AIRLINES       23200.0"
      ],
      "text/html": [
       "<div>\n",
       "<style scoped>\n",
       "    .dataframe tbody tr th:only-of-type {\n",
       "        vertical-align: middle;\n",
       "    }\n",
       "\n",
       "    .dataframe tbody tr th {\n",
       "        vertical-align: top;\n",
       "    }\n",
       "\n",
       "    .dataframe thead th {\n",
       "        text-align: right;\n",
       "    }\n",
       "</style>\n",
       "<table border=\"1\" class=\"dataframe\">\n",
       "  <thead>\n",
       "    <tr style=\"text-align: right;\">\n",
       "      <th></th>\n",
       "      <th>account_id</th>\n",
       "      <th>last_modified_date</th>\n",
       "      <th>travelled_flight_name</th>\n",
       "      <th>total_amount</th>\n",
       "    </tr>\n",
       "  </thead>\n",
       "  <tbody>\n",
       "    <tr>\n",
       "      <th>0</th>\n",
       "      <td>1.559470e+19</td>\n",
       "      <td>2023-10-11</td>\n",
       "      <td>BUDDHA AIR</td>\n",
       "      <td>6400.0</td>\n",
       "    </tr>\n",
       "    <tr>\n",
       "      <th>1</th>\n",
       "      <td>2.693080e+18</td>\n",
       "      <td>2023-10-11</td>\n",
       "      <td>BUDDHA AIR</td>\n",
       "      <td>5200.0</td>\n",
       "    </tr>\n",
       "    <tr>\n",
       "      <th>2</th>\n",
       "      <td>7.494540e+18</td>\n",
       "      <td>2023-10-11</td>\n",
       "      <td>SHREE AIRLINES</td>\n",
       "      <td>8800.0</td>\n",
       "    </tr>\n",
       "    <tr>\n",
       "      <th>3</th>\n",
       "      <td>1.493320e+19</td>\n",
       "      <td>2023-10-11</td>\n",
       "      <td>BUDDHA AIR</td>\n",
       "      <td>9001.0</td>\n",
       "    </tr>\n",
       "    <tr>\n",
       "      <th>4</th>\n",
       "      <td>1.682070e+19</td>\n",
       "      <td>2023-10-11</td>\n",
       "      <td>YETI AIRLINES</td>\n",
       "      <td>23200.0</td>\n",
       "    </tr>\n",
       "  </tbody>\n",
       "</table>\n",
       "</div>"
      ]
     },
     "execution_count": 9,
     "metadata": {},
     "output_type": "execute_result"
    }
   ],
   "execution_count": 9
  },
  {
   "cell_type": "code",
   "source": [
    "'''\n",
    "Checking the unique rows in each columns\n",
    "'''\n",
    "data.nunique()"
   ],
   "metadata": {
    "colab": {
     "base_uri": "https://localhost:8080/"
    },
    "id": "T2J8P0_Ac0r3",
    "outputId": "5e77140a-31b5-4a07-974a-4c25deca4764",
    "ExecuteTime": {
     "end_time": "2024-07-02T06:50:04.640345Z",
     "start_time": "2024-07-02T06:50:04.421315Z"
    }
   },
   "outputs": [
    {
     "data": {
      "text/plain": [
       "account_id               211509\n",
       "last_modified_date          479\n",
       "travelled_flight_name         9\n",
       "total_amount               4690\n",
       "dtype: int64"
      ]
     },
     "execution_count": 10,
     "metadata": {},
     "output_type": "execute_result"
    }
   ],
   "execution_count": 10
  },
  {
   "cell_type": "markdown",
   "source": [
    "### **Recency**\n",
    "\n",
    "In RFM (Recency, Frequency, Monetary) analysis, **\"Recency\"** holds significant importance. It encapsulates the essence of how recently a customer has interacted with a product or service.\n",
    "\n",
    "- *Recency* essentially measures the freshness of engagement, portraying the time elapsed since the last purchase or interaction. It's a pivotal metric in understanding customer behavior and preferences.\n",
    "---\n",
    "\n",
    "\n"
   ],
   "metadata": {
    "id": "3EPz7bQ_s3wy"
   }
  },
  {
   "cell_type": "code",
   "source": [
    "'''\n",
    "Grouping Data by column \"account_id\" in \"last_modified_date\"\n",
    "to get latest login date from each \"account_id\"\n",
    "'''\n",
    "data2 = data.groupby('account_id')['last_modified_date'].max().reset_index()"
   ],
   "metadata": {
    "id": "KCN8c6kRc8ba",
    "ExecuteTime": {
     "end_time": "2024-07-02T06:50:07.135074Z",
     "start_time": "2024-07-02T06:50:06.898514Z"
    }
   },
   "outputs": [],
   "execution_count": 11
  },
  {
   "cell_type": "code",
   "source": [
    "data2.head()"
   ],
   "metadata": {
    "colab": {
     "base_uri": "https://localhost:8080/",
     "height": 206
    },
    "id": "llwmITamdzHj",
    "outputId": "e449fc08-546c-4bbd-efa9-4c3a421565b0",
    "ExecuteTime": {
     "end_time": "2024-07-02T06:50:08.046192Z",
     "start_time": "2024-07-02T06:50:08.014931Z"
    }
   },
   "outputs": [
    {
     "data": {
      "text/plain": [
       "     account_id last_modified_date\n",
       "0  6.630750e+12         2024-04-22\n",
       "1  9.564960e+12         2024-03-21\n",
       "2  2.564860e+13         2023-02-15\n",
       "3  6.785860e+13         2024-04-14\n",
       "4  7.441550e+13         2023-05-08"
      ],
      "text/html": [
       "<div>\n",
       "<style scoped>\n",
       "    .dataframe tbody tr th:only-of-type {\n",
       "        vertical-align: middle;\n",
       "    }\n",
       "\n",
       "    .dataframe tbody tr th {\n",
       "        vertical-align: top;\n",
       "    }\n",
       "\n",
       "    .dataframe thead th {\n",
       "        text-align: right;\n",
       "    }\n",
       "</style>\n",
       "<table border=\"1\" class=\"dataframe\">\n",
       "  <thead>\n",
       "    <tr style=\"text-align: right;\">\n",
       "      <th></th>\n",
       "      <th>account_id</th>\n",
       "      <th>last_modified_date</th>\n",
       "    </tr>\n",
       "  </thead>\n",
       "  <tbody>\n",
       "    <tr>\n",
       "      <th>0</th>\n",
       "      <td>6.630750e+12</td>\n",
       "      <td>2024-04-22</td>\n",
       "    </tr>\n",
       "    <tr>\n",
       "      <th>1</th>\n",
       "      <td>9.564960e+12</td>\n",
       "      <td>2024-03-21</td>\n",
       "    </tr>\n",
       "    <tr>\n",
       "      <th>2</th>\n",
       "      <td>2.564860e+13</td>\n",
       "      <td>2023-02-15</td>\n",
       "    </tr>\n",
       "    <tr>\n",
       "      <th>3</th>\n",
       "      <td>6.785860e+13</td>\n",
       "      <td>2024-04-14</td>\n",
       "    </tr>\n",
       "    <tr>\n",
       "      <th>4</th>\n",
       "      <td>7.441550e+13</td>\n",
       "      <td>2023-05-08</td>\n",
       "    </tr>\n",
       "  </tbody>\n",
       "</table>\n",
       "</div>"
      ]
     },
     "execution_count": 12,
     "metadata": {},
     "output_type": "execute_result"
    }
   ],
   "execution_count": 12
  },
  {
   "cell_type": "code",
   "source": [
    "'''\n",
    "Finally the last login date is subtracted from the todays date and\n",
    "result is stored in \"regency columns\" in days format\n",
    "'''\n",
    "data2['recency']  = data2['last_modified_date'].apply(lambda x : math.floor((datetime.datetime.now()-x).days))"
   ],
   "metadata": {
    "id": "clZy-Mgbd0Dz",
    "ExecuteTime": {
     "end_time": "2024-07-02T06:50:10.730784Z",
     "start_time": "2024-07-02T06:50:08.334450Z"
    }
   },
   "outputs": [],
   "execution_count": 13
  },
  {
   "cell_type": "code",
   "source": [
    "data2.head()"
   ],
   "metadata": {
    "colab": {
     "base_uri": "https://localhost:8080/",
     "height": 206
    },
    "id": "S6YFVT2ve9jt",
    "outputId": "3b6f0918-280b-4144-fa68-c9d90504816c",
    "ExecuteTime": {
     "end_time": "2024-07-02T06:50:10.762915Z",
     "start_time": "2024-07-02T06:50:10.731843Z"
    }
   },
   "outputs": [
    {
     "data": {
      "text/plain": [
       "     account_id last_modified_date  recency\n",
       "0  6.630750e+12         2024-04-22       71\n",
       "1  9.564960e+12         2024-03-21      103\n",
       "2  2.564860e+13         2023-02-15      503\n",
       "3  6.785860e+13         2024-04-14       79\n",
       "4  7.441550e+13         2023-05-08      421"
      ],
      "text/html": [
       "<div>\n",
       "<style scoped>\n",
       "    .dataframe tbody tr th:only-of-type {\n",
       "        vertical-align: middle;\n",
       "    }\n",
       "\n",
       "    .dataframe tbody tr th {\n",
       "        vertical-align: top;\n",
       "    }\n",
       "\n",
       "    .dataframe thead th {\n",
       "        text-align: right;\n",
       "    }\n",
       "</style>\n",
       "<table border=\"1\" class=\"dataframe\">\n",
       "  <thead>\n",
       "    <tr style=\"text-align: right;\">\n",
       "      <th></th>\n",
       "      <th>account_id</th>\n",
       "      <th>last_modified_date</th>\n",
       "      <th>recency</th>\n",
       "    </tr>\n",
       "  </thead>\n",
       "  <tbody>\n",
       "    <tr>\n",
       "      <th>0</th>\n",
       "      <td>6.630750e+12</td>\n",
       "      <td>2024-04-22</td>\n",
       "      <td>71</td>\n",
       "    </tr>\n",
       "    <tr>\n",
       "      <th>1</th>\n",
       "      <td>9.564960e+12</td>\n",
       "      <td>2024-03-21</td>\n",
       "      <td>103</td>\n",
       "    </tr>\n",
       "    <tr>\n",
       "      <th>2</th>\n",
       "      <td>2.564860e+13</td>\n",
       "      <td>2023-02-15</td>\n",
       "      <td>503</td>\n",
       "    </tr>\n",
       "    <tr>\n",
       "      <th>3</th>\n",
       "      <td>6.785860e+13</td>\n",
       "      <td>2024-04-14</td>\n",
       "      <td>79</td>\n",
       "    </tr>\n",
       "    <tr>\n",
       "      <th>4</th>\n",
       "      <td>7.441550e+13</td>\n",
       "      <td>2023-05-08</td>\n",
       "      <td>421</td>\n",
       "    </tr>\n",
       "  </tbody>\n",
       "</table>\n",
       "</div>"
      ]
     },
     "execution_count": 14,
     "metadata": {},
     "output_type": "execute_result"
    }
   ],
   "execution_count": 14
  },
  {
   "metadata": {},
   "cell_type": "markdown",
   "source": "## Visualizing the top 20 recency counts from data2, presenting them in a bar plot with enhanced aesthetics using Seaborn"
  },
  {
   "metadata": {
    "ExecuteTime": {
     "end_time": "2024-07-02T06:50:12.238541Z",
     "start_time": "2024-07-02T06:50:11.564393Z"
    }
   },
   "cell_type": "code",
   "source": [
    "data2_sorted = data2.sort_values(by='recency')\n",
    "data2_sorted = data2_sorted.reset_index(drop=True)\n",
    "recency_counts = data2_sorted.groupby('recency').size().reset_index(name='counts')\n",
    "recency_counts = recency_counts.head(20)\n",
    "sns.set(style=\"whitegrid\", context=\"talk\")\n",
    "plt.figure(figsize=(20, 8))\n",
    "barplot = sns.barplot(x='recency', y='counts', data=recency_counts, palette=\"viridis\")\n",
    "for index, row in recency_counts.iterrows():\n",
    "    barplot.text(row.name, row.counts, round(row.counts, 2), color='black', ha=\"center\")\n",
    "plt.xlabel('Recency', fontsize=14)\n",
    "plt.ylabel('Counts', fontsize=14)\n",
    "plt.title('Recency Counts Bar Plot', fontsize=18, fontweight='bold')\n",
    "plt.xticks(rotation=45, fontsize=15)\n",
    "plt.yticks(fontsize=15)\n",
    "plt.grid(True, linestyle='--', linewidth=0.5)\n",
    "plt.tight_layout()\n",
    "plt.show()"
   ],
   "outputs": [
    {
     "data": {
      "text/plain": [
       "<Figure size 2000x800 with 1 Axes>"
      ],
      "image/png": "[encoded data removed]"
     },
     "metadata": {},
     "output_type": "display_data"
    }
   ],
   "execution_count": 15
  },
  {
   "cell_type": "markdown",
   "source": [
    "### **Frequency**\n",
    "\n",
    "**\"Frequency\"** stands as a pillar of customer engagement assessment. It encapsulates the rhythm of customer interactions with a product or service.\n",
    "\n",
    "- *Frequency* serves as a beacon illuminating the consistency and regularity of customer engagement. It sheds light on how often a customer interacts, purchases, or engages with the business over a specific period.\n",
    "---"
   ],
   "metadata": {
    "id": "BSEgJGnYu2vV"
   }
  },
  {
   "cell_type": "code",
   "source": [
    "'''\n",
    "Grouping Data by column \"account_id\" in \"last_modified_date\"\n",
    "to get count of login from each \"account_id\"\n",
    "'''\n",
    "data_frequency = data.groupby('account_id')['last_modified_date'].count().reset_index()"
   ],
   "metadata": {
    "id": "iguM9fi1lhwv",
    "ExecuteTime": {
     "end_time": "2024-07-02T06:50:13.661726Z",
     "start_time": "2024-07-02T06:50:13.451622Z"
    }
   },
   "outputs": [],
   "execution_count": 16
  },
  {
   "cell_type": "code",
   "source": [
    "data_frequency.head()"
   ],
   "metadata": {
    "colab": {
     "base_uri": "https://localhost:8080/",
     "height": 206
    },
    "id": "bUcuXBoEl0Ou",
    "outputId": "a1b35c8a-778d-4ebd-f601-0e83fe938ef1",
    "ExecuteTime": {
     "end_time": "2024-07-02T06:50:14.549034Z",
     "start_time": "2024-07-02T06:50:14.517647Z"
    }
   },
   "outputs": [
    {
     "data": {
      "text/plain": [
       "     account_id  last_modified_date\n",
       "0  6.630750e+12                   2\n",
       "1  9.564960e+12                   1\n",
       "2  2.564860e+13                   2\n",
       "3  6.785860e+13                   1\n",
       "4  7.441550e+13                   1"
      ],
      "text/html": [
       "<div>\n",
       "<style scoped>\n",
       "    .dataframe tbody tr th:only-of-type {\n",
       "        vertical-align: middle;\n",
       "    }\n",
       "\n",
       "    .dataframe tbody tr th {\n",
       "        vertical-align: top;\n",
       "    }\n",
       "\n",
       "    .dataframe thead th {\n",
       "        text-align: right;\n",
       "    }\n",
       "</style>\n",
       "<table border=\"1\" class=\"dataframe\">\n",
       "  <thead>\n",
       "    <tr style=\"text-align: right;\">\n",
       "      <th></th>\n",
       "      <th>account_id</th>\n",
       "      <th>last_modified_date</th>\n",
       "    </tr>\n",
       "  </thead>\n",
       "  <tbody>\n",
       "    <tr>\n",
       "      <th>0</th>\n",
       "      <td>6.630750e+12</td>\n",
       "      <td>2</td>\n",
       "    </tr>\n",
       "    <tr>\n",
       "      <th>1</th>\n",
       "      <td>9.564960e+12</td>\n",
       "      <td>1</td>\n",
       "    </tr>\n",
       "    <tr>\n",
       "      <th>2</th>\n",
       "      <td>2.564860e+13</td>\n",
       "      <td>2</td>\n",
       "    </tr>\n",
       "    <tr>\n",
       "      <th>3</th>\n",
       "      <td>6.785860e+13</td>\n",
       "      <td>1</td>\n",
       "    </tr>\n",
       "    <tr>\n",
       "      <th>4</th>\n",
       "      <td>7.441550e+13</td>\n",
       "      <td>1</td>\n",
       "    </tr>\n",
       "  </tbody>\n",
       "</table>\n",
       "</div>"
      ]
     },
     "execution_count": 17,
     "metadata": {},
     "output_type": "execute_result"
    }
   ],
   "execution_count": 17
  },
  {
   "cell_type": "code",
   "source": [
    "data_frequency.columns = [\"account_number\",\"frequency\"]"
   ],
   "metadata": {
    "id": "uI0mPdusl2_9",
    "ExecuteTime": {
     "end_time": "2024-07-02T06:50:14.825278Z",
     "start_time": "2024-07-02T06:50:14.809681Z"
    }
   },
   "outputs": [],
   "execution_count": 18
  },
  {
   "cell_type": "code",
   "source": [
    "data_frequency.describe()"
   ],
   "metadata": {
    "colab": {
     "base_uri": "https://localhost:8080/",
     "height": 300
    },
    "id": "iokmyn51l-t3",
    "outputId": "a4c71198-6d87-48a1-9704-e280a79e0a2e",
    "ExecuteTime": {
     "end_time": "2024-07-02T06:50:16.457213Z",
     "start_time": "2024-07-02T06:50:16.394702Z"
    }
   },
   "outputs": [
    {
     "data": {
      "text/plain": [
       "       account_number     frequency\n",
       "count    2.115090e+05  211509.00000\n",
       "mean     7.872588e+18       4.95759\n",
       "std      5.115411e+18      10.52478\n",
       "min      6.630750e+12       1.00000\n",
       "25%      3.581480e+18       1.00000\n",
       "50%      7.267880e+18       2.00000\n",
       "75%      1.173560e+19       6.00000\n",
       "max      1.844670e+19    1595.00000"
      ],
      "text/html": [
       "<div>\n",
       "<style scoped>\n",
       "    .dataframe tbody tr th:only-of-type {\n",
       "        vertical-align: middle;\n",
       "    }\n",
       "\n",
       "    .dataframe tbody tr th {\n",
       "        vertical-align: top;\n",
       "    }\n",
       "\n",
       "    .dataframe thead th {\n",
       "        text-align: right;\n",
       "    }\n",
       "</style>\n",
       "<table border=\"1\" class=\"dataframe\">\n",
       "  <thead>\n",
       "    <tr style=\"text-align: right;\">\n",
       "      <th></th>\n",
       "      <th>account_number</th>\n",
       "      <th>frequency</th>\n",
       "    </tr>\n",
       "  </thead>\n",
       "  <tbody>\n",
       "    <tr>\n",
       "      <th>count</th>\n",
       "      <td>2.115090e+05</td>\n",
       "      <td>211509.00000</td>\n",
       "    </tr>\n",
       "    <tr>\n",
       "      <th>mean</th>\n",
       "      <td>7.872588e+18</td>\n",
       "      <td>4.95759</td>\n",
       "    </tr>\n",
       "    <tr>\n",
       "      <th>std</th>\n",
       "      <td>5.115411e+18</td>\n",
       "      <td>10.52478</td>\n",
       "    </tr>\n",
       "    <tr>\n",
       "      <th>min</th>\n",
       "      <td>6.630750e+12</td>\n",
       "      <td>1.00000</td>\n",
       "    </tr>\n",
       "    <tr>\n",
       "      <th>25%</th>\n",
       "      <td>3.581480e+18</td>\n",
       "      <td>1.00000</td>\n",
       "    </tr>\n",
       "    <tr>\n",
       "      <th>50%</th>\n",
       "      <td>7.267880e+18</td>\n",
       "      <td>2.00000</td>\n",
       "    </tr>\n",
       "    <tr>\n",
       "      <th>75%</th>\n",
       "      <td>1.173560e+19</td>\n",
       "      <td>6.00000</td>\n",
       "    </tr>\n",
       "    <tr>\n",
       "      <th>max</th>\n",
       "      <td>1.844670e+19</td>\n",
       "      <td>1595.00000</td>\n",
       "    </tr>\n",
       "  </tbody>\n",
       "</table>\n",
       "</div>"
      ]
     },
     "execution_count": 19,
     "metadata": {},
     "output_type": "execute_result"
    }
   ],
   "execution_count": 19
  },
  {
   "cell_type": "code",
   "source": [
    "'''\n",
    "Showing the account_number whose frequency of login is greater than 80\n",
    "'''\n",
    "data_freq_80 = data_frequency[data_frequency['frequency']>80]"
   ],
   "metadata": {
    "id": "0R1wXHYtmVSU",
    "ExecuteTime": {
     "end_time": "2024-07-02T06:50:18.006247Z",
     "start_time": "2024-07-02T06:50:17.990577Z"
    }
   },
   "outputs": [],
   "execution_count": 20
  },
  {
   "cell_type": "code",
   "source": [
    "data_freq_80.shape"
   ],
   "metadata": {
    "colab": {
     "base_uri": "https://localhost:8080/"
    },
    "id": "PRj5BeQPmgnI",
    "outputId": "a9e1f8b5-6d4e-4547-bdcc-004503b4abc5",
    "ExecuteTime": {
     "end_time": "2024-07-02T06:50:19.640408Z",
     "start_time": "2024-07-02T06:50:19.624730Z"
    }
   },
   "outputs": [
    {
     "data": {
      "text/plain": [
       "(332, 2)"
      ]
     },
     "execution_count": 21,
     "metadata": {},
     "output_type": "execute_result"
    }
   ],
   "execution_count": 21
  },
  {
   "metadata": {
    "ExecuteTime": {
     "end_time": "2024-07-02T06:50:20.762912Z",
     "start_time": "2024-07-02T06:50:20.747325Z"
    }
   },
   "cell_type": "code",
   "source": "data_freq_80.head()",
   "outputs": [
    {
     "data": {
      "text/plain": [
       "      account_number  frequency\n",
       "866     5.477190e+16         81\n",
       "1468    9.398910e+16         88\n",
       "1875    1.213950e+17        101\n",
       "2437    1.538570e+17         81\n",
       "5820    3.700730e+17        104"
      ],
      "text/html": [
       "<div>\n",
       "<style scoped>\n",
       "    .dataframe tbody tr th:only-of-type {\n",
       "        vertical-align: middle;\n",
       "    }\n",
       "\n",
       "    .dataframe tbody tr th {\n",
       "        vertical-align: top;\n",
       "    }\n",
       "\n",
       "    .dataframe thead th {\n",
       "        text-align: right;\n",
       "    }\n",
       "</style>\n",
       "<table border=\"1\" class=\"dataframe\">\n",
       "  <thead>\n",
       "    <tr style=\"text-align: right;\">\n",
       "      <th></th>\n",
       "      <th>account_number</th>\n",
       "      <th>frequency</th>\n",
       "    </tr>\n",
       "  </thead>\n",
       "  <tbody>\n",
       "    <tr>\n",
       "      <th>866</th>\n",
       "      <td>5.477190e+16</td>\n",
       "      <td>81</td>\n",
       "    </tr>\n",
       "    <tr>\n",
       "      <th>1468</th>\n",
       "      <td>9.398910e+16</td>\n",
       "      <td>88</td>\n",
       "    </tr>\n",
       "    <tr>\n",
       "      <th>1875</th>\n",
       "      <td>1.213950e+17</td>\n",
       "      <td>101</td>\n",
       "    </tr>\n",
       "    <tr>\n",
       "      <th>2437</th>\n",
       "      <td>1.538570e+17</td>\n",
       "      <td>81</td>\n",
       "    </tr>\n",
       "    <tr>\n",
       "      <th>5820</th>\n",
       "      <td>3.700730e+17</td>\n",
       "      <td>104</td>\n",
       "    </tr>\n",
       "  </tbody>\n",
       "</table>\n",
       "</div>"
      ]
     },
     "execution_count": 22,
     "metadata": {},
     "output_type": "execute_result"
    }
   ],
   "execution_count": 22
  },
  {
   "cell_type": "markdown",
   "source": [
    "### **Monetary**\n",
    "\n",
    " **\"Monetary\"** emerges as a cornerstone in understanding customer worth. It embodies the financial dimension of customer engagement, quantifying the value each interaction brings to the business.\n",
    "\n",
    "- *Monetary* delves into the economic aspect of customer behavior, portraying the monetary significance of each transaction or engagement. It not only considers the amount spent but also discerns patterns of spending behavior, purchase preferences, and potential for future revenue generation.\n",
    "---"
   ],
   "metadata": {
    "id": "NwQHC2GxwUvs"
   }
  },
  {
   "cell_type": "code",
   "source": [
    "'''\n",
    "Grouping Data by column \"account_id\" in \"total_amount\"\n",
    "to get total transaction done by \"account_id\"\n",
    "'''\n",
    "data_monetary = data.groupby('account_id')['total_amount'].sum().reset_index()"
   ],
   "metadata": {
    "id": "z8BMAOfImq2R",
    "ExecuteTime": {
     "end_time": "2024-07-02T06:50:22.947775Z",
     "start_time": "2024-07-02T06:50:22.729009Z"
    }
   },
   "outputs": [],
   "execution_count": 23
  },
  {
   "cell_type": "code",
   "source": [
    "data_monetary.head()"
   ],
   "metadata": {
    "colab": {
     "base_uri": "https://localhost:8080/",
     "height": 206
    },
    "id": "FtsndT-ToJcG",
    "outputId": "6865413c-0fe8-492b-fa12-6fd3a6551407",
    "ExecuteTime": {
     "end_time": "2024-07-02T06:50:23.661322Z",
     "start_time": "2024-07-02T06:50:23.630100Z"
    }
   },
   "outputs": [
    {
     "data": {
      "text/plain": [
       "     account_id  total_amount\n",
       "0  6.630750e+12        8200.0\n",
       "1  9.564960e+12        4400.0\n",
       "2  2.564860e+13        7790.0\n",
       "3  6.785860e+13        7900.0\n",
       "4  7.441550e+13        7400.0"
      ],
      "text/html": [
       "<div>\n",
       "<style scoped>\n",
       "    .dataframe tbody tr th:only-of-type {\n",
       "        vertical-align: middle;\n",
       "    }\n",
       "\n",
       "    .dataframe tbody tr th {\n",
       "        vertical-align: top;\n",
       "    }\n",
       "\n",
       "    .dataframe thead th {\n",
       "        text-align: right;\n",
       "    }\n",
       "</style>\n",
       "<table border=\"1\" class=\"dataframe\">\n",
       "  <thead>\n",
       "    <tr style=\"text-align: right;\">\n",
       "      <th></th>\n",
       "      <th>account_id</th>\n",
       "      <th>total_amount</th>\n",
       "    </tr>\n",
       "  </thead>\n",
       "  <tbody>\n",
       "    <tr>\n",
       "      <th>0</th>\n",
       "      <td>6.630750e+12</td>\n",
       "      <td>8200.0</td>\n",
       "    </tr>\n",
       "    <tr>\n",
       "      <th>1</th>\n",
       "      <td>9.564960e+12</td>\n",
       "      <td>4400.0</td>\n",
       "    </tr>\n",
       "    <tr>\n",
       "      <th>2</th>\n",
       "      <td>2.564860e+13</td>\n",
       "      <td>7790.0</td>\n",
       "    </tr>\n",
       "    <tr>\n",
       "      <th>3</th>\n",
       "      <td>6.785860e+13</td>\n",
       "      <td>7900.0</td>\n",
       "    </tr>\n",
       "    <tr>\n",
       "      <th>4</th>\n",
       "      <td>7.441550e+13</td>\n",
       "      <td>7400.0</td>\n",
       "    </tr>\n",
       "  </tbody>\n",
       "</table>\n",
       "</div>"
      ]
     },
     "execution_count": 24,
     "metadata": {},
     "output_type": "execute_result"
    }
   ],
   "execution_count": 24
  },
  {
   "cell_type": "markdown",
   "source": [
    "### **Creating Final DataFrame with all RFM values**"
   ],
   "metadata": {
    "id": "8oJLU7_AwsH1"
   }
  },
  {
   "cell_type": "code",
   "source": [
    "data2['frequency'] = data_frequency['frequency']\n",
    "data2['Monetary'] = data_monetary['total_amount']"
   ],
   "metadata": {
    "id": "nhB6gFjYoUbb",
    "ExecuteTime": {
     "end_time": "2024-07-02T06:50:26.409646Z",
     "start_time": "2024-07-02T06:50:26.378389Z"
    }
   },
   "outputs": [],
   "execution_count": 25
  },
  {
   "cell_type": "code",
   "source": [
    "data2.head()"
   ],
   "metadata": {
    "colab": {
     "base_uri": "https://localhost:8080/",
     "height": 206
    },
    "id": "oLCiGchcpLI2",
    "outputId": "e446e28a-fdf4-4217-ad49-a7791e87d0e4",
    "ExecuteTime": {
     "end_time": "2024-07-02T06:50:27.275806Z",
     "start_time": "2024-07-02T06:50:27.244585Z"
    }
   },
   "outputs": [
    {
     "data": {
      "text/plain": [
       "     account_id last_modified_date  recency  frequency  Monetary\n",
       "0  6.630750e+12         2024-04-22       71          2    8200.0\n",
       "1  9.564960e+12         2024-03-21      103          1    4400.0\n",
       "2  2.564860e+13         2023-02-15      503          2    7790.0\n",
       "3  6.785860e+13         2024-04-14       79          1    7900.0\n",
       "4  7.441550e+13         2023-05-08      421          1    7400.0"
      ],
      "text/html": [
       "<div>\n",
       "<style scoped>\n",
       "    .dataframe tbody tr th:only-of-type {\n",
       "        vertical-align: middle;\n",
       "    }\n",
       "\n",
       "    .dataframe tbody tr th {\n",
       "        vertical-align: top;\n",
       "    }\n",
       "\n",
       "    .dataframe thead th {\n",
       "        text-align: right;\n",
       "    }\n",
       "</style>\n",
       "<table border=\"1\" class=\"dataframe\">\n",
       "  <thead>\n",
       "    <tr style=\"text-align: right;\">\n",
       "      <th></th>\n",
       "      <th>account_id</th>\n",
       "      <th>last_modified_date</th>\n",
       "      <th>recency</th>\n",
       "      <th>frequency</th>\n",
       "      <th>Monetary</th>\n",
       "    </tr>\n",
       "  </thead>\n",
       "  <tbody>\n",
       "    <tr>\n",
       "      <th>0</th>\n",
       "      <td>6.630750e+12</td>\n",
       "      <td>2024-04-22</td>\n",
       "      <td>71</td>\n",
       "      <td>2</td>\n",
       "      <td>8200.0</td>\n",
       "    </tr>\n",
       "    <tr>\n",
       "      <th>1</th>\n",
       "      <td>9.564960e+12</td>\n",
       "      <td>2024-03-21</td>\n",
       "      <td>103</td>\n",
       "      <td>1</td>\n",
       "      <td>4400.0</td>\n",
       "    </tr>\n",
       "    <tr>\n",
       "      <th>2</th>\n",
       "      <td>2.564860e+13</td>\n",
       "      <td>2023-02-15</td>\n",
       "      <td>503</td>\n",
       "      <td>2</td>\n",
       "      <td>7790.0</td>\n",
       "    </tr>\n",
       "    <tr>\n",
       "      <th>3</th>\n",
       "      <td>6.785860e+13</td>\n",
       "      <td>2024-04-14</td>\n",
       "      <td>79</td>\n",
       "      <td>1</td>\n",
       "      <td>7900.0</td>\n",
       "    </tr>\n",
       "    <tr>\n",
       "      <th>4</th>\n",
       "      <td>7.441550e+13</td>\n",
       "      <td>2023-05-08</td>\n",
       "      <td>421</td>\n",
       "      <td>1</td>\n",
       "      <td>7400.0</td>\n",
       "    </tr>\n",
       "  </tbody>\n",
       "</table>\n",
       "</div>"
      ]
     },
     "execution_count": 26,
     "metadata": {},
     "output_type": "execute_result"
    }
   ],
   "execution_count": 26
  },
  {
   "cell_type": "markdown",
   "source": [
    "### **Finding Valuable Customer From the Given Data**"
   ],
   "metadata": {
    "id": "M5By8n-nw5Mo"
   }
  },
  {
   "cell_type": "code",
   "source": [
    "'''\n",
    "Getting Customer Who Used Esewa to purchase ticket recently and has used esewa most of the time to purchase tickets.\n",
    "\n",
    "Note: Threshold assumption is random for both 'regency' and 'frequency'\n",
    "'''\n",
    "data_valuable_customer = data2[(data2['recency']<100) & (data2['frequency']>100) & (data2['Monetary']>500000)]"
   ],
   "metadata": {
    "id": "iHzwLdQWpMA8",
    "ExecuteTime": {
     "end_time": "2024-07-02T06:53:13.935585Z",
     "start_time": "2024-07-02T06:53:13.904338Z"
    }
   },
   "outputs": [],
   "execution_count": 35
  },
  {
   "cell_type": "code",
   "source": [
    "data_valuable_customer"
   ],
   "metadata": {
    "colab": {
     "base_uri": "https://localhost:8080/",
     "height": 423
    },
    "id": "JdIa0JSEpeb0",
    "outputId": "d728653a-9d27-478d-e80a-c2ddd6d78512",
    "ExecuteTime": {
     "end_time": "2024-07-02T06:53:14.612146Z",
     "start_time": "2024-07-02T06:53:14.580899Z"
    }
   },
   "outputs": [
    {
     "data": {
      "text/plain": [
       "          account_id last_modified_date  recency  frequency     Monetary\n",
       "1875    1.213950e+17         2024-04-25       68        101    692884.64\n",
       "5820    3.700730e+17         2024-05-02       61        104    828376.42\n",
       "6634    4.193420e+17         2024-05-04       59        122    976079.51\n",
       "8932    5.723650e+17         2024-05-06       57       1595  11034386.67\n",
       "10838   6.974150e+17         2024-05-01       62        175   1242944.38\n",
       "...              ...                ...      ...        ...          ...\n",
       "208220  1.802810e+19         2024-04-18       75        109    772341.00\n",
       "208322  1.804170e+19         2024-05-06       57        114    923748.08\n",
       "210128  1.827050e+19         2024-05-05       58        338   2837596.70\n",
       "210595  1.832880e+19         2024-05-03       60        251   1923517.28\n",
       "210621  1.833220e+19         2024-04-07       86        104    837883.17\n",
       "\n",
       "[218 rows x 5 columns]"
      ],
      "text/html": [
       "<div>\n",
       "<style scoped>\n",
       "    .dataframe tbody tr th:only-of-type {\n",
       "        vertical-align: middle;\n",
       "    }\n",
       "\n",
       "    .dataframe tbody tr th {\n",
       "        vertical-align: top;\n",
       "    }\n",
       "\n",
       "    .dataframe thead th {\n",
       "        text-align: right;\n",
       "    }\n",
       "</style>\n",
       "<table border=\"1\" class=\"dataframe\">\n",
       "  <thead>\n",
       "    <tr style=\"text-align: right;\">\n",
       "      <th></th>\n",
       "      <th>account_id</th>\n",
       "      <th>last_modified_date</th>\n",
       "      <th>recency</th>\n",
       "      <th>frequency</th>\n",
       "      <th>Monetary</th>\n",
       "    </tr>\n",
       "  </thead>\n",
       "  <tbody>\n",
       "    <tr>\n",
       "      <th>1875</th>\n",
       "      <td>1.213950e+17</td>\n",
       "      <td>2024-04-25</td>\n",
       "      <td>68</td>\n",
       "      <td>101</td>\n",
       "      <td>692884.64</td>\n",
       "    </tr>\n",
       "    <tr>\n",
       "      <th>5820</th>\n",
       "      <td>3.700730e+17</td>\n",
       "      <td>2024-05-02</td>\n",
       "      <td>61</td>\n",
       "      <td>104</td>\n",
       "      <td>828376.42</td>\n",
       "    </tr>\n",
       "    <tr>\n",
       "      <th>6634</th>\n",
       "      <td>4.193420e+17</td>\n",
       "      <td>2024-05-04</td>\n",
       "      <td>59</td>\n",
       "      <td>122</td>\n",
       "      <td>976079.51</td>\n",
       "    </tr>\n",
       "    <tr>\n",
       "      <th>8932</th>\n",
       "      <td>5.723650e+17</td>\n",
       "      <td>2024-05-06</td>\n",
       "      <td>57</td>\n",
       "      <td>1595</td>\n",
       "      <td>11034386.67</td>\n",
       "    </tr>\n",
       "    <tr>\n",
       "      <th>10838</th>\n",
       "      <td>6.974150e+17</td>\n",
       "      <td>2024-05-01</td>\n",
       "      <td>62</td>\n",
       "      <td>175</td>\n",
       "      <td>1242944.38</td>\n",
       "    </tr>\n",
       "    <tr>\n",
       "      <th>...</th>\n",
       "      <td>...</td>\n",
       "      <td>...</td>\n",
       "      <td>...</td>\n",
       "      <td>...</td>\n",
       "      <td>...</td>\n",
       "    </tr>\n",
       "    <tr>\n",
       "      <th>208220</th>\n",
       "      <td>1.802810e+19</td>\n",
       "      <td>2024-04-18</td>\n",
       "      <td>75</td>\n",
       "      <td>109</td>\n",
       "      <td>772341.00</td>\n",
       "    </tr>\n",
       "    <tr>\n",
       "      <th>208322</th>\n",
       "      <td>1.804170e+19</td>\n",
       "      <td>2024-05-06</td>\n",
       "      <td>57</td>\n",
       "      <td>114</td>\n",
       "      <td>923748.08</td>\n",
       "    </tr>\n",
       "    <tr>\n",
       "      <th>210128</th>\n",
       "      <td>1.827050e+19</td>\n",
       "      <td>2024-05-05</td>\n",
       "      <td>58</td>\n",
       "      <td>338</td>\n",
       "      <td>2837596.70</td>\n",
       "    </tr>\n",
       "    <tr>\n",
       "      <th>210595</th>\n",
       "      <td>1.832880e+19</td>\n",
       "      <td>2024-05-03</td>\n",
       "      <td>60</td>\n",
       "      <td>251</td>\n",
       "      <td>1923517.28</td>\n",
       "    </tr>\n",
       "    <tr>\n",
       "      <th>210621</th>\n",
       "      <td>1.833220e+19</td>\n",
       "      <td>2024-04-07</td>\n",
       "      <td>86</td>\n",
       "      <td>104</td>\n",
       "      <td>837883.17</td>\n",
       "    </tr>\n",
       "  </tbody>\n",
       "</table>\n",
       "<p>218 rows × 5 columns</p>\n",
       "</div>"
      ]
     },
     "execution_count": 36,
     "metadata": {},
     "output_type": "execute_result"
    }
   ],
   "execution_count": 36
  },
  {
   "cell_type": "code",
   "source": [
    "'''\n",
    "Getting Most Valuable Customer\n",
    "'''\n",
    "data2.iloc[8932:8933]"
   ],
   "metadata": {
    "colab": {
     "base_uri": "https://localhost:8080/",
     "height": 81
    },
    "id": "TrEa6dtIp0Rv",
    "outputId": "801a9779-1486-4db7-9279-5264ddf88e25",
    "ExecuteTime": {
     "end_time": "2024-07-02T06:51:29.878447Z",
     "start_time": "2024-07-02T06:51:29.863067Z"
    }
   },
   "outputs": [
    {
     "data": {
      "text/plain": [
       "        account_id last_modified_date  recency  frequency     Monetary\n",
       "8932  5.723650e+17         2024-05-06       57       1595  11034386.67"
      ],
      "text/html": [
       "<div>\n",
       "<style scoped>\n",
       "    .dataframe tbody tr th:only-of-type {\n",
       "        vertical-align: middle;\n",
       "    }\n",
       "\n",
       "    .dataframe tbody tr th {\n",
       "        vertical-align: top;\n",
       "    }\n",
       "\n",
       "    .dataframe thead th {\n",
       "        text-align: right;\n",
       "    }\n",
       "</style>\n",
       "<table border=\"1\" class=\"dataframe\">\n",
       "  <thead>\n",
       "    <tr style=\"text-align: right;\">\n",
       "      <th></th>\n",
       "      <th>account_id</th>\n",
       "      <th>last_modified_date</th>\n",
       "      <th>recency</th>\n",
       "      <th>frequency</th>\n",
       "      <th>Monetary</th>\n",
       "    </tr>\n",
       "  </thead>\n",
       "  <tbody>\n",
       "    <tr>\n",
       "      <th>8932</th>\n",
       "      <td>5.723650e+17</td>\n",
       "      <td>2024-05-06</td>\n",
       "      <td>57</td>\n",
       "      <td>1595</td>\n",
       "      <td>11034386.67</td>\n",
       "    </tr>\n",
       "  </tbody>\n",
       "</table>\n",
       "</div>"
      ]
     },
     "execution_count": 31,
     "metadata": {},
     "output_type": "execute_result"
    }
   ],
   "execution_count": 31
  },
  {
   "cell_type": "code",
   "source": [
    "data['travelled_flight_name'].value_counts()"
   ],
   "metadata": {
    "colab": {
     "base_uri": "https://localhost:8080/"
    },
    "id": "qP5fPP7tsYmH",
    "outputId": "d62a9f04-6adb-477a-e51b-43552fe4754b",
    "ExecuteTime": {
     "end_time": "2024-07-02T06:51:45.817604Z",
     "start_time": "2024-07-02T06:51:45.710016Z"
    }
   },
   "outputs": [
    {
     "data": {
      "text/plain": [
       "travelled_flight_name\n",
       "BUDDHA AIR                        629618\n",
       "SHREE AIRLINES                    200980\n",
       "YETI AIRLINES                     170943\n",
       "SAURYA AIRLINES                    42472\n",
       "Summit Air                          1917\n",
       "GUNA AIRLINES                       1388\n",
       "Nepal Airlines-Domestic Direct       867\n",
       "TARA AIR                             382\n",
       "Tara Air                               8\n",
       "Name: count, dtype: int64"
      ]
     },
     "execution_count": 32,
     "metadata": {},
     "output_type": "execute_result"
    }
   ],
   "execution_count": 32
  }
 ]
}
