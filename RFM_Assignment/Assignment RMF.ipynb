{
 "cells": [
  {
   "cell_type": "code",
   "execution_count": 40,
   "id": "7ad01913-3fd2-4b75-a456-b6c1c4967dfc",
   "metadata": {},
   "outputs": [],
   "source": [
    "import pandas as pd\n",
    "from datetime import datetime\n",
    "import math"
   ]
  },
  {
   "cell_type": "code",
   "execution_count": 55,
   "id": "cbb17413-04d6-4931-9e60-26a8b97bee0c",
   "metadata": {},
   "outputs": [],
   "source": [
    "fc_transaction_base = pd.read_csv(\"C:/Users/acer/Downloads/fc_transaction_base.csv\")"
   ]
  },
  {
   "cell_type": "code",
   "execution_count": 56,
   "id": "8f556994-feb0-4d78-b72c-2958c96dba7c",
   "metadata": {},
   "outputs": [
    {
     "data": {
      "text/html": [
       "<div>\n",
       "<style scoped>\n",
       "    .dataframe tbody tr th:only-of-type {\n",
       "        vertical-align: middle;\n",
       "    }\n",
       "\n",
       "    .dataframe tbody tr th {\n",
       "        vertical-align: top;\n",
       "    }\n",
       "\n",
       "    .dataframe thead th {\n",
       "        text-align: right;\n",
       "    }\n",
       "</style>\n",
       "<table border=\"1\" class=\"dataframe\">\n",
       "  <thead>\n",
       "    <tr style=\"text-align: right;\">\n",
       "      <th></th>\n",
       "      <th>tran_date</th>\n",
       "      <th>account_number</th>\n",
       "      <th>branch</th>\n",
       "      <th>product</th>\n",
       "      <th>lcy_amount</th>\n",
       "      <th>transaction_code</th>\n",
       "      <th>description1</th>\n",
       "      <th>dc_indicator</th>\n",
       "      <th>is_salary</th>\n",
       "    </tr>\n",
       "  </thead>\n",
       "  <tbody>\n",
       "    <tr>\n",
       "      <th>0</th>\n",
       "      <td>09/06/2020</td>\n",
       "      <td>02XYZXYZ10017529992</td>\n",
       "      <td>15.0</td>\n",
       "      <td>SBA</td>\n",
       "      <td>14500.0</td>\n",
       "      <td>CI</td>\n",
       "      <td>ATM WDL /00463701/NABIL\\NABIL</td>\n",
       "      <td>withdraw</td>\n",
       "      <td>0.0</td>\n",
       "    </tr>\n",
       "    <tr>\n",
       "      <th>1</th>\n",
       "      <td>14/06/2020</td>\n",
       "      <td>02XYZXYZ10017529992</td>\n",
       "      <td>15.0</td>\n",
       "      <td>SBA</td>\n",
       "      <td>20000.0</td>\n",
       "      <td>CI</td>\n",
       "      <td>ATM WDL /00463701/NABIL\\NABIL</td>\n",
       "      <td>withdraw</td>\n",
       "      <td>0.0</td>\n",
       "    </tr>\n",
       "    <tr>\n",
       "      <th>2</th>\n",
       "      <td>01/06/2020</td>\n",
       "      <td>02XYZXYZ10017517823</td>\n",
       "      <td>15.0</td>\n",
       "      <td>SBA</td>\n",
       "      <td>4000.0</td>\n",
       "      <td>CI</td>\n",
       "      <td>ATM WDL /NICAV701/\\Pharping\\KT</td>\n",
       "      <td>withdraw</td>\n",
       "      <td>0.0</td>\n",
       "    </tr>\n",
       "    <tr>\n",
       "      <th>3</th>\n",
       "      <td>05/06/2020</td>\n",
       "      <td>02XYZXYZ10017517823</td>\n",
       "      <td>15.0</td>\n",
       "      <td>SBA</td>\n",
       "      <td>500.0</td>\n",
       "      <td>CI</td>\n",
       "      <td>ATM WDL /NICAV701/\\Pharping\\KT</td>\n",
       "      <td>withdraw</td>\n",
       "      <td>0.0</td>\n",
       "    </tr>\n",
       "    <tr>\n",
       "      <th>4</th>\n",
       "      <td>12/06/2020</td>\n",
       "      <td>02XYZXYZ10017517823</td>\n",
       "      <td>15.0</td>\n",
       "      <td>SBA</td>\n",
       "      <td>5000.0</td>\n",
       "      <td>CI</td>\n",
       "      <td>ATM WDL /NICAV701/\\Pharping\\KT</td>\n",
       "      <td>withdraw</td>\n",
       "      <td>0.0</td>\n",
       "    </tr>\n",
       "  </tbody>\n",
       "</table>\n",
       "</div>"
      ],
      "text/plain": [
       "    tran_date       account_number  branch product  lcy_amount  \\\n",
       "0  09/06/2020  02XYZXYZ10017529992    15.0     SBA     14500.0   \n",
       "1  14/06/2020  02XYZXYZ10017529992    15.0     SBA     20000.0   \n",
       "2  01/06/2020  02XYZXYZ10017517823    15.0     SBA      4000.0   \n",
       "3  05/06/2020  02XYZXYZ10017517823    15.0     SBA       500.0   \n",
       "4  12/06/2020  02XYZXYZ10017517823    15.0     SBA      5000.0   \n",
       "\n",
       "  transaction_code                    description1 dc_indicator  is_salary  \n",
       "0               CI   ATM WDL /00463701/NABIL\\NABIL     withdraw        0.0  \n",
       "1               CI   ATM WDL /00463701/NABIL\\NABIL     withdraw        0.0  \n",
       "2               CI  ATM WDL /NICAV701/\\Pharping\\KT     withdraw        0.0  \n",
       "3               CI  ATM WDL /NICAV701/\\Pharping\\KT     withdraw        0.0  \n",
       "4               CI  ATM WDL /NICAV701/\\Pharping\\KT     withdraw        0.0  "
      ]
     },
     "execution_count": 56,
     "metadata": {},
     "output_type": "execute_result"
    }
   ],
   "source": [
    "fc_transaction_base.head()"
   ]
  },
  {
   "cell_type": "code",
   "execution_count": 57,
   "id": "ff4b353e-7896-4ee4-a89a-5e7aac882ec6",
   "metadata": {},
   "outputs": [
    {
     "name": "stdout",
     "output_type": "stream",
     "text": [
      "<class 'pandas.core.frame.DataFrame'>\n",
      "RangeIndex: 45032 entries, 0 to 45031\n",
      "Data columns (total 9 columns):\n",
      " #   Column            Non-Null Count  Dtype  \n",
      "---  ------            --------------  -----  \n",
      " 0   tran_date         45032 non-null  object \n",
      " 1   account_number    45031 non-null  object \n",
      " 2   branch            45031 non-null  float64\n",
      " 3   product           45031 non-null  object \n",
      " 4   lcy_amount        45031 non-null  float64\n",
      " 5   transaction_code  45031 non-null  object \n",
      " 6   description1      44959 non-null  object \n",
      " 7   dc_indicator      45030 non-null  object \n",
      " 8   is_salary         45030 non-null  float64\n",
      "dtypes: float64(3), object(6)\n",
      "memory usage: 3.1+ MB\n"
     ]
    }
   ],
   "source": [
    "fc_transaction_base.info()"
   ]
  },
  {
   "cell_type": "code",
   "execution_count": 58,
   "id": "99536250-4fd3-4ff9-8462-7b81badf9bb2",
   "metadata": {},
   "outputs": [],
   "source": [
    "fc_transaction_base = fc_transaction_base[fc_transaction_base['tran_date'].str.match(r'\\d{2}/\\d{2}/\\d{4}')]\n",
    "fc_transaction_base[\"tran_date\"] =pd.to_datetime(fc_transaction_base[\"tran_date\"],format = '%d/%m/%Y')"
   ]
  },
  {
   "cell_type": "code",
   "execution_count": 59,
   "id": "e4d1a173-1ba2-4a06-a6ec-9367d9ab9c68",
   "metadata": {},
   "outputs": [
    {
     "data": {
      "text/html": [
       "<div>\n",
       "<style scoped>\n",
       "    .dataframe tbody tr th:only-of-type {\n",
       "        vertical-align: middle;\n",
       "    }\n",
       "\n",
       "    .dataframe tbody tr th {\n",
       "        vertical-align: top;\n",
       "    }\n",
       "\n",
       "    .dataframe thead th {\n",
       "        text-align: right;\n",
       "    }\n",
       "</style>\n",
       "<table border=\"1\" class=\"dataframe\">\n",
       "  <thead>\n",
       "    <tr style=\"text-align: right;\">\n",
       "      <th></th>\n",
       "      <th>tran_date</th>\n",
       "      <th>branch</th>\n",
       "      <th>lcy_amount</th>\n",
       "      <th>is_salary</th>\n",
       "    </tr>\n",
       "  </thead>\n",
       "  <tbody>\n",
       "    <tr>\n",
       "      <th>count</th>\n",
       "      <td>45031</td>\n",
       "      <td>45031.000000</td>\n",
       "      <td>4.503100e+04</td>\n",
       "      <td>45030.000000</td>\n",
       "    </tr>\n",
       "    <tr>\n",
       "      <th>mean</th>\n",
       "      <td>2020-07-10 20:14:25.643667712</td>\n",
       "      <td>16.566099</td>\n",
       "      <td>3.981024e+04</td>\n",
       "      <td>0.068155</td>\n",
       "    </tr>\n",
       "    <tr>\n",
       "      <th>min</th>\n",
       "      <td>2020-06-01 00:00:00</td>\n",
       "      <td>1.000000</td>\n",
       "      <td>1.000000e-02</td>\n",
       "      <td>0.000000</td>\n",
       "    </tr>\n",
       "    <tr>\n",
       "      <th>25%</th>\n",
       "      <td>2020-06-25 00:00:00</td>\n",
       "      <td>17.000000</td>\n",
       "      <td>9.447350e+02</td>\n",
       "      <td>0.000000</td>\n",
       "    </tr>\n",
       "    <tr>\n",
       "      <th>50%</th>\n",
       "      <td>2020-07-14 00:00:00</td>\n",
       "      <td>17.000000</td>\n",
       "      <td>5.000000e+03</td>\n",
       "      <td>0.000000</td>\n",
       "    </tr>\n",
       "    <tr>\n",
       "      <th>75%</th>\n",
       "      <td>2020-07-27 00:00:00</td>\n",
       "      <td>18.000000</td>\n",
       "      <td>2.000000e+04</td>\n",
       "      <td>0.000000</td>\n",
       "    </tr>\n",
       "    <tr>\n",
       "      <th>max</th>\n",
       "      <td>2020-08-16 00:00:00</td>\n",
       "      <td>49.000000</td>\n",
       "      <td>1.028081e+07</td>\n",
       "      <td>1.000000</td>\n",
       "    </tr>\n",
       "    <tr>\n",
       "      <th>std</th>\n",
       "      <td>NaN</td>\n",
       "      <td>4.144436</td>\n",
       "      <td>2.272606e+05</td>\n",
       "      <td>0.252014</td>\n",
       "    </tr>\n",
       "  </tbody>\n",
       "</table>\n",
       "</div>"
      ],
      "text/plain": [
       "                           tran_date        branch    lcy_amount     is_salary\n",
       "count                          45031  45031.000000  4.503100e+04  45030.000000\n",
       "mean   2020-07-10 20:14:25.643667712     16.566099  3.981024e+04      0.068155\n",
       "min              2020-06-01 00:00:00      1.000000  1.000000e-02      0.000000\n",
       "25%              2020-06-25 00:00:00     17.000000  9.447350e+02      0.000000\n",
       "50%              2020-07-14 00:00:00     17.000000  5.000000e+03      0.000000\n",
       "75%              2020-07-27 00:00:00     18.000000  2.000000e+04      0.000000\n",
       "max              2020-08-16 00:00:00     49.000000  1.028081e+07      1.000000\n",
       "std                              NaN      4.144436  2.272606e+05      0.252014"
      ]
     },
     "execution_count": 59,
     "metadata": {},
     "output_type": "execute_result"
    }
   ],
   "source": [
    "fc_transaction_base.describe()"
   ]
  },
  {
   "cell_type": "code",
   "execution_count": 60,
   "id": "fd4486f5-3e9c-4f0e-b295-81f62cb5c4f8",
   "metadata": {},
   "outputs": [],
   "source": [
    "df_recency = fc_transaction_base.groupby('account_number')['tran_date'].max()"
   ]
  },
  {
   "cell_type": "code",
   "execution_count": 61,
   "id": "2a8f99ae-c56a-4fd7-9872-4805acc041a4",
   "metadata": {},
   "outputs": [],
   "source": [
    "df_recency = df_recency.reset_index(name='max_tran_date')"
   ]
  },
  {
   "cell_type": "code",
   "execution_count": 62,
   "id": "68bafe36-44ca-48b8-9794-169a0ad74b9e",
   "metadata": {},
   "outputs": [
    {
     "data": {
      "text/html": [
       "<div>\n",
       "<style scoped>\n",
       "    .dataframe tbody tr th:only-of-type {\n",
       "        vertical-align: middle;\n",
       "    }\n",
       "\n",
       "    .dataframe tbody tr th {\n",
       "        vertical-align: top;\n",
       "    }\n",
       "\n",
       "    .dataframe thead th {\n",
       "        text-align: right;\n",
       "    }\n",
       "</style>\n",
       "<table border=\"1\" class=\"dataframe\">\n",
       "  <thead>\n",
       "    <tr style=\"text-align: right;\">\n",
       "      <th></th>\n",
       "      <th>account_number</th>\n",
       "      <th>max_tran_date</th>\n",
       "    </tr>\n",
       "  </thead>\n",
       "  <tbody>\n",
       "    <tr>\n",
       "      <th>0</th>\n",
       "      <td>02XYZXYZ10015339701</td>\n",
       "      <td>2020-08-16</td>\n",
       "    </tr>\n",
       "    <tr>\n",
       "      <th>1</th>\n",
       "      <td>02XYZXYZ10015571501</td>\n",
       "      <td>2020-08-16</td>\n",
       "    </tr>\n",
       "    <tr>\n",
       "      <th>2</th>\n",
       "      <td>02XYZXYZ10015571601</td>\n",
       "      <td>2020-08-16</td>\n",
       "    </tr>\n",
       "    <tr>\n",
       "      <th>3</th>\n",
       "      <td>02XYZXYZ10015592101</td>\n",
       "      <td>2020-08-16</td>\n",
       "    </tr>\n",
       "    <tr>\n",
       "      <th>4</th>\n",
       "      <td>02XYZXYZ10015593701</td>\n",
       "      <td>2020-08-14</td>\n",
       "    </tr>\n",
       "  </tbody>\n",
       "</table>\n",
       "</div>"
      ],
      "text/plain": [
       "        account_number max_tran_date\n",
       "0  02XYZXYZ10015339701    2020-08-16\n",
       "1  02XYZXYZ10015571501    2020-08-16\n",
       "2  02XYZXYZ10015571601    2020-08-16\n",
       "3  02XYZXYZ10015592101    2020-08-16\n",
       "4  02XYZXYZ10015593701    2020-08-14"
      ]
     },
     "execution_count": 62,
     "metadata": {},
     "output_type": "execute_result"
    }
   ],
   "source": [
    "df_recency.head()"
   ]
  },
  {
   "cell_type": "code",
   "execution_count": 63,
   "id": "723d5279-98d2-4c95-a9a2-0611273f1f14",
   "metadata": {},
   "outputs": [
    {
     "name": "stdout",
     "output_type": "stream",
     "text": [
      "<class 'pandas.core.frame.DataFrame'>\n",
      "RangeIndex: 1838 entries, 0 to 1837\n",
      "Data columns (total 2 columns):\n",
      " #   Column          Non-Null Count  Dtype         \n",
      "---  ------          --------------  -----         \n",
      " 0   account_number  1838 non-null   object        \n",
      " 1   max_tran_date   1838 non-null   datetime64[ns]\n",
      "dtypes: datetime64[ns](1), object(1)\n",
      "memory usage: 28.8+ KB\n"
     ]
    }
   ],
   "source": [
    "df_recency.info()"
   ]
  },
  {
   "cell_type": "code",
   "execution_count": 75,
   "id": "781b028e-613d-45d7-9dff-07f62e4b31e3",
   "metadata": {},
   "outputs": [
    {
     "data": {
      "text/html": [
       "<div>\n",
       "<style scoped>\n",
       "    .dataframe tbody tr th:only-of-type {\n",
       "        vertical-align: middle;\n",
       "    }\n",
       "\n",
       "    .dataframe tbody tr th {\n",
       "        vertical-align: top;\n",
       "    }\n",
       "\n",
       "    .dataframe thead th {\n",
       "        text-align: right;\n",
       "    }\n",
       "</style>\n",
       "<table border=\"1\" class=\"dataframe\">\n",
       "  <thead>\n",
       "    <tr style=\"text-align: right;\">\n",
       "      <th></th>\n",
       "      <th>account_number</th>\n",
       "      <th>max_tran_date</th>\n",
       "      <th>Recency</th>\n",
       "    </tr>\n",
       "  </thead>\n",
       "  <tbody>\n",
       "    <tr>\n",
       "      <th>0</th>\n",
       "      <td>02XYZXYZ10015339701</td>\n",
       "      <td>2020-08-16</td>\n",
       "      <td>1355</td>\n",
       "    </tr>\n",
       "    <tr>\n",
       "      <th>1</th>\n",
       "      <td>02XYZXYZ10015571501</td>\n",
       "      <td>2020-08-16</td>\n",
       "      <td>1355</td>\n",
       "    </tr>\n",
       "    <tr>\n",
       "      <th>2</th>\n",
       "      <td>02XYZXYZ10015571601</td>\n",
       "      <td>2020-08-16</td>\n",
       "      <td>1355</td>\n",
       "    </tr>\n",
       "    <tr>\n",
       "      <th>3</th>\n",
       "      <td>02XYZXYZ10015592101</td>\n",
       "      <td>2020-08-16</td>\n",
       "      <td>1355</td>\n",
       "    </tr>\n",
       "    <tr>\n",
       "      <th>4</th>\n",
       "      <td>02XYZXYZ10015593701</td>\n",
       "      <td>2020-08-14</td>\n",
       "      <td>1357</td>\n",
       "    </tr>\n",
       "  </tbody>\n",
       "</table>\n",
       "</div>"
      ],
      "text/plain": [
       "        account_number max_tran_date  Recency\n",
       "0  02XYZXYZ10015339701    2020-08-16     1355\n",
       "1  02XYZXYZ10015571501    2020-08-16     1355\n",
       "2  02XYZXYZ10015571601    2020-08-16     1355\n",
       "3  02XYZXYZ10015592101    2020-08-16     1355\n",
       "4  02XYZXYZ10015593701    2020-08-14     1357"
      ]
     },
     "execution_count": 75,
     "metadata": {},
     "output_type": "execute_result"
    }
   ],
   "source": [
    "df_recency['Recency'] = df_recency['max_tran_date'].apply(lambda x: math.floor((datetime.now() - x).days))\n",
    "df_recency.head()"
   ]
  },
  {
   "cell_type": "code",
   "execution_count": 76,
   "id": "d79cf90f-b7f0-49f7-9aa1-33caf1f91840",
   "metadata": {},
   "outputs": [
    {
     "data": {
      "text/plain": [
       "1387"
      ]
     },
     "execution_count": 76,
     "metadata": {},
     "output_type": "execute_result"
    }
   ],
   "source": [
    "df_recency['Recency'].max()"
   ]
  },
  {
   "cell_type": "code",
   "execution_count": 77,
   "id": "96bc6ea7-c9eb-4102-abd4-a2e3273f635a",
   "metadata": {},
   "outputs": [],
   "source": [
    "df_recency['Recency'] = df_recency['Recency'].max() - df_recency['Recency']"
   ]
  },
  {
   "cell_type": "code",
   "execution_count": 78,
   "id": "e3cb2a40-cd34-42ba-a350-7e288f5bd459",
   "metadata": {},
   "outputs": [
    {
     "data": {
      "text/html": [
       "<div>\n",
       "<style scoped>\n",
       "    .dataframe tbody tr th:only-of-type {\n",
       "        vertical-align: middle;\n",
       "    }\n",
       "\n",
       "    .dataframe tbody tr th {\n",
       "        vertical-align: top;\n",
       "    }\n",
       "\n",
       "    .dataframe thead th {\n",
       "        text-align: right;\n",
       "    }\n",
       "</style>\n",
       "<table border=\"1\" class=\"dataframe\">\n",
       "  <thead>\n",
       "    <tr style=\"text-align: right;\">\n",
       "      <th></th>\n",
       "      <th>account_number</th>\n",
       "      <th>max_tran_date</th>\n",
       "      <th>Recency</th>\n",
       "    </tr>\n",
       "  </thead>\n",
       "  <tbody>\n",
       "    <tr>\n",
       "      <th>0</th>\n",
       "      <td>02XYZXYZ10015339701</td>\n",
       "      <td>2020-08-16</td>\n",
       "      <td>32</td>\n",
       "    </tr>\n",
       "    <tr>\n",
       "      <th>1</th>\n",
       "      <td>02XYZXYZ10015571501</td>\n",
       "      <td>2020-08-16</td>\n",
       "      <td>32</td>\n",
       "    </tr>\n",
       "    <tr>\n",
       "      <th>2</th>\n",
       "      <td>02XYZXYZ10015571601</td>\n",
       "      <td>2020-08-16</td>\n",
       "      <td>32</td>\n",
       "    </tr>\n",
       "    <tr>\n",
       "      <th>3</th>\n",
       "      <td>02XYZXYZ10015592101</td>\n",
       "      <td>2020-08-16</td>\n",
       "      <td>32</td>\n",
       "    </tr>\n",
       "    <tr>\n",
       "      <th>4</th>\n",
       "      <td>02XYZXYZ10015593701</td>\n",
       "      <td>2020-08-14</td>\n",
       "      <td>30</td>\n",
       "    </tr>\n",
       "  </tbody>\n",
       "</table>\n",
       "</div>"
      ],
      "text/plain": [
       "        account_number max_tran_date  Recency\n",
       "0  02XYZXYZ10015339701    2020-08-16       32\n",
       "1  02XYZXYZ10015571501    2020-08-16       32\n",
       "2  02XYZXYZ10015571601    2020-08-16       32\n",
       "3  02XYZXYZ10015592101    2020-08-16       32\n",
       "4  02XYZXYZ10015593701    2020-08-14       30"
      ]
     },
     "execution_count": 78,
     "metadata": {},
     "output_type": "execute_result"
    }
   ],
   "source": [
    "df_recency.head()"
   ]
  },
  {
   "cell_type": "code",
   "execution_count": 65,
   "id": "affdc432-a58b-437b-ad3c-27566e4e3ac7",
   "metadata": {},
   "outputs": [],
   "source": [
    "df_frequency = fc_transaction_base.groupby('account_number',as_index=False)['tran_date'].count()"
   ]
  },
  {
   "cell_type": "code",
   "execution_count": 67,
   "id": "c9d0970c-f646-4a23-ae5b-b6e0f5e725e3",
   "metadata": {},
   "outputs": [],
   "source": [
    "df_frequency.columns = [\"account_number\",\"frequency\"]"
   ]
  },
  {
   "cell_type": "code",
   "execution_count": 68,
   "id": "e565736d-e460-408b-9583-9e98bc3f3d1a",
   "metadata": {},
   "outputs": [
    {
     "data": {
      "text/html": [
       "<div>\n",
       "<style scoped>\n",
       "    .dataframe tbody tr th:only-of-type {\n",
       "        vertical-align: middle;\n",
       "    }\n",
       "\n",
       "    .dataframe tbody tr th {\n",
       "        vertical-align: top;\n",
       "    }\n",
       "\n",
       "    .dataframe thead th {\n",
       "        text-align: right;\n",
       "    }\n",
       "</style>\n",
       "<table border=\"1\" class=\"dataframe\">\n",
       "  <thead>\n",
       "    <tr style=\"text-align: right;\">\n",
       "      <th></th>\n",
       "      <th>account_number</th>\n",
       "      <th>frequency</th>\n",
       "    </tr>\n",
       "  </thead>\n",
       "  <tbody>\n",
       "    <tr>\n",
       "      <th>0</th>\n",
       "      <td>02XYZXYZ10015339701</td>\n",
       "      <td>28</td>\n",
       "    </tr>\n",
       "    <tr>\n",
       "      <th>1</th>\n",
       "      <td>02XYZXYZ10015571501</td>\n",
       "      <td>29</td>\n",
       "    </tr>\n",
       "    <tr>\n",
       "      <th>2</th>\n",
       "      <td>02XYZXYZ10015571601</td>\n",
       "      <td>4</td>\n",
       "    </tr>\n",
       "    <tr>\n",
       "      <th>3</th>\n",
       "      <td>02XYZXYZ10015592101</td>\n",
       "      <td>44</td>\n",
       "    </tr>\n",
       "    <tr>\n",
       "      <th>4</th>\n",
       "      <td>02XYZXYZ10015593701</td>\n",
       "      <td>21</td>\n",
       "    </tr>\n",
       "  </tbody>\n",
       "</table>\n",
       "</div>"
      ],
      "text/plain": [
       "        account_number  frequency\n",
       "0  02XYZXYZ10015339701         28\n",
       "1  02XYZXYZ10015571501         29\n",
       "2  02XYZXYZ10015571601          4\n",
       "3  02XYZXYZ10015592101         44\n",
       "4  02XYZXYZ10015593701         21"
      ]
     },
     "execution_count": 68,
     "metadata": {},
     "output_type": "execute_result"
    }
   ],
   "source": [
    "df_frequency.head()"
   ]
  },
  {
   "cell_type": "code",
   "execution_count": 71,
   "id": "62590799-0d20-4d1e-a414-668dbd5931ef",
   "metadata": {},
   "outputs": [],
   "source": [
    "df_Monetery= fc_transaction_base.groupby('account_number',as_index=False)['lcy_amount'].sum()"
   ]
  },
  {
   "cell_type": "code",
   "execution_count": 72,
   "id": "6d780ccb-1b8c-4de8-8d08-6448cfa0c0ce",
   "metadata": {},
   "outputs": [],
   "source": [
    "df_Monetery.columns = [\"account_number\",\"Monetery\"]"
   ]
  },
  {
   "cell_type": "code",
   "execution_count": 73,
   "id": "0a9ca8a4-3378-49c2-8222-f3b1f97a4b99",
   "metadata": {},
   "outputs": [
    {
     "data": {
      "text/html": [
       "<div>\n",
       "<style scoped>\n",
       "    .dataframe tbody tr th:only-of-type {\n",
       "        vertical-align: middle;\n",
       "    }\n",
       "\n",
       "    .dataframe tbody tr th {\n",
       "        vertical-align: top;\n",
       "    }\n",
       "\n",
       "    .dataframe thead th {\n",
       "        text-align: right;\n",
       "    }\n",
       "</style>\n",
       "<table border=\"1\" class=\"dataframe\">\n",
       "  <thead>\n",
       "    <tr style=\"text-align: right;\">\n",
       "      <th></th>\n",
       "      <th>account_number</th>\n",
       "      <th>Monetery</th>\n",
       "    </tr>\n",
       "  </thead>\n",
       "  <tbody>\n",
       "    <tr>\n",
       "      <th>0</th>\n",
       "      <td>02XYZXYZ10015339701</td>\n",
       "      <td>9222574.71</td>\n",
       "    </tr>\n",
       "    <tr>\n",
       "      <th>1</th>\n",
       "      <td>02XYZXYZ10015571501</td>\n",
       "      <td>4928227.77</td>\n",
       "    </tr>\n",
       "    <tr>\n",
       "      <th>2</th>\n",
       "      <td>02XYZXYZ10015571601</td>\n",
       "      <td>57616.10</td>\n",
       "    </tr>\n",
       "    <tr>\n",
       "      <th>3</th>\n",
       "      <td>02XYZXYZ10015592101</td>\n",
       "      <td>11712489.16</td>\n",
       "    </tr>\n",
       "    <tr>\n",
       "      <th>4</th>\n",
       "      <td>02XYZXYZ10015593701</td>\n",
       "      <td>4187990.01</td>\n",
       "    </tr>\n",
       "  </tbody>\n",
       "</table>\n",
       "</div>"
      ],
      "text/plain": [
       "        account_number     Monetery\n",
       "0  02XYZXYZ10015339701   9222574.71\n",
       "1  02XYZXYZ10015571501   4928227.77\n",
       "2  02XYZXYZ10015571601     57616.10\n",
       "3  02XYZXYZ10015592101  11712489.16\n",
       "4  02XYZXYZ10015593701   4187990.01"
      ]
     },
     "execution_count": 73,
     "metadata": {},
     "output_type": "execute_result"
    }
   ],
   "source": [
    "df_Monetery.head()"
   ]
  },
  {
   "cell_type": "code",
   "execution_count": null,
   "id": "d0d2c797-6a9f-4779-b822-e2d9ac77e902",
   "metadata": {},
   "outputs": [],
   "source": []
  }
 ],
 "metadata": {
  "kernelspec": {
   "display_name": "Python 3 (ipykernel)",
   "language": "python",
   "name": "python3"
  },
  "language_info": {
   "codemirror_mode": {
    "name": "ipython",
    "version": 3
   },
   "file_extension": ".py",
   "mimetype": "text/x-python",
   "name": "python",
   "nbconvert_exporter": "python",
   "pygments_lexer": "ipython3",
   "version": "3.10.7"
  }
 },
 "nbformat": 4,
 "nbformat_minor": 5
}
