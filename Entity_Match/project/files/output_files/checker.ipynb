{
 "cells": [
  {
   "metadata": {
    "ExecuteTime": {
     "end_time": "2024-05-30T08:08:32.295988Z",
     "start_time": "2024-05-30T08:08:30.514267Z"
    }
   },
   "cell_type": "code",
   "source": [
    "import os\n",
    "import pandas as pd\n",
    "from sklearn.feature_extraction.text import TfidfVectorizer\n",
    "from sklearn.metrics.pairwise import cosine_similarity\n",
    "import os"
   ],
   "id": "67d2a9214650c69f",
   "outputs": [],
   "execution_count": 1
  },
  {
   "metadata": {
    "ExecuteTime": {
     "end_time": "2024-05-30T08:08:35.350658Z",
     "start_time": "2024-05-30T08:08:35.330256Z"
    }
   },
   "cell_type": "code",
   "source": "final_Df = pd.read_csv('C:/Users/acer/PycharmProjects/Extenso_Assignment/Entity_Match/project/files/output_files/final_output.csv')",
   "id": "db62ad40caad2fd5",
   "outputs": [],
   "execution_count": 2
  },
  {
   "metadata": {
    "ExecuteTime": {
     "end_time": "2024-05-30T08:08:53.417479Z",
     "start_time": "2024-05-30T08:08:53.376340Z"
    }
   },
   "cell_type": "code",
   "source": "print(final_Df)",
   "id": "efa46d5f5949cba3",
   "outputs": [
    {
     "name": "stdout",
     "output_type": "stream",
     "text": [
      "    votersID  votersAge  SC Number                      Permanent_Address  \\\n",
      "0   11116874         45  001.01.01            Baluwatar, Kathmandu, Nepal   \n",
      "1   22259363         38  001.01.02               Lakeside, Pokhara, Nepal   \n",
      "2   33385241         52  001.01.03  Chitwan National Park, Chitwan, Nepal   \n",
      "3   44475489         30  001.01.04              Biratnagar, Morang, Nepal   \n",
      "4   55562139         27  001.01.05              Bharatpur, Chitwan, Nepal   \n",
      "5   66698214         41  001.01.06               Butwal, Rupandehi, Nepal   \n",
      "6   77714635         36  001.01.07              Hetauda, Makwanpur, Nepal   \n",
      "7   88847326         50  001.01.08               Janakpur, Dhanusa, Nepal   \n",
      "8   99953421         43  001.01.09                Nepalgunj, Banke, Nepal   \n",
      "9   10103847         34  001.01.10                 Dharan, Sunsari, Nepal   \n",
      "10  11113982         39  001.01.11                Birtamode, Jhapa, Nepal   \n",
      "11  12122547         48  001.01.12              Dhangadhi, Kailali, Nepal   \n",
      "12  13135698         31  001.01.13                Itahari, Sunsari, Nepal   \n",
      "13  14147652         29  001.01.14            Bhaktapur, Bhaktapur, Nepal   \n",
      "14  15158963         44  001.01.15             Kirtipur, Kathmandu, Nepal   \n",
      "15  16169852         53  001.01.16              Lalitpur, Lalitpur, Nepal   \n",
      "16  17175246         37  001.01.17                   Ghorahi, Dang, Nepal   \n",
      "17  18183569         28  001.01.18                   Tansen, Palpa, Nepal   \n",
      "18  19194258         46  001.01.19                  Bidur, Nuwakot, Nepal   \n",
      "19  20205417         40  001.01.20                    Damak, Jhapa, Nepal   \n",
      "\n",
      "                                               source  Mobile Number  \\\n",
      "0   ABC_layout_1.csv, KLM_layout_4.csv, layout_3_v...     1234567890   \n",
      "1   ABC_layout_1.csv, KLM_layout_4.csv, layout_3_v...     2345678901   \n",
      "2   ABC_layout_1.csv, KLM_layout_4.csv, layout_3_v...     3456789012   \n",
      "3   ABC_layout_1.csv, KLM_layout_4.csv, layout_3_v...     4567890123   \n",
      "4   ABC_layout_1.csv, KLM_layout_4.csv, layout_3_v...     5678901234   \n",
      "5   ABC_layout_1.csv, KLM_layout_4.csv, layout_3_v...     6789012345   \n",
      "6   ABC_layout_1.csv, KLM_layout_4.csv, layout_3_v...     7890123456   \n",
      "7   ABC_layout_1.csv, KLM_layout_4.csv, layout_3_v...     8901234567   \n",
      "8   ABC_layout_1.csv, KLM_layout_4.csv, layout_3_v...     9012345678   \n",
      "9   ABC_layout_1.csv, KLM_layout_4.csv, layout_3_v...      123456789   \n",
      "10  ABC_layout_1.csv, KLM_layout_4.csv, layout_3_v...     1234567800   \n",
      "11  ABC_layout_1.csv, KLM_layout_4.csv, layout_3_v...     2345678902   \n",
      "12  ABC_layout_1.csv, KLM_layout_4.csv, layout_3_v...     3456789013   \n",
      "13  ABC_layout_1.csv, KLM_layout_4.csv, layout_3_v...     4567890124   \n",
      "14  ABC_layout_1.csv, KLM_layout_4.csv, layout_3_v...     5678901235   \n",
      "15  ABC_layout_1.csv, KLM_layout_4.csv, layout_3_v...     6789012346   \n",
      "16  ABC_layout_1.csv, KLM_layout_4.csv, layout_3_v...     7890123457   \n",
      "17  ABC_layout_1.csv, KLM_layout_4.csv, layout_3_v...     8901234568   \n",
      "18  ABC_layout_1.csv, KLM_layout_4.csv, layout_3_v...     9012345679   \n",
      "19  ABC_layout_1.csv, KLM_layout_4.csv, layout_3_v...      123456790   \n",
      "\n",
      "    Customer ID               modified_date  Customer Code National Id  ...  \\\n",
      "0          3245  2024-05-30 08:03:59.713634       21216874      AB123C  ...   \n",
      "1          3246  2024-05-30 08:03:59.716735       22359363      DE456F  ...   \n",
      "2          3247  2024-05-30 08:03:59.718793       33485241      GH789I  ...   \n",
      "3          3248  2024-05-30 08:03:59.720843       45475489      JK012L  ...   \n",
      "4          3249  2024-05-30 08:03:59.722861       56562139      MN345O  ...   \n",
      "5          3250  2024-05-30 08:03:59.724881       67698214      PQ678R  ...   \n",
      "6          3251  2024-05-30 08:03:59.727646       78714635      ST901U  ...   \n",
      "7          3252  2024-05-30 08:03:59.730685       89847326      VW234X  ...   \n",
      "8          3253  2024-05-30 08:03:59.734478       91953421      YZ567A  ...   \n",
      "9          3254  2024-05-30 08:03:59.736733       10203847      BC890D  ...   \n",
      "10         3255  2024-05-30 08:03:59.739040       12113982      EF123G  ...   \n",
      "11         3256  2024-05-30 08:03:59.741082       13122547      HI456J  ...   \n",
      "12         3257  2024-05-30 08:03:59.744775       13235698      KL789M  ...   \n",
      "13         3258  2024-05-30 08:03:59.748557       14247652      NO012P  ...   \n",
      "14         3259  2024-05-30 08:03:59.752653       15158964      QR345S  ...   \n",
      "15         3260  2024-05-30 08:03:59.756162       16169853      TU678V  ...   \n",
      "16         3261  2024-05-30 08:03:59.758425       17375246      WX901Y  ...   \n",
      "17         3262  2024-05-30 08:03:59.763062       18383569      ZA234B  ...   \n",
      "18         3263  2024-05-30 08:03:59.767909       19294258      CD567E  ...   \n",
      "19         3264  2024-05-30 08:03:59.770694       20305417      FG890H  ...   \n",
      "\n",
      "                  Temporary_Address  License Number Blood Group  \\\n",
      "0         Gongabu, Kathmandu, Nepal  15-05-58353205         AB+   \n",
      "1          New Road, Pokhara, Nepal  21-08-00435579         AB-   \n",
      "2         Pulchowk, Lalitpur, Nepal  93-12-35351480          B-   \n",
      "3        Bagbazar, Kathmandu, Nepal  65-03-68139881          A-   \n",
      "4        Balkumari, Lalitpur, Nepal  14-11-40056582          A+   \n",
      "5        Chabahil, Kathmandu, Nepal  82-09-81734599          B-   \n",
      "6       Kumaripati, Lalitpur, Nepal  26-03-50185868         AB+   \n",
      "7   New Baneshwor, Kathmandu, Nepal  98-03-72394228          A-   \n",
      "8          Boudha, Kathmandu, Nepal  68-01-80388982          B-   \n",
      "9         Kalanki, Kathmandu, Nepal  42-08-02614125          A-   \n",
      "10          Sanepa, Lalitpur, Nepal  15-06-41273848          O+   \n",
      "11    Putalisadak, Kathmandu, Nepal  31-01-32329238         AB+   \n",
      "12        Tinkune, Kathmandu, Nepal  73-02-11496212          O-   \n",
      "13     Sinamangal, Kathmandu, Nepal  94-08-09289547         AB-   \n",
      "14         Thamel, Kathmandu, Nepal  98-09-16879291          B+   \n",
      "15      Jawalakhel, Lalitpur, Nepal  17-11-63791321         AB-   \n",
      "16      Maitighar, Kathmandu, Nepal  71-03-35575299         AB-   \n",
      "17    Buddhanagar, Kathmandu, Nepal  68-10-56792613          B-   \n",
      "18          Naxal, Kathmandu, Nepal  28-09-97969690         AB+   \n",
      "19       Gaushala, Kathmandu, Nepal  89-04-95690392          A-   \n",
      "\n",
      "                                             soup1              Father_Name  \\\n",
      "0              ramthapa 1990-01-01 rambahadurthapa        Ram Bahadur Thapa   \n",
      "1       sitashrestha 1991-02-02 hariprasadshrestha     Hari Prasad Shrestha   \n",
      "2         harigurung 1992-03-03 gopalkrishnagurung     Gopal Krishna Gurung   \n",
      "3             gitatamang 1993-04-04 shyamlaltamang         Shyam Lal Tamang   \n",
      "4              mohanlama 1994-05-05 krishnarajlama         Krishna Raj Lama   \n",
      "5          radhamagar 1995-06-06 narayankumarmagar      Narayan Kumar Magar   \n",
      "6          krishnarai 1996-07-07 govindabahadurrai      Govinda Bahadur Rai   \n",
      "7       saritasherpa 1997-08-08 shivanarayansherpa     Shiva Narayan Sherpa   \n",
      "8     bikashkarki 1998-09-09 bhagirathbahadurkarki  Bhagirath Bahadur Karki   \n",
      "9    nishabhandari 1999-10-10 suryabahadurbhandari   Surya Bahadur Bhandari   \n",
      "10   aaravadhikari 2000-11-11 rajanbahaduradhikari   Rajan Bahadur Adhikari   \n",
      "11        snehajoshi 2001-12-12 rameshbahadurjoshi     Ramesh Bahadur Joshi   \n",
      "12         pratikshahi 1989-01-13 sureshkumarshahi       Suresh Kumar Shahi   \n",
      "13     anjubhattarai 1988-02-14 dineshrajbhattarai     Dinesh Raj Bhattarai   \n",
      "14  manishmaharjan 1987-03-15 bijaybahadurmaharjan   Bijay Bahadur Maharjan   \n",
      "15               pujakc 1986-04-16 rameshbahadurkc        Ramesh Bahadur KC   \n",
      "16       anilkhadka 1985-05-17 rajeshbahadurkhadka    Rajesh Bahadur Khadka   \n",
      "17         ritarimal 1984-06-18 ganeshbahadurrimal     Ganesh Bahadur Rimal   \n",
      "18   pratikshadahal 1983-07-19 santoshbahadurdahal    Santosh Bahadur Dahal   \n",
      "19   dipeshpokharel 1982-08-20 shyamsundarpokharel    Shyam Sundar Pokharel   \n",
      "\n",
      "     Gender      Citizenship Number      Mother Name Date of Birth  \\\n",
      "0      Male  624-93227-32431/660086      Laxmi Thapa    1990-01-01   \n",
      "1    Female  747-42087-31417/584714     Radha Sharma    1991-02-02   \n",
      "2      Male  389-45382-93886/821590    Gita Adhikari    1992-03-03   \n",
      "3    Female  571-38785-99733/440035         Mina Rai    1993-04-04   \n",
      "4      Male  864-17331-40021/961722    Kalpana Karki    1994-05-05   \n",
      "5    Female  033-51347-62581/380746      Nima Gurung    1995-06-06   \n",
      "6      Male  068-37653-84341/852787    Saru Shrestha    1996-07-07   \n",
      "7    Female  323-37869-95909/623481    Nanu Maharjan    1997-08-08   \n",
      "8      Male  406-94259-70142/249811     Lhamu Tamang    1998-09-09   \n",
      "9    Female  272-28301-42325/881177          Lila KC    1999-10-10   \n",
      "10     Male  575-80644-44438/883300   Chandra Khadka    2000-11-11   \n",
      "11   Female  599-66155-86484/518801     Tulasa Magar    2001-12-12   \n",
      "12     Male  371-38746-28131/634277      Ganga Yadav    1989-01-13   \n",
      "13   Female  506-21915-16175/214975     Sunita Bista    1988-02-14   \n",
      "14     Male  157-92240-30969/930555      Gita Dhakal    1987-03-15   \n",
      "15   Female  697-65333-88172/166613       Laxmi Pant    1986-04-16   \n",
      "16     Male  395-60019-88104/590785     Sarita Joshi    1985-05-17   \n",
      "17   Female  542-42953-82512/112038  Meena Bhattarai    1984-06-18   \n",
      "18     Male  697-25014-99353/663054     Manju Gurung    1983-07-19   \n",
      "19   Female  769-44973-94012/456699        Rita Lama    1982-08-20   \n",
      "\n",
      "         SpouseName  \n",
      "0        Sita Thapa  \n",
      "1       Ravi Sharma  \n",
      "2     Maya Adhikari  \n",
      "3         Surya Rai  \n",
      "4      Sarita Karki  \n",
      "5      Pemba Gurung  \n",
      "6    Laxmi Shrestha  \n",
      "7      Raj Maharjan  \n",
      "8       Pema Tamang  \n",
      "9         Manish KC  \n",
      "10     Nisha Khadka  \n",
      "11      Kamal Magar  \n",
      "12       Sita Yadav  \n",
      "13       Mina Bista  \n",
      "14       Ram Dhakal  \n",
      "15       Radha Pant  \n",
      "16       Amit Joshi  \n",
      "17  Anita Bhattarai  \n",
      "18      Sanu Gurung  \n",
      "19        Hari Lama  \n",
      "\n",
      "[20 rows x 22 columns]\n"
     ]
    }
   ],
   "execution_count": 5
  },
  {
   "metadata": {},
   "cell_type": "code",
   "outputs": [],
   "execution_count": null,
   "source": "final_Df",
   "id": "8432c2830da8cc0f"
  },
  {
   "cell_type": "code",
   "id": "initial_id",
   "metadata": {
    "collapsed": true,
    "ExecuteTime": {
     "end_time": "2024-05-30T07:24:56.260120Z",
     "start_time": "2024-05-30T07:24:56.228870Z"
    }
   },
   "source": [
    "def get_file_names(directory):\n",
    "    # Get the list of files in the specified directory\n",
    "    files = os.listdir(directory)\n",
    "    \n",
    "    # Extract only the file names without the extensions\n",
    "    file_names = [os.path.splitext(file)[0] for file in files]\n",
    "    \n",
    "    return file_names"
   ],
   "execution_count": 16,
   "outputs": []
  },
  {
   "metadata": {
    "ExecuteTime": {
     "end_time": "2024-05-30T07:24:56.811936Z",
     "start_time": "2024-05-30T07:24:56.796306Z"
    }
   },
   "cell_type": "code",
   "source": "name = get_file_names('C:/Users/acer/PycharmProjects/Extenso_Assignment/Entity_Match/project/files/input_files')",
   "id": "365d6f58bbf3371a",
   "execution_count": 17,
   "outputs": []
  },
  {
   "metadata": {
    "ExecuteTime": {
     "end_time": "2024-05-30T07:25:08.380200Z",
     "start_time": "2024-05-30T07:25:08.364504Z"
    }
   },
   "cell_type": "code",
   "source": "name",
   "id": "ded04c8744977bca",
   "execution_count": 18,
   "outputs": []
  },
  {
   "metadata": {
    "ExecuteTime": {
     "end_time": "2024-05-30T07:25:09.729007Z",
     "start_time": "2024-05-30T07:25:09.713382Z"
    }
   },
   "cell_type": "code",
   "source": [
    "def load_df(filename, file_path='../data'):\n",
    "    full_path = os.path.join(file_path, f'{filename}.csv')\n",
    "    try:\n",
    "        df = pd.read_csv(full_path)\n",
    "        print(f\"File '{filename}.csv' loaded successfully from '{file_path}'.\")\n",
    "        return df\n",
    "    except FileNotFoundError:\n",
    "        print(f\"Error: The file '{filename}.csv' was not found in the directory '{file_path}'.\")\n",
    "    except pd.errors.EmptyDataError:\n",
    "        print(f\"Error: The file '{filename}.csv' is empty.\")\n",
    "    except pd.errors.ParserError:\n",
    "        print(f\"Error: The file '{filename}.csv' could not be parsed.\")\n",
    "    except Exception as e:\n",
    "        print(f\"An unexpected error occurred: {e}\")"
   ],
   "id": "65715579a1db12f8",
   "execution_count": 19,
   "outputs": []
  },
  {
   "metadata": {
    "ExecuteTime": {
     "end_time": "2024-05-30T07:25:12.094884Z",
     "start_time": "2024-05-30T07:25:12.079015Z"
    }
   },
   "cell_type": "code",
   "source": [
    "layouts = []\n",
    "for i,j in enumerate(name):"
   ],
   "id": "4738608d4a79898c",
   "execution_count": 20,
   "outputs": []
  },
  {
   "metadata": {
    "ExecuteTime": {
     "end_time": "2024-05-30T07:26:22.459282Z",
     "start_time": "2024-05-30T07:26:22.443628Z"
    }
   },
   "cell_type": "code",
   "source": [
    "def load_df_from_dir(dir_path):\n",
    "    csv_files = [f for f in os.listdir(dir_path) if f.endswith(\".csv\")]\n",
    "    layouts = []\n",
    "\n",
    "    for csv_file in csv_files:\n",
    "        file_path = os.path.join(dir_path, csv_file)\n",
    "        df = pd.read_csv(file_path)\n",
    "        layouts.append(df)\n",
    "    \n",
    "    return layouts"
   ],
   "id": "c688b471effbfb21",
   "execution_count": 25,
   "outputs": []
  },
  {
   "metadata": {
    "ExecuteTime": {
     "end_time": "2024-05-30T07:26:23.141189Z",
     "start_time": "2024-05-30T07:26:23.052366Z"
    }
   },
   "cell_type": "code",
   "source": "layouts = load_df_from_dir('C:/Users/acer/PycharmProjects/Extenso_Assignment/Entity_Match/project/files/input_files')",
   "id": "4f03a387f89e5a5",
   "execution_count": 26,
   "outputs": []
  },
  {
   "metadata": {
    "ExecuteTime": {
     "end_time": "2024-05-30T07:26:34.864167Z",
     "start_time": "2024-05-30T07:26:34.832812Z"
    }
   },
   "cell_type": "code",
   "source": "layouts[0]",
   "id": "e0249a1dc2b21b11",
   "execution_count": 28,
   "outputs": []
  },
  {
   "metadata": {
    "ExecuteTime": {
     "end_time": "2024-05-30T07:27:16.633340Z",
     "start_time": "2024-05-30T07:27:16.617718Z"
    }
   },
   "cell_type": "code",
   "source": [
    "def sanitize(df):\n",
    "    return df.map(lambda x: x.replace(',', '').replace(' ', '').strip() if isinstance(x, str) else '' if pd.isna(x) else x)"
   ],
   "id": "edbb8d3a2c6a5fc4",
   "execution_count": 29,
   "outputs": []
  },
  {
   "metadata": {
    "ExecuteTime": {
     "end_time": "2024-05-30T07:27:26.714074Z",
     "start_time": "2024-05-30T07:27:26.682817Z"
    }
   },
   "cell_type": "code",
   "source": [
    "layout_copies = []\n",
    "for layout in layouts:\n",
    "    try:\n",
    "        if layout is not None:\n",
    "            sanitized_layout = sanitize(layout.copy())\n",
    "            layout_copies.append(sanitized_layout)\n",
    "        else:\n",
    "            layout_copies.append(None)\n",
    "    except Exception as e:\n",
    "        print(f\"An error occurred while sanitizing a layout: {e}\")\n",
    "        layout_copies.append(None)"
   ],
   "id": "3137798b023dcbb2",
   "execution_count": 30,
   "outputs": []
  },
  {
   "metadata": {
    "ExecuteTime": {
     "end_time": "2024-05-30T07:27:36.222396Z",
     "start_time": "2024-05-30T07:27:36.191145Z"
    }
   },
   "cell_type": "code",
   "source": [
    "for i in range(len(layout_copies)):\n",
    "    layout_copies[i] = sanitize(layout_copies[i])"
   ],
   "id": "95cdab49a42986e1",
   "execution_count": 31,
   "outputs": []
  },
  {
   "metadata": {
    "ExecuteTime": {
     "end_time": "2024-05-30T07:27:43.135689Z",
     "start_time": "2024-05-30T07:27:43.088251Z"
    }
   },
   "cell_type": "code",
   "source": [
    "def create_soup(df, df_, soup, soup_name):\n",
    "    df[soup_name] = df_[soup].apply(lambda x: ' '.join(x.values.astype(str)).lower(), axis=1)\n",
    "\n",
    "soup = ['Name', 'Date of Birth', 'Father_Name']\n",
    "\n",
    "for i, j, k, in zip(layouts, layout_copies, range(len(layouts))):\n",
    "    create_soup(i, j, soup, f\"soup{k+1}\")"
   ],
   "id": "5240a1d13841cf34",
   "execution_count": 32,
   "outputs": []
  },
  {
   "metadata": {
    "ExecuteTime": {
     "end_time": "2024-05-30T07:27:58.883013Z",
     "start_time": "2024-05-30T07:27:58.867386Z"
    }
   },
   "cell_type": "code",
   "source": [
    "def combine(A, B, soup_A, soup_B, threshold=0.3):\n",
    "    # Initialize the TF-IDF Vectorizer\n",
    "    tfidf = TfidfVectorizer(stop_words='english')\n",
    "    \n",
    "    # Combine the textual data for fitting the TF-IDF model\n",
    "    combined_soup = pd.concat([A[soup_A], B[soup_B]], ignore_index=True)\n",
    "    tfidf.fit(combined_soup)\n",
    "    \n",
    "    # Transform the textual data into TF-IDF matrices\n",
    "    tfidf_matrix_A = tfidf.transform(A[soup_A])\n",
    "    tfidf_matrix_B = tfidf.transform(B[soup_B])\n",
    "    \n",
    "    # Compute cosine similarity between the two matrices\n",
    "    similarity = cosine_similarity(tfidf_matrix_A, tfidf_matrix_B)\n",
    "    similarity_df = pd.DataFrame(similarity, index=A.index, columns=B.index)\n",
    "    \n",
    "    # Determine the index of the most similar row in B for each row in A\n",
    "    max_idx_row = similarity_df.idxmax(axis=1)\n",
    "    similarity_mask = similarity_df.max(axis=1) >= threshold\n",
    "    \n",
    "    # Initialize the combined DataFrame with A, ensuring all columns from both DataFrames\n",
    "    combined_columns = list(set(A.columns) | set(B.columns))\n",
    "    combined_data = pd.DataFrame(columns=combined_columns)\n",
    "    \n",
    "    # Merge the similar rows \n",
    "    for idx_A in A.index:\n",
    "        if similarity_mask[idx_A]:\n",
    "            idx_B = max_idx_row[idx_A]\n",
    "            combined_row = A.loc[idx_A].combine_first(B.loc[idx_B])\n",
    "        else:\n",
    "            combined_row = A.loc[idx_A]\n",
    "        combined_data = pd.concat([combined_data, combined_row.to_frame().T], ignore_index=True)\n",
    "    \n",
    "    # Append non-similar rows from B to A\n",
    "    new_records = B.loc[~B.index.isin(max_idx_row[similarity_mask].values)]\n",
    "    result = pd.concat([combined_data, new_records], ignore_index=True)\n",
    "    result.drop(columns=soup_B, inplace=True)\n",
    "    return result"
   ],
   "id": "e56a4daedc65e0e5",
   "execution_count": 33,
   "outputs": []
  },
  {
   "metadata": {
    "ExecuteTime": {
     "end_time": "2024-05-30T07:29:44.297489Z",
     "start_time": "2024-05-30T07:29:43.770335Z"
    }
   },
   "cell_type": "code",
   "source": [
    "result_12 = combine(layouts[0], layouts[1], 'soup1', 'soup2')\n",
    "result_123 = combine(result_12, layouts[2], 'soup1', 'soup3')\n",
    "result_1234 = combine(result_123, layouts[3], 'soup1', 'soup4')\n",
    "final_result = combine(result_1234, layouts[4], 'soup1', 'soup5')"
   ],
   "id": "a019476682865932",
   "execution_count": 36,
   "outputs": []
  },
  {
   "metadata": {
    "ExecuteTime": {
     "end_time": "2024-05-30T07:29:48.793506Z",
     "start_time": "2024-05-30T07:29:48.746632Z"
    }
   },
   "cell_type": "code",
   "source": "final_result",
   "id": "2704f0b6fbd24933",
   "execution_count": 37,
   "outputs": []
  },
  {
   "metadata": {},
   "cell_type": "code",
   "execution_count": null,
   "source": "",
   "id": "a6226d3ef5f8f8ed",
   "outputs": []
  }
 ],
 "metadata": {
  "kernelspec": {
   "display_name": "Python 3",
   "language": "python",
   "name": "python3"
  },
  "language_info": {
   "codemirror_mode": {
    "name": "ipython",
    "version": 2
   },
   "file_extension": ".py",
   "mimetype": "text/x-python",
   "name": "python",
   "nbconvert_exporter": "python",
   "pygments_lexer": "ipython2",
   "version": "2.7.6"
  }
 },
 "nbformat": 4,
 "nbformat_minor": 5
}
