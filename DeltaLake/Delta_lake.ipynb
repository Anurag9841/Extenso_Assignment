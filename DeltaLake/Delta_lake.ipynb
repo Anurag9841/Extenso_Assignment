{
 "cells": [
  {
   "cell_type": "code",
   "id": "initial_id",
   "metadata": {
    "collapsed": true,
    "ExecuteTime": {
     "end_time": "2024-05-30T06:40:15.511331Z",
     "start_time": "2024-05-30T06:40:15.489521Z"
    }
   },
   "source": [
    "import pyspark\n",
    "from delta import *\n",
    "from pyspark.sql.types import *\n",
    "from delta.tables import *\n",
    "from pyspark.sql.functions import *"
   ],
   "outputs": [],
   "execution_count": 20
  },
  {
   "metadata": {
    "ExecuteTime": {
     "end_time": "2024-05-30T06:40:16.565704Z",
     "start_time": "2024-05-30T06:40:16.551078Z"
    }
   },
   "cell_type": "code",
   "source": [
    "builder = pyspark.sql.SparkSession.builder.appName(\"DeltaTutorial\") \\\n",
    "    .config(\"spark.sql.extensions\", \"io.delta.sql.DeltaSparkSessionExtension\") \\\n",
    "    .config(\"spark.sql.catalog.spark_catalog\", \"org.apache.spark.sql.delta.catalog.DeltaCatalog\")"
   ],
   "id": "c522058b7a93867f",
   "outputs": [],
   "execution_count": 21
  },
  {
   "metadata": {
    "ExecuteTime": {
     "end_time": "2024-05-30T06:40:17.418559Z",
     "start_time": "2024-05-30T06:40:17.295485Z"
    }
   },
   "cell_type": "code",
   "source": [
    "spark = configure_spark_with_delta_pip(builder).getOrCreate()\n",
    "spark.sparkContext.setLogLevel(\"ERROR\")"
   ],
   "id": "d2d04afbef4ba2ea",
   "outputs": [],
   "execution_count": 22
  },
  {
   "metadata": {
    "ExecuteTime": {
     "end_time": "2024-05-30T06:40:18.050772Z",
     "start_time": "2024-05-30T06:40:18.035242Z"
    }
   },
   "cell_type": "code",
   "source": [
    "print(\"Starting Delta table creation\")\n",
    "\n",
    "data=[(1,\"Anurag\",\"Karki\",\"Dhumbarahi\",24),\n",
    "      (2,\"Anuska\",\"Karki\",\"Pragatitole\",21),\n",
    "      (3,\"Ngawang\",\"Gurung\",\"Chandol\",22),\n",
    "      (4,\"Beses\",\"Kafle\",\"Gatthaghar\",23),\n",
    "      (5,\"Kalyan\",\"Adhikari\",\"Chabhil\",26),\n",
    "      (6,\"Bishal\",\"Neupane\",\"Kapan\",20)]"
   ],
   "id": "1f0030c35781931c",
   "outputs": [
    {
     "name": "stdout",
     "output_type": "stream",
     "text": [
      "Starting Delta table creation\n"
     ]
    }
   ],
   "execution_count": 23
  },
  {
   "metadata": {
    "ExecuteTime": {
     "end_time": "2024-05-30T06:40:18.706460Z",
     "start_time": "2024-05-30T06:40:18.697922Z"
    }
   },
   "cell_type": "code",
   "source": [
    "schema = StructType([\n",
    "    StructField(\"Id\", IntegerType(), True),\n",
    "    StructField(\"FirstName\", StringType(), True),\n",
    "    StructField(\"LastName\", StringType(), True),\n",
    "    StructField(\"Location\", StringType(), True),\n",
    "    StructField(\"Age\", IntegerType(), True)\n",
    "])"
   ],
   "id": "ebfd911e130f0ced",
   "outputs": [],
   "execution_count": 24
  },
  {
   "metadata": {
    "ExecuteTime": {
     "end_time": "2024-05-30T06:40:19.393837Z",
     "start_time": "2024-05-30T06:40:19.324542Z"
    }
   },
   "cell_type": "code",
   "source": "sample_dataframe = spark.createDataFrame(data=data, schema=schema)",
   "id": "e3ea0774843f9b0d",
   "outputs": [],
   "execution_count": 25
  },
  {
   "metadata": {
    "ExecuteTime": {
     "end_time": "2024-05-30T06:40:26.751521Z",
     "start_time": "2024-05-30T06:40:20.048324Z"
    }
   },
   "cell_type": "code",
   "source": "sample_dataframe.write.mode(saveMode=\"overwrite\").format(\"delta\").save(\"data/delta-table\")",
   "id": "710844fd50c252c5",
   "outputs": [],
   "execution_count": 26
  },
  {
   "metadata": {
    "ExecuteTime": {
     "end_time": "2024-05-30T06:40:31.811094Z",
     "start_time": "2024-05-30T06:40:26.754531Z"
    }
   },
   "cell_type": "code",
   "source": "sample_dataframe.show()",
   "id": "33082912fe01eea5",
   "outputs": [
    {
     "name": "stdout",
     "output_type": "stream",
     "text": [
      "+---+---------+--------+-----------+---+\n",
      "| Id|FirstName|LastName|   Location|Age|\n",
      "+---+---------+--------+-----------+---+\n",
      "|  1|   Anurag|   Karki| Dhumbarahi| 24|\n",
      "|  2|   Anuska|   Karki|Pragatitole| 21|\n",
      "|  3|  Ngawang|  Gurung|    Chandol| 22|\n",
      "|  4|    Beses|   Kafle| Gatthaghar| 23|\n",
      "|  5|   Kalyan|Adhikari|    Chabhil| 26|\n",
      "|  6|   Bishal| Neupane|      Kapan| 20|\n",
      "+---+---------+--------+-----------+---+\n",
      "\n"
     ]
    }
   ],
   "execution_count": 27
  },
  {
   "metadata": {
    "ExecuteTime": {
     "end_time": "2024-05-30T06:37:02.061142Z",
     "start_time": "2024-05-30T06:37:02.042810Z"
    }
   },
   "cell_type": "code",
   "source": "sample_dataframe.printSchema()",
   "id": "8dba8bf74783c7d5",
   "outputs": [
    {
     "name": "stdout",
     "output_type": "stream",
     "text": [
      "root\n",
      " |-- Id: integer (nullable = true)\n",
      " |-- FirstName: string (nullable = true)\n",
      " |-- LastName: string (nullable = true)\n",
      " |-- Location: string (nullable = true)\n",
      " |-- Age: integer (nullable = true)\n",
      "\n"
     ]
    }
   ],
   "execution_count": 14
  },
  {
   "metadata": {
    "ExecuteTime": {
     "end_time": "2024-05-30T06:40:42.936977Z",
     "start_time": "2024-05-30T06:40:42.896869Z"
    }
   },
   "cell_type": "code",
   "source": "deltaTable = DeltaTable.forPath(spark, \"data/delta-table\")",
   "id": "d4aaf243f093801",
   "outputs": [],
   "execution_count": 28
  },
  {
   "metadata": {
    "ExecuteTime": {
     "end_time": "2024-05-30T06:46:37.763169Z",
     "start_time": "2024-05-30T06:46:36.244065Z"
    }
   },
   "cell_type": "code",
   "source": [
    "deltaTable.update(\n",
    "    condition = expr('firstName == \"Kalyan\"'),\n",
    "    set = {\"id\":lit(5),\"firstName\": lit(\"Kalyan\"),\"lastname\":lit(\"Adhikaris\"),\"location\":lit(\"Chabhils\"),\"age\":lit(28)}\n",
    ")"
   ],
   "id": "d3c76b50744b6b01",
   "outputs": [],
   "execution_count": 31
  },
  {
   "metadata": {
    "ExecuteTime": {
     "end_time": "2024-05-30T06:46:43.974728Z",
     "start_time": "2024-05-30T06:46:41.761445Z"
    }
   },
   "cell_type": "code",
   "source": "deltaTable.toDF().show()",
   "id": "e668d25f4e934e32",
   "outputs": [
    {
     "name": "stdout",
     "output_type": "stream",
     "text": [
      "+---+---------+---------+-----------+---+\n",
      "| Id|FirstName| LastName|   Location|Age|\n",
      "+---+---------+---------+-----------+---+\n",
      "|  5|   Kalyan|Adhikaris|   Chabhils| 28|\n",
      "|  2|   Anuska|    Karki|Pragatitole| 21|\n",
      "|  1|   Anurag|    Karki| Dhumbarahi| 24|\n",
      "|  4|    Beses|    Kafle| Gatthaghar| 23|\n",
      "|  3|  Ngawang|   Gurung|    Chandol| 22|\n",
      "|  6|   Bishal|  Neupane|      Kapan| 20|\n",
      "+---+---------+---------+-----------+---+\n",
      "\n"
     ]
    }
   ],
   "execution_count": 32
  },
  {
   "metadata": {},
   "cell_type": "code",
   "outputs": [],
   "execution_count": null,
   "source": "",
   "id": "1023efafbf0f9404"
  }
 ],
 "metadata": {
  "kernelspec": {
   "display_name": "Python 3",
   "language": "python",
   "name": "python3"
  },
  "language_info": {
   "codemirror_mode": {
    "name": "ipython",
    "version": 2
   },
   "file_extension": ".py",
   "mimetype": "text/x-python",
   "name": "python",
   "nbconvert_exporter": "python",
   "pygments_lexer": "ipython2",
   "version": "2.7.6"
  }
 },
 "nbformat": 4,
 "nbformat_minor": 5
}
