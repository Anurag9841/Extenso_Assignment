{
 "cells": [
  {
   "cell_type": "code",
   "id": "initial_id",
   "metadata": {
    "collapsed": true,
    "ExecuteTime": {
     "end_time": "2024-07-02T07:16:33.616928Z",
     "start_time": "2024-07-02T07:16:33.062047Z"
    }
   },
   "source": [
    "import pyspark\n",
    "from delta import *\n",
    "from pyspark.sql.types import *\n",
    "from delta.tables import *\n",
    "from pyspark.sql.functions import *"
   ],
   "outputs": [],
   "execution_count": 1
  },
  {
   "metadata": {
    "ExecuteTime": {
     "end_time": "2024-07-02T07:16:33.632559Z",
     "start_time": "2024-07-02T07:16:33.616928Z"
    }
   },
   "cell_type": "code",
   "source": [
    "builder = pyspark.sql.SparkSession.builder.appName(\"DeltaTutorial\") \\\n",
    "    .config(\"spark.sql.extensions\", \"io.delta.sql.DeltaSparkSessionExtension\") \\\n",
    "    .config(\"spark.sql.catalog.spark_catalog\", \"org.apache.spark.sql.delta.catalog.DeltaCatalog\")"
   ],
   "id": "c522058b7a93867f",
   "outputs": [],
   "execution_count": 2
  },
  {
   "metadata": {
    "ExecuteTime": {
     "end_time": "2024-07-02T07:16:49.700086Z",
     "start_time": "2024-07-02T07:16:33.632559Z"
    }
   },
   "cell_type": "code",
   "source": [
    "spark = configure_spark_with_delta_pip(builder).getOrCreate()\n",
    "spark.sparkContext.setLogLevel(\"ERROR\")"
   ],
   "id": "d2d04afbef4ba2ea",
   "outputs": [],
   "execution_count": 3
  },
  {
   "metadata": {
    "ExecuteTime": {
     "end_time": "2024-07-02T07:16:49.715754Z",
     "start_time": "2024-07-02T07:16:49.700086Z"
    }
   },
   "cell_type": "code",
   "source": [
    "print(\"Starting Delta table creation\")\n",
    "\n",
    "data=[(1,\"Anurag\",\"Karki\",\"Dhumbarahi\",24),\n",
    "      (2,\"Anuska\",\"Karki\",\"Pragatitole\",21),\n",
    "      (3,\"Ngawang\",\"Gurung\",\"Chandol\",22),\n",
    "      (4,\"Beses\",\"Kafle\",\"Gatthaghar\",23),\n",
    "      (5,\"Kalyan\",\"Adhikari\",\"Chabhil\",26),\n",
    "      (6,\"Bishal\",\"Neupane\",\"Kapan\",20)]"
   ],
   "id": "1f0030c35781931c",
   "outputs": [
    {
     "name": "stdout",
     "output_type": "stream",
     "text": [
      "Starting Delta table creation\n"
     ]
    }
   ],
   "execution_count": 4
  },
  {
   "metadata": {
    "ExecuteTime": {
     "end_time": "2024-07-02T07:16:49.731338Z",
     "start_time": "2024-07-02T07:16:49.715754Z"
    }
   },
   "cell_type": "code",
   "source": [
    "schema = StructType([\n",
    "    StructField(\"Id\", IntegerType(), True),\n",
    "    StructField(\"FirstName\", StringType(), True),\n",
    "    StructField(\"LastName\", StringType(), True),\n",
    "    StructField(\"Location\", StringType(), True),\n",
    "    StructField(\"Age\", IntegerType(), True)\n",
    "])"
   ],
   "id": "ebfd911e130f0ced",
   "outputs": [],
   "execution_count": 5
  },
  {
   "metadata": {},
   "cell_type": "markdown",
   "source": "## Insert data",
   "id": "f98cad5f5daedf5b"
  },
  {
   "metadata": {
    "ExecuteTime": {
     "end_time": "2024-07-02T07:17:02.292238Z",
     "start_time": "2024-07-02T07:16:53.427962Z"
    }
   },
   "cell_type": "code",
   "source": "sample_dataframe = spark.createDataFrame(data=data, schema=schema)",
   "id": "e3ea0774843f9b0d",
   "outputs": [],
   "execution_count": 6
  },
  {
   "metadata": {
    "ExecuteTime": {
     "end_time": "2024-07-02T07:17:34.523201Z",
     "start_time": "2024-07-02T07:17:02.292238Z"
    }
   },
   "cell_type": "code",
   "source": "sample_dataframe.write.mode(saveMode=\"overwrite\").format(\"delta\").save(\"data/delta-table\")",
   "id": "710844fd50c252c5",
   "outputs": [],
   "execution_count": 7
  },
  {
   "metadata": {
    "ExecuteTime": {
     "end_time": "2024-07-02T07:17:41.914229Z",
     "start_time": "2024-07-02T07:17:34.523201Z"
    }
   },
   "cell_type": "code",
   "source": "sample_dataframe.show()",
   "id": "33082912fe01eea5",
   "outputs": [
    {
     "name": "stdout",
     "output_type": "stream",
     "text": [
      "+---+---------+--------+-----------+---+\n",
      "| Id|FirstName|LastName|   Location|Age|\n",
      "+---+---------+--------+-----------+---+\n",
      "|  1|   Anurag|   Karki| Dhumbarahi| 24|\n",
      "|  2|   Anuska|   Karki|Pragatitole| 21|\n",
      "|  3|  Ngawang|  Gurung|    Chandol| 22|\n",
      "|  4|    Beses|   Kafle| Gatthaghar| 23|\n",
      "|  5|   Kalyan|Adhikari|    Chabhil| 26|\n",
      "|  6|   Bishal| Neupane|      Kapan| 20|\n",
      "+---+---------+--------+-----------+---+\n",
      "\n"
     ]
    }
   ],
   "execution_count": 8
  },
  {
   "metadata": {
    "ExecuteTime": {
     "end_time": "2024-07-02T07:17:41.929848Z",
     "start_time": "2024-07-02T07:17:41.914229Z"
    }
   },
   "cell_type": "code",
   "source": "sample_dataframe.printSchema()",
   "id": "8dba8bf74783c7d5",
   "outputs": [
    {
     "name": "stdout",
     "output_type": "stream",
     "text": [
      "root\n",
      " |-- Id: integer (nullable = true)\n",
      " |-- FirstName: string (nullable = true)\n",
      " |-- LastName: string (nullable = true)\n",
      " |-- Location: string (nullable = true)\n",
      " |-- Age: integer (nullable = true)\n",
      "\n"
     ]
    }
   ],
   "execution_count": 9
  },
  {
   "metadata": {
    "ExecuteTime": {
     "end_time": "2024-07-02T07:17:42.039223Z",
     "start_time": "2024-07-02T07:17:41.929848Z"
    }
   },
   "cell_type": "code",
   "source": "deltaTable = DeltaTable.forPath(spark, \"data/delta-table\")",
   "id": "d4aaf243f093801",
   "outputs": [],
   "execution_count": 10
  },
  {
   "metadata": {
    "ExecuteTime": {
     "end_time": "2024-07-02T07:17:49.149064Z",
     "start_time": "2024-07-02T07:17:42.039223Z"
    }
   },
   "cell_type": "code",
   "source": [
    "deltaTable.update(\n",
    "    condition = expr('firstName == \"Kalyan\"'),\n",
    "    set = {\"id\":lit(5),\"firstName\": lit(\"Kalyan\"),\"lastname\":lit(\"Adhikaris\"),\"location\":lit(\"Chabhils\"),\"age\":lit(28)}\n",
    ")"
   ],
   "id": "d3c76b50744b6b01",
   "outputs": [],
   "execution_count": 11
  },
  {
   "metadata": {
    "ExecuteTime": {
     "end_time": "2024-07-02T07:17:52.439880Z",
     "start_time": "2024-07-02T07:17:49.149064Z"
    }
   },
   "cell_type": "code",
   "source": "deltaTable.toDF().show()",
   "id": "e668d25f4e934e32",
   "outputs": [
    {
     "name": "stdout",
     "output_type": "stream",
     "text": [
      "+---+---------+---------+-----------+---+\n",
      "| Id|FirstName| LastName|   Location|Age|\n",
      "+---+---------+---------+-----------+---+\n",
      "|  5|   Kalyan|Adhikaris|   Chabhils| 28|\n",
      "|  2|   Anuska|    Karki|Pragatitole| 21|\n",
      "|  1|   Anurag|    Karki| Dhumbarahi| 24|\n",
      "|  3|  Ngawang|   Gurung|    Chandol| 22|\n",
      "|  4|    Beses|    Kafle| Gatthaghar| 23|\n",
      "|  6|   Bishal|  Neupane|      Kapan| 20|\n",
      "+---+---------+---------+-----------+---+\n",
      "\n"
     ]
    }
   ],
   "execution_count": 12
  },
  {
   "metadata": {
    "ExecuteTime": {
     "end_time": "2024-07-02T07:17:52.455523Z",
     "start_time": "2024-07-02T07:17:52.439880Z"
    }
   },
   "cell_type": "code",
   "source": [
    "'''upsert in deltalake\n",
    "upsert  = update plus insert \n",
    "'''\n",
    "data = [(1,\"Ngawang\",\"Gurung\",\"Dallu\",23),\n",
    "        (2,\"Bishesh\",\"Kafle\",\"Jorpati\",24)]\n",
    "schema = StructType([StructField(\"id\",IntegerType(),True),\n",
    "StructField(\"FirstName\",StringType(),True),\n",
    "StructField(\"LastName\",StringType(),True),\n",
    "StructField(\"Location\",StringType(),True),\n",
    "StructField(\"Age\",IntegerType(),True)])"
   ],
   "id": "1023efafbf0f9404",
   "outputs": [],
   "execution_count": 13
  },
  {
   "metadata": {
    "ExecuteTime": {
     "end_time": "2024-07-02T07:17:52.524185Z",
     "start_time": "2024-07-02T07:17:52.457038Z"
    }
   },
   "cell_type": "code",
   "source": "newData = spark.createDataFrame(data=data,schema = schema)",
   "id": "a6a2dace50b983b9",
   "outputs": [],
   "execution_count": 14
  },
  {
   "metadata": {},
   "cell_type": "markdown",
   "source": "## Updating and inserting Data",
   "id": "274fd814ed60a6f1"
  },
  {
   "metadata": {
    "ExecuteTime": {
     "end_time": "2024-07-02T07:18:26.890431Z",
     "start_time": "2024-07-02T07:18:17.917038Z"
    }
   },
   "cell_type": "code",
   "source": [
    "deltaTable.alias(\"oldData\").merge(newData.alias(\"newData\"),\n",
    "                                  \"oldData.FirstName = newData.FirstName\")\\\n",
    ".whenMatchedUpdate(set={\"Id\":col('newData.id'),\"FirstName\":col('newData.FirstName'),\"LastName\":col('newData.LastName'),'Location':col('newData.Location'),\"Age\":\n",
    "             col('newData.Age')})\\\n",
    ".whenNotMatchedInsert(values={\"Id\":col('newData.id'),\"FirstName\":col('newData.FirstName'),\"LastName\":col('newData.LastName'),'Location':col('newData.Location'),\"Age\":\n",
    "             col('newData.Age')}).execute()"
   ],
   "id": "52d422421142750b",
   "outputs": [],
   "execution_count": 21
  },
  {
   "metadata": {
    "ExecuteTime": {
     "end_time": "2024-07-02T07:18:29.776453Z",
     "start_time": "2024-07-02T07:18:26.904606Z"
    }
   },
   "cell_type": "code",
   "source": "deltaTable.toDF().show()",
   "id": "150c8afd3152f252",
   "outputs": [
    {
     "name": "stdout",
     "output_type": "stream",
     "text": [
      "+---+---------+--------+-----------+---+\n",
      "| Id|FirstName|LastName|   Location|Age|\n",
      "+---+---------+--------+-----------+---+\n",
      "|  2|   Anuska|   Karki|Pragatitole| 21|\n",
      "|  1|   Anurag|   Karki| Dhumbarahi| 24|\n",
      "|  4|    Beses|   Kafle| Gatthaghar| 23|\n",
      "|  6|   Bishal| Neupane|      Kapan| 20|\n",
      "|  2|  Bishesh|   Kafle|    Jorpati| 24|\n",
      "|  1|  Ngawang|  Gurung|      Dallu| 23|\n",
      "+---+---------+--------+-----------+---+\n",
      "\n"
     ]
    }
   ],
   "execution_count": 22
  },
  {
   "metadata": {},
   "cell_type": "markdown",
   "source": "## Deleting Data",
   "id": "cf1ab15e64761f66"
  },
  {
   "metadata": {
    "ExecuteTime": {
     "end_time": "2024-07-02T07:18:50.439115Z",
     "start_time": "2024-07-02T07:18:49.984454Z"
    }
   },
   "cell_type": "code",
   "source": [
    "print(\"Deleting data...!\")\n",
    "deltaTable = DeltaTable.forPath(spark, \"data/delta-table\")\n",
    "deltaTable.delete(condition = expr('firstname == \"Kalyan\"'))"
   ],
   "id": "c485a64bfbd65cb4",
   "outputs": [
    {
     "name": "stdout",
     "output_type": "stream",
     "text": [
      "Deleting data...!\n"
     ]
    }
   ],
   "execution_count": 23
  },
  {
   "metadata": {
    "ExecuteTime": {
     "end_time": "2024-07-02T07:18:51.085860Z",
     "start_time": "2024-07-02T07:18:50.454735Z"
    }
   },
   "cell_type": "code",
   "source": "deltaTable.toDF().show()",
   "id": "7110d8d540eef138",
   "outputs": [
    {
     "name": "stdout",
     "output_type": "stream",
     "text": [
      "+---+---------+--------+-----------+---+\n",
      "| Id|FirstName|LastName|   Location|Age|\n",
      "+---+---------+--------+-----------+---+\n",
      "|  2|   Anuska|   Karki|Pragatitole| 21|\n",
      "|  1|   Anurag|   Karki| Dhumbarahi| 24|\n",
      "|  4|    Beses|   Kafle| Gatthaghar| 23|\n",
      "|  6|   Bishal| Neupane|      Kapan| 20|\n",
      "|  2|  Bishesh|   Kafle|    Jorpati| 24|\n",
      "|  1|  Ngawang|  Gurung|      Dallu| 23|\n",
      "+---+---------+--------+-----------+---+\n",
      "\n"
     ]
    }
   ],
   "execution_count": 24
  },
  {
   "metadata": {
    "ExecuteTime": {
     "end_time": "2024-07-02T07:18:54.496006Z",
     "start_time": "2024-07-02T07:18:51.410019Z"
    }
   },
   "cell_type": "code",
   "source": [
    "df_versionzero = spark.read.format(\"delta\").option(\"versionAsOf\", 0).load(\"data/delta-table\")\n",
    "df_versionzero.show()"
   ],
   "id": "68477b26441dd633",
   "outputs": [
    {
     "name": "stdout",
     "output_type": "stream",
     "text": [
      "+---+---------+--------+-----------+---+\n",
      "| Id|FirstName|LastName|   Location|Age|\n",
      "+---+---------+--------+-----------+---+\n",
      "|  2|   Anuska|   Karki|Pragatitole| 21|\n",
      "|  5|   Kalyan|Adhikari|    Chabhil| 26|\n",
      "|  1|   Anurag|   Karki| Dhumbarahi| 24|\n",
      "|  4|    Beses|   Kafle| Gatthaghar| 23|\n",
      "|  3|  Ngawang|  Gurung|    Chandol| 22|\n",
      "|  6|   Bishal| Neupane|      Kapan| 20|\n",
      "+---+---------+--------+-----------+---+\n",
      "\n"
     ]
    }
   ],
   "execution_count": 25
  },
  {
   "metadata": {
    "ExecuteTime": {
     "end_time": "2024-07-02T07:18:57.121528Z",
     "start_time": "2024-07-02T07:18:54.496006Z"
    }
   },
   "cell_type": "code",
   "source": [
    "df_versionzero = spark.read.format(\"delta\").option(\"versionAsOf\", 1).load(\"data/delta-table\")\n",
    "df_versionzero.show()"
   ],
   "id": "e4b10a95478f06ca",
   "outputs": [
    {
     "name": "stdout",
     "output_type": "stream",
     "text": [
      "+---+---------+---------+-----------+---+\n",
      "| Id|FirstName| LastName|   Location|Age|\n",
      "+---+---------+---------+-----------+---+\n",
      "|  5|   Kalyan|Adhikaris|   Chabhils| 28|\n",
      "|  2|   Anuska|    Karki|Pragatitole| 21|\n",
      "|  1|   Anurag|    Karki| Dhumbarahi| 24|\n",
      "|  4|    Beses|    Kafle| Gatthaghar| 23|\n",
      "|  3|  Ngawang|   Gurung|    Chandol| 22|\n",
      "|  6|   Bishal|  Neupane|      Kapan| 20|\n",
      "+---+---------+---------+-----------+---+\n",
      "\n"
     ]
    }
   ],
   "execution_count": 26
  },
  {
   "metadata": {},
   "cell_type": "code",
   "outputs": [],
   "execution_count": null,
   "source": "",
   "id": "65a639ad23a788b7"
  }
 ],
 "metadata": {
  "kernelspec": {
   "display_name": "Python 3",
   "language": "python",
   "name": "python3"
  },
  "language_info": {
   "codemirror_mode": {
    "name": "ipython",
    "version": 2
   },
   "file_extension": ".py",
   "mimetype": "text/x-python",
   "name": "python",
   "nbconvert_exporter": "python",
   "pygments_lexer": "ipython2",
   "version": "2.7.6"
  }
 },
 "nbformat": 4,
 "nbformat_minor": 5
}
