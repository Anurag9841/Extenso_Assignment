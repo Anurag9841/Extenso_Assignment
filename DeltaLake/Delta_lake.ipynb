{
 "cells": [
  {
   "cell_type": "code",
   "id": "initial_id",
   "metadata": {
    "collapsed": true,
    "ExecuteTime": {
     "end_time": "2024-05-30T08:49:19.091768Z",
     "start_time": "2024-05-30T08:49:19.064543Z"
    }
   },
   "source": [
    "import pyspark\n",
    "from delta import *\n",
    "from pyspark.sql.types import *\n",
    "from delta.tables import *\n",
    "from pyspark.sql.functions import *"
   ],
   "outputs": [],
   "execution_count": 28
  },
  {
   "metadata": {
    "ExecuteTime": {
     "end_time": "2024-05-30T08:49:19.618753Z",
     "start_time": "2024-05-30T08:49:19.604563Z"
    }
   },
   "cell_type": "code",
   "source": [
    "builder = pyspark.sql.SparkSession.builder.appName(\"DeltaTutorial\") \\\n",
    "    .config(\"spark.sql.extensions\", \"io.delta.sql.DeltaSparkSessionExtension\") \\\n",
    "    .config(\"spark.sql.catalog.spark_catalog\", \"org.apache.spark.sql.delta.catalog.DeltaCatalog\")"
   ],
   "id": "c522058b7a93867f",
   "outputs": [],
   "execution_count": 29
  },
  {
   "metadata": {
    "ExecuteTime": {
     "end_time": "2024-05-30T08:49:20.173793Z",
     "start_time": "2024-05-30T08:49:19.987915Z"
    }
   },
   "cell_type": "code",
   "source": [
    "spark = configure_spark_with_delta_pip(builder).getOrCreate()\n",
    "spark.sparkContext.setLogLevel(\"ERROR\")"
   ],
   "id": "d2d04afbef4ba2ea",
   "outputs": [],
   "execution_count": 30
  },
  {
   "metadata": {
    "ExecuteTime": {
     "end_time": "2024-05-30T08:49:20.313454Z",
     "start_time": "2024-05-30T08:49:20.293577Z"
    }
   },
   "cell_type": "code",
   "source": [
    "print(\"Starting Delta table creation\")\n",
    "\n",
    "data=[(1,\"Anurag\",\"Karki\",\"Dhumbarahi\",24),\n",
    "      (2,\"Anuska\",\"Karki\",\"Pragatitole\",21),\n",
    "      (3,\"Ngawang\",\"Gurung\",\"Chandol\",22),\n",
    "      (4,\"Beses\",\"Kafle\",\"Gatthaghar\",23),\n",
    "      (5,\"Kalyan\",\"Adhikari\",\"Chabhil\",26),\n",
    "      (6,\"Bishal\",\"Neupane\",\"Kapan\",20)]"
   ],
   "id": "1f0030c35781931c",
   "outputs": [
    {
     "name": "stdout",
     "output_type": "stream",
     "text": [
      "Starting Delta table creation\n"
     ]
    }
   ],
   "execution_count": 31
  },
  {
   "metadata": {
    "ExecuteTime": {
     "end_time": "2024-05-30T08:49:20.666037Z",
     "start_time": "2024-05-30T08:49:20.653552Z"
    }
   },
   "cell_type": "code",
   "source": [
    "schema = StructType([\n",
    "    StructField(\"Id\", IntegerType(), True),\n",
    "    StructField(\"FirstName\", StringType(), True),\n",
    "    StructField(\"LastName\", StringType(), True),\n",
    "    StructField(\"Location\", StringType(), True),\n",
    "    StructField(\"Age\", IntegerType(), True)\n",
    "])"
   ],
   "id": "ebfd911e130f0ced",
   "outputs": [],
   "execution_count": 32
  },
  {
   "metadata": {
    "ExecuteTime": {
     "end_time": "2024-05-30T08:49:21.192845Z",
     "start_time": "2024-05-30T08:49:21.083617Z"
    }
   },
   "cell_type": "code",
   "source": "sample_dataframe = spark.createDataFrame(data=data, schema=schema)",
   "id": "e3ea0774843f9b0d",
   "outputs": [],
   "execution_count": 33
  },
  {
   "metadata": {
    "ExecuteTime": {
     "end_time": "2024-05-30T08:49:29.042531Z",
     "start_time": "2024-05-30T08:49:21.303962Z"
    }
   },
   "cell_type": "code",
   "source": "sample_dataframe.write.mode(saveMode=\"overwrite\").format(\"delta\").save(\"data/delta-table\")",
   "id": "710844fd50c252c5",
   "outputs": [],
   "execution_count": 34
  },
  {
   "metadata": {
    "ExecuteTime": {
     "end_time": "2024-05-30T08:49:34.494637Z",
     "start_time": "2024-05-30T08:49:29.043602Z"
    }
   },
   "cell_type": "code",
   "source": "sample_dataframe.show()",
   "id": "33082912fe01eea5",
   "outputs": [
    {
     "name": "stdout",
     "output_type": "stream",
     "text": [
      "+---+---------+--------+-----------+---+\n",
      "| Id|FirstName|LastName|   Location|Age|\n",
      "+---+---------+--------+-----------+---+\n",
      "|  1|   Anurag|   Karki| Dhumbarahi| 24|\n",
      "|  2|   Anuska|   Karki|Pragatitole| 21|\n",
      "|  3|  Ngawang|  Gurung|    Chandol| 22|\n",
      "|  4|    Beses|   Kafle| Gatthaghar| 23|\n",
      "|  5|   Kalyan|Adhikari|    Chabhil| 26|\n",
      "|  6|   Bishal| Neupane|      Kapan| 20|\n",
      "+---+---------+--------+-----------+---+\n",
      "\n"
     ]
    }
   ],
   "execution_count": 35
  },
  {
   "metadata": {
    "ExecuteTime": {
     "end_time": "2024-05-30T08:49:34.510320Z",
     "start_time": "2024-05-30T08:49:34.494637Z"
    }
   },
   "cell_type": "code",
   "source": "sample_dataframe.printSchema()",
   "id": "8dba8bf74783c7d5",
   "outputs": [
    {
     "name": "stdout",
     "output_type": "stream",
     "text": [
      "root\n",
      " |-- Id: integer (nullable = true)\n",
      " |-- FirstName: string (nullable = true)\n",
      " |-- LastName: string (nullable = true)\n",
      " |-- Location: string (nullable = true)\n",
      " |-- Age: integer (nullable = true)\n",
      "\n"
     ]
    }
   ],
   "execution_count": 36
  },
  {
   "metadata": {
    "ExecuteTime": {
     "end_time": "2024-05-30T08:49:34.542397Z",
     "start_time": "2024-05-30T08:49:34.514676Z"
    }
   },
   "cell_type": "code",
   "source": "deltaTable = DeltaTable.forPath(spark, \"data/delta-table\")",
   "id": "d4aaf243f093801",
   "outputs": [],
   "execution_count": 37
  },
  {
   "metadata": {
    "ExecuteTime": {
     "end_time": "2024-05-30T08:49:37.562757Z",
     "start_time": "2024-05-30T08:49:34.543446Z"
    }
   },
   "cell_type": "code",
   "source": [
    "deltaTable.update(\n",
    "    condition = expr('firstName == \"Kalyan\"'),\n",
    "    set = {\"id\":lit(5),\"firstName\": lit(\"Kalyan\"),\"lastname\":lit(\"Adhikaris\"),\"location\":lit(\"Chabhils\"),\"age\":lit(28)}\n",
    ")"
   ],
   "id": "d3c76b50744b6b01",
   "outputs": [],
   "execution_count": 38
  },
  {
   "metadata": {
    "ExecuteTime": {
     "end_time": "2024-05-30T08:49:39.516449Z",
     "start_time": "2024-05-30T08:49:37.564244Z"
    }
   },
   "cell_type": "code",
   "source": "deltaTable.toDF().show()",
   "id": "e668d25f4e934e32",
   "outputs": [
    {
     "name": "stdout",
     "output_type": "stream",
     "text": [
      "+---+---------+---------+-----------+---+\n",
      "| Id|FirstName| LastName|   Location|Age|\n",
      "+---+---------+---------+-----------+---+\n",
      "|  5|   Kalyan|Adhikaris|   Chabhils| 28|\n",
      "|  2|   Anuska|    Karki|Pragatitole| 21|\n",
      "|  1|   Anurag|    Karki| Dhumbarahi| 24|\n",
      "|  4|    Beses|    Kafle| Gatthaghar| 23|\n",
      "|  3|  Ngawang|   Gurung|    Chandol| 22|\n",
      "|  6|   Bishal|  Neupane|      Kapan| 20|\n",
      "+---+---------+---------+-----------+---+\n",
      "\n"
     ]
    }
   ],
   "execution_count": 39
  },
  {
   "metadata": {
    "ExecuteTime": {
     "end_time": "2024-05-30T08:49:39.532798Z",
     "start_time": "2024-05-30T08:49:39.516449Z"
    }
   },
   "cell_type": "code",
   "source": [
    "'''upsert in deltalake\n",
    "upsert  = update plus insert \n",
    "'''\n",
    "data = [(1,\"Ngawang\",\"Gurung\",\"Dallu\",23),\n",
    "        (2,\"Bishesh\",\"Kafle\",\"Jorpati\",24)]\n",
    "schema = StructType([StructField(\"id\",IntegerType(),True),\n",
    "StructField(\"FirstName\",StringType(),True),\n",
    "StructField(\"LastName\",StringType(),True),\n",
    "StructField(\"Location\",StringType(),True),\n",
    "StructField(\"Age\",IntegerType(),True)])"
   ],
   "id": "1023efafbf0f9404",
   "outputs": [],
   "execution_count": 40
  },
  {
   "metadata": {
    "ExecuteTime": {
     "end_time": "2024-05-30T08:49:39.580321Z",
     "start_time": "2024-05-30T08:49:39.533317Z"
    }
   },
   "cell_type": "code",
   "source": "newData = spark.createDataFrame(data=data,schema = schema)",
   "id": "a6a2dace50b983b9",
   "outputs": [],
   "execution_count": 41
  },
  {
   "metadata": {
    "ExecuteTime": {
     "end_time": "2024-05-30T08:49:48.232507Z",
     "start_time": "2024-05-30T08:49:39.584016Z"
    }
   },
   "cell_type": "code",
   "source": [
    "deltaTable.alias(\"oldData\").merge(newData.alias(\"newData\"),\n",
    "                                  \"oldData.FirstName = newData.FirstName\")\\\n",
    ".whenMatchedUpdate(set={\"Id\":col('newData.id'),\"FirstName\":col('newData.FirstName'),\"LastName\":col('newData.LastName'),'Location':col('newData.Location'),\"Age\":\n",
    "             col('newData.Age')})\\\n",
    ".whenNotMatchedInsert(values={\"Id\":col('newData.id'),\"FirstName\":col('newData.FirstName'),\"LastName\":col('newData.LastName'),'Location':col('newData.Location'),\"Age\":\n",
    "             col('newData.Age')}).execute()"
   ],
   "id": "52d422421142750b",
   "outputs": [],
   "execution_count": 42
  },
  {
   "metadata": {
    "ExecuteTime": {
     "end_time": "2024-05-30T08:49:50.092530Z",
     "start_time": "2024-05-30T08:49:48.234813Z"
    }
   },
   "cell_type": "code",
   "source": "deltaTable.toDF().show()",
   "id": "150c8afd3152f252",
   "outputs": [
    {
     "name": "stdout",
     "output_type": "stream",
     "text": [
      "+---+---------+---------+-----------+---+\n",
      "| Id|FirstName| LastName|   Location|Age|\n",
      "+---+---------+---------+-----------+---+\n",
      "|  5|   Kalyan|Adhikaris|   Chabhils| 28|\n",
      "|  2|   Anuska|    Karki|Pragatitole| 21|\n",
      "|  1|   Anurag|    Karki| Dhumbarahi| 24|\n",
      "|  4|    Beses|    Kafle| Gatthaghar| 23|\n",
      "|  6|   Bishal|  Neupane|      Kapan| 20|\n",
      "|  2|  Bishesh|    Kafle|    Jorpati| 24|\n",
      "|  1|  Ngawang|   Gurung|      Dallu| 23|\n",
      "+---+---------+---------+-----------+---+\n",
      "\n"
     ]
    }
   ],
   "execution_count": 43
  },
  {
   "metadata": {
    "ExecuteTime": {
     "end_time": "2024-05-30T08:49:51.602621Z",
     "start_time": "2024-05-30T08:49:50.093542Z"
    }
   },
   "cell_type": "code",
   "source": [
    "print(\"Deleting data...!\")\n",
    "deltaTable = DeltaTable.forPath(spark, \"data/delta-table\")\n",
    "deltaTable.delete(condition = expr('firstname == \"Kalyan\"'))"
   ],
   "id": "c485a64bfbd65cb4",
   "outputs": [
    {
     "name": "stdout",
     "output_type": "stream",
     "text": [
      "Deleting data...!\n"
     ]
    }
   ],
   "execution_count": 44
  },
  {
   "metadata": {
    "ExecuteTime": {
     "end_time": "2024-05-30T08:49:53.477768Z",
     "start_time": "2024-05-30T08:49:51.604872Z"
    }
   },
   "cell_type": "code",
   "source": "deltaTable.toDF().show()",
   "id": "7110d8d540eef138",
   "outputs": [
    {
     "name": "stdout",
     "output_type": "stream",
     "text": [
      "+---+---------+--------+-----------+---+\n",
      "| Id|FirstName|LastName|   Location|Age|\n",
      "+---+---------+--------+-----------+---+\n",
      "|  2|   Anuska|   Karki|Pragatitole| 21|\n",
      "|  1|   Anurag|   Karki| Dhumbarahi| 24|\n",
      "|  4|    Beses|   Kafle| Gatthaghar| 23|\n",
      "|  6|   Bishal| Neupane|      Kapan| 20|\n",
      "|  2|  Bishesh|   Kafle|    Jorpati| 24|\n",
      "|  1|  Ngawang|  Gurung|      Dallu| 23|\n",
      "+---+---------+--------+-----------+---+\n",
      "\n"
     ]
    }
   ],
   "execution_count": 45
  },
  {
   "metadata": {
    "ExecuteTime": {
     "end_time": "2024-05-30T08:49:55.891969Z",
     "start_time": "2024-05-30T08:49:53.477768Z"
    }
   },
   "cell_type": "code",
   "source": [
    "df_versionzero = spark.read.format(\"delta\").option(\"versionAsOf\", 0).load(\"data/delta-table\")\n",
    "df_versionzero.show()"
   ],
   "id": "68477b26441dd633",
   "outputs": [
    {
     "name": "stdout",
     "output_type": "stream",
     "text": [
      "+---+---------+--------+-----------+---+\n",
      "| Id|FirstName|LastName|   Location|Age|\n",
      "+---+---------+--------+-----------+---+\n",
      "|  2|   Anuska|   Karki|Pragatitole| 21|\n",
      "|  5|   Kalyan|Adhikari|    Chabhil| 26|\n",
      "|  1|   Anurag|   Karki| Dhumbarahi| 24|\n",
      "|  4|    Beses|   Kafle| Gatthaghar| 23|\n",
      "|  3|  Ngawang|  Gurung|    Chandol| 22|\n",
      "|  6|   Bishal| Neupane|      Kapan| 20|\n",
      "+---+---------+--------+-----------+---+\n",
      "\n"
     ]
    }
   ],
   "execution_count": 46
  },
  {
   "metadata": {
    "ExecuteTime": {
     "end_time": "2024-05-30T08:49:58.576630Z",
     "start_time": "2024-05-30T08:49:55.894930Z"
    }
   },
   "cell_type": "code",
   "source": [
    "df_versionzero = spark.read.format(\"delta\").option(\"versionAsOf\", 1).load(\"data/delta-table\")\n",
    "df_versionzero.show()"
   ],
   "id": "e4b10a95478f06ca",
   "outputs": [
    {
     "name": "stdout",
     "output_type": "stream",
     "text": [
      "+---+---------+---------+-----------+---+\n",
      "| Id|FirstName| LastName|   Location|Age|\n",
      "+---+---------+---------+-----------+---+\n",
      "|  5|   Kalyan|Adhikaris|   Chabhils| 28|\n",
      "|  2|   Anuska|    Karki|Pragatitole| 21|\n",
      "|  1|   Anurag|    Karki| Dhumbarahi| 24|\n",
      "|  4|    Beses|    Kafle| Gatthaghar| 23|\n",
      "|  3|  Ngawang|   Gurung|    Chandol| 22|\n",
      "|  6|   Bishal|  Neupane|      Kapan| 20|\n",
      "+---+---------+---------+-----------+---+\n",
      "\n"
     ]
    }
   ],
   "execution_count": 47
  },
  {
   "metadata": {},
   "cell_type": "code",
   "outputs": [],
   "execution_count": null,
   "source": "",
   "id": "65a639ad23a788b7"
  }
 ],
 "metadata": {
  "kernelspec": {
   "display_name": "Python 3",
   "language": "python",
   "name": "python3"
  },
  "language_info": {
   "codemirror_mode": {
    "name": "ipython",
    "version": 2
   },
   "file_extension": ".py",
   "mimetype": "text/x-python",
   "name": "python",
   "nbconvert_exporter": "python",
   "pygments_lexer": "ipython2",
   "version": "2.7.6"
  }
 },
 "nbformat": 4,
 "nbformat_minor": 5
}
