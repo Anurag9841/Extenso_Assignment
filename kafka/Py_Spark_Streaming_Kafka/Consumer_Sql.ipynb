{
 "cells": [
  {
   "cell_type": "code",
   "execution_count": 5,
   "id": "6754a44a-532b-4ce9-9887-c97f4a8c0482",
   "metadata": {},
   "outputs": [],
   "source": [
    "import time\n",
    "from pyspark.sql import SparkSession\n",
    "from pyspark.sql.functions import *\n",
    "from pyspark.ml.feature import Normalizer, StandardScaler\n",
    "import random"
   ]
  },
  {
   "cell_type": "code",
   "execution_count": 6,
   "id": "c9c3a4f7-7670-4d8d-8840-d9dcdf6aaf65",
   "metadata": {},
   "outputs": [],
   "source": [
    "kafka_topic_name = \"Topic2\"\n",
    "kafka_bootstrap_servers = 'localhost:9092'\n",
    "\n",
    "spark = SparkSession \\\n",
    "        .builder \\\n",
    "        .appName(\"Structured Streaming \") \\\n",
    "        .master(\"local[*]\") \\\n",
    "        .config(\"spark.jars.packages\", \"org.apache.spark:spark-sql-kafka-0-10_2.12:3.5.1\") \\\n",
    "        .getOrCreate()\n",
    "\n",
    "spark.sparkContext.setLogLevel(\"ERROR\")"
   ]
  },
  {
   "cell_type": "code",
   "execution_count": 7,
   "id": "634466c7-988e-42bd-81ae-74aa24e164ef",
   "metadata": {},
   "outputs": [],
   "source": [
    "df_transaction = spark \\\n",
    "        .readStream \\\n",
    "        .format(\"kafka\") \\\n",
    "        .option(\"kafka.bootstrap.servers\", kafka_bootstrap_servers) \\\n",
    "        .option(\"subscribe\", kafka_topic_name) \\\n",
    "        .option(\"startingOffsets\", \"earliest\") \\\n",
    "        .load()"
   ]
  },
  {
   "cell_type": "code",
   "execution_count": 8,
   "id": "a94d7ebd-56a9-464c-942e-6ed1d2b9cf3e",
   "metadata": {},
   "outputs": [
    {
     "data": {
      "text/plain": [
       "False"
      ]
     },
     "execution_count": 8,
     "metadata": {},
     "output_type": "execute_result"
    }
   ],
   "source": [
    "df1_transaction = df_transaction.selectExpr(\"CAST(value AS STRING)\", \"timestamp\")\n",
    "\n",
    "\n",
    "df_schema_string = \"id INT,Account_No STRING,TRANSACTION_DETAILS STRING,Cheq_No STRING,WITHDRAWL_AMOUNT STRING,DEPOSIT_AMT STRING,BALANCE_AMT STRING\"\n",
    "\n",
    "\n",
    "\n",
    "df2_transaction= df1_transaction \\\n",
    "        .select(from_csv(col(\"value\"), df_schema_string) \\\n",
    "                .alias(\"transaction\"), \"timestamp\")\n",
    "\n",
    "\n",
    "df3_transaction = df2_transaction.select(\"transaction.*\", \"timestamp\")\n",
    "\n",
    "    \n",
    "df3_transaction.createOrReplaceTempView(\"transaction\");\n",
    "final_transaction = spark.sql(\"SELECT * FROM transaction\")\n",
    "Transaction_agg_write_stream = final_transaction \\\n",
    "        .writeStream \\\n",
    "        .trigger(processingTime='5 seconds') \\\n",
    "        .outputMode(\"append\") \\\n",
    "        .option(\"truncate\", \"false\") \\\n",
    "        .format(\"memory\") \\\n",
    "        .queryName(\"Transaction_Table\") \\\n",
    "        .start()\n",
    "Transaction_agg_write_stream.awaitTermination(1)"
   ]
  },
  {
   "cell_type": "code",
   "execution_count": 9,
   "id": "40aaed6d-74b9-4f57-b183-f26107594973",
   "metadata": {},
   "outputs": [
    {
     "name": "stdout",
     "output_type": "stream",
     "text": [
      "+---+-------------+-------------------+--------------------+----------------+-------------------+-----------+--------------------+\n",
      "| id|   Account_No|TRANSACTION_DETAILS|             Cheq_No|WITHDRAWL_AMOUNT|        DEPOSIT_AMT|BALANCE_AMT|           timestamp|\n",
      "+---+-------------+-------------------+--------------------+----------------+-------------------+-----------+--------------------+\n",
      "|  0|409000611074'|2017-06-29 00:00:00|TRF FROM  Indiafo...|            NULL|2017-06-29 00:00:00|       0.00|2024-05-13 13:05:...|\n",
      "|  1|409000611074'|2017-07-05 00:00:00|TRF FROM  Indiafo...|            NULL|2017-07-05 00:00:00|       0.00|2024-05-13 13:05:...|\n",
      "|  2|409000611074'|2017-07-18 00:00:00|FDRL/INTERNAL FUN...|            NULL|2017-07-18 00:00:00|       0.00|2024-05-13 13:05:...|\n",
      "|  3|409000611074'|2017-08-01 00:00:00|TRF FRM  Indiafor...|            NULL|2017-08-01 00:00:00|       0.00|2024-05-13 13:05:...|\n",
      "|  4|409000611074'|2017-08-16 00:00:00|FDRL/INTERNAL FUN...|            NULL|2017-08-16 00:00:00|       0.00|2024-05-13 13:05:...|\n",
      "|  5|409000611074'|2017-08-16 00:00:00|FDRL/INTERNAL FUN...|            NULL|2017-08-16 00:00:00|       0.00|2024-05-13 13:05:...|\n",
      "|  6|409000611074'|2017-08-16 00:00:00|FDRL/INTERNAL FUN...|            NULL|2017-08-16 00:00:00|       0.00|2024-05-13 13:05:...|\n",
      "|  7|409000611074'|2017-08-16 00:00:00|FDRL/INTERNAL FUN...|            NULL|2017-08-16 00:00:00|       0.00|2024-05-13 13:05:...|\n",
      "|  8|409000611074'|2017-08-16 00:00:00|FDRL/INTERNAL FUN...|            NULL|2017-08-16 00:00:00|       0.00|2024-05-13 13:05:...|\n",
      "|  9|409000611074'|2017-08-16 00:00:00|FDRL/INTERNAL FUN...|            NULL|2017-08-16 00:00:00|       0.00|2024-05-13 13:05:...|\n",
      "| 10|409000611074'|2017-08-16 00:00:00|INDO GIBL Indiafo...|            NULL|2017-08-16 00:00:00|  133900.00|2024-05-13 13:05:...|\n",
      "| 11|409000611074'|2017-08-16 00:00:00|INDO GIBL Indiafo...|            NULL|2017-08-16 00:00:00|   18000.00|2024-05-13 13:05:...|\n",
      "| 12|409000611074'|2017-08-16 00:00:00|INDO GIBL Indiafo...|            NULL|2017-08-16 00:00:00|    5000.00|2024-05-13 13:05:...|\n",
      "| 13|409000611074'|2017-08-16 00:00:00|INDO GIBL Indiafo...|            NULL|2017-08-16 00:00:00|  195800.00|2024-05-13 13:05:...|\n",
      "| 14|409000611074'|2017-08-16 00:00:00|INDO GIBL Indiafo...|            NULL|2017-08-16 00:00:00|   81600.00|2024-05-13 13:05:...|\n",
      "| 15|409000611074'|2017-08-16 00:00:00|INDO GIBL Indiafo...|            NULL|2017-08-16 00:00:00|   41800.00|2024-05-13 13:05:...|\n",
      "| 16|409000611074'|2017-08-16 00:00:00|INDO GIBL Indiafo...|            NULL|2017-08-16 00:00:00|   98500.00|2024-05-13 13:05:...|\n",
      "| 17|409000611074'|2017-08-16 00:00:00|INDO GIBL Indiafo...|            NULL|2017-08-16 00:00:00|  143800.00|2024-05-13 13:05:...|\n",
      "| 18|409000611074'|2017-08-16 00:00:00|INDO GIBL Indiafo...|            NULL|2017-08-16 00:00:00|  331650.00|2024-05-13 13:05:...|\n",
      "| 19|409000611074'|2017-08-16 00:00:00|INDO GIBL Indiafo...|            NULL|2017-08-16 00:00:00|  129000.00|2024-05-13 13:05:...|\n",
      "+---+-------------+-------------------+--------------------+----------------+-------------------+-----------+--------------------+\n",
      "only showing top 20 rows\n",
      "\n"
     ]
    }
   ],
   "source": [
    "df = spark.sql(\"SELECT * FROM Transaction_Table\")\n",
    "df.show()"
   ]
  },
  {
   "cell_type": "code",
   "execution_count": 10,
   "id": "4aaa181b-3c4c-458f-8fb8-de4debe58aa9",
   "metadata": {},
   "outputs": [
    {
     "data": {
      "text/plain": [
       "100"
      ]
     },
     "execution_count": 10,
     "metadata": {},
     "output_type": "execute_result"
    }
   ],
   "source": [
    "df.count()"
   ]
  },
  {
   "cell_type": "code",
   "execution_count": null,
   "id": "95f73a6b-af98-40b5-8253-01255b519967",
   "metadata": {},
   "outputs": [],
   "source": []
  }
 ],
 "metadata": {
  "kernelspec": {
   "display_name": "Python 3 (ipykernel)",
   "language": "python",
   "name": "python3"
  },
  "language_info": {
   "codemirror_mode": {
    "name": "ipython",
    "version": 3
   },
   "file_extension": ".py",
   "mimetype": "text/x-python",
   "name": "python",
   "nbconvert_exporter": "python",
   "pygments_lexer": "ipython3",
   "version": "3.10.7"
  }
 },
 "nbformat": 4,
 "nbformat_minor": 5
}
