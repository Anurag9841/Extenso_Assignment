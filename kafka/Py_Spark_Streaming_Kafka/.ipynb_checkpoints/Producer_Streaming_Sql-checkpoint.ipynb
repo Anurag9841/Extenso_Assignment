{
 "cells": [
  {
   "cell_type": "code",
   "execution_count": 30,
   "id": "140519e3-436f-40dd-b418-b38fd2f7bdc5",
   "metadata": {},
   "outputs": [],
   "source": [
    "import mysql.connector\n",
    "import pandas as pd\n",
    "from kafka import KafkaProducer\n",
    "from datetime import datetime\n",
    "import time\n",
    "import random\n",
    "import numpy as np"
   ]
  },
  {
   "cell_type": "code",
   "execution_count": 5,
   "id": "f0f1407e-e4a6-4f57-a0c2-14c98535bb17",
   "metadata": {},
   "outputs": [
    {
     "name": "stdout",
     "output_type": "stream",
     "text": [
      "Requirement already satisfied: mysql-connector-python in c:\\users\\acer\\pycharmprojects\\pyspark\\venv\\lib\\site-packages (8.4.0)\n"
     ]
    },
    {
     "name": "stderr",
     "output_type": "stream",
     "text": [
      "WARNING: You are using pip version 21.3.1; however, version 24.0 is available.\n",
      "You should consider upgrading via the 'C:\\Users\\acer\\PycharmProjects\\PySpark\\venv\\Scripts\\python.exe -m pip install --upgrade pip' command.\n"
     ]
    }
   ],
   "source": [
    "!pip install mysql-connector-python"
   ]
  },
  {
   "cell_type": "code",
   "execution_count": 22,
   "id": "05d75429-bfc4-49fc-9ae5-f45f52bfec3c",
   "metadata": {},
   "outputs": [],
   "source": [
    "mydb = mysql.connector.connect(\n",
    "    host = \"localhost\",\n",
    "    user = \"root\",\n",
    "    password = \"root\",\n",
    "    database = \"client_rw\"\n",
    ")"
   ]
  },
  {
   "cell_type": "code",
   "execution_count": 23,
   "id": "fc95c3a7-b2cc-4284-86cf-7a109a59d9ac",
   "metadata": {},
   "outputs": [],
   "source": [
    "cursor = mydb.cursor()"
   ]
  },
  {
   "cell_type": "code",
   "execution_count": 24,
   "id": "ce5dc429-160e-4b0b-bb53-d6ba7f6ee8bb",
   "metadata": {},
   "outputs": [],
   "source": [
    "query = \"select * from transaction_summary\""
   ]
  },
  {
   "cell_type": "code",
   "execution_count": 25,
   "id": "29567a46-d36d-4cf3-ba6f-dbd82c9484c8",
   "metadata": {},
   "outputs": [],
   "source": [
    "cursor.execute(query)"
   ]
  },
  {
   "cell_type": "code",
   "execution_count": 26,
   "id": "274182ff-5f8e-4ffd-81f4-c4095e63d0de",
   "metadata": {},
   "outputs": [],
   "source": [
    "result = cursor.fetchall()"
   ]
  },
  {
   "cell_type": "code",
   "execution_count": 27,
   "id": "1730cf0a-ee45-4d97-8705-5179191836f6",
   "metadata": {},
   "outputs": [],
   "source": [
    "columns = [col[0] for col in cursor.description]"
   ]
  },
  {
   "cell_type": "code",
   "execution_count": 28,
   "id": "0d602ed5-e98c-409c-a96a-f5c98640f547",
   "metadata": {},
   "outputs": [],
   "source": [
    "df = pd.DataFrame(result, columns=columns)"
   ]
  },
  {
   "cell_type": "code",
   "execution_count": 29,
   "id": "3b7c20f6-17d3-4b15-8dd6-3c2872966925",
   "metadata": {},
   "outputs": [
    {
     "name": "stdout",
     "output_type": "stream",
     "text": [
      "<class 'pandas.core.frame.DataFrame'>\n",
      "RangeIndex: 116201 entries, 0 to 116200\n",
      "Data columns (total 8 columns):\n",
      " #   Column               Non-Null Count   Dtype         \n",
      "---  ------               --------------   -----         \n",
      " 0   Account_No           116201 non-null  object        \n",
      " 1   DATE                 116201 non-null  datetime64[ns]\n",
      " 2   TRANSACTION_DETAILS  116201 non-null  object        \n",
      " 3   Cheq_No              116201 non-null  object        \n",
      " 4   VALUE_DATE           116201 non-null  datetime64[ns]\n",
      " 5   WITHDRAWL_AMOUNT     116201 non-null  object        \n",
      " 6   DEPOSIT_AMT          116201 non-null  object        \n",
      " 7   BALANCE_AMT          116201 non-null  object        \n",
      "dtypes: datetime64[ns](2), object(6)\n",
      "memory usage: 7.1+ MB\n"
     ]
    }
   ],
   "source": [
    "df.info()"
   ]
  },
  {
   "cell_type": "code",
   "execution_count": 31,
   "id": "c247345f-9acd-4321-bc08-19ce014b6f61",
   "metadata": {},
   "outputs": [],
   "source": [
    "KAFKA_TOPIC_NAME_CONS = \"Topic2\"\n",
    "KAFKA_BOOTSTRAP_SERVERS_CONS = 'localhost:9092'"
   ]
  },
  {
   "cell_type": "code",
   "execution_count": null,
   "id": "6bb38165-adcb-4433-80f5-eddada6acf48",
   "metadata": {},
   "outputs": [],
   "source": [
    "if __name__ == \"__main__\":\n",
    "    print(\"Kafka Producer Application Started ... \")\n",
    "\n",
    "    kafka_producer_obj = KafkaProducer(bootstrap_servers=KAFKA_BOOTSTRAP_SERVERS_CONS,\n",
    "                                       value_serializer=lambda x: x.encode('utf-8'))\n",
    "    \n",
    "\n",
    "    df['id'] = np.arange(len(df)) \n",
    "    df_list = df.to_dict(orient=\"records\")\n",
    "    message_list = []\n",
    "    message = None\n",
    "    for message in df_list:\n",
    "        \n",
    "        message_fields_value_list = []\n",
    "               \n",
    "        message_fields_value_list.append(message[\"id\"])\n",
    "        message_fields_value_list.append(message[\"Account_No\"])\n",
    "        message_fields_value_list.append(message[\"DATE \"])\n",
    "        message_fields_value_list.append(message[\"TRANSACTION_DETAILS\"])\n",
    "        message_fields_value_list.append(message[\"Cheq_No\"])\n",
    "        message_fields_value_list.append(message[\"VALUE_DATE\"])\n",
    "        message_fields_value_list.append(message[\"WITHDRAWL_AMOUNT\"])\n",
    "        message_fields_value_list.append(message[\"DEPOSIT_AMT\"])\n",
    "        message_fields_value_list.append(message[\"BALANCE_AMT\"])\n",
    "\n",
    "        message = ','.join(str(v) for v in message_fields_value_list)\n",
    "        print(\"Message Type: \", type(message))\n",
    "        print(\"Message: \", message)\n",
    "        kafka_producer_obj.send(KAFKA_TOPIC_NAME_CONS, message)\n",
    "        time.sleep(1)\n",
    "\n",
    "\n",
    "    print(\"Kafka Producer Application Completed. \")"
   ]
  }
 ],
 "metadata": {
  "kernelspec": {
   "display_name": "Python 3 (ipykernel)",
   "language": "python",
   "name": "python3"
  },
  "language_info": {
   "codemirror_mode": {
    "name": "ipython",
    "version": 3
   },
   "file_extension": ".py",
   "mimetype": "text/x-python",
   "name": "python",
   "nbconvert_exporter": "python",
   "pygments_lexer": "ipython3",
   "version": "3.10.7"
  }
 },
 "nbformat": 4,
 "nbformat_minor": 5
}
