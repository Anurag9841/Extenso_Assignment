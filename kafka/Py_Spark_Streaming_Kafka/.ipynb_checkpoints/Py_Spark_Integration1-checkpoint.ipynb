{
 "cells": [
  {
   "cell_type": "code",
   "execution_count": 1,
   "id": "78e459ba-dfcf-4b7c-8212-60b0dfad9d28",
   "metadata": {},
   "outputs": [],
   "source": [
    "from pyspark.sql import SparkSession\n",
    "from pyspark.sql.functions import *\n",
    "from pyspark.ml.feature import Normalizer, StandardScaler\n",
    "import random\n",
    "\n",
    "import time\n",
    "\n",
    "kafka_topic_name = \"Topic\"\n",
    "kafka_bootstrap_servers = 'localhost:9092'\n",
    "\n",
    "spark = SparkSession \\\n",
    "        .builder \\\n",
    "        .appName(\"Structured Streaming \") \\\n",
    "        .master(\"local[*]\") \\\n",
    "        .config(\"spark.jars.packages\", \"org.apache.spark:spark-sql-kafka-0-10_2.12:3.5.1\") \\\n",
    "        .getOrCreate()\n",
    "\n",
    "spark.sparkContext.setLogLevel(\"ERROR\")"
   ]
  },
  {
   "cell_type": "code",
   "execution_count": 2,
   "id": "78ac2f7f-ebe9-4205-a2d1-763a1b839f90",
   "metadata": {},
   "outputs": [],
   "source": [
    "flower_df = spark \\\n",
    "        .readStream \\\n",
    "        .format(\"kafka\") \\\n",
    "        .option(\"kafka.bootstrap.servers\", kafka_bootstrap_servers) \\\n",
    "        .option(\"subscribe\", kafka_topic_name) \\\n",
    "        .option(\"startingOffsets\", \"latest\") \\\n",
    "        .load()"
   ]
  },
  {
   "cell_type": "code",
   "execution_count": 3,
   "id": "e9bf9c28-94fa-4cf1-9528-9549a6a3ab9f",
   "metadata": {},
   "outputs": [
    {
     "data": {
      "text/plain": [
       "False"
      ]
     },
     "execution_count": 3,
     "metadata": {},
     "output_type": "execute_result"
    }
   ],
   "source": [
    "# flower_df1 = flower_df.selectExpr(\"CAST(value AS STRING)\", \"timestamp\")\n",
    "\n",
    "\n",
    "# flower_schema_string = \"order_id INT,sepal_length DOUBLE,sepal_length DOUBLE,sepal_length DOUBLE,sepal_length DOUBLE,species STRING\"\n",
    "\n",
    "\n",
    "\n",
    "# flower_df2 = flower_df1 \\\n",
    "#         .select(from_csv(col(\"value\"), flower_schema_string) \\\n",
    "#                 .alias(\"flower\"), \"timestamp\")\n",
    "\n",
    "\n",
    "# flower_df3 = flower_df2.select(\"flower.*\", \"timestamp\")\n",
    "\n",
    "    \n",
    "# flower_df3.createOrReplaceTempView(\"flower_find\");\n",
    "\n",
    "flower_df.createOrReplaceTempView(\"flower_find\");\n",
    "song_find_text = spark.sql(\"SELECT * FROM flower_find\")\n",
    "flower_agg_write_stream = song_find_text \\\n",
    "        .writeStream \\\n",
    "        .trigger(processingTime='5 seconds') \\\n",
    "        .outputMode(\"append\") \\\n",
    "        .option(\"truncate\", \"false\") \\\n",
    "        .format(\"memory\") \\\n",
    "        .queryName(\"testedTable\") \\\n",
    "        .start()\n",
    "\n",
    "flower_agg_write_stream.awaitTermination(1)"
   ]
  },
  {
   "cell_type": "code",
   "execution_count": 14,
   "id": "33cb9bc5-45b8-4f2d-8895-bdebc73d229b",
   "metadata": {},
   "outputs": [
    {
     "name": "stdout",
     "output_type": "stream",
     "text": [
      "+--------+------------+------------+------------+------------+---------------+--------------------+\n",
      "|order_id|sepal_length|sepal_length|sepal_length|sepal_length|        species|           timestamp|\n",
      "+--------+------------+------------+------------+------------+---------------+--------------------+\n",
      "|      31|         5.4|         3.4|         1.5|         0.4|    Iris-setosa|2024-05-13 09:13:...|\n",
      "|      32|         5.2|         4.1|         1.5|         0.1|    Iris-setosa|2024-05-13 09:13:...|\n",
      "|      33|         5.5|         4.2|         1.4|         0.2|    Iris-setosa|2024-05-13 09:13:...|\n",
      "|      34|         4.9|         3.1|         1.5|         0.1|    Iris-setosa|2024-05-13 09:13:...|\n",
      "|      35|         5.0|         3.2|         1.2|         0.2|    Iris-setosa|2024-05-13 09:13:...|\n",
      "|      36|         5.5|         3.5|         1.3|         0.2|    Iris-setosa|2024-05-13 09:13:...|\n",
      "|      37|         4.9|         3.1|         1.5|         0.1|    Iris-setosa|2024-05-13 09:13:...|\n",
      "|      38|         4.4|         3.0|         1.3|         0.2|    Iris-setosa|2024-05-13 09:13:...|\n",
      "|      39|         5.1|         3.4|         1.5|         0.2|    Iris-setosa|2024-05-13 09:13:...|\n",
      "|      40|         5.0|         3.5|         1.3|         0.3|    Iris-setosa|2024-05-13 09:13:...|\n",
      "|      41|         4.5|         2.3|         1.3|         0.3|    Iris-setosa|2024-05-13 09:13:...|\n",
      "|      42|         4.4|         3.2|         1.3|         0.2|    Iris-setosa|2024-05-13 09:13:...|\n",
      "|      43|         5.0|         3.5|         1.6|         0.6|    Iris-setosa|2024-05-13 09:13:...|\n",
      "|      44|         5.1|         3.8|         1.9|         0.4|    Iris-setosa|2024-05-13 09:13:...|\n",
      "|      45|         4.8|         3.0|         1.4|         0.3|    Iris-setosa|2024-05-13 09:13:...|\n",
      "|      46|         5.1|         3.8|         1.6|         0.2|    Iris-setosa|2024-05-13 09:13:...|\n",
      "|      47|         4.6|         3.2|         1.4|         0.2|    Iris-setosa|2024-05-13 09:13:...|\n",
      "|      48|         5.3|         3.7|         1.5|         0.2|    Iris-setosa|2024-05-13 09:13:...|\n",
      "|      49|         5.0|         3.3|         1.4|         0.2|    Iris-setosa|2024-05-13 09:13:...|\n",
      "|      50|         7.0|         3.2|         4.7|         1.4|Iris-versicolor|2024-05-13 09:13:...|\n",
      "+--------+------------+------------+------------+------------+---------------+--------------------+\n",
      "only showing top 20 rows\n",
      "\n"
     ]
    }
   ],
   "source": [
    "df = spark.sql(\"SELECT * FROM testedTable\")\n",
    "df.show()"
   ]
  },
  {
   "cell_type": "code",
   "execution_count": 13,
   "id": "d5d84d56-53f5-4d98-89f4-ef7219f24950",
   "metadata": {},
   "outputs": [
    {
     "data": {
      "text/plain": [
       "117"
      ]
     },
     "execution_count": 13,
     "metadata": {},
     "output_type": "execute_result"
    }
   ],
   "source": [
    "df_count = df.count()\n",
    "df_count"
   ]
  },
  {
   "cell_type": "code",
   "execution_count": null,
   "id": "87948f92-1ae9-4858-b122-8248c9703a64",
   "metadata": {},
   "outputs": [],
   "source": []
  }
 ],
 "metadata": {
  "kernelspec": {
   "display_name": "Python 3 (ipykernel)",
   "language": "python",
   "name": "python3"
  },
  "language_info": {
   "codemirror_mode": {
    "name": "ipython",
    "version": 3
   },
   "file_extension": ".py",
   "mimetype": "text/x-python",
   "name": "python",
   "nbconvert_exporter": "python",
   "pygments_lexer": "ipython3",
   "version": "3.10.7"
  }
 },
 "nbformat": 4,
 "nbformat_minor": 5
}
