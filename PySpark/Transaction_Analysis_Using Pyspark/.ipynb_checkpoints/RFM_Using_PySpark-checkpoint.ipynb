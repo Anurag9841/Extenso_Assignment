{
 "cells": [
  {
   "cell_type": "code",
   "execution_count": 193,
   "id": "caa1280f-8562-4c94-82ce-83d5a0db80d9",
   "metadata": {},
   "outputs": [],
   "source": [
    "from pyspark.sql import SparkSession\n",
    "from pyspark.sql.functions import to_date,col,isnan,count,when,isnull,max,date_diff,days,current_date,desc,sum\n",
    "from pyspark.sql.types import DateType"
   ]
  },
  {
   "cell_type": "code",
   "execution_count": 157,
   "id": "c2960b1f-14e8-4751-9177-f5955b57cd7d",
   "metadata": {},
   "outputs": [],
   "source": [
    "session = SparkSession.builder.appName(\"spark_session\").config(\"spark.sql.legacy.timeParserPolicy\", \"LEGACY\").getOrCreate()"
   ]
  },
  {
   "cell_type": "code",
   "execution_count": 158,
   "id": "b46cd3d8-053b-4ae9-bd70-f99a12cc5648",
   "metadata": {},
   "outputs": [],
   "source": [
    "df = session.read.csv(\"C:/Users/acer/Downloads/esewa_airlines.csv\",header=True,inferSchema=True)"
   ]
  },
  {
   "cell_type": "code",
   "execution_count": 159,
   "id": "bd33adea-4720-42ce-94cf-00f7f2c09444",
   "metadata": {},
   "outputs": [
    {
     "name": "stdout",
     "output_type": "stream",
     "text": [
      "+---+----------+------------------+---------------------+------------+\n",
      "|_c0|account_id|last_modified_date|travelled_flight_name|total_amount|\n",
      "+---+----------+------------------+---------------------+------------+\n",
      "|  0|1.55947E19|        10/11/2023|           BUDDHA AIR|      6400.0|\n",
      "|  1|2.69308E18|        10/11/2023|           BUDDHA AIR|      5200.0|\n",
      "|  2|7.49454E18|        10/11/2023|       SHREE AIRLINES|      8800.0|\n",
      "|  3|1.49332E19|        10/11/2023|           BUDDHA AIR|      9001.0|\n",
      "|  4|1.68207E19|        10/11/2023|        YETI AIRLINES|     23200.0|\n",
      "|  5| 4.7877E18|        10/11/2023|       SHREE AIRLINES|      8800.0|\n",
      "|  6|2.24826E18|        10/11/2023|        YETI AIRLINES|     14300.0|\n",
      "|  7|1.24577E19|        10/11/2023|           BUDDHA AIR|      6400.0|\n",
      "|  8|1.36404E19|        10/11/2023|           BUDDHA AIR|      4400.0|\n",
      "|  9|7.28483E18|        10/11/2023|           BUDDHA AIR|     10900.0|\n",
      "| 10|1.30363E19|        10/11/2023|       SHREE AIRLINES|     33500.0|\n",
      "| 11|2.19566E18|        10/11/2023|        YETI AIRLINES|     28800.0|\n",
      "| 12|6.16025E18|        10/11/2023|           BUDDHA AIR|      6200.0|\n",
      "| 13|1.76357E19|        10/11/2023|       SHREE AIRLINES|     14701.0|\n",
      "| 14|8.30972E18|        10/11/2023|        YETI AIRLINES|      7900.0|\n",
      "| 15|5.99028E18|        10/11/2023|           BUDDHA AIR|      5700.0|\n",
      "| 16| 1.7915E18|        10/11/2023|       SHREE AIRLINES|      5200.0|\n",
      "| 17|  2.282E18|        10/11/2023|       SHREE AIRLINES|      9001.0|\n",
      "| 18|5.16977E18|        10/11/2023|        YETI AIRLINES|     14400.0|\n",
      "| 19|2.19595E18|        10/11/2023|           BUDDHA AIR|      4739.0|\n",
      "+---+----------+------------------+---------------------+------------+\n",
      "only showing top 20 rows\n",
      "\n"
     ]
    }
   ],
   "source": [
    "df.show()"
   ]
  },
  {
   "cell_type": "code",
   "execution_count": 160,
   "id": "88a37cf4-b31f-4983-9687-ebd4a17095c0",
   "metadata": {},
   "outputs": [
    {
     "name": "stdout",
     "output_type": "stream",
     "text": [
      "root\n",
      " |-- _c0: integer (nullable = true)\n",
      " |-- account_id: double (nullable = true)\n",
      " |-- last_modified_date: string (nullable = true)\n",
      " |-- travelled_flight_name: string (nullable = true)\n",
      " |-- total_amount: double (nullable = true)\n",
      "\n"
     ]
    }
   ],
   "source": [
    "df.printSchema()"
   ]
  },
  {
   "cell_type": "code",
   "execution_count": 161,
   "id": "cc10c19f-9a3c-4c3e-a9a2-115fa0439914",
   "metadata": {},
   "outputs": [
    {
     "name": "stdout",
     "output_type": "stream",
     "text": [
      "+----------+------------------+------------+\n",
      "|account_id|last_modified_date|total_amount|\n",
      "+----------+------------------+------------+\n",
      "|1.55947E19|        10/11/2023|      6400.0|\n",
      "|2.69308E18|        10/11/2023|      5200.0|\n",
      "|7.49454E18|        10/11/2023|      8800.0|\n",
      "|1.49332E19|        10/11/2023|      9001.0|\n",
      "|1.68207E19|        10/11/2023|     23200.0|\n",
      "| 4.7877E18|        10/11/2023|      8800.0|\n",
      "|2.24826E18|        10/11/2023|     14300.0|\n",
      "|1.24577E19|        10/11/2023|      6400.0|\n",
      "|1.36404E19|        10/11/2023|      4400.0|\n",
      "|7.28483E18|        10/11/2023|     10900.0|\n",
      "|1.30363E19|        10/11/2023|     33500.0|\n",
      "|2.19566E18|        10/11/2023|     28800.0|\n",
      "|6.16025E18|        10/11/2023|      6200.0|\n",
      "|1.76357E19|        10/11/2023|     14701.0|\n",
      "|8.30972E18|        10/11/2023|      7900.0|\n",
      "|5.99028E18|        10/11/2023|      5700.0|\n",
      "| 1.7915E18|        10/11/2023|      5200.0|\n",
      "|  2.282E18|        10/11/2023|      9001.0|\n",
      "|5.16977E18|        10/11/2023|     14400.0|\n",
      "|2.19595E18|        10/11/2023|      4739.0|\n",
      "+----------+------------------+------------+\n",
      "only showing top 20 rows\n",
      "\n"
     ]
    }
   ],
   "source": [
    "df.select(\"account_id\",\"last_modified_date\",\"total_amount\").show()"
   ]
  },
  {
   "cell_type": "code",
   "execution_count": 162,
   "id": "8d17e90e-cdf6-4b8d-bf54-8dd53f7a1787",
   "metadata": {},
   "outputs": [],
   "source": [
    "df = df.withColumn(\"last_modified_date\",to_date(col(\"last_modified_date\"),\"MM/dd/yyyy\"))"
   ]
  },
  {
   "cell_type": "code",
   "execution_count": 163,
   "id": "f049f7ac-614d-4ec7-8209-ce4e32235d06",
   "metadata": {},
   "outputs": [
    {
     "name": "stdout",
     "output_type": "stream",
     "text": [
      "root\n",
      " |-- _c0: integer (nullable = true)\n",
      " |-- account_id: double (nullable = true)\n",
      " |-- last_modified_date: date (nullable = true)\n",
      " |-- travelled_flight_name: string (nullable = true)\n",
      " |-- total_amount: double (nullable = true)\n",
      "\n"
     ]
    }
   ],
   "source": [
    "df.printSchema()"
   ]
  },
  {
   "cell_type": "code",
   "execution_count": 164,
   "id": "b4125e0d-a219-43bc-9465-c1d835cc359d",
   "metadata": {},
   "outputs": [],
   "source": [
    "def datatype(df=df):\n",
    "    list = []\n",
    "    for c in df.columns:\n",
    "        if df.select(c).schema[0].dataType != DateType():\n",
    "            list.append(c)\n",
    "    return list"
   ]
  },
  {
   "cell_type": "code",
   "execution_count": 165,
   "id": "293e6a41-96b8-43d3-b8ad-2ce724593af0",
   "metadata": {},
   "outputs": [
    {
     "data": {
      "text/plain": [
       "['_c0', 'account_id', 'travelled_flight_name', 'total_amount']"
      ]
     },
     "execution_count": 165,
     "metadata": {},
     "output_type": "execute_result"
    }
   ],
   "source": [
    "datatype()"
   ]
  },
  {
   "cell_type": "code",
   "execution_count": 166,
   "id": "4f0c312b-56bb-4e5d-a227-b372b6896699",
   "metadata": {},
   "outputs": [],
   "source": [
    "def isnull():\n",
    "    return df.select([count(when(col(c).isNull(),c)).alias(c)for c in datatype()]).show()"
   ]
  },
  {
   "cell_type": "code",
   "execution_count": 167,
   "id": "0d19067a-fd9e-49eb-af98-e78056ab7904",
   "metadata": {},
   "outputs": [
    {
     "name": "stdout",
     "output_type": "stream",
     "text": [
      "+---+----------+---------------------+------------+\n",
      "|_c0|account_id|travelled_flight_name|total_amount|\n",
      "+---+----------+---------------------+------------+\n",
      "|  0|         0|                    0|           0|\n",
      "+---+----------+---------------------+------------+\n",
      "\n"
     ]
    }
   ],
   "source": [
    "isnull()"
   ]
  },
  {
   "cell_type": "code",
   "execution_count": 168,
   "id": "f34615b3-7608-4cff-b87b-f2816be3c281",
   "metadata": {},
   "outputs": [],
   "source": [
    "df = df.withColumnRenamed(\"last_modified_date\",\"login_date\")"
   ]
  },
  {
   "cell_type": "code",
   "execution_count": 169,
   "id": "e7d0911b-8deb-420d-a878-b824859ffa37",
   "metadata": {},
   "outputs": [
    {
     "name": "stdout",
     "output_type": "stream",
     "text": [
      "+---+----------+----------+---------------------+------------+\n",
      "|_c0|account_id|login_date|travelled_flight_name|total_amount|\n",
      "+---+----------+----------+---------------------+------------+\n",
      "|  0|1.55947E19|2023-10-11|           BUDDHA AIR|      6400.0|\n",
      "|  1|2.69308E18|2023-10-11|           BUDDHA AIR|      5200.0|\n",
      "|  2|7.49454E18|2023-10-11|       SHREE AIRLINES|      8800.0|\n",
      "|  3|1.49332E19|2023-10-11|           BUDDHA AIR|      9001.0|\n",
      "|  4|1.68207E19|2023-10-11|        YETI AIRLINES|     23200.0|\n",
      "|  5| 4.7877E18|2023-10-11|       SHREE AIRLINES|      8800.0|\n",
      "|  6|2.24826E18|2023-10-11|        YETI AIRLINES|     14300.0|\n",
      "|  7|1.24577E19|2023-10-11|           BUDDHA AIR|      6400.0|\n",
      "|  8|1.36404E19|2023-10-11|           BUDDHA AIR|      4400.0|\n",
      "|  9|7.28483E18|2023-10-11|           BUDDHA AIR|     10900.0|\n",
      "| 10|1.30363E19|2023-10-11|       SHREE AIRLINES|     33500.0|\n",
      "| 11|2.19566E18|2023-10-11|        YETI AIRLINES|     28800.0|\n",
      "| 12|6.16025E18|2023-10-11|           BUDDHA AIR|      6200.0|\n",
      "| 13|1.76357E19|2023-10-11|       SHREE AIRLINES|     14701.0|\n",
      "| 14|8.30972E18|2023-10-11|        YETI AIRLINES|      7900.0|\n",
      "| 15|5.99028E18|2023-10-11|           BUDDHA AIR|      5700.0|\n",
      "| 16| 1.7915E18|2023-10-11|       SHREE AIRLINES|      5200.0|\n",
      "| 17|  2.282E18|2023-10-11|       SHREE AIRLINES|      9001.0|\n",
      "| 18|5.16977E18|2023-10-11|        YETI AIRLINES|     14400.0|\n",
      "| 19|2.19595E18|2023-10-11|           BUDDHA AIR|      4739.0|\n",
      "+---+----------+----------+---------------------+------------+\n",
      "only showing top 20 rows\n",
      "\n"
     ]
    }
   ],
   "source": [
    "df.show()"
   ]
  },
  {
   "cell_type": "code",
   "execution_count": 170,
   "id": "dfa75195-9621-4d0a-a565-ec62f4b94e5a",
   "metadata": {},
   "outputs": [],
   "source": [
    "df_recency = df.alias(\"df_recency\")"
   ]
  },
  {
   "cell_type": "code",
   "execution_count": 171,
   "id": "b3aed71f-d4b2-4556-a004-722521f125ff",
   "metadata": {},
   "outputs": [
    {
     "name": "stdout",
     "output_type": "stream",
     "text": [
      "+---+----------+----------+---------------------+------------+\n",
      "|_c0|account_id|login_date|travelled_flight_name|total_amount|\n",
      "+---+----------+----------+---------------------+------------+\n",
      "|  0|1.55947E19|2023-10-11|           BUDDHA AIR|      6400.0|\n",
      "|  1|2.69308E18|2023-10-11|           BUDDHA AIR|      5200.0|\n",
      "|  2|7.49454E18|2023-10-11|       SHREE AIRLINES|      8800.0|\n",
      "|  3|1.49332E19|2023-10-11|           BUDDHA AIR|      9001.0|\n",
      "|  4|1.68207E19|2023-10-11|        YETI AIRLINES|     23200.0|\n",
      "|  5| 4.7877E18|2023-10-11|       SHREE AIRLINES|      8800.0|\n",
      "|  6|2.24826E18|2023-10-11|        YETI AIRLINES|     14300.0|\n",
      "|  7|1.24577E19|2023-10-11|           BUDDHA AIR|      6400.0|\n",
      "|  8|1.36404E19|2023-10-11|           BUDDHA AIR|      4400.0|\n",
      "|  9|7.28483E18|2023-10-11|           BUDDHA AIR|     10900.0|\n",
      "+---+----------+----------+---------------------+------------+\n",
      "only showing top 10 rows\n",
      "\n"
     ]
    }
   ],
   "source": [
    "df_recency.show(10)"
   ]
  },
  {
   "cell_type": "code",
   "execution_count": 172,
   "id": "7e31a066-a34c-4c1f-bc96-db725259145a",
   "metadata": {},
   "outputs": [
    {
     "name": "stdout",
     "output_type": "stream",
     "text": [
      "root\n",
      " |-- _c0: integer (nullable = true)\n",
      " |-- account_id: double (nullable = true)\n",
      " |-- login_date: date (nullable = true)\n",
      " |-- travelled_flight_name: string (nullable = true)\n",
      " |-- total_amount: double (nullable = true)\n",
      "\n"
     ]
    }
   ],
   "source": [
    "df_recency.printSchema()"
   ]
  },
  {
   "cell_type": "code",
   "execution_count": 173,
   "id": "28fb4b49-51b1-4ef5-9a20-0ad6cb9ffde4",
   "metadata": {},
   "outputs": [],
   "source": [
    "df_recency= df_recency.groupBy(\"account_id\").agg(max(\"login_date\").alias(\"last_login_date\"))"
   ]
  },
  {
   "cell_type": "code",
   "execution_count": 174,
   "id": "ed5de164-0570-48d1-bb5b-89b01bc4f5cc",
   "metadata": {},
   "outputs": [
    {
     "name": "stdout",
     "output_type": "stream",
     "text": [
      "+----------+---------------+\n",
      "|account_id|last_login_date|\n",
      "+----------+---------------+\n",
      "|1.54303E19|     2024-03-02|\n",
      "|2.92302E18|     2024-04-23|\n",
      "|1.89273E18|     2024-04-26|\n",
      "|5.55953E18|     2024-04-20|\n",
      "|1.52739E19|     2024-04-24|\n",
      "|5.06732E18|     2024-04-14|\n",
      "|9.44376E18|     2024-04-20|\n",
      "|3.11258E18|     2024-04-17|\n",
      "| 1.6252E19|     2024-05-02|\n",
      "|1.53173E19|     2024-05-05|\n",
      "+----------+---------------+\n",
      "only showing top 10 rows\n",
      "\n"
     ]
    }
   ],
   "source": [
    "df_recency.show(10)"
   ]
  },
  {
   "cell_type": "code",
   "execution_count": 175,
   "id": "3c208d2f-cfed-4865-9bfd-8baed0b77a0c",
   "metadata": {},
   "outputs": [],
   "source": [
    "from datetime import datetime"
   ]
  },
  {
   "cell_type": "code",
   "execution_count": 176,
   "id": "d4471879-b377-4e5e-b9c6-5f695accaa07",
   "metadata": {},
   "outputs": [],
   "source": [
    "df_recency = df_recency.withColumn(\"Recency\", date_diff(current_date(), df_recency[\"last_login_date\"]))"
   ]
  },
  {
   "cell_type": "code",
   "execution_count": 177,
   "id": "d6b10868-f211-4d48-9221-f62161738787",
   "metadata": {},
   "outputs": [
    {
     "name": "stdout",
     "output_type": "stream",
     "text": [
      "+----------+---------------+-------+\n",
      "|account_id|last_login_date|Recency|\n",
      "+----------+---------------+-------+\n",
      "|1.54303E19|     2024-03-02|     70|\n",
      "|2.92302E18|     2024-04-23|     18|\n",
      "|1.89273E18|     2024-04-26|     15|\n",
      "|5.55953E18|     2024-04-20|     21|\n",
      "|1.52739E19|     2024-04-24|     17|\n",
      "|5.06732E18|     2024-04-14|     27|\n",
      "|9.44376E18|     2024-04-20|     21|\n",
      "|3.11258E18|     2024-04-17|     24|\n",
      "| 1.6252E19|     2024-05-02|      9|\n",
      "|1.53173E19|     2024-05-05|      6|\n",
      "|5.13044E18|     2023-10-09|    215|\n",
      "|1.51924E19|     2024-03-16|     56|\n",
      "|8.80347E18|     2023-10-08|    216|\n",
      "|5.17166E18|     2024-05-05|      6|\n",
      "|1.66495E19|     2023-12-05|    158|\n",
      "|1.76714E19|     2023-11-07|    186|\n",
      "|3.01135E18|     2023-12-21|    142|\n",
      "|7.01765E18|     2024-02-27|     74|\n",
      "|2.41429E18|     2024-04-18|     23|\n",
      "|1.01818E19|     2023-11-22|    171|\n",
      "+----------+---------------+-------+\n",
      "only showing top 20 rows\n",
      "\n"
     ]
    }
   ],
   "source": [
    "df_recency.show()"
   ]
  },
  {
   "cell_type": "code",
   "execution_count": 189,
   "id": "c2c30019-2e53-439e-9020-b1967811a7dc",
   "metadata": {},
   "outputs": [
    {
     "name": "stdout",
     "output_type": "stream",
     "text": [
      "+----------+---------------+-------+\n",
      "|account_id|last_login_date|Recency|\n",
      "+----------+---------------+-------+\n",
      "|6.10411E18|     2024-05-06|      5|\n",
      "|4.90113E18|     2024-05-06|      5|\n",
      "|1.04022E19|     2024-05-06|      5|\n",
      "|1.19958E19|     2024-05-06|      5|\n",
      "|2.60586E18|     2024-05-06|      5|\n",
      "|1.50357E19|     2024-05-06|      5|\n",
      "|1.18968E19|     2024-05-06|      5|\n",
      "|2.29342E17|     2024-05-06|      5|\n",
      "|1.22646E19|     2024-05-06|      5|\n",
      "|1.46792E19|     2024-05-06|      5|\n",
      "| 2.2156E18|     2024-05-06|      5|\n",
      "|1.57426E19|     2024-05-06|      5|\n",
      "|9.09688E18|     2024-05-06|      5|\n",
      "|1.52314E19|     2024-05-06|      5|\n",
      "|1.01469E19|     2024-05-06|      5|\n",
      "|9.24407E17|     2024-05-06|      5|\n",
      "|1.01602E19|     2024-05-06|      5|\n",
      "|1.78123E19|     2024-05-06|      5|\n",
      "|5.23229E18|     2024-05-06|      5|\n",
      "|1.14267E19|     2024-05-06|      5|\n",
      "+----------+---------------+-------+\n",
      "only showing top 20 rows\n",
      "\n"
     ]
    }
   ],
   "source": [
    "df_recency.orderBy(col(\"Recency\")).show()"
   ]
  },
  {
   "cell_type": "code",
   "execution_count": 178,
   "id": "61b4d718-15f3-4f67-9dfa-beea9b514888",
   "metadata": {},
   "outputs": [],
   "source": [
    "df_frequency = df.alias(\"df_frequency\")"
   ]
  },
  {
   "cell_type": "code",
   "execution_count": 179,
   "id": "dd4b203a-3147-4a7b-a8b3-83af9cdc087d",
   "metadata": {},
   "outputs": [
    {
     "name": "stdout",
     "output_type": "stream",
     "text": [
      "+---+----------+----------+---------------------+------------+\n",
      "|_c0|account_id|login_date|travelled_flight_name|total_amount|\n",
      "+---+----------+----------+---------------------+------------+\n",
      "|  0|1.55947E19|2023-10-11|           BUDDHA AIR|      6400.0|\n",
      "|  1|2.69308E18|2023-10-11|           BUDDHA AIR|      5200.0|\n",
      "|  2|7.49454E18|2023-10-11|       SHREE AIRLINES|      8800.0|\n",
      "|  3|1.49332E19|2023-10-11|           BUDDHA AIR|      9001.0|\n",
      "|  4|1.68207E19|2023-10-11|        YETI AIRLINES|     23200.0|\n",
      "|  5| 4.7877E18|2023-10-11|       SHREE AIRLINES|      8800.0|\n",
      "|  6|2.24826E18|2023-10-11|        YETI AIRLINES|     14300.0|\n",
      "|  7|1.24577E19|2023-10-11|           BUDDHA AIR|      6400.0|\n",
      "|  8|1.36404E19|2023-10-11|           BUDDHA AIR|      4400.0|\n",
      "|  9|7.28483E18|2023-10-11|           BUDDHA AIR|     10900.0|\n",
      "| 10|1.30363E19|2023-10-11|       SHREE AIRLINES|     33500.0|\n",
      "| 11|2.19566E18|2023-10-11|        YETI AIRLINES|     28800.0|\n",
      "| 12|6.16025E18|2023-10-11|           BUDDHA AIR|      6200.0|\n",
      "| 13|1.76357E19|2023-10-11|       SHREE AIRLINES|     14701.0|\n",
      "| 14|8.30972E18|2023-10-11|        YETI AIRLINES|      7900.0|\n",
      "| 15|5.99028E18|2023-10-11|           BUDDHA AIR|      5700.0|\n",
      "| 16| 1.7915E18|2023-10-11|       SHREE AIRLINES|      5200.0|\n",
      "| 17|  2.282E18|2023-10-11|       SHREE AIRLINES|      9001.0|\n",
      "| 18|5.16977E18|2023-10-11|        YETI AIRLINES|     14400.0|\n",
      "| 19|2.19595E18|2023-10-11|           BUDDHA AIR|      4739.0|\n",
      "+---+----------+----------+---------------------+------------+\n",
      "only showing top 20 rows\n",
      "\n"
     ]
    }
   ],
   "source": [
    "df_frequency.show()"
   ]
  },
  {
   "cell_type": "code",
   "execution_count": 180,
   "id": "e89c4a49-406c-4efb-88f7-03862e133387",
   "metadata": {},
   "outputs": [],
   "source": [
    "df_frequency = df_frequency.groupBy(\"account_id\").agg(count(\"login_date\").alias(\"frequency\"))"
   ]
  },
  {
   "cell_type": "code",
   "execution_count": 181,
   "id": "7c4ec852-76a3-4aed-b94c-9ebcc0188edb",
   "metadata": {},
   "outputs": [
    {
     "name": "stdout",
     "output_type": "stream",
     "text": [
      "+----------+---------+\n",
      "|account_id|frequency|\n",
      "+----------+---------+\n",
      "|1.54303E19|        2|\n",
      "|2.92302E18|       16|\n",
      "|1.89273E18|        6|\n",
      "|5.55953E18|       22|\n",
      "|1.52739E19|        9|\n",
      "|5.06732E18|        2|\n",
      "|9.44376E18|       17|\n",
      "|3.11258E18|        5|\n",
      "| 1.6252E19|       26|\n",
      "|1.53173E19|       72|\n",
      "|5.13044E18|        2|\n",
      "|1.51924E19|       10|\n",
      "|8.80347E18|        2|\n",
      "|5.17166E18|      252|\n",
      "|1.66495E19|        6|\n",
      "|1.76714E19|        1|\n",
      "|3.01135E18|        6|\n",
      "|7.01765E18|        8|\n",
      "|2.41429E18|        5|\n",
      "|1.01818E19|       14|\n",
      "+----------+---------+\n",
      "only showing top 20 rows\n",
      "\n"
     ]
    }
   ],
   "source": [
    "df_frequency.show()"
   ]
  },
  {
   "cell_type": "code",
   "execution_count": 188,
   "id": "5e9b55fa-000d-46a1-a62c-2d7f1743f9cb",
   "metadata": {},
   "outputs": [
    {
     "name": "stdout",
     "output_type": "stream",
     "text": [
      "+----------+---------+\n",
      "|account_id|frequency|\n",
      "+----------+---------+\n",
      "|5.72365E17|     1595|\n",
      "|4.25625E18|      918|\n",
      "|8.21472E18|      906|\n",
      "|9.42867E18|      895|\n",
      "|1.44714E19|      753|\n",
      "|1.61058E19|      620|\n",
      "|1.20827E19|      595|\n",
      "|1.24736E18|      560|\n",
      "|1.70215E19|      508|\n",
      "|7.93818E18|      490|\n",
      "|1.53148E19|      468|\n",
      "| 2.3006E18|      450|\n",
      "|1.26214E19|      446|\n",
      "|8.27837E18|      434|\n",
      "|1.28232E19|      380|\n",
      "|8.67017E18|      373|\n",
      "|7.93545E18|      373|\n",
      "|1.77906E19|      354|\n",
      "| 5.9793E18|      349|\n",
      "|6.67876E18|      345|\n",
      "+----------+---------+\n",
      "only showing top 20 rows\n",
      "\n"
     ]
    }
   ],
   "source": [
    "df_frequency.orderBy(col(\"frequency\").desc()).show()"
   ]
  },
  {
   "cell_type": "code",
   "execution_count": 190,
   "id": "a4be88e2-9f81-4212-a1ea-6ca197efc212",
   "metadata": {},
   "outputs": [],
   "source": [
    "df_Monetary = df.alias(\"df_Monetary\")"
   ]
  },
  {
   "cell_type": "code",
   "execution_count": 192,
   "id": "f4f5a456-176f-4a28-af2c-e47cb252d59f",
   "metadata": {},
   "outputs": [
    {
     "name": "stdout",
     "output_type": "stream",
     "text": [
      "root\n",
      " |-- _c0: integer (nullable = true)\n",
      " |-- account_id: double (nullable = true)\n",
      " |-- login_date: date (nullable = true)\n",
      " |-- travelled_flight_name: string (nullable = true)\n",
      " |-- total_amount: double (nullable = true)\n",
      "\n"
     ]
    }
   ],
   "source": [
    "df_Monetary.printSchema()"
   ]
  },
  {
   "cell_type": "code",
   "execution_count": 194,
   "id": "f7e97bad-8476-4257-a005-02519cfc5763",
   "metadata": {},
   "outputs": [],
   "source": [
    "df_Monetary = df_Monetary.groupBy(\"account_id\").agg(sum(\"total_amount\").alias(\"Total_Spent\"))"
   ]
  },
  {
   "cell_type": "code",
   "execution_count": 196,
   "id": "1c9743f5-0352-4c53-b327-7760ea018e9c",
   "metadata": {},
   "outputs": [
    {
     "name": "stdout",
     "output_type": "stream",
     "text": [
      "+----------+--------------------+\n",
      "|account_id|         Total_Spent|\n",
      "+----------+--------------------+\n",
      "|5.72365E17|1.1034386669999998E7|\n",
      "|1.44714E19|          6392218.06|\n",
      "|9.42867E18|          6303989.71|\n",
      "|1.20827E19|          5837493.53|\n",
      "|8.21472E18|   5707496.600000001|\n",
      "|4.25625E18|   5550332.649999999|\n",
      "|1.53148E19|   4537335.680000001|\n",
      "|7.93818E18|          3933330.61|\n",
      "|1.26214E19|          3923563.17|\n",
      "|1.28232E19|          3514419.55|\n",
      "|1.61058E19|          3512043.57|\n",
      "| 2.3006E18|          3458611.49|\n",
      "|1.24736E18|  3380198.7699999996|\n",
      "|2.02965E18|          2985918.78|\n",
      "|1.11928E19|          2957247.77|\n",
      "|1.38456E19|          2922585.06|\n",
      "|1.07714E19|          2861976.66|\n",
      "|1.66276E19|          2842912.95|\n",
      "|1.82705E19|           2837596.7|\n",
      "|7.15769E18|  2810892.9699999997|\n",
      "+----------+--------------------+\n",
      "only showing top 20 rows\n",
      "\n"
     ]
    }
   ],
   "source": [
    "df_Monetary.orderBy(col(\"Total_Spent\").desc()).show()"
   ]
  },
  {
   "cell_type": "code",
   "execution_count": 197,
   "id": "3f753df0-9770-4606-98a1-66807d63507f",
   "metadata": {},
   "outputs": [],
   "source": [
    "final_df = df_recency.join(df_frequency,df_recency[\"account_id\"] == df_frequency[\"account_id\"],\"inner\").select(df_recency[\"account_id\"],df_recency[\"Recency\"],df_frequency[\"frequency\"])"
   ]
  },
  {
   "cell_type": "code",
   "execution_count": 198,
   "id": "9006d89e-8c6b-41aa-acb2-0a0b27c94b20",
   "metadata": {},
   "outputs": [
    {
     "name": "stdout",
     "output_type": "stream",
     "text": [
      "+----------+-------+---------+\n",
      "|account_id|Recency|frequency|\n",
      "+----------+-------+---------+\n",
      "|1.54303E19|     70|        2|\n",
      "|2.92302E18|     18|       16|\n",
      "|1.89273E18|     15|        6|\n",
      "|5.55953E18|     21|       22|\n",
      "|1.52739E19|     17|        9|\n",
      "|5.06732E18|     27|        2|\n",
      "|9.44376E18|     21|       17|\n",
      "|3.11258E18|     24|        5|\n",
      "| 1.6252E19|      9|       26|\n",
      "|1.53173E19|      6|       72|\n",
      "+----------+-------+---------+\n",
      "only showing top 10 rows\n",
      "\n"
     ]
    }
   ],
   "source": [
    "final_df.show(10)"
   ]
  },
  {
   "cell_type": "code",
   "execution_count": 199,
   "id": "395173c1-b168-464d-acd1-f3209e0200ff",
   "metadata": {},
   "outputs": [],
   "source": [
    "final_df = final_df.join(df_Monetary,final_df[\"account_id\"] == df_Monetary[\"account_id\"],\"inner\").select(final_df[\"account_id\"],df_Monetary[\"Total_Spent\"],final_df[\"frequency\"],final_df[\"Recency\"])"
   ]
  },
  {
   "cell_type": "code",
   "execution_count": 200,
   "id": "727c5770-9a07-47e3-9f60-734b17493e26",
   "metadata": {},
   "outputs": [
    {
     "name": "stdout",
     "output_type": "stream",
     "text": [
      "+----------+-----------+---------+-------+\n",
      "|account_id|Total_Spent|frequency|Recency|\n",
      "+----------+-----------+---------+-------+\n",
      "|1.54303E19|     8799.2|        2|     70|\n",
      "|2.92302E18|   103590.0|       16|     18|\n",
      "|1.89273E18|    39702.0|        6|     15|\n",
      "|5.55953E18|   151774.0|       22|     21|\n",
      "|1.52739E19|    76801.8|        9|     17|\n",
      "|5.06732E18|     8800.0|        2|     27|\n",
      "|9.44376E18|   133624.0|       17|     21|\n",
      "|3.11258E18|    41261.0|        5|     24|\n",
      "| 1.6252E19|  261403.85|       26|      9|\n",
      "|1.53173E19|   549494.7|       72|      6|\n",
      "+----------+-----------+---------+-------+\n",
      "only showing top 10 rows\n",
      "\n"
     ]
    }
   ],
   "source": [
    "final_df.show(10)"
   ]
  },
  {
   "cell_type": "code",
   "execution_count": 201,
   "id": "fc843af8-1df3-48f4-89bc-8635ce57419c",
   "metadata": {},
   "outputs": [
    {
     "name": "stdout",
     "output_type": "stream",
     "text": [
      "+----------+--------------------+---------+-------+\n",
      "|account_id|         Total_Spent|frequency|Recency|\n",
      "+----------+--------------------+---------+-------+\n",
      "|5.72365E17|1.1034386669999998E7|     1595|      5|\n",
      "|1.44714E19|          6392218.06|      753|      5|\n",
      "|9.42867E18|          6303989.71|      895|      5|\n",
      "|1.20827E19|          5837493.53|      595|     23|\n",
      "|8.21472E18|   5707496.600000001|      906|      5|\n",
      "|4.25625E18|   5550332.649999999|      918|      5|\n",
      "|1.53148E19|   4537335.680000001|      468|      5|\n",
      "|7.93818E18|          3933330.61|      490|      8|\n",
      "|1.26214E19|          3923563.17|      446|      5|\n",
      "|1.28232E19|          3514419.55|      380|      8|\n",
      "|1.61058E19|          3512043.57|      620|      5|\n",
      "| 2.3006E18|          3458611.49|      450|      8|\n",
      "|1.24736E18|  3380198.7699999996|      560|      5|\n",
      "|2.02965E18|          2985918.78|      302|      5|\n",
      "|1.11928E19|          2957247.77|      278|      5|\n",
      "|1.38456E19|          2922585.06|      254|     11|\n",
      "|1.07714E19|          2861976.66|      275|      6|\n",
      "|1.66276E19|          2842912.95|      299|      5|\n",
      "|1.82705E19|           2837596.7|      338|      6|\n",
      "|7.15769E18|  2810892.9699999997|      307|      5|\n",
      "+----------+--------------------+---------+-------+\n",
      "only showing top 20 rows\n",
      "\n"
     ]
    }
   ],
   "source": [
    "final_df.orderBy(col(\"Total_Spent\").desc()).show()"
   ]
  },
  {
   "cell_type": "code",
   "execution_count": null,
   "id": "e59072ac-6ff1-492a-bb63-a69ec5c28f36",
   "metadata": {},
   "outputs": [],
   "source": []
  }
 ],
 "metadata": {
  "kernelspec": {
   "display_name": "Python 3 (ipykernel)",
   "language": "python",
   "name": "python3"
  },
  "language_info": {
   "codemirror_mode": {
    "name": "ipython",
    "version": 3
   },
   "file_extension": ".py",
   "mimetype": "text/x-python",
   "name": "python",
   "nbconvert_exporter": "python",
   "pygments_lexer": "ipython3",
   "version": "3.10.7"
  }
 },
 "nbformat": 4,
 "nbformat_minor": 5
}
