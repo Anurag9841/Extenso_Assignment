{
 "cells": [
  {
   "cell_type": "code",
   "execution_count": 1,
   "id": "79aa08f2-d432-49a0-b3c8-f070618b6eb9",
   "metadata": {},
   "outputs": [],
   "source": [
    "import pyspark"
   ]
  },
  {
   "cell_type": "code",
   "execution_count": 3,
   "id": "d1759cb2-7a62-43e6-930f-e3728797e90e",
   "metadata": {},
   "outputs": [],
   "source": [
    "from pyspark.sql import SparkSession"
   ]
  },
  {
   "cell_type": "code",
   "execution_count": 4,
   "id": "a60660fe-75f4-4b52-abcf-3cefc5982b09",
   "metadata": {},
   "outputs": [],
   "source": [
    "spark = SparkSession.builder.appName('Practice2').getOrCreate()"
   ]
  },
  {
   "cell_type": "code",
   "execution_count": 5,
   "id": "fc8a3a7e-1fd9-4a23-b20d-618907b4218f",
   "metadata": {},
   "outputs": [
    {
     "data": {
      "text/html": [
       "\n",
       "            <div>\n",
       "                <p><b>SparkSession - in-memory</b></p>\n",
       "                \n",
       "        <div>\n",
       "            <p><b>SparkContext</b></p>\n",
       "\n",
       "            <p><a href=\"http://Anurag:4041\">Spark UI</a></p>\n",
       "\n",
       "            <dl>\n",
       "              <dt>Version</dt>\n",
       "                <dd><code>v3.5.1</code></dd>\n",
       "              <dt>Master</dt>\n",
       "                <dd><code>local[*]</code></dd>\n",
       "              <dt>AppName</dt>\n",
       "                <dd><code>Practice2</code></dd>\n",
       "            </dl>\n",
       "        </div>\n",
       "        \n",
       "            </div>\n",
       "        "
      ],
      "text/plain": [
       "<pyspark.sql.session.SparkSession at 0x139ed688ca0>"
      ]
     },
     "execution_count": 5,
     "metadata": {},
     "output_type": "execute_result"
    }
   ],
   "source": [
    "spark"
   ]
  },
  {
   "cell_type": "code",
   "execution_count": 11,
   "id": "590702cc-9f3f-4c78-b1a7-6a12e2787fd7",
   "metadata": {},
   "outputs": [],
   "source": [
    "dfSpark = spark.read.option('header','true').csv(\"F:/test1.csv\",inferSchema=True)"
   ]
  },
  {
   "cell_type": "code",
   "execution_count": 12,
   "id": "bd14d24d-1c83-4464-aa79-26f00855aa1a",
   "metadata": {},
   "outputs": [
    {
     "name": "stdout",
     "output_type": "stream",
     "text": [
      "+---------+---+----------+------+\n",
      "|     Name|age|Experience|Salary|\n",
      "+---------+---+----------+------+\n",
      "|    Krish| 31|        10| 30000|\n",
      "|Sudhanshu| 30|         8| 25000|\n",
      "|    Sunny| 29|         4| 20000|\n",
      "|     Paul| 24|         3| 20000|\n",
      "|   Harsha| 21|         1| 15000|\n",
      "+---------+---+----------+------+\n",
      "only showing top 5 rows\n",
      "\n"
     ]
    }
   ],
   "source": [
    "dfSpark.show(5)"
   ]
  },
  {
   "cell_type": "code",
   "execution_count": 13,
   "id": "24538af4-d533-47d5-a5eb-e6bd99c7f4b2",
   "metadata": {},
   "outputs": [
    {
     "name": "stdout",
     "output_type": "stream",
     "text": [
      "root\n",
      " |-- Name: string (nullable = true)\n",
      " |-- age: integer (nullable = true)\n",
      " |-- Experience: integer (nullable = true)\n",
      " |-- Salary: integer (nullable = true)\n",
      "\n"
     ]
    }
   ],
   "source": [
    "dfSpark.printSchema()"
   ]
  },
  {
   "cell_type": "code",
   "execution_count": 14,
   "id": "814c1bab-2646-46a1-9b60-d03e492bd6ff",
   "metadata": {},
   "outputs": [],
   "source": [
    "df_spark = spark.read.csv(\"F:/test1.csv\",header=True,inferSchema=True)"
   ]
  },
  {
   "cell_type": "code",
   "execution_count": 15,
   "id": "1e266037-6c2c-46ec-bf6d-d604be535f02",
   "metadata": {},
   "outputs": [
    {
     "name": "stdout",
     "output_type": "stream",
     "text": [
      "+---------+---+----------+------+\n",
      "|     Name|age|Experience|Salary|\n",
      "+---------+---+----------+------+\n",
      "|    Krish| 31|        10| 30000|\n",
      "|Sudhanshu| 30|         8| 25000|\n",
      "|    Sunny| 29|         4| 20000|\n",
      "|     Paul| 24|         3| 20000|\n",
      "|   Harsha| 21|         1| 15000|\n",
      "+---------+---+----------+------+\n",
      "only showing top 5 rows\n",
      "\n"
     ]
    }
   ],
   "source": [
    "df_spark.show(5)"
   ]
  },
  {
   "cell_type": "code",
   "execution_count": 16,
   "id": "6544c284-db9e-4078-a2d3-9ae2db51b925",
   "metadata": {},
   "outputs": [
    {
     "data": {
      "text/plain": [
       "['Name', 'age', 'Experience', 'Salary']"
      ]
     },
     "execution_count": 16,
     "metadata": {},
     "output_type": "execute_result"
    }
   ],
   "source": [
    "df_spark.columns"
   ]
  },
  {
   "cell_type": "code",
   "execution_count": 20,
   "id": "09b7a6af-f1cb-4387-b0c7-f1f4d8549651",
   "metadata": {},
   "outputs": [
    {
     "name": "stdout",
     "output_type": "stream",
     "text": [
      "+---------+----------+---+\n",
      "|     Name|Experience|age|\n",
      "+---------+----------+---+\n",
      "|    Krish|        10| 31|\n",
      "|Sudhanshu|         8| 30|\n",
      "|    Sunny|         4| 29|\n",
      "|     Paul|         3| 24|\n",
      "|   Harsha|         1| 21|\n",
      "|  Shubham|         2| 23|\n",
      "+---------+----------+---+\n",
      "\n"
     ]
    }
   ],
   "source": [
    "df_spark.select('Name','Experience','age').show()"
   ]
  },
  {
   "cell_type": "code",
   "execution_count": 21,
   "id": "858d4cdf-cb28-4307-9264-a2fa1b31a654",
   "metadata": {},
   "outputs": [
    {
     "data": {
      "text/plain": [
       "[('Name', 'string'), ('age', 'int'), ('Experience', 'int'), ('Salary', 'int')]"
      ]
     },
     "execution_count": 21,
     "metadata": {},
     "output_type": "execute_result"
    }
   ],
   "source": [
    "df_spark.dtypes"
   ]
  },
  {
   "cell_type": "code",
   "execution_count": 23,
   "id": "de7e5a33-ccd9-4bde-b607-f3dc72aab7ee",
   "metadata": {},
   "outputs": [
    {
     "name": "stdout",
     "output_type": "stream",
     "text": [
      "+-------+------+------------------+-----------------+------------------+\n",
      "|summary|  Name|               age|       Experience|            Salary|\n",
      "+-------+------+------------------+-----------------+------------------+\n",
      "|  count|     6|                 6|                6|                 6|\n",
      "|   mean|  NULL|26.333333333333332|4.666666666666667|21333.333333333332|\n",
      "| stddev|  NULL| 4.179314138308661|3.559026084010437| 5354.126134736337|\n",
      "|    min|Harsha|                21|                1|             15000|\n",
      "|    max| Sunny|                31|               10|             30000|\n",
      "+-------+------+------------------+-----------------+------------------+\n",
      "\n"
     ]
    }
   ],
   "source": [
    "df_spark.describe().show()"
   ]
  },
  {
   "cell_type": "code",
   "execution_count": 24,
   "id": "680f05f7-5255-4005-9376-ba16fe0805be",
   "metadata": {},
   "outputs": [
    {
     "name": "stdout",
     "output_type": "stream",
     "text": [
      "+-------+------------------+-----------------+------------------+\n",
      "|summary|               age|       Experience|            Salary|\n",
      "+-------+------------------+-----------------+------------------+\n",
      "|  count|                 6|                6|                 6|\n",
      "|   mean|26.333333333333332|4.666666666666667|21333.333333333332|\n",
      "| stddev| 4.179314138308661|3.559026084010437| 5354.126134736337|\n",
      "|    min|                21|                1|             15000|\n",
      "|    max|                31|               10|             30000|\n",
      "+-------+------------------+-----------------+------------------+\n",
      "\n"
     ]
    }
   ],
   "source": [
    "df_spark.select(\"age\",\"Experience\",\"Salary\").describe().show()"
   ]
  },
  {
   "cell_type": "code",
   "execution_count": 27,
   "id": "a949472f-f2f4-4fca-b967-cd18ec7cd27d",
   "metadata": {},
   "outputs": [],
   "source": [
    "df_spark = df_spark.withColumn(\"Experience_After_2years\",df_spark['Experience']+2)"
   ]
  },
  {
   "cell_type": "code",
   "execution_count": 28,
   "id": "0993cb2f-91d6-4f66-ad4a-d72f81160fa0",
   "metadata": {},
   "outputs": [
    {
     "name": "stdout",
     "output_type": "stream",
     "text": [
      "+---------+---+----------+------+-----------------------+\n",
      "|     Name|age|Experience|Salary|Experience_After_2years|\n",
      "+---------+---+----------+------+-----------------------+\n",
      "|    Krish| 31|        10| 30000|                     12|\n",
      "|Sudhanshu| 30|         8| 25000|                     10|\n",
      "|    Sunny| 29|         4| 20000|                      6|\n",
      "|     Paul| 24|         3| 20000|                      5|\n",
      "|   Harsha| 21|         1| 15000|                      3|\n",
      "|  Shubham| 23|         2| 18000|                      4|\n",
      "+---------+---+----------+------+-----------------------+\n",
      "\n"
     ]
    }
   ],
   "source": [
    "df_spark.show()"
   ]
  },
  {
   "cell_type": "code",
   "execution_count": 29,
   "id": "2c0bbd66-b58b-4122-b2aa-925984491cb2",
   "metadata": {},
   "outputs": [],
   "source": [
    "df_spark = df_spark.drop(\"Experience_After_2years\")"
   ]
  },
  {
   "cell_type": "code",
   "execution_count": 30,
   "id": "9583e5b7-f6f2-41ff-a88f-b418121a2723",
   "metadata": {},
   "outputs": [
    {
     "name": "stdout",
     "output_type": "stream",
     "text": [
      "+---------+---+----------+------+\n",
      "|     Name|age|Experience|Salary|\n",
      "+---------+---+----------+------+\n",
      "|    Krish| 31|        10| 30000|\n",
      "|Sudhanshu| 30|         8| 25000|\n",
      "|    Sunny| 29|         4| 20000|\n",
      "|     Paul| 24|         3| 20000|\n",
      "|   Harsha| 21|         1| 15000|\n",
      "|  Shubham| 23|         2| 18000|\n",
      "+---------+---+----------+------+\n",
      "\n"
     ]
    }
   ],
   "source": [
    "df_spark.show()"
   ]
  },
  {
   "cell_type": "code",
   "execution_count": 31,
   "id": "a18ec7cc-c3c3-44aa-aeae-b06bb57882e3",
   "metadata": {},
   "outputs": [],
   "source": [
    "df_spark = df_spark.withColumn(\"Salary_After_2yrs\",df_spark['Salary']*1.2)"
   ]
  },
  {
   "cell_type": "code",
   "execution_count": 32,
   "id": "ccbc7221-5db6-4cce-8634-cc06ce82a07e",
   "metadata": {},
   "outputs": [
    {
     "name": "stdout",
     "output_type": "stream",
     "text": [
      "+---------+---+----------+------+-----------------+\n",
      "|     Name|age|Experience|Salary|Salary_After_2yrs|\n",
      "+---------+---+----------+------+-----------------+\n",
      "|    Krish| 31|        10| 30000|          36000.0|\n",
      "|Sudhanshu| 30|         8| 25000|          30000.0|\n",
      "|    Sunny| 29|         4| 20000|          24000.0|\n",
      "|     Paul| 24|         3| 20000|          24000.0|\n",
      "|   Harsha| 21|         1| 15000|          18000.0|\n",
      "|  Shubham| 23|         2| 18000|          21600.0|\n",
      "+---------+---+----------+------+-----------------+\n",
      "\n"
     ]
    }
   ],
   "source": [
    "df_spark.show()"
   ]
  },
  {
   "cell_type": "code",
   "execution_count": 33,
   "id": "0ae63718-4bfa-4875-a10a-1f709270aae6",
   "metadata": {},
   "outputs": [],
   "source": [
    "df_spark = df_spark.withColumnRenamed(\"Salary_After_2yrs\",\"Salary+2yrs\")"
   ]
  },
  {
   "cell_type": "code",
   "execution_count": 34,
   "id": "45fe614c-2efe-4af0-9ef8-828d5f97c31f",
   "metadata": {},
   "outputs": [
    {
     "name": "stdout",
     "output_type": "stream",
     "text": [
      "+---------+---+----------+------+-----------+\n",
      "|     Name|age|Experience|Salary|Salary+2yrs|\n",
      "+---------+---+----------+------+-----------+\n",
      "|    Krish| 31|        10| 30000|    36000.0|\n",
      "|Sudhanshu| 30|         8| 25000|    30000.0|\n",
      "|    Sunny| 29|         4| 20000|    24000.0|\n",
      "|     Paul| 24|         3| 20000|    24000.0|\n",
      "|   Harsha| 21|         1| 15000|    18000.0|\n",
      "|  Shubham| 23|         2| 18000|    21600.0|\n",
      "+---------+---+----------+------+-----------+\n",
      "\n"
     ]
    }
   ],
   "source": [
    "df_spark.show()"
   ]
  },
  {
   "cell_type": "code",
   "execution_count": null,
   "id": "a312653a-83c7-4f11-af37-0390b1fe7b68",
   "metadata": {},
   "outputs": [],
   "source": []
  }
 ],
 "metadata": {
  "kernelspec": {
   "display_name": "Python 3 (ipykernel)",
   "language": "python",
   "name": "python3"
  },
  "language_info": {
   "codemirror_mode": {
    "name": "ipython",
    "version": 3
   },
   "file_extension": ".py",
   "mimetype": "text/x-python",
   "name": "python",
   "nbconvert_exporter": "python",
   "pygments_lexer": "ipython3",
   "version": "3.10.7"
  }
 },
 "nbformat": 4,
 "nbformat_minor": 5
}
