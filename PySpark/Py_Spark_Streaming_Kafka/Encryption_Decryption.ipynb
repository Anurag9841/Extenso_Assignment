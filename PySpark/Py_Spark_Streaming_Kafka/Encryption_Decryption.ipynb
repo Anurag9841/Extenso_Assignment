{
 "cells": [
  {
   "cell_type": "code",
   "execution_count": 1,
   "id": "6d24f36a-1321-4c58-b76f-01fbd7e2d3fd",
   "metadata": {},
   "outputs": [],
   "source": [
    "import mysql.connector\n",
    "import pandas as pd\n",
    "from kafka import KafkaProducer\n",
    "from datetime import datetime\n",
    "import time\n",
    "import random\n",
    "import numpy as np"
   ]
  },
  {
   "cell_type": "code",
   "execution_count": 2,
   "id": "572cdb4d-1d1c-4817-8816-8612d0cc0caf",
   "metadata": {},
   "outputs": [],
   "source": [
    "mydb = mysql.connector.connect(\n",
    "    host = \"localhost\",\n",
    "    user = \"root\",\n",
    "    password = \"root\",\n",
    "    database = \"client_rw\"\n",
    ")"
   ]
  },
  {
   "cell_type": "code",
   "execution_count": 3,
   "id": "3a30d526-90f3-4d82-bb2c-e1864710558e",
   "metadata": {},
   "outputs": [],
   "source": [
    "cursor = mydb.cursor()"
   ]
  },
  {
   "cell_type": "code",
   "execution_count": 4,
   "id": "d70d51b2-7e13-450f-ac56-dd208867280a",
   "metadata": {},
   "outputs": [],
   "source": [
    "query = \"select * from transaction_summary\"\n",
    "cursor.execute(query)"
   ]
  },
  {
   "cell_type": "code",
   "execution_count": 5,
   "id": "42e96bc5-5bb7-41e2-b15f-cbcbdf8e5cf6",
   "metadata": {},
   "outputs": [],
   "source": [
    "result = cursor.fetchall()"
   ]
  },
  {
   "cell_type": "code",
   "execution_count": 6,
   "id": "7f334a22-b61e-41f3-89e2-27ef96eb6e59",
   "metadata": {},
   "outputs": [],
   "source": [
    "columns = [col[0] for col in cursor.description]"
   ]
  },
  {
   "cell_type": "code",
   "execution_count": 7,
   "id": "f3ebae3e-1641-48ba-82bb-71acf68f3e31",
   "metadata": {},
   "outputs": [],
   "source": [
    "df = pd.DataFrame(result, columns=columns)"
   ]
  },
  {
   "cell_type": "code",
   "execution_count": 8,
   "id": "b67c67ef-37a4-4cb7-8dcd-173d89a06dea",
   "metadata": {},
   "outputs": [],
   "source": [
    "df = df[[\"Account_No\",\"WITHDRAWL_AMOUNT\",\"DEPOSIT_AMT\",\"BALANCE_AMT\"]]"
   ]
  },
  {
   "cell_type": "code",
   "execution_count": 9,
   "id": "8101d899-a9d3-4c54-ac63-3cd262189634",
   "metadata": {},
   "outputs": [
    {
     "name": "stdout",
     "output_type": "stream",
     "text": [
      "<class 'pandas.core.frame.DataFrame'>\n",
      "RangeIndex: 116201 entries, 0 to 116200\n",
      "Data columns (total 4 columns):\n",
      " #   Column            Non-Null Count   Dtype \n",
      "---  ------            --------------   ----- \n",
      " 0   Account_No        116201 non-null  object\n",
      " 1   WITHDRAWL_AMOUNT  116201 non-null  object\n",
      " 2   DEPOSIT_AMT       116201 non-null  object\n",
      " 3   BALANCE_AMT       116201 non-null  object\n",
      "dtypes: object(4)\n",
      "memory usage: 3.5+ MB\n"
     ]
    }
   ],
   "source": [
    "df.info()"
   ]
  },
  {
   "cell_type": "code",
   "execution_count": 10,
   "id": "20649ae8-843a-4277-9382-46f7a478830f",
   "metadata": {},
   "outputs": [],
   "source": [
    "from pyspark.sql import SparkSession"
   ]
  },
  {
   "cell_type": "code",
   "execution_count": 11,
   "id": "5bef457f-7078-4cae-8d20-fdcc32039ab0",
   "metadata": {},
   "outputs": [],
   "source": [
    "spark = SparkSession.builder.appName(\"SparkByExample\").getOrCreate()"
   ]
  },
  {
   "cell_type": "code",
   "execution_count": 12,
   "id": "8e875f56-8a02-4386-93f7-9908b50659ba",
   "metadata": {},
   "outputs": [
    {
     "data": {
      "text/html": [
       "\n",
       "            <div>\n",
       "                <p><b>SparkSession - in-memory</b></p>\n",
       "                \n",
       "        <div>\n",
       "            <p><b>SparkContext</b></p>\n",
       "\n",
       "            <p><a href=\"http://Anurag:4040\">Spark UI</a></p>\n",
       "\n",
       "            <dl>\n",
       "              <dt>Version</dt>\n",
       "                <dd><code>v3.5.1</code></dd>\n",
       "              <dt>Master</dt>\n",
       "                <dd><code>local[*]</code></dd>\n",
       "              <dt>AppName</dt>\n",
       "                <dd><code>SparkByExample</code></dd>\n",
       "            </dl>\n",
       "        </div>\n",
       "        \n",
       "            </div>\n",
       "        "
      ],
      "text/plain": [
       "<pyspark.sql.session.SparkSession at 0x246f0000d30>"
      ]
     },
     "execution_count": 12,
     "metadata": {},
     "output_type": "execute_result"
    }
   ],
   "source": [
    "spark"
   ]
  },
  {
   "cell_type": "code",
   "execution_count": 28,
   "id": "ea99b357-e2b6-47db-b3fb-b92bb4faf28a",
   "metadata": {},
   "outputs": [],
   "source": [
    "df = spark.read.csv(\"C:/Users/acer/Downloads/fc_transaction_base.csv\",header=True,inferSchema=True)"
   ]
  },
  {
   "cell_type": "code",
   "execution_count": 29,
   "id": "14e80e81-f0e3-4ff7-9a64-6466ca64e396",
   "metadata": {},
   "outputs": [
    {
     "name": "stdout",
     "output_type": "stream",
     "text": [
      "+----------+-------------------+------+-------+----------+----------------+--------------------+------------+---------+\n",
      "| tran_date|     account_number|branch|product|lcy_amount|transaction_code|        description1|dc_indicator|is_salary|\n",
      "+----------+-------------------+------+-------+----------+----------------+--------------------+------------+---------+\n",
      "|09/06/2020|02XYZXYZ10017529992|    15|    SBA|   14500.0|              CI|ATM WDL /00463701...|    withdraw|        0|\n",
      "|14/06/2020|02XYZXYZ10017529992|    15|    SBA|   20000.0|              CI|ATM WDL /00463701...|    withdraw|        0|\n",
      "|01/06/2020|02XYZXYZ10017517823|    15|    SBA|    4000.0|              CI|ATM WDL /NICAV701...|    withdraw|        0|\n",
      "|05/06/2020|02XYZXYZ10017517823|    15|    SBA|     500.0|              CI|ATM WDL /NICAV701...|    withdraw|        0|\n",
      "|12/06/2020|02XYZXYZ10017517823|    15|    SBA|    5000.0|              CI|ATM WDL /NICAV701...|    withdraw|        0|\n",
      "+----------+-------------------+------+-------+----------+----------------+--------------------+------------+---------+\n",
      "only showing top 5 rows\n",
      "\n"
     ]
    }
   ],
   "source": [
    "df.show(5)"
   ]
  },
  {
   "cell_type": "code",
   "execution_count": 30,
   "id": "48f11045-0508-4abb-a750-1a9140db94c8",
   "metadata": {},
   "outputs": [
    {
     "name": "stdout",
     "output_type": "stream",
     "text": [
      "root\n",
      " |-- tran_date: string (nullable = true)\n",
      " |-- account_number: string (nullable = true)\n",
      " |-- branch: integer (nullable = true)\n",
      " |-- product: string (nullable = true)\n",
      " |-- lcy_amount: double (nullable = true)\n",
      " |-- transaction_code: string (nullable = true)\n",
      " |-- description1: string (nullable = true)\n",
      " |-- dc_indicator: string (nullable = true)\n",
      " |-- is_salary: integer (nullable = true)\n",
      "\n"
     ]
    }
   ],
   "source": [
    "df.printSchema()"
   ]
  },
  {
   "cell_type": "code",
   "execution_count": 31,
   "id": "8557e87d-e8a1-4fcc-83f8-4092aa349b40",
   "metadata": {},
   "outputs": [],
   "source": [
    "df = df.select(\"account_number\",\"lcy_amount\")"
   ]
  },
  {
   "cell_type": "code",
   "execution_count": 32,
   "id": "c519ec7f-a09d-4dde-a77b-f1ab3e96bd7e",
   "metadata": {},
   "outputs": [
    {
     "name": "stdout",
     "output_type": "stream",
     "text": [
      "+-------------------+----------+\n",
      "|     account_number|lcy_amount|\n",
      "+-------------------+----------+\n",
      "|02XYZXYZ10017529992|   14500.0|\n",
      "|02XYZXYZ10017529992|   20000.0|\n",
      "|02XYZXYZ10017517823|    4000.0|\n",
      "|02XYZXYZ10017517823|     500.0|\n",
      "|02XYZXYZ10017517823|    5000.0|\n",
      "+-------------------+----------+\n",
      "only showing top 5 rows\n",
      "\n"
     ]
    }
   ],
   "source": [
    "df.show(5)"
   ]
  },
  {
   "cell_type": "code",
   "execution_count": 33,
   "id": "882f4f30-45fd-43c5-a75a-97b63c77f7ad",
   "metadata": {},
   "outputs": [],
   "source": [
    "from pyspark.sql.functions import *"
   ]
  },
  {
   "cell_type": "code",
   "execution_count": 34,
   "id": "9d406ba7-32f8-46d9-a564-d16b85974a61",
   "metadata": {},
   "outputs": [
    {
     "name": "stdout",
     "output_type": "stream",
     "text": [
      "Requirement already satisfied: cryptography in c:\\users\\acer\\pycharmprojects\\pyspark\\venv\\lib\\site-packages (42.0.7)\n",
      "Requirement already satisfied: cffi>=1.12 in c:\\users\\acer\\pycharmprojects\\pyspark\\venv\\lib\\site-packages (from cryptography) (1.16.0)\n",
      "Requirement already satisfied: pycparser in c:\\users\\acer\\pycharmprojects\\pyspark\\venv\\lib\\site-packages (from cffi>=1.12->cryptography) (2.22)\n"
     ]
    },
    {
     "name": "stderr",
     "output_type": "stream",
     "text": [
      "WARNING: You are using pip version 21.3.1; however, version 24.0 is available.\n",
      "You should consider upgrading via the 'C:\\Users\\acer\\PycharmProjects\\PySpark\\venv\\Scripts\\python.exe -m pip install --upgrade pip' command.\n"
     ]
    }
   ],
   "source": [
    "!pip install cryptography"
   ]
  },
  {
   "cell_type": "code",
   "execution_count": 35,
   "id": "fb8fab39-f61c-44e2-ac4c-d232ddc5afa1",
   "metadata": {},
   "outputs": [],
   "source": [
    "from pyspark.sql.functions import udf, lit, col\n",
    "from cryptography.fernet import Fernet"
   ]
  },
  {
   "cell_type": "code",
   "execution_count": 37,
   "id": "bb61aa06-8931-4058-a4f7-7be7cb99e32f",
   "metadata": {},
   "outputs": [
    {
     "name": "stdout",
     "output_type": "stream",
     "text": [
      "+------------------------+----------+\n",
      "|encrypted_account_number|lcy_amount|\n",
      "+------------------------+----------+\n",
      "|    LLY2iKGyxElG5+2r0...|   14500.0|\n",
      "|    LLY2iKGyxElG5+2r0...|   20000.0|\n",
      "|    E97z6MmS7wv2ZB4L/...|    4000.0|\n",
      "|    E97z6MmS7wv2ZB4L/...|     500.0|\n",
      "|    E97z6MmS7wv2ZB4L/...|    5000.0|\n",
      "+------------------------+----------+\n",
      "only showing top 5 rows\n",
      "\n"
     ]
    }
   ],
   "source": [
    "enc_df = df.withColumn('encrypted_account_number', expr(\"base64(aes_encrypt(account_number, '1234567890abcdef', 'ECB', 'PKCS'))\")).select(\"encrypted_account_number\",\"lcy_amount\")\n",
    "enc_df.show(5)"
   ]
  },
  {
   "cell_type": "code",
   "execution_count": 38,
   "id": "30dca3f2-2158-4c80-8719-6ed86fb8a7bc",
   "metadata": {},
   "outputs": [
    {
     "name": "stdout",
     "output_type": "stream",
     "text": [
      "root\n",
      " |-- encrypted_account_number: string (nullable = true)\n",
      " |-- lcy_amount: double (nullable = true)\n",
      "\n"
     ]
    }
   ],
   "source": [
    "enc_df.printSchema()"
   ]
  },
  {
   "cell_type": "code",
   "execution_count": 39,
   "id": "75611460-91d9-4a88-a677-c4ea9067725d",
   "metadata": {},
   "outputs": [],
   "source": [
    "enc_df = enc_df.select(\"*\").toPandas()"
   ]
  },
  {
   "cell_type": "code",
   "execution_count": 40,
   "id": "ece8f911-4904-4587-b7a3-c364eb9bd169",
   "metadata": {},
   "outputs": [
    {
     "data": {
      "text/html": [
       "<div>\n",
       "<style scoped>\n",
       "    .dataframe tbody tr th:only-of-type {\n",
       "        vertical-align: middle;\n",
       "    }\n",
       "\n",
       "    .dataframe tbody tr th {\n",
       "        vertical-align: top;\n",
       "    }\n",
       "\n",
       "    .dataframe thead th {\n",
       "        text-align: right;\n",
       "    }\n",
       "</style>\n",
       "<table border=\"1\" class=\"dataframe\">\n",
       "  <thead>\n",
       "    <tr style=\"text-align: right;\">\n",
       "      <th></th>\n",
       "      <th>encrypted_account_number</th>\n",
       "      <th>lcy_amount</th>\n",
       "    </tr>\n",
       "  </thead>\n",
       "  <tbody>\n",
       "    <tr>\n",
       "      <th>0</th>\n",
       "      <td>LLY2iKGyxElG5+2r0eurWcPPH8xV0PpM3ad6GUa9LmI=</td>\n",
       "      <td>14500.0</td>\n",
       "    </tr>\n",
       "    <tr>\n",
       "      <th>1</th>\n",
       "      <td>LLY2iKGyxElG5+2r0eurWcPPH8xV0PpM3ad6GUa9LmI=</td>\n",
       "      <td>20000.0</td>\n",
       "    </tr>\n",
       "    <tr>\n",
       "      <th>2</th>\n",
       "      <td>E97z6MmS7wv2ZB4L/z/jqnPyoXhfIacThZ+ov5upc3M=</td>\n",
       "      <td>4000.0</td>\n",
       "    </tr>\n",
       "    <tr>\n",
       "      <th>3</th>\n",
       "      <td>E97z6MmS7wv2ZB4L/z/jqnPyoXhfIacThZ+ov5upc3M=</td>\n",
       "      <td>500.0</td>\n",
       "    </tr>\n",
       "    <tr>\n",
       "      <th>4</th>\n",
       "      <td>E97z6MmS7wv2ZB4L/z/jqnPyoXhfIacThZ+ov5upc3M=</td>\n",
       "      <td>5000.0</td>\n",
       "    </tr>\n",
       "  </tbody>\n",
       "</table>\n",
       "</div>"
      ],
      "text/plain": [
       "                       encrypted_account_number  lcy_amount\n",
       "0  LLY2iKGyxElG5+2r0eurWcPPH8xV0PpM3ad6GUa9LmI=     14500.0\n",
       "1  LLY2iKGyxElG5+2r0eurWcPPH8xV0PpM3ad6GUa9LmI=     20000.0\n",
       "2  E97z6MmS7wv2ZB4L/z/jqnPyoXhfIacThZ+ov5upc3M=      4000.0\n",
       "3  E97z6MmS7wv2ZB4L/z/jqnPyoXhfIacThZ+ov5upc3M=       500.0\n",
       "4  E97z6MmS7wv2ZB4L/z/jqnPyoXhfIacThZ+ov5upc3M=      5000.0"
      ]
     },
     "execution_count": 40,
     "metadata": {},
     "output_type": "execute_result"
    }
   ],
   "source": [
    "enc_df.head()"
   ]
  },
  {
   "cell_type": "code",
   "execution_count": 25,
   "id": "fcdfd367-6b3d-463d-add6-3c713c201a66",
   "metadata": {},
   "outputs": [],
   "source": [
    "KAFKA_TOPIC_NAME_CONS = \"Topic3\"\n",
    "KAFKA_BOOTSTRAP_SERVERS_CONS = 'localhost:9092'"
   ]
  },
  {
   "cell_type": "code",
   "execution_count": 41,
   "id": "2259e2de-f838-487f-9176-3b0b8bb47dde",
   "metadata": {},
   "outputs": [
    {
     "name": "stdout",
     "output_type": "stream",
     "text": [
      "Kafka Producer Application Started ... \n",
      "Message Type:  <class 'str'>\n",
      "Message:  LLY2iKGyxElG5+2r0eurWcPPH8xV0PpM3ad6GUa9LmI=,14500.0\n",
      "Message Type:  <class 'str'>\n",
      "Message:  LLY2iKGyxElG5+2r0eurWcPPH8xV0PpM3ad6GUa9LmI=,20000.0\n",
      "Message Type:  <class 'str'>\n",
      "Message:  E97z6MmS7wv2ZB4L/z/jqnPyoXhfIacThZ+ov5upc3M=,4000.0\n",
      "Message Type:  <class 'str'>\n",
      "Message:  E97z6MmS7wv2ZB4L/z/jqnPyoXhfIacThZ+ov5upc3M=,500.0\n",
      "Message Type:  <class 'str'>\n",
      "Message:  E97z6MmS7wv2ZB4L/z/jqnPyoXhfIacThZ+ov5upc3M=,5000.0\n",
      "Message Type:  <class 'str'>\n",
      "Message:  RaOXBO26LRxTdo9rDMiYtXzd5pTTGC6MMp9M5rpy2n0=,5000.0\n",
      "Message Type:  <class 'str'>\n",
      "Message:  RaOXBO26LRxTdo9rDMiYtaEEsmHRJc/qBmMDCjDDC78=,5010.0\n",
      "Message Type:  <class 'str'>\n",
      "Message:  IePg4bkHt0xLcjga9BDXpSVpeEg4tUdytwyhkv4NxNQ=,15000.0\n",
      "Message Type:  <class 'str'>\n",
      "Message:  IePg4bkHt0xLcjga9BDXpSVpeEg4tUdytwyhkv4NxNQ=,10000.0\n",
      "Message Type:  <class 'str'>\n",
      "Message:  IePg4bkHt0xLcjga9BDXpSVpeEg4tUdytwyhkv4NxNQ=,5000.0\n",
      "Message Type:  <class 'str'>\n",
      "Message:  h6X5wcajik41I7iIjGnltlkSbgUSvQOeHUOUdeBN0ic=,20000.0\n",
      "Message Type:  <class 'str'>\n",
      "Message:  h6X5wcajik41I7iIjGnltvZe9IyhsoQmdK49Ft7BVQU=,50000.0\n",
      "Message Type:  <class 'str'>\n",
      "Message:  kUnYJvo5ieLcgzp8+FtBU19yPI8fXgiHX0bNpg80GYc=,200000.0\n",
      "Message Type:  <class 'str'>\n",
      "Message:  kUnYJvo5ieLcgzp8+FtBU0p//YOpvsohVTHhPXO22hw=,4502.0\n",
      "Message Type:  <class 'str'>\n",
      "Message:  kUnYJvo5ieLcgzp8+FtBUyP2AjbaZzvGcCZDaSwoZhg=,49.0\n",
      "Message Type:  <class 'str'>\n",
      "Message:  X0g/k/AsgsFLlzgJ49dlrKEEsmHRJc/qBmMDCjDDC78=,5000.0\n",
      "Message Type:  <class 'str'>\n",
      "Message:  kUnYJvo5ieLcgzp8+FtBU4N0FZNup0KJvxgS5276ov4=,3850.0\n",
      "Message Type:  <class 'str'>\n",
      "Message:  kUnYJvo5ieLcgzp8+FtBU4N0FZNup0KJvxgS5276ov4=,3315.85\n",
      "Message Type:  <class 'str'>\n",
      "Message:  kUnYJvo5ieLcgzp8+FtBU2wiggXAwAif7bVaq32iX0A=,152.0\n",
      "Message Type:  <class 'str'>\n",
      "Message:  kUnYJvo5ieLcgzp8+FtBU2wiggXAwAif7bVaq32iX0A=,2390.0\n",
      "Message Type:  <class 'str'>\n",
      "Message:  kUnYJvo5ieLcgzp8+FtBU2wiggXAwAif7bVaq32iX0A=,182.0\n",
      "Message Type:  <class 'str'>\n",
      "Message:  kUnYJvo5ieLcgzp8+FtBU2wiggXAwAif7bVaq32iX0A=,152.0\n",
      "Message Type:  <class 'str'>\n",
      "Message:  kUnYJvo5ieLcgzp8+FtBU1K2tF6/eb4ZjOB4OgGxas4=,1000.0\n",
      "Message Type:  <class 'str'>\n",
      "Message:  kUnYJvo5ieLcgzp8+FtBU1K2tF6/eb4ZjOB4OgGxas4=,500.0\n",
      "Message Type:  <class 'str'>\n",
      "Message:  kUnYJvo5ieLcgzp8+FtBU1K2tF6/eb4ZjOB4OgGxas4=,500.0\n",
      "Message Type:  <class 'str'>\n",
      "Message:  kUnYJvo5ieLcgzp8+FtBU1K2tF6/eb4ZjOB4OgGxas4=,25000.0\n",
      "Message Type:  <class 'str'>\n",
      "Message:  kUnYJvo5ieLcgzp8+FtBU1K2tF6/eb4ZjOB4OgGxas4=,987.0\n",
      "Message Type:  <class 'str'>\n",
      "Message:  kUnYJvo5ieLcgzp8+FtBU1K2tF6/eb4ZjOB4OgGxas4=,625.0\n",
      "Message Type:  <class 'str'>\n",
      "Message:  DN0ReHhS9csahZnHnS5sKLoUYKQNgUvobpKxnSLVySA=,500000.0\n",
      "Message Type:  <class 'str'>\n",
      "Message:  DN0ReHhS9csahZnHnS5sKLoUYKQNgUvobpKxnSLVySA=,7300.68\n",
      "Message Type:  <class 'str'>\n",
      "Message:  46/75wmISmRPB9ubEj9V17c9XF4SFmPuo1v9hD01HIM=,16385.7\n",
      "Message Type:  <class 'str'>\n",
      "Message:  46/75wmISmRPB9ubEj9V17c9XF4SFmPuo1v9hD01HIM=,25000.0\n",
      "Message Type:  <class 'str'>\n",
      "Message:  46/75wmISmRPB9ubEj9V17c9XF4SFmPuo1v9hD01HIM=,20000.0\n",
      "Message Type:  <class 'str'>\n",
      "Message:  h6X5wcajik41I7iIjGnltg1eY8WQVGRQrhot+Vv0sa4=,10000.0\n",
      "Message Type:  <class 'str'>\n",
      "Message:  h6X5wcajik41I7iIjGnltrBxA5D1AGVKRqGZmkrnbNA=,5000.0\n",
      "Message Type:  <class 'str'>\n",
      "Message:  VYbQE7jb4Cyy53iWZdhio62vOy9iT5uPHN6YJn07cqM=,575.0\n",
      "Message Type:  <class 'str'>\n",
      "Message:  VYbQE7jb4Cyy53iWZdhio62vOy9iT5uPHN6YJn07cqM=,15000.0\n",
      "Message Type:  <class 'str'>\n",
      "Message:  VYbQE7jb4Cyy53iWZdhio62vOy9iT5uPHN6YJn07cqM=,3422.0\n",
      "Message Type:  <class 'str'>\n",
      "Message:  VYbQE7jb4Cyy53iWZdhio62vOy9iT5uPHN6YJn07cqM=,2293.0\n",
      "Message Type:  <class 'str'>\n",
      "Message:  6cQNMLNfMd+WFD1Gmt6/2zbTFtoJRtgM+tVN/0ZNPCY=,980.0\n",
      "Message Type:  <class 'str'>\n",
      "Message:  6cQNMLNfMd+WFD1Gmt6/2zbTFtoJRtgM+tVN/0ZNPCY=,5000.0\n",
      "Message Type:  <class 'str'>\n",
      "Message:  ppc0+v/XMHldUZg/MfT+4dlagmh7D8StzPaXyEoGgnQ=,1500.0\n",
      "Message Type:  <class 'str'>\n",
      "Message:  ppc0+v/XMHldUZg/MfT+4dlagmh7D8StzPaXyEoGgnQ=,7000.0\n",
      "Message Type:  <class 'str'>\n",
      "Message:  ppc0+v/XMHldUZg/MfT+4dlagmh7D8StzPaXyEoGgnQ=,2208.0\n",
      "Message Type:  <class 'str'>\n",
      "Message:  ppc0+v/XMHldUZg/MfT+4dlagmh7D8StzPaXyEoGgnQ=,98.0\n",
      "Message Type:  <class 'str'>\n",
      "Message:  wChARTSnaPrADGqZq6qz+tlagmh7D8StzPaXyEoGgnQ=,15000.0\n",
      "Message Type:  <class 'str'>\n",
      "Message:  wChARTSnaPrADGqZq6qz+tlagmh7D8StzPaXyEoGgnQ=,1000.0\n",
      "Message Type:  <class 'str'>\n",
      "Message:  wChARTSnaPrADGqZq6qz+tlagmh7D8StzPaXyEoGgnQ=,1000.0\n",
      "Message Type:  <class 'str'>\n",
      "Message:  wChARTSnaPrADGqZq6qz+tlagmh7D8StzPaXyEoGgnQ=,1000.0\n",
      "Message Type:  <class 'str'>\n",
      "Message:  wChARTSnaPrADGqZq6qz+tlagmh7D8StzPaXyEoGgnQ=,98.0\n",
      "Kafka Producer Application Completed. \n"
     ]
    }
   ],
   "source": [
    "if __name__ == \"__main__\":\n",
    "    print(\"Kafka Producer Application Started ... \")\n",
    "\n",
    "    kafka_producer_obj = KafkaProducer(bootstrap_servers=KAFKA_BOOTSTRAP_SERVERS_CONS,\n",
    "                                       value_serializer=lambda x: x.encode('utf-8'))\n",
    "    \n",
    "    enc_df =enc_df.head(50)\n",
    "    # enc_df['id'] = np.arange(len(enc_df)) \n",
    "    df_list = enc_df.to_dict(orient=\"records\")\n",
    "    message_list = []\n",
    "    message = None\n",
    "    for message in df_list:\n",
    "        \n",
    "        message_fields_value_list = []       \n",
    "        message_fields_value_list.append(message[\"encrypted_account_number\"])\n",
    "        message_fields_value_list.append(message[\"lcy_amount\"])\n",
    "        message = ','.join(str(v) for v in message_fields_value_list)\n",
    "        print(\"Message Type: \", type(message))\n",
    "        print(\"Message: \", message)\n",
    "        kafka_producer_obj.send(KAFKA_TOPIC_NAME_CONS, message)\n",
    "        time.sleep(1)\n",
    "\n",
    "\n",
    "    print(\"Kafka Producer Application Completed. \")"
   ]
  },
  {
   "cell_type": "code",
   "execution_count": null,
   "id": "bde75bef-1f1c-4ec6-9b64-edb4b4c27064",
   "metadata": {},
   "outputs": [],
   "source": []
  }
 ],
 "metadata": {
  "kernelspec": {
   "display_name": "Python 3 (ipykernel)",
   "language": "python",
   "name": "python3"
  },
  "language_info": {
   "codemirror_mode": {
    "name": "ipython",
    "version": 3
   },
   "file_extension": ".py",
   "mimetype": "text/x-python",
   "name": "python",
   "nbconvert_exporter": "python",
   "pygments_lexer": "ipython3",
   "version": "3.10.7"
  }
 },
 "nbformat": 4,
 "nbformat_minor": 5
}
