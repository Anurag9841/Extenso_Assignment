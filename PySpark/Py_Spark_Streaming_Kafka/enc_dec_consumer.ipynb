{
 "cells": [
  {
   "cell_type": "code",
   "id": "fc616277-cadf-489e-ab31-0db97f2e9a23",
   "metadata": {
    "ExecuteTime": {
     "end_time": "2024-05-19T04:12:49.448073Z",
     "start_time": "2024-05-19T04:12:46.800363Z"
    }
   },
   "source": [
    "import time\n",
    "from pyspark.sql import SparkSession\n",
    "from pyspark.sql.functions import *\n",
    "from pyspark.ml.feature import Normalizer, StandardScaler\n",
    "import random"
   ],
   "outputs": [],
   "execution_count": 1
  },
  {
   "cell_type": "code",
   "id": "174fecee-eadc-483f-bdb2-4c3160d5e13a",
   "metadata": {
    "ExecuteTime": {
     "end_time": "2024-05-19T04:13:57.518165Z",
     "start_time": "2024-05-19T04:12:55.034801Z"
    }
   },
   "source": [
    "kafka_topic_name = \"Topic3\"\n",
    "kafka_bootstrap_servers = 'localhost:9092'\n",
    "\n",
    "spark = SparkSession \\\n",
    "        .builder \\\n",
    "        .appName(\"Encryption_Decryption_Streaming \") \\\n",
    "        .master(\"local[*]\") \\\n",
    "        .config(\"spark.jars.packages\", \"org.apache.spark:spark-sql-kafka-0-10_2.12:3.5.1\") \\\n",
    "        .getOrCreate()\n",
    "\n",
    "spark.sparkContext.setLogLevel(\"ERROR\")"
   ],
   "outputs": [],
   "execution_count": 2
  },
  {
   "cell_type": "code",
   "execution_count": 3,
   "id": "23232e05-a20c-4782-ab03-bd85b773ed68",
   "metadata": {},
   "outputs": [],
   "source": [
    "df_transaction = spark \\\n",
    "        .readStream \\\n",
    "        .format(\"kafka\") \\\n",
    "        .option(\"kafka.bootstrap.servers\", kafka_bootstrap_servers) \\\n",
    "        .option(\"subscribe\", kafka_topic_name) \\\n",
    "        .option(\"startingOffsets\", \"earliest\") \\\n",
    "        .load()"
   ]
  },
  {
   "cell_type": "code",
   "execution_count": 4,
   "id": "73f758e6-5c7e-4ec1-976b-f02997bf8208",
   "metadata": {},
   "outputs": [
    {
     "data": {
      "text/plain": [
       "DataFrame[summary: string, topic: string, partition: string, offset: string, timestampType: string]"
      ]
     },
     "execution_count": 4,
     "metadata": {},
     "output_type": "execute_result"
    }
   ],
   "source": [
    "df_transaction.describe()"
   ]
  },
  {
   "cell_type": "code",
   "execution_count": 5,
   "id": "913cc65b-9633-4735-8801-644513cb53de",
   "metadata": {},
   "outputs": [
    {
     "data": {
      "text/plain": [
       "False"
      ]
     },
     "execution_count": 5,
     "metadata": {},
     "output_type": "execute_result"
    }
   ],
   "source": [
    "df1_transaction = df_transaction.selectExpr(\"CAST(value AS STRING)\", \"timestamp\")\n",
    "\n",
    "df_schema_string = \"encrypted_account_number STRING,lcy_amount STRING\"\n",
    "\n",
    "\n",
    "\n",
    "df2_transaction= df1_transaction \\\n",
    "        .select(from_csv(col(\"value\"), df_schema_string) \\\n",
    "                .alias(\"transaction\"), \"timestamp\")\n",
    "\n",
    "df3_transaction = df2_transaction.select(\"transaction.*\", \"timestamp\")\n",
    "df4_transaction = df3_transaction.withColumn('account_number',\n",
    "                               expr(\"trim(aes_decrypt(unbase64(encrypted_account_number), '1234567890abcdef', 'ECB', 'PKCS'))\")).select('account_number','lcy_amount')\n",
    "    \n",
    "df4_transaction.createOrReplaceTempView(\"transaction\");\n",
    "final_transaction = spark.sql(\"SELECT * FROM transaction\")\n",
    "Transaction_agg_write_stream = final_transaction \\\n",
    "        .writeStream \\\n",
    "        .trigger(processingTime='5 seconds') \\\n",
    "        .outputMode(\"append\") \\\n",
    "        .option(\"truncate\", \"false\") \\\n",
    "        .format(\"memory\") \\\n",
    "        .queryName(\"Transaction_Table\") \\\n",
    "        .start()\n",
    "Transaction_agg_write_stream.awaitTermination(1)"
   ]
  },
  {
   "cell_type": "code",
   "execution_count": 8,
   "id": "dfe071a3-83be-4c45-8abe-18ef0f0ae865",
   "metadata": {},
   "outputs": [
    {
     "name": "stdout",
     "output_type": "stream",
     "text": [
      "+-------------------+----------+\n",
      "|     account_number|lcy_amount|\n",
      "+-------------------+----------+\n",
      "|02XYZXYZ10017529992|      NULL|\n",
      "|02XYZXYZ10017529992|      NULL|\n",
      "|02XYZXYZ10017517823|      NULL|\n",
      "|02XYZXYZ10017517823|      NULL|\n",
      "|02XYZXYZ10017517823|      NULL|\n",
      "|02XYZXYZ10017519116|      NULL|\n",
      "|02XYZXYZ10017519121|      NULL|\n",
      "|02XYZXYZ10017520752|      NULL|\n",
      "|02XYZXYZ10017520752|      NULL|\n",
      "|02XYZXYZ10017520752|      NULL|\n",
      "+-------------------+----------+\n",
      "only showing top 10 rows\n",
      "\n"
     ]
    }
   ],
   "source": [
    "df = spark.sql(\"SELECT * FROM Transaction_Table\")\n",
    "df.show(10)"
   ]
  },
  {
   "cell_type": "code",
   "execution_count": null,
   "id": "ad125111-5ea8-4706-b990-7f52cf8e020a",
   "metadata": {},
   "outputs": [],
   "source": []
  }
 ],
 "metadata": {
  "kernelspec": {
   "display_name": "Python 3 (ipykernel)",
   "language": "python",
   "name": "python3"
  },
  "language_info": {
   "codemirror_mode": {
    "name": "ipython",
    "version": 3
   },
   "file_extension": ".py",
   "mimetype": "text/x-python",
   "name": "python",
   "nbconvert_exporter": "python",
   "pygments_lexer": "ipython3",
   "version": "3.10.7"
  }
 },
 "nbformat": 4,
 "nbformat_minor": 5
}
